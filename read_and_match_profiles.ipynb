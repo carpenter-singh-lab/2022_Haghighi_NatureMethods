{
 "cells": [
  {
   "cell_type": "code",
   "execution_count": 35,
   "metadata": {},
   "outputs": [
    {
     "name": "stdout",
     "output_type": "stream",
     "text": [
      "The autoreload extension is already loaded. To reload it, use:\n",
      "  %reload_ext autoreload\n"
     ]
    }
   ],
   "source": [
    "%matplotlib inline\n",
    "%load_ext autoreload\n",
    "%autoreload 2\n",
    "import numpy as np\n",
    "import pandas as pd\n",
    "import matplotlib.pyplot as plt\n",
    "import seaborn as sns\n",
    "from utils.readProfiles import *"
   ]
  },
  {
   "cell_type": "code",
   "execution_count": 4,
   "metadata": {},
   "outputs": [],
   "source": [
    "# ls"
   ]
  },
  {
   "cell_type": "markdown",
   "metadata": {},
   "source": [
    "### Metadata column in each dataset to match perturbations across modalities\n",
    "\n",
    "Table 1.\n",
    "\n",
    "| Dataset                  |  perturbation match column<br/>CP  | perturbation match column<br/>GE   | Control perturbation value <br/>CP/GE|\n",
    "|:----------------------|:-----------------|:-----------------------------|:--------------|\n",
    "| CDRP-BBBC047-Bray     |  Metadata_Sample_Dose | pert_sample_dose | negcon |\n",
    "| CDRPBIO-BBBC036-Bray  | Metadata_Sample_Dose | pert_sample_dose | negcon |\n",
    "| TA-ORF-BBBC037-Rohban | Metadata_broad_sample | pert_id        | negcon |\n",
    "| LUAD-BBBC041-Caicedo  |  x_mutation_status | allele             | negcon|\n",
    "| LINCS-Pilot1          | Metadata_pert_id_dose | pert_id_dose   | negcon |\n"
   ]
  },
  {
   "cell_type": "code",
   "execution_count": 36,
   "metadata": {},
   "outputs": [],
   "source": [
    "ds_info_dict = {\n",
    "    \"CDRP\": [\"CDRP-BBBC047-Bray\", [\"Metadata_Sample_Dose\", \"pert_sample_dose\"]],\n",
    "    \"CDRP-bio\": [\"CDRPBIO-BBBC036-Bray\", [\"Metadata_Sample_Dose\", \"pert_sample_dose\"]],\n",
    "    \"TAORF\": [\"TA-ORF-BBBC037-Rohban\", [\"Metadata_broad_sample\", \"pert_id\"]],\n",
    "    \"LUAD\": [\"LUAD-BBBC041-Caicedo\", [\"x_mutation_status\", \"allele\"]],\n",
    "    \"LINCS\": [\"LINCS-Pilot1\", [\"Metadata_pert_id_dose\", \"pert_id_dose\"]],\n",
    "}\n",
    "# pd.DataFrame(ds_info_dict.values(), index=ds_info_dict.keys()).to_markdown(index=False)"
   ]
  },
  {
   "cell_type": "code",
   "execution_count": null,
   "metadata": {},
   "outputs": [],
   "source": []
  },
  {
   "cell_type": "markdown",
   "metadata": {},
   "source": [
    "### In this notebook you can find examples of how to:\n",
    "- read replicate or treatment level profiles \n",
    "- match profiles across modalities\n",
    "\n",
    "\n",
    "\n",
    "* Finctions used in this notebook:\n",
    "\n",
    "   - Read **treatment** level data\n",
    "      - read_treatment_level_profiles\n",
    "      \n",
    "   - Read and match **treatment** level data\n",
    "      - read_paired_treatment_level_profiles\n",
    "      \n",
    "   - Read **Replicate** level data\n",
    "      - read_replicate_level_profiles\n",
    "   \n",
    "   - Read and match **Replicate** level data\n",
    "      - read_paired_replicate_level_profiles\n"
   ]
  },
  {
   "cell_type": "markdown",
   "metadata": {},
   "source": [
    "### User input parameters"
   ]
  },
  {
   "cell_type": "code",
   "execution_count": 37,
   "metadata": {},
   "outputs": [],
   "source": [
    "####################### Root directories ###############################################\n",
    "procProf_dir = \"/home/ubuntu/gallery/cpg0003-rosetta/broad/workspace/\"\n",
    "# procProf_dir = \"/home/ubuntu/bucket/projects/2018_04_20_Rosetta/workspace/\"\n",
    "\n",
    "############################# Dataset ##################################################\n",
    "# dataset options: 'LUAD', 'TAORF', 'LINCS', 'CDRP-bio', 'CDRP'\n",
    "dataset = \"LUAD\"\n",
    "\n",
    "####################### Type of cell painting profile to read ##########################\n",
    "# CP Profile Type options: 'augmented' , 'normalized', 'normalized_variable_selected'\n",
    "profileType = \"normalized_variable_selected\"\n",
    "\n",
    "############################ Filtering low quality samples option #######################\n",
    "# filtering to compounds which have high replicates for both GE and CP datasets\n",
    "# highRepOverlapEnabled=0\n",
    "# 'highRepUnion','highRepOverlap'\n",
    "filter_perts = \"highRepUnion\"\n",
    "repCorrFilePath = \"./results/RepCor/RepCorrDF.xlsx\"\n",
    "\n",
    "filter_repCorr_params = [filter_perts, repCorrFilePath]"
   ]
  },
  {
   "cell_type": "markdown",
   "metadata": {},
   "source": [
    "### Read Replicate level profiles"
   ]
  },
  {
   "cell_type": "code",
   "execution_count": 14,
   "metadata": {},
   "outputs": [
    {
     "name": "stderr",
     "output_type": "stream",
     "text": [
      "/home/ubuntu/workspace_rosetta/workspace/software/2022_Haghighi_NatureMethods/utils/readProfiles.py:54: DtypeWarning: Columns (1023,1028,1032) have mixed types. Specify dtype option on import or set low_memory=False.\n",
      "  l1k_data_repLevel = pd.read_csv(dataDir + \"/L1000/replicate_level_l1k.csv.gz\")\n"
     ]
    }
   ],
   "source": [
    "# dataset = \"LINCS\"\n",
    "per_plate_normalized_flag = 0\n",
    "[cp_data_repLevel, cp_features], [l1k_data_repLevel, l1k_features] = read_replicate_level_profiles(\n",
    "    procProf_dir, dataset, profileType, per_plate_normalized_flag\n",
    ")"
   ]
  },
  {
   "cell_type": "markdown",
   "metadata": {},
   "source": [
    "### Read and pair Replicate level profiles"
   ]
  },
  {
   "cell_type": "code",
   "execution_count": 6,
   "metadata": {},
   "outputs": [
    {
     "name": "stderr",
     "output_type": "stream",
     "text": [
      "/home/ubuntu/workspace_rosetta/workspace/software/2022_Haghighi_NatureMethods/utils/readProfiles.py:51: DtypeWarning: Columns (18,19,1249,1250) have mixed types. Specify dtype option on import or set low_memory=False.\n",
      "  cp_data_repLevel = pd.read_csv(\n"
     ]
    },
    {
     "name": "stdout",
     "output_type": "stream",
     "text": [
      "LINCS: Replicate Level Shapes (nSamples x nFeatures): cp:  52223 , 119 ,  l1k:  27837 , 978\n",
      "l1k n of rep:  3.0\n",
      "cp n of rep:  5.0\n",
      "CP: from  9394  to  4647\n",
      "l1k: from  8369  to  2338\n",
      "CP and l1k high rep union:  5845\n"
     ]
    },
    {
     "name": "stderr",
     "output_type": "stream",
     "text": [
      "/home/ubuntu/workspace_rosetta/workspace/software/2022_Haghighi_NatureMethods/utils/readProfiles.py:376: FutureWarning: Passing 'suffixes' which cause duplicate columns {'pert_type_y'} in the result is deprecated and will raise a MergeError in a future version.\n",
      "  mergedProfiles_repLevel = pd.merge(\n"
     ]
    }
   ],
   "source": [
    "nRep = 2\n",
    "per_plate_normalized_flag = 1\n",
    "mergedProfiles_repLevel, cp_features, l1k_features = read_paired_replicate_level_profiles(\n",
    "    procProf_dir, dataset, profileType, nRep, filter_repCorr_params, per_plate_normalized_flag\n",
    ")"
   ]
  },
  {
   "cell_type": "markdown",
   "metadata": {},
   "source": [
    "### Read treatment level profiles"
   ]
  },
  {
   "cell_type": "code",
   "execution_count": 7,
   "metadata": {},
   "outputs": [
    {
     "name": "stderr",
     "output_type": "stream",
     "text": [
      "/home/ubuntu/workspace_rosetta/workspace/software/2022_Haghighi_NatureMethods/utils/readProfiles.py:51: DtypeWarning: Columns (18,19,1249,1250) have mixed types. Specify dtype option on import or set low_memory=False.\n",
      "  cp_data_repLevel = pd.read_csv(\n"
     ]
    },
    {
     "name": "stdout",
     "output_type": "stream",
     "text": [
      "LINCS: Replicate Level Shapes (nSamples x nFeatures): cp:  52223 , 119 ,  l1k:  27837 , 978\n",
      "l1k n of rep:  3.0\n",
      "cp n of rep:  5.0\n",
      "CP: from  9394  to  4647\n",
      "l1k: from  8369  to  2338\n",
      "CP and l1k high rep union:  5845\n"
     ]
    }
   ],
   "source": [
    "[cp_data_treatLevel, cp_features], [\n",
    "    l1k_data_treatLevel,\n",
    "    l1k_features,\n",
    "] = read_treatment_level_profiles(\n",
    "    procProf_dir, dataset, profileType, filter_repCorr_params, per_plate_normalized_flag\n",
    ")"
   ]
  },
  {
   "cell_type": "markdown",
   "metadata": {},
   "source": [
    "### Read and pair treatment level profiles"
   ]
  },
  {
   "cell_type": "code",
   "execution_count": 9,
   "metadata": {},
   "outputs": [
    {
     "name": "stderr",
     "output_type": "stream",
     "text": [
      "/home/ubuntu/workspace_rosetta/workspace/software/2022_Haghighi_NatureMethods/utils/readProfiles.py:51: DtypeWarning: Columns (18,19,1249,1250) have mixed types. Specify dtype option on import or set low_memory=False.\n",
      "  cp_data_repLevel = pd.read_csv(\n"
     ]
    },
    {
     "name": "stdout",
     "output_type": "stream",
     "text": [
      "LINCS: Replicate Level Shapes (nSamples x nFeatures): cp:  52223 , 119 ,  l1k:  27837 , 978\n",
      "l1k n of rep:  3.0\n",
      "cp n of rep:  5.0\n",
      "CP: from  9394  to  4647\n",
      "l1k: from  8369  to  2338\n",
      "CP and l1k high rep union:  5845\n",
      "Treatment Level Shapes (nSamples x nFeatures+metadata): (5243, 122) (4431, 980) Merged Profiles Shape: (3828, 1101)\n"
     ]
    }
   ],
   "source": [
    "mergedProfiles_treatLevel, cp_features, l1k_features = read_paired_treatment_level_profiles(\n",
    "    procProf_dir, dataset, profileType, filter_repCorr_params, per_plate_normalized_flag\n",
    ")"
   ]
  },
  {
   "cell_type": "code",
   "execution_count": null,
   "metadata": {},
   "outputs": [],
   "source": []
  },
  {
   "cell_type": "code",
   "execution_count": 40,
   "metadata": {
    "scrolled": false
   },
   "outputs": [],
   "source": [
    "# l1k_data_repLevel[ds_info_dict[dataset][1][1]].unique()\n",
    "# cp_data_repLevel[ds_info_dict[dataset][1][0]].unique()"
   ]
  },
  {
   "cell_type": "code",
   "execution_count": 41,
   "metadata": {},
   "outputs": [],
   "source": [
    "# per_plate_normalized_flag"
   ]
  },
  {
   "cell_type": "code",
   "execution_count": null,
   "metadata": {},
   "outputs": [],
   "source": []
  },
  {
   "cell_type": "code",
   "execution_count": null,
   "metadata": {},
   "outputs": [],
   "source": []
  }
 ],
 "metadata": {
  "kernelspec": {
   "display_name": "Python 3 (ipykernel)",
   "language": "python",
   "name": "python3"
  },
  "language_info": {
   "codemirror_mode": {
    "name": "ipython",
    "version": 3
   },
   "file_extension": ".py",
   "mimetype": "text/x-python",
   "name": "python",
   "nbconvert_exporter": "python",
   "pygments_lexer": "ipython3",
   "version": "3.9.0"
  },
  "latex_envs": {
   "LaTeX_envs_menu_present": true,
   "autoclose": false,
   "autocomplete": true,
   "bibliofile": "biblio.bib",
   "cite_by": "apalike",
   "current_citInitial": 1,
   "eqLabelWithNumbers": true,
   "eqNumInitial": 1,
   "hotkeys": {
    "equation": "Ctrl-E",
    "itemize": "Ctrl-I"
   },
   "labels_anchors": false,
   "latex_user_defs": false,
   "report_style_numbering": false,
   "user_envs_cfg": false
  },
  "varInspector": {
   "cols": {
    "lenName": 16,
    "lenType": 16,
    "lenVar": 40
   },
   "kernels_config": {
    "python": {
     "delete_cmd_postfix": "",
     "delete_cmd_prefix": "del ",
     "library": "var_list.py",
     "varRefreshCmd": "print(var_dic_list())"
    },
    "r": {
     "delete_cmd_postfix": ") ",
     "delete_cmd_prefix": "rm(",
     "library": "var_list.r",
     "varRefreshCmd": "cat(var_dic_list()) "
    }
   },
   "position": {
    "height": "438.212px",
    "left": "1507.78px",
    "right": "20px",
    "top": "120px",
    "width": "350px"
   },
   "types_to_exclude": [
    "module",
    "function",
    "builtin_function_or_method",
    "instance",
    "_Feature"
   ],
   "window_display": false
  }
 },
 "nbformat": 4,
 "nbformat_minor": 2
}
