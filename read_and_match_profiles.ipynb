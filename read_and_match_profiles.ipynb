{
 "cells": [
  {
   "cell_type": "code",
   "execution_count": 3,
   "metadata": {},
   "outputs": [],
   "source": [
    "%matplotlib inline\n",
    "%load_ext autoreload\n",
    "%autoreload 2\n",
    "import numpy as np\n",
    "import pandas as pd\n",
    "import matplotlib.pyplot as plt\n",
    "import seaborn as sns\n",
    "from utils.readProfiles import *"
   ]
  },
  {
   "cell_type": "code",
   "execution_count": null,
   "metadata": {},
   "outputs": [],
   "source": []
  },
  {
   "cell_type": "markdown",
   "metadata": {},
   "source": [
    "### Metadata column in each dataset to match perturbations across modalities\n",
    "\n",
    "Table 1.\n",
    "\n",
    "| Dataset               | perturbation match column<br/>CP | perturbation match column<br/>GE | Control perturbation  <br/>CP | Control perturbation<br/>GE |\n",
    "| :-------------------- | :------------------------------- | :------------------------------- | :---------------------------- | :-------------------------- |\n",
    "| CDRP-BBBC047-Bray     | Metadata_Sample_Dose             | pert_sample_dose                 | DMSO                          | DMSO                        |\n",
    "| CDRPBIO-BBBC036-Bray  | Metadata_Sample_Dose             | pert_sample_dose                 | DMSO                          | DMSO                        |\n",
    "| TA-ORF-BBBC037-Rohban | Metadata_broad_sample            | pert_id                          | DMSO                          | DMSO                        |\n",
    "| LUAD-BBBC041-Caicedo  | x_mutation_status                | allele                           | DMSO                          | DMSO                        |\n",
    "| LINCS-Pilot1          | Metadata_pert_id_dose            | pert_id_dose                     | DMSO                          | DMSO                        |\n"
   ]
  },
  {
   "cell_type": "code",
   "execution_count": 23,
   "metadata": {},
   "outputs": [],
   "source": [
    "ds_info_dict = {\n",
    "    \"CDRP\": [\n",
    "        \"CDRP-BBBC047-Bray\",\n",
    "        [\"Metadata_Sample_Dose\", \"pert_sample_dose\"],\n",
    "        [[\"DMSO\"], [\"DMSO\"]],\n",
    "    ],\n",
    "    \"CDRP-bio\": [\n",
    "        \"CDRPBIO-BBBC036-Bray\",\n",
    "        [\"Metadata_Sample_Dose\", \"pert_sample_dose\"],\n",
    "        [[\"DMSO\"], [\"DMSO\"]],\n",
    "    ],\n",
    "    \"TAORF\": [\n",
    "        \"TA-ORF-BBBC037-Rohban\",\n",
    "        [\n",
    "            \"Metadata_broad_sample\",\n",
    "            \"pert_id\",\n",
    "        ],\n",
    "        [[\"DMSO\"], [\"DMSO\"]],\n",
    "    ],\n",
    "    \"LUAD\": [\n",
    "        \"LUAD-BBBC041-Caicedo\",\n",
    "        [\"x_mutation_status\", \"allele\"],\n",
    "        [[\"DMSO\"], [\"DMSO\"]],\n",
    "    ],\n",
    "    \"LINCS\": [\n",
    "        \"LINCS-Pilot1\",\n",
    "        [\"Metadata_pert_id_dose\", \"pert_id_dose\"],\n",
    "        [[\"DMSO\"], [\"DMSO\"]],\n",
    "    ],\n",
    "}\n",
    "# pd.DataFrame(ds_info_dict.values(), index=ds_info_dict.keys()).to_markdown(index=False)"
   ]
  },
  {
   "cell_type": "code",
   "execution_count": null,
   "metadata": {},
   "outputs": [],
   "source": []
  },
  {
   "cell_type": "markdown",
   "metadata": {},
   "source": [
    "### In this notebook you can find examples of how to:\n",
    "- read or treatment level profiles \n",
    "- and match them across modalities\n",
    "\n",
    "\n",
    "\n",
    "* Finctions used in this notebook:\n",
    "\n",
    "   - Read **treatment** level data\n",
    "      - read_treatment_level_profiles\n",
    "      \n",
    "   - Read and match **treatment** level data\n",
    "      - read_paired_treatment_level_profiles\n",
    "      \n",
    "   - Read **Replicate** level data\n",
    "      - read_replicate_level_profiles\n",
    "   \n",
    "   - Read and match **Replicate** level data\n",
    "      - read_paired_replicate_level_profiles\n"
   ]
  },
  {
   "cell_type": "markdown",
   "metadata": {},
   "source": [
    "### User input parameters"
   ]
  },
  {
   "cell_type": "code",
   "execution_count": 17,
   "metadata": {},
   "outputs": [],
   "source": [
    "####################### Root directories ###############################################\n",
    "procProf_dir = \"/home/ubuntu/datasetsbucket/Rosetta-GE-CP/\"\n",
    "# procProf_dir='/home/ubuntu/bucket/projects/2018_04_20_Rosetta/workspace/'\n",
    "\n",
    "############################# Dataset ##################################################\n",
    "# dataset options: 'LUAD', 'TAORF', 'LINCS', 'CDRP-bio', 'CDRP'\n",
    "dataset = \"LUAD\"\n",
    "\n",
    "####################### Type of cell painting profile to read ##########################\n",
    "# CP Profile Type options: 'augmented' , 'normalized', 'normalized_variable_selected'\n",
    "profileType = \"normalized_variable_selected\"\n",
    "\n",
    "############################ Filtering low quality samples option #######################\n",
    "# filtering to compounds which have high replicates for both GE and CP datasets\n",
    "# highRepOverlapEnabled=0\n",
    "# 'highRepUnion','highRepOverlap'\n",
    "filter_perts = \"highRepUnion\"\n"
   ]
  },
  {
   "cell_type": "markdown",
   "metadata": {},
   "source": []
  },
  {
   "cell_type": "code",
   "execution_count": 1,
   "metadata": {},
   "outputs": [],
   "source": []
  },
  {
   "cell_type": "markdown",
   "metadata": {},
   "source": [
    "### Read Replicate level profiles"
   ]
  },
  {
   "cell_type": "code",
   "execution_count": 4,
   "metadata": {},
   "outputs": [
    {
     "name": "stderr",
     "output_type": "stream",
     "text": [
      "/home/ubuntu/workspace_rosetta/workspace/software/2021_Haghighi_NeurIPS_Dataset_submitted/utils/readProfiles.py:41: DtypeWarning: Columns (1023,1028) have mixed types. Specify dtype option on import or set low_memory=False.\n",
      "  l1k_data_repLevel=pd.read_csv(dataDir+'/L1000/replicate_level_l1k.csv.gz')\n"
     ]
    }
   ],
   "source": [
    "dataset = \"LUAD\"\n",
    "per_plate_normalized_flag = 1\n",
    "[cp_data_repLevel, cp_features], [\n",
    "    l1k_data_repLevel,\n",
    "    l1k_features,\n",
    "] = read_replicate_level_profiles(\n",
    "    procProf_dir, dataset, profileType, per_plate_normalized_flag\n",
    ")\n"
   ]
  },
  {
   "cell_type": "code",
   "execution_count": 7,
   "metadata": {},
   "outputs": [],
   "source": [
    "# luad_genes_to_inspect_ims=['PRKAG2','BNIP3L','NIPSNAP1','MYO10']\n",
    "# cp_data_repLevel['x_mutation_status']"
   ]
  },
  {
   "cell_type": "markdown",
   "metadata": {},
   "source": [
    "### Read and pair Replicate level profiles"
   ]
  },
  {
   "cell_type": "code",
   "execution_count": null,
   "metadata": {},
   "outputs": [
    {
     "name": "stdout",
     "output_type": "stream",
     "text": [
      "TAORF: Replicate Level Shapes (nSamples x nFeatures): cp:  1920 , 63 ,  l1k:  729 , 978\n",
      "l1k n of rep:  2.0\n",
      "cp n of rep:  5.0\n",
      "CP: from  324  to  218\n",
      "l1k: from  327  to  78\n",
      "CP and l1k high rep union:  260\n"
     ]
    }
   ],
   "source": [
    "nRep = \"2\"\n",
    "(\n",
    "    mergedProfiles_repLevel,\n",
    "    cp_features,\n",
    "    l1k_features,\n",
    ") = read_paired_replicate_level_profiles(\n",
    "    procProf_dir, dataset, profileType, nRep, filter_perts, per_plate_normalized_flag\n",
    ")\n"
   ]
  },
  {
   "cell_type": "markdown",
   "metadata": {},
   "source": [
    "### Read treatment level profiles"
   ]
  },
  {
   "cell_type": "code",
   "execution_count": 21,
   "metadata": {},
   "outputs": [
    {
     "name": "stdout",
     "output_type": "stream",
     "text": [
      "TAORF: Replicate Level Shapes (nSamples x nFeatures): cp:  1920 , 63 ,  l1k:  729 , 978\n",
      "l1k n of rep:  2.0\n",
      "cp n of rep:  5.0\n",
      "CP: from  324  to  218\n",
      "l1k: from  327  to  78\n",
      "CP and l1k high rep union:  260\n"
     ]
    }
   ],
   "source": [
    "[cp_data_treatLevel, cp_features], [\n",
    "    l1k_data_treatLevel,\n",
    "    l1k_features,\n",
    "] = read_treatment_level_profiles(\n",
    "    procProf_dir, dataset, profileType, filter_perts, per_plate_normalized_flag\n",
    ")\n"
   ]
  },
  {
   "cell_type": "markdown",
   "metadata": {},
   "source": [
    "### Read and pair treatment level profiles"
   ]
  },
  {
   "cell_type": "code",
   "execution_count": 22,
   "metadata": {},
   "outputs": [
    {
     "name": "stdout",
     "output_type": "stream",
     "text": [
      "TAORF: Replicate Level Shapes (nSamples x nFeatures): cp:  1920 , 63 ,  l1k:  729 , 978\n",
      "l1k n of rep:  2.0\n",
      "cp n of rep:  5.0\n",
      "CP: from  324  to  218\n",
      "l1k: from  327  to  78\n",
      "CP and l1k high rep union:  260\n",
      "Treatment Level Shapes (nSamples x nFeatures+metadata): (224, 65) (148, 980) Merged Profiles Shape: (111, 1044)\n"
     ]
    }
   ],
   "source": [
    "(\n",
    "    mergedProfiles_treatLevel,\n",
    "    cp_features,\n",
    "    l1k_features,\n",
    ") = read_paired_treatment_level_profiles(\n",
    "    procProf_dir, dataset, profileType, filter_perts, per_plate_normalized_flag\n",
    ")\n"
   ]
  },
  {
   "cell_type": "code",
   "execution_count": null,
   "metadata": {},
   "outputs": [],
   "source": []
  },
  {
   "cell_type": "code",
   "execution_count": 40,
   "metadata": {
    "scrolled": false
   },
   "outputs": [],
   "source": [
    "# l1k_data_repLevel[ds_info_dict[dataset][1][1]].unique()\n",
    "# cp_data_repLevel[ds_info_dict[dataset][1][0]].unique()"
   ]
  },
  {
   "cell_type": "code",
   "execution_count": 41,
   "metadata": {},
   "outputs": [],
   "source": [
    "# per_plate_normalized_flag"
   ]
  },
  {
   "cell_type": "code",
   "execution_count": null,
   "metadata": {},
   "outputs": [],
   "source": []
  },
  {
   "cell_type": "code",
   "execution_count": null,
   "metadata": {},
   "outputs": [],
   "source": []
  }
 ],
 "metadata": {
  "kernelspec": {
   "display_name": "Python 3 (ipykernel)",
   "language": "python",
   "name": "python3"
  },
  "language_info": {
   "codemirror_mode": {
    "name": "ipython",
    "version": 3
   },
   "file_extension": ".py",
   "mimetype": "text/x-python",
   "name": "python",
   "nbconvert_exporter": "python",
   "pygments_lexer": "ipython3",
   "version": "3.8.12"
  },
  "latex_envs": {
   "LaTeX_envs_menu_present": true,
   "autoclose": false,
   "autocomplete": true,
   "bibliofile": "biblio.bib",
   "cite_by": "apalike",
   "current_citInitial": 1,
   "eqLabelWithNumbers": true,
   "eqNumInitial": 1,
   "hotkeys": {
    "equation": "Ctrl-E",
    "itemize": "Ctrl-I"
   },
   "labels_anchors": false,
   "latex_user_defs": false,
   "report_style_numbering": false,
   "user_envs_cfg": false
  },
  "varInspector": {
   "cols": {
    "lenName": 16,
    "lenType": 16,
    "lenVar": 40
   },
   "kernels_config": {
    "python": {
     "delete_cmd_postfix": "",
     "delete_cmd_prefix": "del ",
     "library": "var_list.py",
     "varRefreshCmd": "print(var_dic_list())"
    },
    "r": {
     "delete_cmd_postfix": ") ",
     "delete_cmd_prefix": "rm(",
     "library": "var_list.r",
     "varRefreshCmd": "cat(var_dic_list()) "
    }
   },
   "position": {
    "height": "438.212px",
    "left": "1507.78px",
    "right": "20px",
    "top": "120px",
    "width": "350px"
   },
   "types_to_exclude": [
    "module",
    "function",
    "builtin_function_or_method",
    "instance",
    "_Feature"
   ],
   "window_display": false
  }
 },
 "nbformat": 4,
 "nbformat_minor": 2
}
