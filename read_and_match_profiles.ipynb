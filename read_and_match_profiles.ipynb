{
 "cells": [
  {
   "cell_type": "code",
   "execution_count": 2,
   "metadata": {},
   "outputs": [],
   "source": [
    "%matplotlib inline\n",
    "%load_ext autoreload\n",
    "%autoreload 2\n",
    "import numpy as np\n",
    "import pandas as pd\n",
    "import matplotlib.pyplot as plt\n",
    "import seaborn as sns\n",
    "from utils.readProfiles import *"
   ]
  },
  {
   "cell_type": "code",
   "execution_count": 4,
   "metadata": {},
   "outputs": [],
   "source": [
    "# ls"
   ]
  },
  {
   "cell_type": "markdown",
   "metadata": {},
   "source": [
    "### Metadata column in each dataset to match perturbations across modalities\n",
    "\n",
    "Table 1.\n",
    "\n",
    "| Dataset                  |  perturbation match column<br/>CP  | perturbation match column<br/>GE   | Control perturbation value <br/>CP/GE|\n",
    "|:----------------------|:-----------------|:-----------------------------|:--------------|\n",
    "| CDRP-BBBC047-Bray     |  Metadata_Sample_Dose | pert_sample_dose | negcon |\n",
    "| CDRPBIO-BBBC036-Bray  | Metadata_Sample_Dose | pert_sample_dose | negcon |\n",
    "| TA-ORF-BBBC037-Rohban | Metadata_broad_sample | pert_id        | negcon |\n",
    "| LUAD-BBBC041-Caicedo  |  x_mutation_status | allele             | negcon|\n",
    "| LINCS-Pilot1          | Metadata_pert_id_dose | pert_id_dose   | negcon |\n"
   ]
  },
  {
   "cell_type": "code",
   "execution_count": 4,
   "metadata": {},
   "outputs": [],
   "source": [
    "ds_info_dict={'CDRP':['CDRP-BBBC047-Bray',['Metadata_Sample_Dose','pert_sample_dose']],\n",
    "              'CDRP-bio':['CDRPBIO-BBBC036-Bray',['Metadata_Sample_Dose','pert_sample_dose']],\n",
    "              'TAORF':['TA-ORF-BBBC037-Rohban',['Metadata_broad_sample','pert_id']],\n",
    "              'LUAD':['LUAD-BBBC041-Caicedo',['x_mutation_status','allele']],\n",
    "              'LINCS':['LINCS-Pilot1',['Metadata_pert_id_dose','pert_id_dose']]}\n",
    "# pd.DataFrame(ds_info_dict.values(), index=ds_info_dict.keys()).to_markdown(index=False)"
   ]
  },
  {
   "cell_type": "code",
   "execution_count": null,
   "metadata": {},
   "outputs": [],
   "source": []
  },
  {
   "cell_type": "markdown",
   "metadata": {},
   "source": [
    "### In this notebook you can find examples of how to:\n",
    "- read or treatment level profiles \n",
    "- and match them across modalities\n",
    "\n",
    "\n",
    "\n",
    "* Finctions used in this notebook:\n",
    "\n",
    "   - Read **treatment** level data\n",
    "      - read_treatment_level_profiles\n",
    "      \n",
    "   - Read and match **treatment** level data\n",
    "      - read_paired_treatment_level_profiles\n",
    "      \n",
    "   - Read **Replicate** level data\n",
    "      - read_replicate_level_profiles\n",
    "   \n",
    "   - Read and match **Replicate** level data\n",
    "      - read_paired_replicate_level_profiles\n"
   ]
  },
  {
   "cell_type": "markdown",
   "metadata": {},
   "source": [
    "### User input parameters"
   ]
  },
  {
   "cell_type": "code",
   "execution_count": 3,
   "metadata": {},
   "outputs": [],
   "source": [
    "####################### Root directories ###############################################\n",
    "# procProf_dir='/home/ubuntu/datasetsbucket/Rosetta-GE-CP/'\n",
    "procProf_dir='/home/ubuntu/bucket/projects/2018_04_20_Rosetta/workspace/'\n",
    "\n",
    "############################# Dataset ##################################################\n",
    "# dataset options: 'LUAD', 'TAORF', 'LINCS', 'CDRP-bio', 'CDRP'\n",
    "dataset='LINCS'\n",
    "\n",
    "####################### Type of cell painting profile to read ##########################\n",
    "# CP Profile Type options: 'augmented' , 'normalized', 'normalized_variable_selected'\n",
    "profileType='normalized_variable_selected'\n",
    "\n",
    "############################ Filtering low quality samples option #######################\n",
    "# filtering to compounds which have high replicates for both GE and CP datasets\n",
    "# highRepOverlapEnabled=0\n",
    "# 'highRepUnion','highRepOverlap'\n",
    "filter_perts='highRepUnion'\n",
    "repCorrFilePath='./results/RepCor/RepCorrDF.xlsx'\n",
    "\n",
    "filter_repCorr_params=[filter_perts,repCorrFilePath]"
   ]
  },
  {
   "cell_type": "markdown",
   "metadata": {},
   "source": []
  },
  {
   "cell_type": "code",
   "execution_count": 1,
   "metadata": {},
   "outputs": [],
   "source": []
  },
  {
   "cell_type": "markdown",
   "metadata": {},
   "source": [
    "### Read Replicate level profiles"
   ]
  },
  {
   "cell_type": "code",
   "execution_count": 10,
   "metadata": {},
   "outputs": [
    {
     "name": "stderr",
     "output_type": "stream",
     "text": [
      "/tmp/ipykernel_96134/4272429091.py:4: DtypeWarning: Columns (18,19,1249,1250) have mixed types.Specify dtype option on import or set low_memory=False.\n",
      "  read_replicate_level_profiles(procProf_dir,dataset,profileType,per_plate_normalized_flag)\n"
     ]
    }
   ],
   "source": [
    "dataset='LINCS'\n",
    "per_plate_normalized_flag=0\n",
    "[cp_data_repLevel,cp_features], [l1k_data_repLevel,l1k_features]=\\\n",
    "read_replicate_level_profiles(procProf_dir,dataset,profileType,per_plate_normalized_flag)\n"
   ]
  },
  {
   "cell_type": "code",
   "execution_count": 11,
   "metadata": {},
   "outputs": [
    {
     "data": {
      "text/plain": [
       "Index(['Metadata_plate_map_name', 'Metadata_broad_sample',\n",
       "       'Metadata_mg_per_ml', 'Metadata_mmoles_per_liter', 'Metadata_solvent',\n",
       "       'Metadata_pert_id', 'Metadata_pert_mfc_id', 'Metadata_pert_well',\n",
       "       'Metadata_pert_id_vendor', 'Metadata_cell_id',\n",
       "       'Metadata_broad_sample_type', 'Metadata_pert_vehicle',\n",
       "       'Metadata_pert_type', 'Metadata_broad_id', 'Metadata_InChIKey14',\n",
       "       'Metadata_moa', 'Metadata_target', 'Metadata_broad_date',\n",
       "       'Metadata_alternative_moa', 'Metadata_alternative_target',\n",
       "       'Metadata_Plate', 'Metadata_Well', 'Metadata_Assay_Plate_Barcode',\n",
       "       'Metadata_Plate_Map_Name', 'Metadata_Batch_Number',\n",
       "       'Metadata_Batch_Date', 'Metadata_dose_recode', 'Metadata_pert_id_dose'],\n",
       "      dtype='object')"
      ]
     },
     "execution_count": 11,
     "metadata": {},
     "output_type": "execute_result"
    }
   ],
   "source": [
    "cp_data_repLevel.columns[cp_data_repLevel.columns.str.contains('Metadata')]"
   ]
  },
  {
   "cell_type": "markdown",
   "metadata": {},
   "source": [
    "### Read and pair Replicate level profiles"
   ]
  },
  {
   "cell_type": "code",
   "execution_count": 6,
   "metadata": {},
   "outputs": [
    {
     "name": "stderr",
     "output_type": "stream",
     "text": [
      "/home/ubuntu/workspace_rosetta/workspace/software/2021_Haghighi_NeurIPS_Dataset_submitted/utils/readProfiles.py:340: DtypeWarning: Columns (1023,1028,1032) have mixed types.Specify dtype option on import or set low_memory=False.\n",
      "  [cp_data_repLevel,cp_features], [l1k_data_repLevel,l1k_features] = read_replicate_level_profiles(dataset_rootDir,dataset,profileType,per_plate_normalized_flag);\n"
     ]
    },
    {
     "name": "stdout",
     "output_type": "stream",
     "text": [
      "LUAD: Replicate Level Shapes (nSamples x nFeatures): cp:  6144 , 291 ,  l1k:  4232 , 978\n",
      "l1k n of rep:  8.0\n",
      "cp n of rep:  8.0\n",
      "CP: from  593  to  364\n",
      "l1k: from  529  to  275\n",
      "CP and l1k high rep union:  442\n"
     ]
    }
   ],
   "source": [
    "nRep=2\n",
    "per_plate_normalized_flag=1\n",
    "mergedProfiles_repLevel,cp_features,l1k_features = read_paired_replicate_level_profiles(procProf_dir,\\\n",
    "                            dataset,profileType,nRep,filter_repCorr_params,per_plate_normalized_flag)"
   ]
  },
  {
   "cell_type": "markdown",
   "metadata": {},
   "source": [
    "### Read treatment level profiles"
   ]
  },
  {
   "cell_type": "code",
   "execution_count": 7,
   "metadata": {},
   "outputs": [
    {
     "name": "stderr",
     "output_type": "stream",
     "text": [
      "/home/ubuntu/workspace_rosetta/workspace/software/2021_Haghighi_NeurIPS_Dataset_submitted/utils/readProfiles.py:149: DtypeWarning: Columns (1023,1028,1032) have mixed types.Specify dtype option on import or set low_memory=False.\n",
      "  [cp_data_repLevel,cp_features], [l1k_data_repLevel,l1k_features] = read_replicate_level_profiles(dataset_rootDir,dataset,profileType,per_plate_normalized_flag);\n"
     ]
    },
    {
     "name": "stdout",
     "output_type": "stream",
     "text": [
      "LUAD: Replicate Level Shapes (nSamples x nFeatures): cp:  6144 , 291 ,  l1k:  4232 , 978\n",
      "l1k n of rep:  8.0\n",
      "cp n of rep:  8.0\n",
      "CP: from  593  to  364\n",
      "l1k: from  529  to  275\n",
      "CP and l1k high rep union:  442\n"
     ]
    }
   ],
   "source": [
    "[cp_data_treatLevel,cp_features], [l1k_data_treatLevel,l1k_features] = \\\n",
    "read_treatment_level_profiles(procProf_dir,dataset,profileType,filter_repCorr_params,per_plate_normalized_flag)"
   ]
  },
  {
   "cell_type": "markdown",
   "metadata": {},
   "source": [
    "### Read and pair treatment level profiles"
   ]
  },
  {
   "cell_type": "code",
   "execution_count": 8,
   "metadata": {},
   "outputs": [
    {
     "name": "stderr",
     "output_type": "stream",
     "text": [
      "/home/ubuntu/workspace_rosetta/workspace/software/2021_Haghighi_NeurIPS_Dataset_submitted/utils/readProfiles.py:149: DtypeWarning: Columns (1023,1028,1032) have mixed types.Specify dtype option on import or set low_memory=False.\n",
      "  [cp_data_repLevel,cp_features], [l1k_data_repLevel,l1k_features] = read_replicate_level_profiles(dataset_rootDir,dataset,profileType,per_plate_normalized_flag);\n"
     ]
    },
    {
     "name": "stdout",
     "output_type": "stream",
     "text": [
      "LUAD: Replicate Level Shapes (nSamples x nFeatures): cp:  6144 , 291 ,  l1k:  4232 , 978\n",
      "l1k n of rep:  8.0\n",
      "cp n of rep:  8.0\n",
      "CP: from  593  to  364\n",
      "l1k: from  529  to  275\n",
      "CP and l1k high rep union:  442\n",
      "Treatment Level Shapes (nSamples x nFeatures+metadata): (440, 292) (411, 979) Merged Profiles Shape: (408, 1270)\n"
     ]
    }
   ],
   "source": [
    "mergedProfiles_treatLevel,cp_features,l1k_features = \\\n",
    "read_paired_treatment_level_profiles(procProf_dir,dataset,profileType,filter_repCorr_params,per_plate_normalized_flag)"
   ]
  },
  {
   "cell_type": "code",
   "execution_count": null,
   "metadata": {},
   "outputs": [],
   "source": []
  },
  {
   "cell_type": "code",
   "execution_count": 40,
   "metadata": {
    "scrolled": false
   },
   "outputs": [],
   "source": [
    "# l1k_data_repLevel[ds_info_dict[dataset][1][1]].unique()\n",
    "# cp_data_repLevel[ds_info_dict[dataset][1][0]].unique()"
   ]
  },
  {
   "cell_type": "code",
   "execution_count": 41,
   "metadata": {},
   "outputs": [],
   "source": [
    "# per_plate_normalized_flag"
   ]
  },
  {
   "cell_type": "code",
   "execution_count": null,
   "metadata": {},
   "outputs": [],
   "source": []
  },
  {
   "cell_type": "code",
   "execution_count": null,
   "metadata": {},
   "outputs": [],
   "source": []
  }
 ],
 "metadata": {
  "kernelspec": {
   "display_name": "Python 3 (ipykernel)",
   "language": "python",
   "name": "python3"
  },
  "language_info": {
   "codemirror_mode": {
    "name": "ipython",
    "version": 3
   },
   "file_extension": ".py",
   "mimetype": "text/x-python",
   "name": "python",
   "nbconvert_exporter": "python",
   "pygments_lexer": "ipython3",
   "version": "3.8.12"
  },
  "latex_envs": {
   "LaTeX_envs_menu_present": true,
   "autoclose": false,
   "autocomplete": true,
   "bibliofile": "biblio.bib",
   "cite_by": "apalike",
   "current_citInitial": 1,
   "eqLabelWithNumbers": true,
   "eqNumInitial": 1,
   "hotkeys": {
    "equation": "Ctrl-E",
    "itemize": "Ctrl-I"
   },
   "labels_anchors": false,
   "latex_user_defs": false,
   "report_style_numbering": false,
   "user_envs_cfg": false
  },
  "varInspector": {
   "cols": {
    "lenName": 16,
    "lenType": 16,
    "lenVar": 40
   },
   "kernels_config": {
    "python": {
     "delete_cmd_postfix": "",
     "delete_cmd_prefix": "del ",
     "library": "var_list.py",
     "varRefreshCmd": "print(var_dic_list())"
    },
    "r": {
     "delete_cmd_postfix": ") ",
     "delete_cmd_prefix": "rm(",
     "library": "var_list.r",
     "varRefreshCmd": "cat(var_dic_list()) "
    }
   },
   "position": {
    "height": "438.212px",
    "left": "1507.78px",
    "right": "20px",
    "top": "120px",
    "width": "350px"
   },
   "types_to_exclude": [
    "module",
    "function",
    "builtin_function_or_method",
    "instance",
    "_Feature"
   ],
   "window_display": false
  }
 },
 "nbformat": 4,
 "nbformat_minor": 2
}
