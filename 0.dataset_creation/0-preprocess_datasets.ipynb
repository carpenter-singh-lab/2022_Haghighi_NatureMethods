{
 "cells": [
  {
   "cell_type": "markdown",
   "metadata": {},
   "source": [
    "###  Cell Painting morphological (CP) and L1000 gene expression (GE) profiles for the following datasets:\n",
    " \n",
    "- **CDRP**-BBBC047-Bray-CP-GE (Cell line: U2OS) : \n",
    "    * $\\bf{CP}$ There are 30,430 unique compounds for CP dataset, median number of replicates --> 4\n",
    "    * $\\bf{GE}$ There are 21,782 unique compounds for GE dataset, median number of replicates --> 3\n",
    "    * 20,131 compounds are present in both datasets.\n",
    "\n",
    "- **CDRP-bio**-BBBC036-Bray-CP-GE (Cell line: U2OS) : \n",
    "    * $\\bf{CP}$ There are 2,242 unique compounds for CP dataset, median number of replicates --> 8\n",
    "    * $\\bf{GE}$ There are 1,917 unique compounds for GE dataset, median number of replicates --> 2\n",
    "    * 1916 compounds are present in both datasets.\n",
    "\n",
    "    \n",
    "- **LUAD**-BBBC041-Caicedo-CP-GE (Cell line: A549) : \n",
    "    * $\\bf{CP}$ There are 593 unique alleles for CP dataset, median number of replicates --> 8\n",
    "    * $\\bf{GE}$ There are 529 unique alleles for GE dataset, median number of replicates --> 8\n",
    "    * 525 alleles are present in both datasets.\n",
    "    \n",
    "    \n",
    "- **TA-ORF**-BBBC037-Rohban-CP-GE (Cell line: U2OS) :\n",
    "    * $\\bf{CP}$ There are 323 unique alleles for CP dataset, median number of replicates --> 5\n",
    "    * $\\bf{GE}$ There are 327 unique alleles for GE dataset, median number of replicates --> 2\n",
    "    * 150 alleles are present in both datasets.\n",
    "    \n",
    "- **LINCS**-Pilot1-CP-GE (Cell line: U2OS) :\n",
    "    * $\\bf{CP}$ There are 1570 unique compounds across 7 doses for CP dataset, median number of replicates --> 5\n",
    "    * $\\bf{GE}$ There are 1402 unique compounds for GE dataset, median number of replicates --> 3\n",
    "    * $N_{p/d}$: 6984 compounds are present in both datasets.\n",
    "--------------------------------------------\n",
    " #### Link to the processed profiles:\n",
    " \n",
    " https://cellpainting-datasets.s3.us-east-1.amazonaws.com/Rosetta-GE-CP"
   ]
  },
  {
   "cell_type": "code",
   "execution_count": null,
   "metadata": {},
   "outputs": [],
   "source": [
    "%matplotlib notebook\n",
    "%load_ext autoreload\n",
    "%autoreload 2\n",
    "import numpy as np\n",
    "import scipy.spatial\n",
    "import pandas as pd\n",
    "import sklearn.decomposition\n",
    "import matplotlib.pyplot as plt\n",
    "import seaborn as sns\n",
    "import os\n",
    "# from cmapPy.pandasGEXpress.parse import parse\n",
    "import sys\n",
    "sys.path.insert(0, '../utils/') \n",
    "\n",
    "from replicateCorrs import replicateCorrs\n",
    "from saveAsNewSheetToExistingFile import saveAsNewSheetToExistingFile,saveDF_to_CSV_GZ_no_timestamp\n",
    "from importlib import reload\n",
    "\n",
    "from readProfiles import *\n",
    "from pred_models import *\n",
    "\n",
    "from normalize_funcs import standardize_per_catX\n",
    "# sns.set_style(\"whitegrid\")\n",
    "# np.__version__\n",
    "pd.__version__"
   ]
  },
  {
   "cell_type": "markdown",
   "metadata": {},
   "source": [
    "###  Input / ouput files:"
   ]
  },
  {
   "cell_type": "markdown",
   "metadata": {},
   "source": [
    "- **CDRP**-BBBC047-Bray-CP-GE (Cell line: U2OS) : \n",
    "    * $\\bf{CP}$ 406 plates\n",
    "        * Input:  s3://imaging-platform/projects/2018_04_20_Rosetta/workspace/raw-profiles/raw-profiles/CDRP\n",
    "        * Output: /home/ubuntu/datasetsbucket/Rosetta-GE-CP/preprocessed_data/CDRP-BBBC047-Bray/CellPainting/\n",
    "        \n",
    "    * $\\bf{GE}$ \n",
    "        * Input: .mat files that are generated using https://github.com/broadinstitute/2014_wawer_pnas\n",
    "        * Output: /home/ubuntu/datasetsbucket/Rosetta-GE-CP/preprocessed_data/CDRP-BBBC047-Bray/L1000/\n",
    "\n",
    "- **CDRP-bio**-BBBC036-Bray-CP-GE (Cell line: U2OS): \n",
    "    * $\\bf{CP}$ 55 plates\n",
    "        * Input:  s3://imaging-platform/projects/2018_04_20_Rosetta/workspace/raw-profiles/CDRP-bioactive\n",
    "        * Output: /home/ubuntu/datasetsbucket/Rosetta-GE-CP/preprocessed_data/CDRPBIO-BBBC036-Bray/CellPainting/\n",
    "        \n",
    "    * $\\bf{GE}$ the same source used for CDRP just the bioactive subset was chosen\n",
    "        \n",
    "- **LUAD**-BBBC041-Caicedo-CP-GE (Cell line: A549) : \n",
    "    * $\\bf{CP}$ \n",
    "        * Input:   /ipgpu/storage/luad/profiles_cp/LUAD-BBBC043-Caicedo/\n",
    "        * Output:  /home/ubuntu/datasetsbucket/Rosetta-GE-CP/preprocessed_data/LUAD-BBBC041-Caicedo/CellPainting/\n",
    "        \n",
    "    * $\\bf{GE}$    \n",
    "        * Input:   s3://imaging-platform/projects/2018_04_20_Rosetta/workspace/raw-profiles/l1000_LUAD/\n",
    "        * Output:  /home/ubuntu/datasetsbucket/Rosetta-GE-CP/preprocessed_data/LUAD-BBBC041-Caicedo/L1000/\n",
    "    \n",
    "- **TA-ORF**-BBBC037-Rohban-CP-GE (Cell line: U2OS) :\n",
    "    * $\\bf{CP}$ \n",
    "        * Input:   s3://imaging-platform/projects/2018_04_20_Rosetta/workspace/raw-profiles/TA-ORF-BBBC037-Rohban/\n",
    "        * Output:  /home/ubuntu/datasetsbucket/Rosetta-GE-CP/preprocessed_data/TA-ORF-BBBC037-Rohban/CellPainting/\n",
    "        \n",
    "    * $\\bf{GE}$ \n",
    "        * Input:  s3://imaging-platform/projects/2018_04_20_Rosetta/workspace/raw-profiles/l1000_TA_ORF/\n",
    "                - https://data.broadinstitute.org/icmap/custom/TA/brew/pc/TA.OE005_U2OS_72H/\n",
    "        * Output:  /home/ubuntu/datasetsbucket/Rosetta-GE-CP/preprocessed_data/TA-ORF-BBBC037-Rohban/L1000/\n",
    "        \n",
    "        \n",
    "        \n",
    "- **LINCS**-Pilot1-CP-GE (Cell line: U2OS) :\n",
    "    * $\\bf{CP}$ \n",
    "        * Input:   s3://cellpainting-datasets/lincs-cell-painting/profiles/2016_04_01_a549_48hr_batch1\n",
    "        * Output:  /home/ubuntu/datasetsbucket/Rosetta-GE-CP/preprocessed_data/LINCS-Pilot1/CellPainting/\n",
    "        \n",
    "    * $\\bf{GE}$ \n",
    "        * Input:  s3://imaging-platform/projects/2018_04_20_Rosetta/workspace/raw-profiles/l1000_LINCS\n",
    "        * Original location at internal servers:        \n",
    "            - GCTX matrices: /cmap/imaging/2015_10_05_DrugRepurposing_AravindSubramanian_GolubLab_Broad/workspace/collated/2016_04_01_a549_48hr_batch1_L1000/\n",
    "            - metadata: /cmap/imaging/2015_10_05_DrugRepurposing_AravindSubramanian_GolubLab_Broad/workspace/metadata/2016_04_01_a549_48hr_batch1_L1000/\n",
    "        * Output:  /home/ubuntu/datasetsbucket/Rosetta-GE-CP/preprocessed_data/LINCS-Pilot1/L1000/\n",
    "        "
   ]
  },
  {
   "cell_type": "code",
   "execution_count": null,
   "metadata": {},
   "outputs": [],
   "source": [
    "fileName='RepCorrDF'\n",
    "### dirs on gpu cluster\n",
    "# rawProf_dir='/storage/data/marziehhaghighi/Rosetta/raw-profiles/'\n",
    "# procProf_dir='/home/marziehhaghighi/workspace_rosetta/workspace/'\n",
    "\n",
    "### dirs on ec2\n",
    "rawProf_dir='/home/ubuntu/bucket/projects/2018_04_20_Rosetta/workspace/raw-profiles/'\n",
    "# procProf_dir='./'\n",
    "procProf_dir='/home/ubuntu/bucket/projects/2018_04_20_Rosetta/workspace/'\n",
    "# procProf_dir='/home/ubuntu/datasetsbucket/Rosetta-GE-CP/'\n",
    "# s3://imaging-platform/projects/2018_04_20_Rosetta/workspace/preprocessed_data\n",
    "# aws s3 sync preprocessed_data s3://cellpainting-datasets/Rosetta-GE-CP/preprocessed_data --profile jumpcpuser\n",
    "\n",
    "filename='../../results/RepCor/'+fileName+'.xlsx'\n"
   ]
  },
  {
   "cell_type": "code",
   "execution_count": null,
   "metadata": {},
   "outputs": [],
   "source": [
    "# ls ../../\n",
    "# https://cellpainting-datasets.s3.us-east-1.amazonaws.com/"
   ]
  },
  {
   "cell_type": "code",
   "execution_count": null,
   "metadata": {},
   "outputs": [],
   "source": []
  },
  {
   "cell_type": "markdown",
   "metadata": {
    "heading_collapsed": true
   },
   "source": [
    "# CDRP-BBBC047-Bray"
   ]
  },
  {
   "cell_type": "markdown",
   "metadata": {
    "heading_collapsed": true,
    "hidden": true
   },
   "source": [
    "### GE - L1000 - CDRP"
   ]
  },
  {
   "cell_type": "code",
   "execution_count": null,
   "metadata": {
    "hidden": true
   },
   "outputs": [],
   "source": [
    "os.listdir(rawProf_dir+'/l1000_CDRP/')"
   ]
  },
  {
   "cell_type": "code",
   "execution_count": null,
   "metadata": {
    "hidden": true
   },
   "outputs": [],
   "source": [
    "cdrp_dataDir=rawProf_dir+'/l1000_CDRP/'\n",
    "cpd_info = pd.read_csv(cdrp_dataDir+\"/compounds.txt\", sep=\"\\t\", dtype=str)\n",
    "cpd_info.columns"
   ]
  },
  {
   "cell_type": "code",
   "execution_count": null,
   "metadata": {
    "hidden": true
   },
   "outputs": [],
   "source": [
    "from scipy.io import loadmat\n",
    "x = loadmat(cdrp_dataDir+'cdrp.all.prof.mat')\n",
    "\n",
    "k1=x['metaWell']['pert_id'][0][0]\n",
    "k2=x['metaGen']['AFFX_PROBE_ID'][0][0]\n",
    "k3=x['metaWell']['pert_dose'][0][0]\n",
    "k4=x['metaWell']['det_plate'][0][0]\n",
    "# pert_dose\n",
    "# x['metaWell']['pert_id'][0][0][0][0][0]\n",
    "pertID = []\n",
    "probID=[]\n",
    "for r in range(len(k1)):\n",
    "    v = k1[r][0][0]\n",
    "    pertID.append(v)\n",
    "#     probID.append(k2[r][0][0])\n",
    "\n",
    "for r in range(len(k2)):\n",
    "    probID.append(k2[r][0][0])\n",
    "    \n",
    "pert_dose=[]\n",
    "det_plate=[]\n",
    "for r in range(len(k3)):\n",
    "    pert_dose.append(k3[r][0])\n",
    "    det_plate.append(k4[r][0][0]) \n",
    "    \n",
    "dataArray=x['pclfc'];\n",
    "cdrp_l1k_rep = pd.DataFrame(data=dataArray,columns=probID)\n",
    "cdrp_l1k_rep['pert_id']=pertID\n",
    "cdrp_l1k_rep['pert_dose']=pert_dose\n",
    "cdrp_l1k_rep['det_plate']=det_plate\n",
    "cdrp_l1k_rep['BROAD_CPD_ID']=cdrp_l1k_rep['pert_id'].str[:13]\n",
    "cdrp_l1k_rep2=pd.merge(cdrp_l1k_rep, cpd_info, how='left',on=['BROAD_CPD_ID'])\n",
    "l1k_features_cdrp=cdrp_l1k_rep2.columns[cdrp_l1k_rep2.columns.str.contains(\"_at\")]\n",
    "cdrp_l1k_rep2['pert_id_dose']=cdrp_l1k_rep2['BROAD_CPD_ID']+'_'+cdrp_l1k_rep2['pert_dose'].round(2).astype(str)\n",
    "cdrp_l1k_rep2['pert_sample_dose']=cdrp_l1k_rep2['pert_id']+'_'+cdrp_l1k_rep2['pert_dose'].round(2).astype(str)\n",
    "\n",
    "# cdrp_l1k_df.head()\n",
    "print(cpd_info.shape,cdrp_l1k_rep.shape,cdrp_l1k_rep2.shape)\n",
    "\n",
    "cdrp_l1k_rep2['pert_id_dose']=cdrp_l1k_rep2['pert_id_dose'].replace('DMSO_-666.0', 'DMSO')\n",
    "cdrp_l1k_rep2['pert_sample_dose']=cdrp_l1k_rep2['pert_sample_dose'].replace('DMSO_-666.0', 'DMSO')\n",
    "\n",
    "saveDF_to_CSV_GZ_no_timestamp(cdrp_l1k_rep2,procProf_dir+'preprocessed_data/CDRP-BBBC047-Bray/L1000/replicate_level_l1k.csv.gz');\n",
    "# cdrp_l1k_rep2.head()"
   ]
  },
  {
   "cell_type": "code",
   "execution_count": null,
   "metadata": {
    "hidden": true
   },
   "outputs": [],
   "source": []
  },
  {
   "cell_type": "code",
   "execution_count": null,
   "metadata": {
    "hidden": true
   },
   "outputs": [],
   "source": [
    "# cpd_info"
   ]
  },
  {
   "cell_type": "code",
   "execution_count": null,
   "metadata": {
    "hidden": true
   },
   "outputs": [],
   "source": []
  },
  {
   "cell_type": "code",
   "execution_count": null,
   "metadata": {
    "hidden": true
   },
   "outputs": [],
   "source": []
  },
  {
   "cell_type": "markdown",
   "metadata": {
    "heading_collapsed": true,
    "hidden": true
   },
   "source": [
    "### CP - CDRP"
   ]
  },
  {
   "cell_type": "code",
   "execution_count": null,
   "metadata": {
    "hidden": true
   },
   "outputs": [],
   "source": [
    "profileType=['_augmented','_normalized']\n",
    "\n",
    "bioactiveFlag=\"\";# either \"-bioactive\" or \"\"\n",
    "\n",
    "plates=os.listdir(rawProf_dir+'/CDRP'+bioactiveFlag+'/')\n",
    "for pt in profileType[1:2]:\n",
    "    repLevelCDRP0=[]\n",
    "    for p in plates:\n",
    "#         repLevelCDRP0.append(pd.read_csv(rawProf_dir+'/CDRP/'+p+'/'+p+pt+'.csv'))\n",
    "        repLevelCDRP0.append(pd.read_csv(rawProf_dir+'/CDRP'+bioactiveFlag+'/'+p+'/'+p+pt+'.csv')) #if bioactive\n",
    "    repLevelCDRP = pd.concat(repLevelCDRP0)\n",
    "    metaCDRP1=pd.read_csv(rawProf_dir+'/CP_CDRP/metadata/metadata_CDRP.csv')\n",
    "    # metaCDRP1=metaCDRP1.rename(columns={\"PlateName\":\"Metadata_Plate_Map_Name\",'Well':'Metadata_Well'})\n",
    "    # metaCDRP1['Metadata_Well']=metaCDRP1['Metadata_Well'].str.lower()\n",
    "    repLevelCDRP2=pd.merge(repLevelCDRP, metaCDRP1, how='left',on=['Metadata_broad_sample'])\n",
    "#     repLevelCDRP2['Metadata_Sample_Dose']=repLevelCDRP2['Metadata_broad_sample']+'_'+repLevelCDRP2['Metadata_mmoles_per_liter'].round(0).astype(int).astype(str)\n",
    "#     repLevelCDRP2['Metadata_Sample_Dose']=repLevelCDRP2['Metadata_pert_id']+'_'+(repLevelCDRP2['Metadata_mmoles_per_liter']*2).round(0).astype(int).astype(str)\n",
    "    repLevelCDRP2[\"Metadata_mmoles_per_liter2\"]=(repLevelCDRP2[\"Metadata_mmoles_per_liter\"]*2).round(2)\n",
    "    repLevelCDRP2['Metadata_Sample_Dose']=repLevelCDRP2['Metadata_broad_sample']+'_'+repLevelCDRP2['Metadata_mmoles_per_liter2'].astype(str)\n",
    "\n",
    "    repLevelCDRP2['Metadata_Sample_Dose']=repLevelCDRP2['Metadata_Sample_Dose'].replace('DMSO_0.0', 'DMSO')\n",
    "    repLevelCDRP2['Metadata_pert_id']=repLevelCDRP2['Metadata_pert_id'].replace(np.nan, 'DMSO')\n",
    "    \n",
    "#     repLevelCDRP2.to_csv(procProf_dir+'preprocessed_data/CDRPBIO-BBBC036-Bray/CellPainting/replicate_level_cp'+pt+'.csv.gz',index=False,compression='gzip')\n",
    "\n",
    "# ,\n",
    "    if bioactiveFlag:\n",
    "        dataFolderName='CDRPBIO-BBBC036-Bray'\n",
    "        saveDF_to_CSV_GZ_no_timestamp(repLevelCDRP2,procProf_dir+'preprocessed_data/'+dataFolderName+\\\n",
    "                                      '/CellPainting/replicate_level_cp'+pt+'.csv.gz')\n",
    "    else:\n",
    "#         sgfsgf\n",
    "        dataFolderName='CDRP-BBBC047-Bray'\n",
    "        saveDF_to_CSV_GZ_no_timestamp(repLevelCDRP2,procProf_dir+'preprocessed_data/'+dataFolderName+\\\n",
    "                                      '/CellPainting/replicate_level_cp'+pt+'.csv.gz')\n",
    "\n",
    "    print(metaCDRP1.shape,repLevelCDRP.shape,repLevelCDRP2.shape)"
   ]
  },
  {
   "cell_type": "code",
   "execution_count": null,
   "metadata": {
    "hidden": true
   },
   "outputs": [],
   "source": [
    "dataFolderName='CDRP-BBBC047-Bray'\n",
    "cp_feats=repLevelCDRP.columns[repLevelCDRP.columns.str.contains(\"Cells_|Cytoplasm_|Nuclei_\")].tolist()\n",
    "features_to_remove =find_correlation(repLevelCDRP2[cp_feats], threshold=0.9, remove_negative=False)\n",
    "repLevelCDRP2_var_sel=repLevelCDRP2.drop(columns=features_to_remove)\n",
    "saveDF_to_CSV_GZ_no_timestamp(repLevelCDRP2_var_sel,procProf_dir+'preprocessed_data/'+dataFolderName+\\\n",
    "                                  '/CellPainting/replicate_level_cp'+'_normalized_variable_selected'+'.csv.gz')"
   ]
  },
  {
   "cell_type": "code",
   "execution_count": null,
   "metadata": {
    "hidden": true
   },
   "outputs": [],
   "source": [
    "# features_to_remove\n",
    "# features_to_remove\n",
    "# features_to_remove"
   ]
  },
  {
   "cell_type": "code",
   "execution_count": null,
   "metadata": {
    "hidden": true
   },
   "outputs": [],
   "source": [
    "repLevelCDRP2['Nuclei_Texture_Variance_RNA_3_0']"
   ]
  },
  {
   "cell_type": "code",
   "execution_count": null,
   "metadata": {
    "hidden": true
   },
   "outputs": [],
   "source": [
    "# repLevelCDRP2.shape\n",
    "# cp_scaled.columns[cp_scaled.columns.str.contains(\"Cells_|Cytoplasm_|Nuclei_\")].tolist()"
   ]
  },
  {
   "cell_type": "code",
   "execution_count": null,
   "metadata": {
    "hidden": true
   },
   "outputs": [],
   "source": []
  },
  {
   "cell_type": "markdown",
   "metadata": {},
   "source": [
    "# CDRP-bio-BBBC036-Bray"
   ]
  },
  {
   "cell_type": "markdown",
   "metadata": {
    "heading_collapsed": true
   },
   "source": [
    "### GE - L1000 - CDRPBIO"
   ]
  },
  {
   "cell_type": "code",
   "execution_count": null,
   "metadata": {
    "hidden": true
   },
   "outputs": [],
   "source": [
    "bioactiveFlag=\"-bioactive\";# either \"-bioactive\" or \"\"\n",
    "plates=os.listdir(rawProf_dir+'/CDRP'+bioactiveFlag+'/')"
   ]
  },
  {
   "cell_type": "code",
   "execution_count": null,
   "metadata": {
    "hidden": true
   },
   "outputs": [],
   "source": [
    "# plates"
   ]
  },
  {
   "cell_type": "code",
   "execution_count": null,
   "metadata": {
    "hidden": true
   },
   "outputs": [],
   "source": [
    "cdrp_l1k_rep2_bioactive=cdrp_l1k_rep2[cdrp_l1k_rep2[\"pert_sample_dose\"].isin(repLevelCDRP2.Metadata_Sample_Dose.unique().tolist())]\n"
   ]
  },
  {
   "cell_type": "code",
   "execution_count": null,
   "metadata": {
    "hidden": true
   },
   "outputs": [],
   "source": [
    "cdrp_l1k_rep.det_plate"
   ]
  },
  {
   "cell_type": "code",
   "execution_count": null,
   "metadata": {
    "hidden": true
   },
   "outputs": [],
   "source": []
  },
  {
   "cell_type": "code",
   "execution_count": null,
   "metadata": {
    "hidden": true
   },
   "outputs": [],
   "source": []
  },
  {
   "cell_type": "markdown",
   "metadata": {
    "heading_collapsed": true
   },
   "source": [
    "### CP - CDRPBIO"
   ]
  },
  {
   "cell_type": "code",
   "execution_count": null,
   "metadata": {
    "hidden": true
   },
   "outputs": [],
   "source": [
    "profileType=['_augmented','_normalized','_normalized_variable_selected']\n",
    "\n",
    "bioactiveFlag=\"-bioactive\";# either \"-bioactive\" or \"\"\n",
    "\n",
    "plates=os.listdir(rawProf_dir+'/CDRP'+bioactiveFlag+'/')\n",
    "for pt in profileType:\n",
    "    repLevelCDRP0=[]\n",
    "    for p in plates:\n",
    "#         repLevelCDRP0.append(pd.read_csv(rawProf_dir+'/CDRP/'+p+'/'+p+pt+'.csv'))\n",
    "        repLevelCDRP0.append(pd.read_csv(rawProf_dir+'/CDRP'+bioactiveFlag+'/'+p+'/'+p+pt+'.csv')) #if bioactive\n",
    "    repLevelCDRP = pd.concat(repLevelCDRP0,ignore_index=True)\n",
    "    metaCDRP1=pd.read_csv(rawProf_dir+'/CP_CDRP/metadata/metadata_CDRP.csv')\n",
    "    # metaCDRP1=metaCDRP1.rename(columns={\"PlateName\":\"Metadata_Plate_Map_Name\",'Well':'Metadata_Well'})\n",
    "    # metaCDRP1['Metadata_Well']=metaCDRP1['Metadata_Well'].str.lower()\n",
    "    repLevelCDRP2=pd.merge(repLevelCDRP, metaCDRP1, how='left',on=['Metadata_broad_sample'])\n",
    "#     sfgssd\n",
    "#     repLevelCDRP2['Metadata_Sample_Dose']=repLevelCDRP2['Metadata_broad_sample']+'_'+repLevelCDRP2['Metadata_mmoles_per_liter'].round(0).astype(int).astype(str)\n",
    "#     repLevelCDRP2['Metadata_Sample_Dose']=repLevelCDRP2['Metadata_pert_id']+'_'+(repLevelCDRP2['Metadata_mmoles_per_liter']*2).round(0).astype(int).astype(str)\n",
    "    repLevelCDRP2[\"Metadata_mmoles_per_liter2\"]=(repLevelCDRP2[\"Metadata_mmoles_per_liter\"]*2).round(2)\n",
    "    repLevelCDRP2['Metadata_Sample_Dose']=repLevelCDRP2['Metadata_broad_sample']+'_'+repLevelCDRP2['Metadata_mmoles_per_liter2'].astype(str)\n",
    "\n",
    "    repLevelCDRP2['Metadata_Sample_Dose']=repLevelCDRP2['Metadata_Sample_Dose'].replace('DMSO_0.0', 'DMSO')\n",
    "    repLevelCDRP2['Metadata_pert_id']=repLevelCDRP2['Metadata_pert_id'].replace(np.nan, 'DMSO')\n",
    "    \n",
    "#     repLevelCDRP2.to_csv(procProf_dir+'preprocessed_data/CDRPBIO-BBBC036-Bray/CellPainting/replicate_level_cp'+pt+'.csv.gz',index=False,compression='gzip')\n",
    "\n",
    "# ,\n",
    "    if bioactiveFlag:\n",
    "        dataFolderName='CDRPBIO-BBBC036-Bray'\n",
    "        saveDF_to_CSV_GZ_no_timestamp(repLevelCDRP2,procProf_dir+'preprocessed_data/'+dataFolderName+\\\n",
    "                                      '/CellPainting/replicate_level_cp'+pt+'.csv.gz')\n",
    "    else:\n",
    "        dataFolderName='CDRP-BBBC047-Bray'\n",
    "        saveDF_to_CSV_GZ_no_timestamp(repLevelCDRP2,procProf_dir+'preprocessed_data/'+dataFolderName+\\\n",
    "                                      '/CellPainting/replicate_level_cp'+pt+'.csv.gz')\n",
    "\n",
    "    print(metaCDRP1.shape,repLevelCDRP.shape,repLevelCDRP2.shape)"
   ]
  },
  {
   "cell_type": "code",
   "execution_count": null,
   "metadata": {
    "hidden": true
   },
   "outputs": [],
   "source": [
    "metaCDRP1.shape,repLevelCDRP.shape,repLevelCDRP2.shape"
   ]
  },
  {
   "cell_type": "code",
   "execution_count": null,
   "metadata": {
    "hidden": true
   },
   "outputs": [],
   "source": [
    "# repLevelCDRP\n",
    "metaCDRP1.groupby([\"Metadata_broad_sample\"]).size().sort_values()"
   ]
  },
  {
   "cell_type": "code",
   "execution_count": null,
   "metadata": {
    "hidden": true
   },
   "outputs": [],
   "source": [
    "# metaCDRP1[metaCDRP1[\"Metadata_broad_sample\"].isin([\"BRD-A97701745-001-04-6\",\"BRD-K73323637-003-03-4\"])]"
   ]
  },
  {
   "cell_type": "code",
   "execution_count": null,
   "metadata": {
    "hidden": true
   },
   "outputs": [],
   "source": [
    "# repLevelCDRP2\n",
    "# repLevelCDRP = pd.concat(repLevelCDRP0,ignore_index=True)\n",
    "# repLevelCDRP\n",
    "# repLevelCDRP2=pd.merge(repLevelCDRP, metaCDRP1, how='left',on=['Metadata_broad_sample'])\n",
    "# repLevelCDRP2"
   ]
  },
  {
   "cell_type": "markdown",
   "metadata": {
    "heading_collapsed": true
   },
   "source": [
    "# LUAD-BBBC041-Caicedo"
   ]
  },
  {
   "cell_type": "markdown",
   "metadata": {
    "heading_collapsed": true,
    "hidden": true
   },
   "source": [
    "### GE - L1000 - LUAD"
   ]
  },
  {
   "cell_type": "code",
   "execution_count": null,
   "metadata": {
    "hidden": true
   },
   "outputs": [],
   "source": [
    "os.listdir(rawProf_dir+'/l1000_LUAD/input/')"
   ]
  },
  {
   "cell_type": "code",
   "execution_count": null,
   "metadata": {
    "hidden": true
   },
   "outputs": [],
   "source": [
    "os.listdir(rawProf_dir+'/l1000_LUAD/output/')"
   ]
  },
  {
   "cell_type": "code",
   "execution_count": null,
   "metadata": {
    "hidden": true
   },
   "outputs": [],
   "source": [
    "luad_dataDir=rawProf_dir+'/l1000_LUAD/'\n",
    "luad_info1 = pd.read_csv(luad_dataDir+\"/input/TA.OE014_A549_96H.map\", sep=\"\\t\", dtype=str)\n",
    "luad_info2 = pd.read_csv(luad_dataDir+\"/input/TA.OE015_A549_96H.map\", sep=\"\\t\", dtype=str)\n",
    "luad_info=pd.concat([luad_info1, luad_info2], ignore_index=True)\n",
    "luad_info.head()"
   ]
  },
  {
   "cell_type": "code",
   "execution_count": null,
   "metadata": {
    "hidden": true
   },
   "outputs": [],
   "source": [
    "luad_l1k_df = parse(luad_dataDir+\"/output/high_rep_A549_8reps_141230_ZSPCINF_n4232x978.gctx\").data_df.T.reset_index()\n",
    "luad_l1k_df=luad_l1k_df.rename(columns={\"cid\":\"id\"})\n",
    "# cdrp_l1k_df['XX']=cdrp_l1k_df['cid'].str[0]\n",
    "# cdrp_l1k_df['BROAD_CPD_ID']=cdrp_l1k_df['cid'].str[2:15]\n",
    "luad_l1k_df2=pd.merge(luad_l1k_df, luad_info, how='inner',on=['id'])\n",
    "luad_l1k_df2=luad_l1k_df2.rename(columns={\"x_mutation_status\":\"allele\"})\n",
    "\n",
    "l1k_features=luad_l1k_df2.columns[luad_l1k_df2.columns.str.contains(\"_at\")]\n",
    "luad_l1k_df2['allele']=luad_l1k_df2['allele'].replace('UnTrt', 'DMSO')\n",
    "print(luad_info.shape,luad_l1k_df.shape,luad_l1k_df2.shape)\n",
    "saveDF_to_CSV_GZ_no_timestamp(luad_l1k_df2,procProf_dir+'/preprocessed_data/LUAD-BBBC041-Caicedo/L1000/replicate_level_l1k.csv.gz')"
   ]
  },
  {
   "cell_type": "code",
   "execution_count": null,
   "metadata": {
    "hidden": true
   },
   "outputs": [],
   "source": [
    "luad_l1k_df_scaled = standardize_per_catX(luad_l1k_df2,'det_plate',l1k_features.tolist());\n",
    "x_l1k_luad=replicateCorrs(luad_l1k_df_scaled.reset_index(drop=True),'allele',l1k_features,1)\n",
    "# x_l1k_luad=replicateCorrs(luad_l1k_df2[luad_l1k_df2['allele']!='DMSO'].reset_index(drop=True),'allele',l1k_features,1)\n",
    "# saveAsNewSheetToExistingFile(filename,x_l1k_luad[2],'l1k-luad')"
   ]
  },
  {
   "cell_type": "markdown",
   "metadata": {
    "hidden": true
   },
   "source": [
    "### CP - LUAD"
   ]
  },
  {
   "cell_type": "code",
   "execution_count": null,
   "metadata": {
    "hidden": true
   },
   "outputs": [],
   "source": [
    "profileType=['_augmented','_normalized','_normalized_variable_selected']\n",
    "plates=os.listdir('/storage/luad/profiles_cp/LUAD-BBBC043-Caicedo/')\n",
    "for pt in profileType[1:2]:\n",
    "    repLevelLuad0=[]\n",
    "    for p in plates:\n",
    "        repLevelLuad0.append(pd.read_csv('/storage/luad/profiles_cp/LUAD-BBBC043-Caicedo/'+p+'/'+p+pt+'.csv'))\n",
    "    repLevelLuad = pd.concat(repLevelLuad0)\n",
    "    metaLuad1=pd.read_csv(rawProf_dir+'/CP_LUAD/metadata/combined_platemaps_AHB_20150506_ssedits.csv')\n",
    "    metaLuad1=metaLuad1.rename(columns={\"PlateName\":\"Metadata_Plate_Map_Name\",'Well':'Metadata_Well'})\n",
    "    metaLuad1['Metadata_Well']=metaLuad1['Metadata_Well'].str.lower()\n",
    "    # metaLuad2=pd.read_csv('~/workspace_rosetta/workspace/raw_profiles/CP_LUAD/metadata/barcode_platemap.csv')\n",
    "    # Y[Y['Metadata_Well']=='g05']['Nuclei_Texture_Variance_Mito_5_0']\n",
    "    repLevelLuad2=pd.merge(repLevelLuad, metaLuad1, how='inner',on=['Metadata_Plate_Map_Name','Metadata_Well'])\n",
    "    repLevelLuad2['x_mutation_status']=repLevelLuad2['x_mutation_status'].replace(np.nan, 'DMSO')\n",
    "    cp_features=repLevelLuad2.columns[repLevelLuad2.columns.str.contains(\"Cells_|Cytoplasm_|Nuclei_\")]\n",
    "#     repLevelLuad2.to_csv(procProf_dir+'preprocessed_data/LUAD-BBBC041-Caicedo/CellPainting/replicate_level_cp'+pt+'.csv.gz',index=False,compression='gzip')\n",
    "    saveDF_to_CSV_GZ_no_timestamp(repLevelLuad2,procProf_dir+'preprocessed_data/LUAD-BBBC041-Caicedo/CellPainting/replicate_level_cp'+pt+'.csv.gz')\n",
    "    print(metaLuad1.shape,repLevelLuad.shape,repLevelLuad2.shape)    "
   ]
  },
  {
   "cell_type": "code",
   "execution_count": null,
   "metadata": {
    "hidden": true
   },
   "outputs": [],
   "source": [
    "pt=['_normalized']\n",
    "# Read save data\n",
    "repLevelLuad2=pd.read_csv('./preprocessed_data/LUAD-BBBC041-Caicedo/CellPainting/replicate_level_cp'+pt[0]+'.csv.gz')\n",
    "\n",
    "# repLevelTA.head()\n",
    "cp_features=repLevelLuad2.columns[repLevelLuad2.columns.str.contains(\"Cells_|Cytoplasm_|Nuclei_\")]\n",
    "cols2remove0=[i for i in cp_features if ((repLevelLuad2[i].isnull()).sum(axis=0)/repLevelLuad2.shape[0])>0.05]\n",
    "print(cols2remove0)\n",
    "repLevelLuad2=repLevelLuad2.drop(cols2remove0, axis=1);\n",
    "cp_features=repLevelLuad2.columns[repLevelLuad2.columns.str.contains(\"Cells_|Cytoplasm_|Nuclei_\")]\n",
    "repLevelLuad2 = repLevelLuad2.interpolate()\n",
    "repLevelLuad2 = standardize_per_catX(repLevelLuad2,'Metadata_Plate',cp_features.tolist());\n",
    "df1=repLevelLuad2[~repLevelLuad2['x_mutation_status'].isnull()].reset_index(drop=True)\n",
    "x_cp_luad=replicateCorrs(df1,'x_mutation_status',cp_features,1)\n",
    "saveAsNewSheetToExistingFile(filename,x_cp_luad[2],'cp-luad')"
   ]
  },
  {
   "cell_type": "code",
   "execution_count": null,
   "metadata": {
    "hidden": true
   },
   "outputs": [],
   "source": []
  },
  {
   "cell_type": "markdown",
   "metadata": {
    "heading_collapsed": true
   },
   "source": [
    "# TA-ORF-BBBC037-Rohban"
   ]
  },
  {
   "cell_type": "markdown",
   "metadata": {
    "heading_collapsed": true,
    "hidden": true
   },
   "source": [
    "### GE - L1000 "
   ]
  },
  {
   "cell_type": "code",
   "execution_count": null,
   "metadata": {
    "hidden": true
   },
   "outputs": [],
   "source": [
    "taorf_datadir=rawProf_dir+'/l1000_TA_ORF/'\n",
    "gene_info = pd.read_csv(taorf_datadir+\"TA.OE005_U2OS_72H.map.txt\", sep=\"\\t\", dtype=str)\n",
    "gene_info"
   ]
  },
  {
   "cell_type": "code",
   "execution_count": null,
   "metadata": {
    "hidden": true
   },
   "outputs": [],
   "source": [
    "taorf_datadir=rawProf_dir+'/l1000_TA_ORF/'\n",
    "gene_info = pd.read_csv(taorf_datadir+\"TA.OE005_U2OS_72H.map.txt\", sep=\"\\t\", dtype=str)\n",
    "# gene_info.columns\n",
    "# TA.OE005_U2OS_72H_INF_n729x22268.gctx\n",
    "# TA.OE005_U2OS_72H_QNORM_n729x978.gctx\n",
    "# TA.OE005_U2OS_72H_ZSPCINF_n729x22268.gctx\n",
    "# TA.OE005_U2OS_72H_ZSPCQNORM_n729x978.gctx\n",
    "taorf_l1k0 = parse(taorf_datadir+\"TA.OE005_U2OS_72H_ZSPCQNORM_n729x978.gctx\")\n",
    "# taorf_l1k0 = parse(taorf_datadir+\"TA.OE005_U2OS_72H_QNORM_n729x978.gctx\")\n",
    "taorf_l1k_df0=taorf_l1k0.data_df\n",
    "taorf_l1k_df=taorf_l1k_df0.T.reset_index()\n",
    "l1k_features=taorf_l1k_df.columns[taorf_l1k_df.columns.str.contains(\"_at\")]\n",
    "taorf_l1k_df=taorf_l1k_df.rename(columns={\"cid\":\"id\"})\n",
    "taorf_l1k_df2=pd.merge(taorf_l1k_df, gene_info, how='inner',on=['id'])\n",
    "# print(taorf_l1k_df.shape,gene_info.shape,taorf_l1k_df2.shape)\n",
    "taorf_l1k_df2.head()\n",
    "# x_genesymbol_mutation\n",
    "taorf_l1k_df2['pert_id']=taorf_l1k_df2['pert_id'].replace('CMAP-000', 'DMSO')\n",
    "# compression_opts = dict(method='zip',archive_name='out.csv')  \n",
    "# taorf_l1k_df2.to_csv(procProf_dir+'preprocessed_data/TA-ORF-BBBC037-Rohban/L1000/replicate_level_l1k.csv.gz',index=False,compression=compression_opts)\n",
    "saveDF_to_CSV_GZ_no_timestamp(taorf_l1k_df2,procProf_dir+'preprocessed_data/TA-ORF-BBBC037-Rohban/L1000/replicate_level_l1k.csv.gz')\n",
    "print(gene_info.shape,taorf_l1k_df.shape,taorf_l1k_df2.shape)\n",
    "# gene_info.head()"
   ]
  },
  {
   "cell_type": "code",
   "execution_count": null,
   "metadata": {
    "hidden": true
   },
   "outputs": [],
   "source": [
    "taorf_l1k_df2.groupby(['x_genesymbol_mutation']).size().describe()"
   ]
  },
  {
   "cell_type": "code",
   "execution_count": null,
   "metadata": {
    "hidden": true
   },
   "outputs": [],
   "source": [
    "taorf_l1k_df2.groupby(['pert_id']).size().describe()"
   ]
  },
  {
   "cell_type": "markdown",
   "metadata": {
    "heading_collapsed": true,
    "hidden": true
   },
   "source": [
    "#### Check Replicate Correlation"
   ]
  },
  {
   "cell_type": "code",
   "execution_count": null,
   "metadata": {
    "hidden": true
   },
   "outputs": [],
   "source": [
    "# df1=taorf_l1k_df2[taorf_l1k_df2['pert_id']!='CMAP-000']\n",
    "\n",
    "df1_scaled = standardize_per_catX(taorf_l1k_df2,'det_plate',l1k_features.tolist());\n",
    "df1_scaled2=df1_scaled[df1_scaled['pert_id']!='DMSO']\n",
    "x=replicateCorrs(df1_scaled2,'pert_id',l1k_features,1)"
   ]
  },
  {
   "cell_type": "markdown",
   "metadata": {
    "heading_collapsed": true,
    "hidden": true
   },
   "source": [
    "### CP - TAORF"
   ]
  },
  {
   "cell_type": "code",
   "execution_count": null,
   "metadata": {
    "hidden": true
   },
   "outputs": [],
   "source": [
    "profileType=['_augmented','_normalized','_normalized_variable_selected']\n",
    "plates=os.listdir(rawProf_dir+'TA-ORF-BBBC037-Rohban/')\n",
    "for pt in profileType[0:1]:\n",
    "    repLevelTA0=[]\n",
    "    for p in plates:\n",
    "        repLevelTA0.append(pd.read_csv(rawProf_dir+'TA-ORF-BBBC037-Rohban/'+p+'/'+p+pt+'.csv'))\n",
    "    repLevelTA = pd.concat(repLevelTA0)\n",
    "    metaTA1=pd.read_csv(rawProf_dir+'/CP_TA_ORF/metadata/metadata_TA.csv')\n",
    "    metaTA2=pd.read_csv(rawProf_dir+'/CP_TA_ORF/metadata/metadata_TA_2.csv')\n",
    "#     metaTA2=metaTA2.rename(columns={\"Metadata_broad_sample\":\"Metadata_broad_sample_2\",'Metadata_Treatment':'Gene Allele Name'})\n",
    "    metaTA=pd.merge(metaTA2, metaTA1, how='left',on=['Metadata_broad_sample'])\n",
    "#     metaTA2=metaTA2.rename(columns={\"Metadata_Treatment\":\"Metadata_pert_name\"})\n",
    "#     repLevelTA2=pd.merge(repLevelTA, metaTA2, how='left',on=['Metadata_pert_name'])\n",
    "    repLevelTA2=pd.merge(repLevelTA, metaTA, how='left',on=['Metadata_broad_sample'])\n",
    "\n",
    "#     repLevelTA2=repLevelTA2.rename(columns={\"Gene Allele Name\":\"Allele\"})\n",
    "    repLevelTA2['Metadata_broad_sample']=repLevelTA2['Metadata_broad_sample'].replace(np.nan, 'DMSO')\n",
    "    saveDF_to_CSV_GZ_no_timestamp(repLevelTA2,procProf_dir+'/preprocessed_data/TA-ORF-BBBC037-Rohban/CellPainting/replicate_level_cp'+pt+'.csv.gz')\n",
    "    print(metaTA.shape,repLevelTA.shape,repLevelTA2.shape)\n"
   ]
  },
  {
   "cell_type": "code",
   "execution_count": null,
   "metadata": {
    "hidden": true
   },
   "outputs": [],
   "source": [
    "# repLevelTA.head()\n",
    "cp_features=repLevelTA2.columns[repLevelTA2.columns.str.contains(\"Cells_|Cytoplasm_|Nuclei_\")]\n",
    "cols2remove0=[i for i in cp_features if ((repLevelTA2[i].isnull()).sum(axis=0)/repLevelTA2.shape[0])>0.05]\n",
    "print(cols2remove0)\n",
    "repLevelTA2=repLevelTA2.drop(cols2remove0, axis=1);\n",
    "# cp_features=list(set(cp_features)-set(cols2remove0))\n",
    "# repLevelTA2=repLevelTA2.replace('nan', np.nan)\n",
    "repLevelTA2 = repLevelTA2.interpolate()\n",
    "cp_features=repLevelTA2.columns[repLevelTA2.columns.str.contains(\"Cells_|Cytoplasm_|Nuclei_\")]\n",
    "repLevelTA2 = standardize_per_catX(repLevelTA2,'Metadata_Plate',cp_features.tolist());\n",
    "df1=repLevelTA2[~repLevelTA2['Metadata_broad_sample'].isnull()].reset_index(drop=True)\n",
    "x_taorf_cp=replicateCorrs(df1,'Metadata_broad_sample',cp_features,1)\n",
    "# saveAsNewSheetToExistingFile(filename,x_taorf_cp[2],'cp-taorf')"
   ]
  },
  {
   "cell_type": "code",
   "execution_count": null,
   "metadata": {
    "hidden": true
   },
   "outputs": [],
   "source": [
    "# plates"
   ]
  },
  {
   "cell_type": "markdown",
   "metadata": {},
   "source": [
    "# LINCS-Pilot1"
   ]
  },
  {
   "cell_type": "markdown",
   "metadata": {},
   "source": [
    "### GE - L1000 - LINCS"
   ]
  },
  {
   "cell_type": "code",
   "execution_count": null,
   "metadata": {},
   "outputs": [],
   "source": [
    "os.listdir(rawProf_dir+'/l1000_LINCS/2016_04_01_a549_48hr_batch1_L1000/')"
   ]
  },
  {
   "cell_type": "code",
   "execution_count": null,
   "metadata": {},
   "outputs": [],
   "source": [
    "os.listdir(rawProf_dir+'/l1000_LINCS/metadata/')"
   ]
  },
  {
   "cell_type": "code",
   "execution_count": null,
   "metadata": {},
   "outputs": [],
   "source": [
    "data_meta_match_ls=[['level_3','level_3_q2norm_n27837x978.gctx','col_meta_level_3_REP.A_A549_only_n27837.txt'],\n",
    "                   ['level_4W','level_4W_zspc_n27837x978.gctx','col_meta_level_3_REP.A_A549_only_n27837.txt'],\n",
    "                   ['level_4','level_4_zspc_n27837x978.gctx','col_meta_level_3_REP.A_A549_only_n27837.txt'],\n",
    "                   ['level_5_modz','level_5_modz_n9482x978.gctx','col_meta_level_5_REP.A_A549_only_n9482.txt'],\n",
    "                   ['level_5_rank','level_5_rank_n9482x978.gctx','col_meta_level_5_REP.A_A549_only_n9482.txt']]"
   ]
  },
  {
   "cell_type": "code",
   "execution_count": null,
   "metadata": {},
   "outputs": [],
   "source": [
    "lincs_dataDir=rawProf_dir+'/l1000_LINCS/'\n",
    "lincs_pert_info = pd.read_csv(lincs_dataDir+\"/metadata/REP.A_A549_pert_info.txt\", sep=\"\\t\", dtype=str)\n",
    "lincs_meta_level3 = pd.read_csv(lincs_dataDir+\"/metadata/col_meta_level_3_REP.A_A549_only_n27837.txt\", sep=\"\\t\", dtype=str)\n",
    "# lincs_info1 = pd.read_csv(lincs_dataDir+\"/metadata/REP.A_A549_pert_info.txt\", sep=\"\\t\", dtype=str)\n",
    "print(lincs_meta_level3.shape)\n",
    "lincs_meta_level3.head()\n",
    "# lincs_info2 = pd.read_csv(lincs_dataDir+\"/input/TA.OE015_A549_96H.map\", sep=\"\\t\", dtype=str)\n",
    "# lincs_info=pd.concat([lincs_info1, lincs_info2], ignore_index=True)\n",
    "# lincs_info.head()"
   ]
  },
  {
   "cell_type": "code",
   "execution_count": null,
   "metadata": {},
   "outputs": [],
   "source": [
    "# lincs_meta_level3.groupby('distil_id').size()\n",
    "lincs_meta_level3['distil_id'].unique().shape"
   ]
  },
  {
   "cell_type": "code",
   "execution_count": null,
   "metadata": {},
   "outputs": [],
   "source": []
  },
  {
   "cell_type": "code",
   "execution_count": null,
   "metadata": {},
   "outputs": [],
   "source": [
    "# lincs_meta_level3.columns.tolist()\n",
    "# lincs_meta_level3.pert_id"
   ]
  },
  {
   "cell_type": "code",
   "execution_count": null,
   "metadata": {},
   "outputs": [],
   "source": []
  },
  {
   "cell_type": "code",
   "execution_count": null,
   "metadata": {},
   "outputs": [],
   "source": [
    "ls /home/ubuntu/workspace_rosetta/workspace/software/2018_04_20_Rosetta/preprocessed_data/LINCS-Pilot1/CellPainting"
   ]
  },
  {
   "cell_type": "code",
   "execution_count": null,
   "metadata": {},
   "outputs": [],
   "source": [
    "# procProf_dir+'preprocessed_data/LINCS-Pilot1/'\n",
    "procProf_dir"
   ]
  },
  {
   "cell_type": "code",
   "execution_count": null,
   "metadata": {},
   "outputs": [],
   "source": [
    "for el in data_meta_match_ls:\n",
    "    lincs_l1k_df=parse(lincs_dataDir+\"/2016_04_01_a549_48hr_batch1_L1000/\"+el[1]).data_df.T.reset_index()\n",
    "    lincs_meta0 = pd.read_csv(lincs_dataDir+\"/metadata/\"+el[2], sep=\"\\t\", dtype=str)\n",
    "    lincs_meta=pd.merge(lincs_meta0, lincs_pert_info, how='left',on=['pert_id'])\n",
    "    lincs_meta=lincs_meta.rename(columns={\"distil_id\":\"cid\"})\n",
    "    lincs_l1k_df2=pd.merge(lincs_l1k_df, lincs_meta, how='inner',on=['cid'])\n",
    "    lincs_l1k_df2['pert_id_dose']=lincs_l1k_df2['pert_id']+'_'+lincs_l1k_df2['nearest_dose'].astype(str)\n",
    "    lincs_l1k_df2['pert_id_dose']=lincs_l1k_df2['pert_id_dose'].replace('DMSO_-666', 'DMSO')\n",
    "#     lincs_l1k_df2.to_csv(procProf_dir+'preprocessed_data/LINCS-Pilot1/L1000/'+el[0]+'.csv.gz',index=False,compression='gzip')\n",
    "    saveDF_to_CSV_GZ_no_timestamp(lincs_l1k_df2,procProf_dir+'preprocessed_data/LINCS-Pilot1/L1000/'+el[0]+'.csv.gz')"
   ]
  },
  {
   "cell_type": "code",
   "execution_count": null,
   "metadata": {},
   "outputs": [],
   "source": [
    "# lincs_l1k_df2"
   ]
  },
  {
   "cell_type": "code",
   "execution_count": null,
   "metadata": {},
   "outputs": [],
   "source": [
    "lincs_l1k_rep['pert_id_dose'].unique()"
   ]
  },
  {
   "cell_type": "code",
   "execution_count": null,
   "metadata": {},
   "outputs": [],
   "source": [
    "lincs_l1k_rep = pd.read_csv(procProf_dir+'preprocessed_data/LINCS-Pilot1/L1000/'+data_meta_match_ls[1][0]+'.csv.gz')\n",
    "# l1k_features=lincs_l1k_rep.columns[lincs_l1k_rep.columns.str.contains(\"_at\")]\n",
    "# x=replicateCorrs(lincs_l1k_rep[lincs_l1k_rep['pert_iname_x']!='DMSO'].reset_index(drop=True),'pert_id',l1k_features,1)\n",
    "# # saveAsNewSheetToExistingFile(filename,x[2],'l1k-lincs')\n",
    "# # lincs_l1k_rep.head()"
   ]
  },
  {
   "cell_type": "code",
   "execution_count": null,
   "metadata": {},
   "outputs": [],
   "source": [
    "lincs_l1k_rep.pert_id.unique().shape"
   ]
  },
  {
   "cell_type": "code",
   "execution_count": null,
   "metadata": {},
   "outputs": [],
   "source": [
    "lincs_l1k_rep = pd.read_csv(procProf_dir+'preprocessed_data/LINCS-Pilot1/L1000/'+data_meta_match_ls[2][0]+'.csv.gz')\n",
    "lincs_l1k_rep.columns[lincs_l1k_rep.columns.str.contains('dose')]"
   ]
  },
  {
   "cell_type": "code",
   "execution_count": null,
   "metadata": {},
   "outputs": [],
   "source": [
    "lincs_l1k_rep[['pert_dose', 'pert_dose_unit', 'pert_idose', 'nearest_dose']]"
   ]
  },
  {
   "cell_type": "code",
   "execution_count": null,
   "metadata": {},
   "outputs": [],
   "source": [
    "lincs_l1k_rep['nearest_dose'].unique()"
   ]
  },
  {
   "cell_type": "code",
   "execution_count": null,
   "metadata": {},
   "outputs": [],
   "source": [
    "lincs_l1k_rep.groupby(['nearest_dose']).size()"
   ]
  },
  {
   "cell_type": "code",
   "execution_count": null,
   "metadata": {},
   "outputs": [],
   "source": [
    "# lincs_l1k_rep.rna_plate.unique()\n",
    "primary_dose_mapping = [0.04, 0.12, 0.37, 1.11, 3.33, 10, 20]"
   ]
  },
  {
   "cell_type": "code",
   "execution_count": null,
   "metadata": {},
   "outputs": [],
   "source": [
    "lincs_l1k_rep = pd.read_csv(procProf_dir+'preprocessed_data/LINCS-Pilot1/L1000/'+data_meta_match_ls[2][0]+'.csv.gz')\n",
    "l1k_features=lincs_l1k_rep.columns[lincs_l1k_rep.columns.str.contains(\"_at\")]\n",
    "lincs_l1k_rep = standardize_per_catX(lincs_l1k_rep,'det_plate',l1k_features.tolist());\n",
    "x=replicateCorrs(lincs_l1k_rep[lincs_l1k_rep['pert_iname_x']!='DMSO'].reset_index(drop=True),'pert_id',l1k_features,1)"
   ]
  },
  {
   "cell_type": "code",
   "execution_count": null,
   "metadata": {},
   "outputs": [],
   "source": [
    "lincs_l1k_rep = pd.read_csv(procProf_dir+'preprocessed_data/LINCS-Pilot1/L1000/'+data_meta_match_ls[2][0]+'.csv.gz')\n",
    "l1k_features=lincs_l1k_rep.columns[lincs_l1k_rep.columns.str.contains(\"_at\")]\n",
    "lincs_l1k_rep = standardize_per_catX(lincs_l1k_rep,'det_plate',l1k_features.tolist());\n",
    "x_l1k_lincs=replicateCorrs(lincs_l1k_rep[lincs_l1k_rep['pert_iname_x']!='DMSO'].reset_index(drop=True),'pert_id_dose',l1k_features,1)\n",
    "saveAsNewSheetToExistingFile(filename,x_l1k_lincs[2],'l1k-lincs')"
   ]
  },
  {
   "cell_type": "code",
   "execution_count": null,
   "metadata": {},
   "outputs": [],
   "source": [
    "lincs_l1k_rep = pd.read_csv(procProf_dir+'preprocessed_data/LINCS-Pilot1/L1000/'+data_meta_match_ls[2][0]+'.csv.gz')\n",
    "l1k_features=lincs_l1k_rep.columns[lincs_l1k_rep.columns.str.contains(\"_at\")]\n",
    "lincs_l1k_rep = standardize_per_catX(lincs_l1k_rep,'det_plate',l1k_features.tolist());\n",
    "x_l1k_lincs=replicateCorrs(lincs_l1k_rep[lincs_l1k_rep['pert_iname_x']!='DMSO'].reset_index(drop=True),'pert_id_dose',l1k_features,1)\n",
    "saveAsNewSheetToExistingFile(filename,x_l1k_lincs[2],'l1k-lincs')"
   ]
  },
  {
   "cell_type": "code",
   "execution_count": null,
   "metadata": {},
   "outputs": [],
   "source": [
    "saveAsNewSheetToExistingFile(filename,x[2],'l1k-lincs')"
   ]
  },
  {
   "cell_type": "code",
   "execution_count": null,
   "metadata": {},
   "outputs": [],
   "source": [
    "lincs_l1k_rep = pd.read_csv(procProf_dir+'preprocessed_data/LINCS-Pilot1/L1000/'+data_meta_match_ls[2][0]+'.csv.gz')"
   ]
  },
  {
   "cell_type": "markdown",
   "metadata": {},
   "source": []
  },
  {
   "cell_type": "markdown",
   "metadata": {},
   "source": [
    "raw data\n"
   ]
  },
  {
   "cell_type": "code",
   "execution_count": null,
   "metadata": {},
   "outputs": [],
   "source": [
    "# set(repLevelLuad2)-set(Y1.columns)"
   ]
  },
  {
   "cell_type": "code",
   "execution_count": null,
   "metadata": {},
   "outputs": [],
   "source": [
    "# Y1[['Allele', 'Category', 'Clone ID', 'Gene Symbol']].head()"
   ]
  },
  {
   "cell_type": "code",
   "execution_count": null,
   "metadata": {},
   "outputs": [],
   "source": [
    "# repLevelLuad2[repLevelLuad2['PublicID']=='BRDN0000553807'][['Col','InsertLength','NCBIGeneID','Name','OtherDescriptions','PublicID','Row','Symbol','Transcript','Vector','pert_type','x_mutation_status']].head()"
   ]
  },
  {
   "cell_type": "markdown",
   "metadata": {},
   "source": [
    "#### Check Replicate Correlation"
   ]
  },
  {
   "cell_type": "markdown",
   "metadata": {
    "heading_collapsed": true
   },
   "source": [
    "### CP - LINCS"
   ]
  },
  {
   "cell_type": "code",
   "execution_count": null,
   "metadata": {
    "hidden": true
   },
   "outputs": [],
   "source": [
    "# Ran the following on:\n",
    "# https://ec2-54-242-99-61.compute-1.amazonaws.com:5006/notebooks/workspace_nucleolar/2020_07_20_Nucleolar_Calico/1-NucleolarSizeMetrics.ipynb\n",
    "# Metadata\n",
    "def recode_dose(x, doses, return_level=False):\n",
    "    closest_index = np.argmin([np.abs(dose - x) for dose in doses])\n",
    "    if np.isnan(x):\n",
    "        return 0\n",
    "    if return_level:\n",
    "        return closest_index + 1\n",
    "    else:\n",
    "        return doses[closest_index]\n",
    "    \n",
    "primary_dose_mapping = [0.04, 0.12, 0.37, 1.11, 3.33, 10, 20]\n",
    "\n",
    "\n",
    "metadata=pd.read_csv(\"/home/ubuntu/bucket/projects/2018_04_20_Rosetta/workspace/raw-profiles/CP_LINCS/metadata/matadata_lincs_2.csv\")\n",
    "metadata['Metadata_mmoles_per_liter']=metadata.mmoles_per_liter.values.round(2)\n",
    "metadata=metadata.rename(columns={\"Assay_Plate_Barcode\": \"Metadata_Plate\",'broad_sample':'Metadata_broad_sample','well_position':'Metadata_Well'})\n",
    "\n",
    "lincs_submod_root_dir=\"/home/ubuntu/datasetsbucket/lincs-cell-painting/\"\n",
    "\n",
    "profileType=['_augmented','_normalized','_normalized_dmso',\\\n",
    "             '_normalized_feature_select','_normalized_feature_select_dmso']\n",
    "# profileType=['_normalized']\n",
    "# plates=metadata.Assay_Plate_Barcode.unique().tolist()\n",
    "plates=metadata.Metadata_Plate.unique().tolist()\n",
    "for pt in profileType[4:5]:\n",
    "    repLevelLINCS0=[]\n",
    "    \n",
    "    for p in plates:\n",
    "        profile_add=lincs_submod_root_dir+\"/profiles/2016_04_01_a549_48hr_batch1/\"+p+\"/\"+p+pt+\".csv.gz\"\n",
    "        if os.path.exists(profile_add):\n",
    "            repLevelLINCS0.append(pd.read_csv(profile_add))\n",
    "            \n",
    "    repLevelLINCS = pd.concat(repLevelLINCS0)\n",
    "    meta_lincs1=metadata.rename(columns={\"broad_sample\": \"Metadata_broad_sample\"})\n",
    "    # metaCDRP1=metaCDRP1.rename(columns={\"PlateName\":\"Metadata_Plate_Map_Name\",'Well':'Metadata_Well'})\n",
    "    # metaCDRP1['Metadata_Well']=metaCDRP1['Metadata_Well'].str.lower()\n",
    "    \n",
    "    repLevelLINCS2=pd.merge(repLevelLINCS,meta_lincs1,how='left', on=[\"Metadata_broad_sample\",\"Metadata_Well\",\"Metadata_Plate\",'Metadata_mmoles_per_liter'])\n",
    "    \n",
    "\n",
    "    repLevelLINCS2 = repLevelLINCS2.assign(Metadata_dose_recode=(repLevelLINCS2.Metadata_mmoles_per_liter.apply(\n",
    "            lambda x: recode_dose(x, primary_dose_mapping, return_level=False))))\n",
    "    repLevelLINCS2['Metadata_pert_id_dose']=repLevelLINCS2['Metadata_pert_id']+'_'+repLevelLINCS2['Metadata_dose_recode'].astype(str)\n",
    "#     repLevelLINCS2['Metadata_Sample_Dose']=repLevelLINCS2['Metadata_broad_sample']+'_'+repLevelLINCS2['Metadata_dose_recode'].astype(str)\n",
    "    repLevelLINCS2['Metadata_pert_id_dose']=repLevelLINCS2['Metadata_pert_id_dose'].replace(np.nan, 'DMSO')\n",
    "#     saveDF_to_CSV_GZ_no_timestamp(repLevelLINCS2,procProf_dir+'/preprocessed_data/LINCS-Pilot1/CellPainting/replicate_level_cp'+pt+'.csv.gz')\n",
    "    print(meta_lincs1.shape,repLevelLINCS.shape,repLevelLINCS2.shape)"
   ]
  },
  {
   "cell_type": "code",
   "execution_count": null,
   "metadata": {
    "hidden": true
   },
   "outputs": [],
   "source": [
    "# (8120, 15) (52223, 1810) (688699, 1825)\n",
    "# repLevelLINCS"
   ]
  },
  {
   "cell_type": "code",
   "execution_count": null,
   "metadata": {
    "hidden": true
   },
   "outputs": [],
   "source": [
    "# pd.merge(repLevelLINCS,meta_lincs1,how='left', on=[\"Metadata_broad_sample\"]).shape\n",
    "repLevelLINCS.shape,meta_lincs1.shape"
   ]
  },
  {
   "cell_type": "code",
   "execution_count": null,
   "metadata": {
    "hidden": true
   },
   "outputs": [],
   "source": [
    "(8120, 15) (52223, 1238) (52223, 1253)"
   ]
  },
  {
   "cell_type": "code",
   "execution_count": null,
   "metadata": {
    "hidden": true
   },
   "outputs": [],
   "source": [
    "# ls /home/ubuntu/bucket/projects/2018_04_20_Rosetta/workspace/raw-profiles/CP_LINCS/metadata"
   ]
  },
  {
   "cell_type": "code",
   "execution_count": null,
   "metadata": {
    "hidden": true
   },
   "outputs": [],
   "source": [
    "csv_l1k_lincs=pd.read_csv('./preprocessed_data/LINCS-Pilot1/L1000/replicate_level_l1k'+'.csv.gz')\n",
    "csv_pddf=pd.read_csv('./preprocessed_data/LINCS-Pilot1/CellPainting/replicate_level_cp'+pt[0]+'.csv.gz')"
   ]
  },
  {
   "cell_type": "code",
   "execution_count": null,
   "metadata": {
    "hidden": true
   },
   "outputs": [],
   "source": [
    "csv_l1k_lincs.head()"
   ]
  },
  {
   "cell_type": "code",
   "execution_count": null,
   "metadata": {
    "hidden": true
   },
   "outputs": [],
   "source": [
    "csv_l1k_lincs.pert_id_dose.unique()"
   ]
  },
  {
   "cell_type": "code",
   "execution_count": null,
   "metadata": {
    "hidden": true
   },
   "outputs": [],
   "source": [
    "csv_pddf.Metadata_pert_id_dose.unique()"
   ]
  },
  {
   "cell_type": "markdown",
   "metadata": {
    "heading_collapsed": true,
    "hidden": true
   },
   "source": [
    "#### Read saved data"
   ]
  },
  {
   "cell_type": "code",
   "execution_count": null,
   "metadata": {
    "hidden": true
   },
   "outputs": [],
   "source": [
    "repLevelLINCS2.groupby(['Metadata_pert_id']).size()"
   ]
  },
  {
   "cell_type": "code",
   "execution_count": null,
   "metadata": {
    "hidden": true
   },
   "outputs": [],
   "source": [
    "repLevelLINCS2.groupby(['Metadata_pert_id_dose']).size().describe()"
   ]
  },
  {
   "cell_type": "code",
   "execution_count": null,
   "metadata": {
    "hidden": true
   },
   "outputs": [],
   "source": [
    "repLevelLINCS2.Metadata_Plate.unique().shape"
   ]
  },
  {
   "cell_type": "code",
   "execution_count": null,
   "metadata": {
    "hidden": true
   },
   "outputs": [],
   "source": [
    "repLevelLINCS2['Metadata_pert_id_dose'].unique().shape"
   ]
  },
  {
   "cell_type": "code",
   "execution_count": null,
   "metadata": {
    "hidden": true
   },
   "outputs": [],
   "source": [
    "# csv_pddf['Metadata_mmoles_per_liter'].round(0).unique()\n",
    "# np.sort(csv_pddf['Metadata_mmoles_per_liter'].unique())"
   ]
  },
  {
   "cell_type": "code",
   "execution_count": null,
   "metadata": {
    "hidden": true
   },
   "outputs": [],
   "source": [
    "csv_pddf.groupby(['Metadata_dose_recode']).size()#.median()"
   ]
  },
  {
   "cell_type": "code",
   "execution_count": null,
   "metadata": {
    "hidden": true
   },
   "outputs": [],
   "source": [
    "# repLevelLincs2=csv_pddf.copy()\n",
    "import gc\n",
    "cp_features=repLevelLincs2.columns[repLevelLincs2.columns.str.contains(\"Cells_|Cytoplasm_|Nuclei_\")]\n",
    "cols2remove0=[i for i in cp_features if ((repLevelLincs2[i].isnull()).sum(axis=0)/repLevelLincs2.shape[0])>0.05]\n",
    "print(cols2remove0)\n",
    "repLevelLincs3=repLevelLincs2.drop(cols2remove0, axis=1);\n",
    "print('here0')\n",
    "# cp_features=list(set(cp_features)-set(cols2remove0))\n",
    "# repLevelTA2=repLevelTA2.replace('nan', np.nan)\n",
    "del repLevelLincs2\n",
    "gc.collect()\n",
    "print('here0')\n",
    "cp_features=repLevelLincs3.columns[repLevelLincs3.columns.str.contains(\"Cells_|Cytoplasm_|Nuclei_\")]\n",
    "repLevelLincs3[cp_features] = repLevelLincs3[cp_features].interpolate()\n",
    "print('here1')\n",
    "repLevelLincs3 = standardize_per_catX(repLevelLincs3,'Metadata_Plate',cp_features.tolist());\n",
    "print('here1')\n",
    "\n",
    "# df0=repLevelCDRP3[repLevelCDRP3['Metadata_broad_sample']!='DMSO'].reset_index(drop=True)\n",
    "# repSizeDF=repLevelLincs3.groupby(['Metadata_broad_sample']).size().reset_index()\n",
    "repSizeDF=repLevelLincs3.groupby(['Metadata_pert_id_dose']).size().reset_index()\n",
    "\n",
    "highRepComp=repSizeDF[repSizeDF[0]>1].Metadata_pert_id_dose.tolist()\n",
    "highRepComp.remove('DMSO')\n",
    "# df0=repLevelLincs3[(repLevelLincs3['Metadata_broad_sample'].isin(highRepComp)) &\\\n",
    "#                    (repLevelLincs3['Metadata_dose_recode']==1.11)]\n",
    "df0=repLevelLincs3[(repLevelLincs3['Metadata_pert_id_dose'].isin(highRepComp))]\n",
    "x_lincs_cp=replicateCorrs(df0,'Metadata_pert_id_dose',cp_features,1)\n",
    "# saveAsNewSheetToExistingFile(filename,x_lincs_cp[2],'cp-lincs')"
   ]
  },
  {
   "cell_type": "code",
   "execution_count": null,
   "metadata": {
    "hidden": true
   },
   "outputs": [],
   "source": [
    "repSizeDF"
   ]
  },
  {
   "cell_type": "code",
   "execution_count": null,
   "metadata": {
    "hidden": true
   },
   "outputs": [],
   "source": [
    "# repLevelLincs2=csv_pddf.copy()\n",
    "\n",
    "# cp_features=repLevelLincs2.columns[repLevelLincs2.columns.str.contains(\"Cells_|Cytoplasm_|Nuclei_\")]\n",
    "# cols2remove0=[i for i in cp_features if ((repLevelLincs2[i].isnull()).sum(axis=0)/repLevelLincs2.shape[0])>0.05]\n",
    "# print(cols2remove0)\n",
    "# repLevelLincs3=repLevelLincs2.drop(cols2remove0, axis=1);\n",
    "# # cp_features=list(set(cp_features)-set(cols2remove0))\n",
    "# # repLevelTA2=repLevelTA2.replace('nan', np.nan)\n",
    "# repLevelLincs3 = repLevelLincs3.interpolate()\n",
    "\n",
    "# repLevelLincs3 = standardize_per_catX(repLevelLincs3,'Metadata_Plate',cp_features.tolist());\n",
    "\n",
    "# cp_features=repLevelLincs3.columns[repLevelLincs3.columns.str.contains(\"Cells_|Cytoplasm_|Nuclei_\")]\n",
    "# # df0=repLevelCDRP3[repLevelCDRP3['Metadata_broad_sample']!='DMSO'].reset_index(drop=True)\n",
    "# # repSizeDF=repLevelLincs3.groupby(['Metadata_broad_sample']).size().reset_index()\n",
    "repSizeDF=repLevelLincs3.groupby(['Metadata_pert_id']).size().reset_index()\n",
    "\n",
    "highRepComp=repSizeDF[repSizeDF[0]>1].Metadata_pert_id.tolist()\n",
    "# highRepComp.remove('DMSO')\n",
    "# df0=repLevelLincs3[(repLevelLincs3['Metadata_broad_sample'].isin(highRepComp)) &\\\n",
    "#                    (repLevelLincs3['Metadata_dose_recode']==1.11)]\n",
    "df0=repLevelLincs3[(repLevelLincs3['Metadata_pert_id'].isin(highRepComp))]\n",
    "x_lincs_cp=replicateCorrs(df0,'Metadata_pert_id',cp_features,1)\n",
    "# saveAsNewSheetToExistingFile(filename,x_lincs_cp[2],'cp-lincs')"
   ]
  },
  {
   "cell_type": "code",
   "execution_count": null,
   "metadata": {
    "hidden": true
   },
   "outputs": [],
   "source": [
    "# x=replicateCorrs(df0,'Metadata_broad_sample',cp_features,1)\n",
    "# highRepComp[-1]\n"
   ]
  },
  {
   "cell_type": "code",
   "execution_count": null,
   "metadata": {
    "hidden": true
   },
   "outputs": [],
   "source": [
    "saveAsNewSheetToExistingFile(filename,x[2],'cp-lincs')"
   ]
  },
  {
   "cell_type": "code",
   "execution_count": null,
   "metadata": {
    "hidden": true
   },
   "outputs": [],
   "source": [
    "# repLevelLincs3.Metadata_Plate\n",
    "repLevelLincs3.head()"
   ]
  },
  {
   "cell_type": "code",
   "execution_count": null,
   "metadata": {
    "hidden": true
   },
   "outputs": [],
   "source": [
    "# csv_pddf[(csv_pddf['Metadata_dose_recode']==0.04) & (csv_pddf['Metadata_pert_id']==\"BRD-A00147595\")][['Metadata_Plate','Metadata_Well']].drop_duplicates()"
   ]
  },
  {
   "cell_type": "code",
   "execution_count": null,
   "metadata": {
    "hidden": true
   },
   "outputs": [],
   "source": [
    "# csv_pddf[(csv_pddf['Metadata_dose_recode']==0.04) & (csv_pddf['Metadata_pert_id']==\"BRD-A00147595\") &\n",
    "#         (csv_pddf['Metadata_Plate']=='SQ00015196') & (csv_pddf['Metadata_Well']==\"B12\")][csv_pddf.columns[1820:]].drop_duplicates()"
   ]
  },
  {
   "cell_type": "code",
   "execution_count": null,
   "metadata": {
    "hidden": true
   },
   "outputs": [],
   "source": [
    "# def standardize_per_catX(df,column_name):\n",
    "column_name='Metadata_Plate'\n",
    "repLevelLincs_scaled_perPlate=repLevelLincs3.copy()\n",
    "repLevelLincs_scaled_perPlate[cp_features.tolist()]=repLevelLincs3[cp_features.tolist()+[column_name]].groupby(column_name).transform(lambda x: (x - x.mean()) / x.std()).values"
   ]
  },
  {
   "cell_type": "code",
   "execution_count": null,
   "metadata": {
    "hidden": true
   },
   "outputs": [],
   "source": [
    "# def standardize_per_catX(df,column_name):\n",
    "# # column_name='Metadata_Plate'\n",
    "#     cp_features=df.columns[df.columns.str.contains(\"Cells_|Cytoplasm_|Nuclei_\")]\n",
    "#     df_scaled_perPlate=df.copy()\n",
    "#     df_scaled_perPlate[cp_features.tolist()]=\\\n",
    "#     df[cp_features.tolist()+[column_name]].groupby(column_name)\\\n",
    "#     .transform(lambda x: (x - x.mean()) / x.std()).values\n",
    "#     return df_scaled_perPlate"
   ]
  },
  {
   "cell_type": "code",
   "execution_count": null,
   "metadata": {
    "hidden": true
   },
   "outputs": [],
   "source": [
    "df0=repLevelLincs_scaled_perPlate[(repLevelLincs_scaled_perPlate['Metadata_Sample_Dose'].isin(highRepComp))]\n",
    "x=replicateCorrs(df0,'Metadata_broad_sample',cp_features,1)"
   ]
  },
  {
   "cell_type": "code",
   "execution_count": null,
   "metadata": {
    "hidden": true
   },
   "outputs": [],
   "source": []
  },
  {
   "cell_type": "markdown",
   "metadata": {
    "heading_collapsed": true
   },
   "source": [
    "# Metadata columns for each dataset"
   ]
  },
  {
   "cell_type": "code",
   "execution_count": null,
   "metadata": {
    "hidden": true
   },
   "outputs": [],
   "source": [
    "#'dataset_name',['folder_name',[cp_pert_col_name,l1k_pert_col_name],[cp_control_val,l1k_control_val]]\n",
    "dataset='CDRP';\n",
    "profileType='normalized'\n",
    "\n",
    "ds_info_dict={'CDRP':['CDRPBIO-BBBC036-Bray',['Metadata_Sample_Dose','pert_sample_dose'],[['DMSO'],['DMSO']]],\n",
    "              'CDRP-bio':['CDRPBIO-BBBC036-Bray',['Metadata_Sample_Dose','pert_sample_dose'],[['DMSO'],['DMSO']]],\n",
    "              'TAORF':['TA-ORF-BBBC037-Rohban',['Metadata_broad_sample','pert_id',],[['DMSO_0.04'],['DMSO_-666']]],\n",
    "              'LUAD':['LUAD-BBBC041-Caicedo',['x_mutation_status','allele'],[['DMSO_0.04'],['DMSO_-666']]],\n",
    "              'LINCS':['LINCS-Pilot1',['Metadata_pert_id_dose','pert_id_dose'],[['DMSO'],['DMSO']]]}\n",
    "\n",
    "dataDir=procProf_dir+'/preprocessed_data/'+ds_info_dict[dataset][0]+'/'\n",
    "\n",
    "cp_data_repLevel=pd.read_csv(dataDir+'/CellPainting/replicate_level_cp_'+profileType+'.csv.gz')    \n",
    "l1k_data_repLevel=pd.read_csv(dataDir+'/L1000/replicate_level_l1k.csv.gz')  \n",
    "\n",
    "\n",
    "# meta_cols_cp=cp_data_repLevel.columns[cp_data_repLevel.columns.str.contains('Metadata')].tolist()\n",
    "meta_cols_cp=cp_data_repLevel.columns[~cp_data_repLevel.columns.str.contains(\"Cells_|Cytoplasm_|Nuclei_\")].tolist()\n",
    "meta_cols_l1k=l1k_data_repLevel.columns[~l1k_data_repLevel.columns.str.contains('_at')].tolist()\n",
    "\n",
    "\n",
    "###########################################\n",
    "meta_df_cp=pd.DataFrame(index=meta_cols_cp,columns=['unique_values'])\n",
    "for m in meta_cols_cp:\n",
    "    unq_vals=cp_data_repLevel[m].unique()\n",
    "    if len(unq_vals)<10:\n",
    "        meta_df_cp.loc[m]['unique_values']=', '.join(list(unq_vals.astype(str)))\n",
    "    else:\n",
    "        meta_df_cp.loc[m]['unique_values']=', '.join(list(unq_vals[:10].astype(str)))+', ...'\n",
    "    \n",
    "    \n",
    "meta_df_l1k=pd.DataFrame(index=meta_cols_l1k,columns=['unique_values'])\n",
    "# for m in meta_cols_l1k:\n",
    "#     meta_df_l1k.loc[m]['unique_values']=l1k_data_repLevel[m].unique()\n",
    "    \n",
    "    \n",
    "for m in meta_cols_l1k:\n",
    "    unq_vals=l1k_data_repLevel[m].unique()\n",
    "    if len(unq_vals)<10:\n",
    "        meta_df_l1k.loc[m]['unique_values']=', '.join(list(unq_vals.astype(str)))\n",
    "    else:\n",
    "        meta_df_l1k.loc[m]['unique_values']=', '.join(list(unq_vals[:10].astype(str)))+', ...'"
   ]
  },
  {
   "cell_type": "code",
   "execution_count": null,
   "metadata": {
    "hidden": true,
    "scrolled": false
   },
   "outputs": [],
   "source": [
    "print(meta_df_cp.to_markdown())"
   ]
  },
  {
   "cell_type": "code",
   "execution_count": null,
   "metadata": {
    "hidden": true,
    "scrolled": false
   },
   "outputs": [],
   "source": [
    "# meta_df_l1k.to_markdown(index=False)\n",
    "# list(unq_vals.astype(str))\n",
    "print(meta_df_l1k.to_markdown())"
   ]
  },
  {
   "cell_type": "code",
   "execution_count": null,
   "metadata": {
    "hidden": true
   },
   "outputs": [],
   "source": [
    "cp_data_repLevel['Metadata_NCBIGeneID'].unique().shape"
   ]
  },
  {
   "cell_type": "code",
   "execution_count": null,
   "metadata": {
    "hidden": true
   },
   "outputs": [],
   "source": []
  },
  {
   "cell_type": "code",
   "execution_count": null,
   "metadata": {
    "hidden": true
   },
   "outputs": [],
   "source": [
    "print(cp_data_repLevel[cp_data_repLevel.columns[cp_data_repLevel.columns.str.contains('Metadata')]].head().to_markdown())"
   ]
  },
  {
   "cell_type": "code",
   "execution_count": null,
   "metadata": {
    "hidden": true
   },
   "outputs": [],
   "source": [
    "print(l1k_data_repLevel[l1k_data_repLevel.columns[~l1k_data_repLevel.columns.str.contains('_at')]].head().to_markdown())"
   ]
  },
  {
   "cell_type": "markdown",
   "metadata": {
    "heading_collapsed": true
   },
   "source": [
    "# Rename negative controls and add pert_type column"
   ]
  },
  {
   "cell_type": "code",
   "execution_count": null,
   "metadata": {
    "hidden": true
   },
   "outputs": [],
   "source": [
    "import pandas as pd\n",
    "import numpy as np\n",
    "# datasets=['TAORF','LUAD','LINCS', 'CDRP-bio','CDRP']\n",
    "datasets=['CDRP']\n",
    "# dataset='CDRP';\n",
    "profileTypes=['augmented' , 'normalized', 'normalized_variable_selected']\n",
    "\n",
    "ds_info_dict={'CDRP':['CDRP-BBBC047-Bray',['Metadata_Sample_Dose','pert_sample_dose']],\n",
    "              'CDRP-bio':['CDRPBIO-BBBC036-Bray',['Metadata_Sample_Dose','pert_sample_dose']],\n",
    "              'TAORF':['TA-ORF-BBBC037-Rohban',['Metadata_broad_sample','pert_id',]],\n",
    "              'LUAD':['LUAD-BBBC041-Caicedo',['x_mutation_status','allele']],\n",
    "              'LINCS':['LINCS-Pilot1',['Metadata_pert_id_dose','pert_id_dose']]}\n",
    "    \n",
    "# ds_info_dict={'CDRP':['CDRPBIO-BBBC036-Bray',['Metadata_Sample_Dose','pert_sample_dose'],[['DMSO'],['DMSO']]],\n",
    "#               'CDRP-bio':['CDRPBIO-BBBC036-Bray',['Metadata_Sample_Dose','pert_sample_dose'],[['DMSO'],['DMSO']]],\n",
    "#               'TAORF':['TA-ORF-BBBC037-Rohban',['Metadata_broad_sample','pert_id',],[['DMSO_0.04'],['DMSO_-666']]],\n",
    "#               'LUAD':['LUAD-BBBC041-Caicedo',['x_mutation_status','allele'],[['DMSO_0.04'],['DMSO_-666']]],\n",
    "#               'LINCS':['LINCS-Pilot1',['Metadata_pert_id_dose','pert_id_dose'],[['DMSO'],['DMSO']]]}\n",
    "\n",
    "for dataset in datasets:\n",
    "    dataDir=procProf_dir+'/preprocessed_data/'+ds_info_dict[dataset][0]+'/'\n",
    "    dataDir_save='../preprocessed_data/'+ds_info_dict[dataset][0]+'/'\n",
    "    os.system('mkdir -p '+dataDir_save+'L1000')\n",
    "    os.system('mkdir -p '+dataDir_save+'CellPainting')\n",
    "    pert_ids_col_cp=ds_info_dict[dataset][1][0]\n",
    "    pert_ids_col_ge=ds_info_dict[dataset][1][1]\n",
    "    l1k_data_repLevel=pd.read_csv(dataDir+'/L1000/replicate_level_l1k.csv.gz')  \n",
    "\n",
    "    l1k_data_repLevel[pert_ids_col_ge]=l1k_data_repLevel[pert_ids_col_ge].replace('DMSO','negcon')\n",
    "    l1k_data_repLevel['pert_type']='trt'\n",
    "    l1k_data_repLevel.loc[l1k_data_repLevel[pert_ids_col_ge]=='negcon','pert_type']='control'\n",
    "    l1k_data_repLevel['control_type']=np.nan\n",
    "    l1k_data_repLevel.loc[l1k_data_repLevel[pert_ids_col_ge]=='negcon','control_type']='negcon'\n",
    "    saveDF_to_CSV_GZ_no_timestamp(l1k_data_repLevel,dataDir_save+'/L1000/replicate_level_l1k.csv.gz')\n",
    "#     column pert_type indicates trt or control , and column control_type indicates negcon (otherwise empty).\n",
    "    \n",
    "    for profileType in profileTypes:\n",
    "        cp_data_repLevel=pd.read_csv(dataDir+'/CellPainting/replicate_level_cp_'+profileType+'.csv.gz')    \n",
    "        cp_data_repLevel[pert_ids_col_cp]=cp_data_repLevel[pert_ids_col_cp].replace('DMSO','negcon')\n",
    "        cp_data_repLevel['pert_type']='trt'\n",
    "        cp_data_repLevel.loc[cp_data_repLevel[pert_ids_col_cp]=='negcon','pert_type']='control'\n",
    "        cp_data_repLevel['control_type']=np.nan\n",
    "        cp_data_repLevel.loc[cp_data_repLevel[pert_ids_col_cp]=='negcon','control_type']='negcon' \n",
    "        saveDF_to_CSV_GZ_no_timestamp(cp_data_repLevel,dataDir_save+'/CellPainting/replicate_level_cp_'+profileType+'.csv.gz')\n",
    "#     gfdgsf"
   ]
  },
  {
   "cell_type": "code",
   "execution_count": null,
   "metadata": {
    "hidden": true
   },
   "outputs": [],
   "source": [
    "# datasets=['TAORF','LUAD','LINCS', 'CDRP-bio','CDRP']\n",
    "datasets=['CDRP']\n",
    "for dataset in datasets:\n",
    "    dataDir=procProf_dir+'/preprocessed_data/'+ds_info_dict[dataset][0]+'/'\n",
    "    dataDir_save='../preprocessed_data/'+ds_info_dict[dataset][0]+'/'\n",
    "#     os.system('mkdir -p '+dataDir_save+'L1000')\n",
    "#     os.system('mkdir -p '+dataDir_save+'CellPainting')\n",
    "    pert_ids_col_cp=ds_info_dict[dataset][1][0]\n",
    "    pert_ids_col_ge=ds_info_dict[dataset][1][1]\n",
    "    \n",
    "    fNames=os.listdir(dataDir+'/L1000/')\n",
    "    fNames.remove('replicate_level_l1k.csv.gz')\n",
    "    \n",
    "#     correct_cols_df=pd.read_csv(dataDir_save+'/L1000/'+'replicate_level_l1k.csv.gz') \n",
    "    \n",
    "    for fname in fNames:\n",
    "        l1k_data_repLevel=pd.read_csv(dataDir+'/L1000/'+fname)  \n",
    "#         l1k_data_repLevel[pert_ids_col_ge]=correct_cols_df[pert_ids_col_ge]\n",
    "        l1k_data_repLevel[pert_ids_col_ge]=l1k_data_repLevel[pert_ids_col_ge].replace('DMSO','negcon')\n",
    "        l1k_data_repLevel['pert_type']='trt'\n",
    "        l1k_data_repLevel.loc[l1k_data_repLevel[pert_ids_col_ge]=='negcon','pert_type']='control'\n",
    "        l1k_data_repLevel['control_type']=np.nan\n",
    "        l1k_data_repLevel.loc[l1k_data_repLevel[pert_ids_col_ge]=='negcon','control_type']='negcon'\n",
    "        saveDF_to_CSV_GZ_no_timestamp(l1k_data_repLevel,dataDir_save+'/L1000/'+fname)\n",
    "        "
   ]
  },
  {
   "cell_type": "code",
   "execution_count": null,
   "metadata": {
    "hidden": true
   },
   "outputs": [],
   "source": []
  },
  {
   "cell_type": "code",
   "execution_count": null,
   "metadata": {
    "hidden": true
   },
   "outputs": [],
   "source": [
    "import pandas as pd\n",
    "import numpy as np\n",
    "# datasets=['TAORF','LUAD','LINCS', 'CDRP-bio','CDRP']\n",
    "datasets=['TAORF']\n",
    "# dataset='CDRP';\n",
    "profileTypes=['augmented' , 'normalized', 'normalized_variable_selected']\n",
    "\n",
    "ds_info_dict={'CDRP':['CDRP-BBBC047-Bray',['Metadata_Sample_Dose','pert_sample_dose']],\n",
    "              'CDRP-bio':['CDRPBIO-BBBC036-Bray',['Metadata_Sample_Dose','pert_sample_dose']],\n",
    "              'TAORF':['TA-ORF-BBBC037-Rohban',['Metadata_broad_sample','pert_id',]],\n",
    "              'LUAD':['LUAD-BBBC041-Caicedo',['x_mutation_status','allele']],\n",
    "              'LINCS':['LINCS-Pilot1',['Metadata_pert_id_dose','pert_id_dose']]}\n",
    "    \n",
    "# ds_info_dict={'CDRP':['CDRPBIO-BBBC036-Bray',['Metadata_Sample_Dose','pert_sample_dose'],[['DMSO'],['DMSO']]],\n",
    "#               'CDRP-bio':['CDRPBIO-BBBC036-Bray',['Metadata_Sample_Dose','pert_sample_dose'],[['DMSO'],['DMSO']]],\n",
    "#               'TAORF':['TA-ORF-BBBC037-Rohban',['Metadata_broad_sample','pert_id',],[['DMSO_0.04'],['DMSO_-666']]],\n",
    "#               'LUAD':['LUAD-BBBC041-Caicedo',['x_mutation_status','allele'],[['DMSO_0.04'],['DMSO_-666']]],\n",
    "#               'LINCS':['LINCS-Pilot1',['Metadata_pert_id_dose','pert_id_dose'],[['DMSO'],['DMSO']]]}\n",
    "\n",
    "for dataset in datasets:\n",
    "    dataDir=procProf_dir+'/preprocessed_data/'+ds_info_dict[dataset][0]+'/'\n",
    "    dataDir_save='../preprocessed_data/'+ds_info_dict[dataset][0]+'/'\n",
    "    \n",
    "    for profileType in profileTypes:\n",
    "        cp_data_repLevel=pd.read_csv(dataDir+'/CellPainting/replicate_level_cp_'+profileType+'.csv.gz') \n",
    "        cp_data_repLevel=cp_data_repLevel.drop(columns=['Metadata_moa'])\n",
    "        saveDF_to_CSV_GZ_no_timestamp(cp_data_repLevel,dataDir_save+'/CellPainting/replicate_level_cp_'+profileType+'.csv.gz')"
   ]
  },
  {
   "cell_type": "code",
   "execution_count": null,
   "metadata": {
    "hidden": true
   },
   "outputs": [],
   "source": []
  },
  {
   "cell_type": "code",
   "execution_count": null,
   "metadata": {
    "hidden": true
   },
   "outputs": [],
   "source": []
  },
  {
   "cell_type": "markdown",
   "metadata": {},
   "source": [
    "# Landmark gene names across different datasets"
   ]
  },
  {
   "cell_type": "code",
   "execution_count": null,
   "metadata": {},
   "outputs": [],
   "source": [
    "from cmapPy.pandasGEXpress.parse import parse\n",
    "\n",
    "### CDRP\n",
    "from scipy.io import loadmat\n",
    "x = loadmat(rawProf_dir+'/l1000_CDRP/cdrp.all.prof.mat')\n",
    "m1=x['metaGen']['AFFX_PROBE_ID'][0][0]\n",
    "m2=x['metaGen']['GENE_SYMBOL'][0][0]\n",
    "\n",
    "cdrp_l1k_prob_ids=[]\n",
    "GENE_SYMBOLs=[]\n",
    "for r in range(len(m1)):\n",
    "    cdrp_l1k_prob_ids.append(m1[r][0][0])\n",
    "    GENE_SYMBOLs.append(m2[r][0][0]) \n",
    "    \n",
    "    \n",
    "### LUAD\n",
    "luad_l1k_df = parse(rawProf_dir+\"/l1000_LUAD/output/high_rep_A549_8reps_141230_ZSPCINF_n4232x978.gctx\").data_df.T.reset_index()\n",
    "luad_l1k_prob_ids=luad_l1k_df.columns[luad_l1k_df.columns.str.contains('_at')].tolist()\n",
    "\n",
    "### TAORF\n",
    "taorf_l1k_df0=parse(rawProf_dir+\"/l1000_TA_ORF/TA.OE005_U2OS_72H_ZSPCQNORM_n729x978.gctx\")\n",
    "taorf_l1k_df=taorf_l1k_df0.data_df.T\n",
    "taorf_l1k_prob_ids=taorf_l1k_df.columns[taorf_l1k_df.columns.str.contains('_at')].tolist()\n",
    "    \n",
    "\n",
    "### LINCS\n",
    "lincs_l1k_df=parse(rawProf_dir+\"/l1000_LINCS/2016_04_01_a549_48hr_batch1_L1000/level_3_q2norm_n27837x978.gctx\").data_df.T.reset_index()\n",
    "lincs_l1k_prob_ids=lincs_l1k_df.columns[lincs_l1k_df.columns.str.contains('_at')].tolist()"
   ]
  },
  {
   "cell_type": "code",
   "execution_count": null,
   "metadata": {},
   "outputs": [],
   "source": [
    "union_of_prob_ids_across_DSs=list(set(lincs_l1k_prob_ids+taorf_l1k_prob_ids+luad_l1k_prob_ids+cdrp_l1k_prob_ids))\n",
    "len(union_of_prob_ids_across_DSs)"
   ]
  },
  {
   "cell_type": "code",
   "execution_count": null,
   "metadata": {},
   "outputs": [],
   "source": [
    "meta=pd.read_csv(\"/home/ubuntu/bucket/projects/2018_04_20_Rosetta/workspace/metadata/affy_probe_gene_mapping.txt\",delimiter=\"\\t\",header=None, names=[\"probe_id\", \"gene\"])\n",
    "meta_gene_probID=meta.set_index('probe_id')\n",
    "d = dict(zip(meta_gene_probID.index, meta_gene_probID['gene']))"
   ]
  },
  {
   "cell_type": "code",
   "execution_count": null,
   "metadata": {
    "scrolled": false
   },
   "outputs": [],
   "source": [
    "# d"
   ]
  },
  {
   "cell_type": "code",
   "execution_count": null,
   "metadata": {},
   "outputs": [],
   "source": [
    "np.unique(list(d.keys())).shape,np.unique(list(d.values())).shape"
   ]
  },
  {
   "cell_type": "code",
   "execution_count": null,
   "metadata": {},
   "outputs": [],
   "source": [
    "luad_gene_symbols=[d[x] for x in luad_l1k_prob_ids]\n",
    "lincs_gene_symbols=[d[x] for x in lincs_l1k_prob_ids]\n",
    "cdrp_gene_symbols=[d[x] for x in cdrp_l1k_prob_ids]\n",
    "taorf_gene_symbols=[d[x] for x in taorf_l1k_prob_ids]"
   ]
  },
  {
   "cell_type": "code",
   "execution_count": null,
   "metadata": {},
   "outputs": [],
   "source": []
  },
  {
   "cell_type": "code",
   "execution_count": null,
   "metadata": {},
   "outputs": [],
   "source": [
    "print('LUAD and LINCS overlap: ',len(set(luad_l1k_prob_ids) & set(lincs_l1k_prob_ids)))\n",
    "print('LUAD and TAORF overlap: ',len(set(luad_l1k_prob_ids) & set(taorf_l1k_prob_ids)))\n",
    "print('CDRP and LINCS overlap: ',len(set(cdrp_l1k_prob_ids) & set(lincs_l1k_prob_ids)))\n",
    "print('CDRP and TAORF overlap: ',len(set(cdrp_l1k_prob_ids) & set(taorf_l1k_prob_ids)))"
   ]
  },
  {
   "cell_type": "code",
   "execution_count": null,
   "metadata": {},
   "outputs": [],
   "source": [
    "print('LUAD and LINCS overlap: ',len(set(luad_gene_symbols) & set(lincs_gene_symbols)))\n",
    "print('LUAD and TAORF overlap: ',len(set(luad_gene_symbols) & set(taorf_gene_symbols)))\n",
    "print('CDRP and LINCS overlap: ',len(set(cdrp_gene_symbols) & set(lincs_gene_symbols)))\n",
    "print('CDRP and TAORF overlap: ',len(set(cdrp_gene_symbols) & set(taorf_gene_symbols)))\n",
    "print('CDRP and TAORF overlap: ',len(set(GENE_SYMBOLs) & set(taorf_gene_symbols)))"
   ]
  },
  {
   "cell_type": "code",
   "execution_count": null,
   "metadata": {
    "scrolled": false
   },
   "outputs": [],
   "source": [
    "just_in_cdrp=list(set(cdrp_gene_symbols)-set(luad_gene_symbols))\n",
    "# print(pd.DataFrame(just_in_cdrp,columns=['Just-In-CDRP']).to_markdown())"
   ]
  },
  {
   "cell_type": "code",
   "execution_count": null,
   "metadata": {
    "scrolled": false
   },
   "outputs": [],
   "source": [
    "just_in_therest=list(set(luad_gene_symbols)-set(cdrp_gene_symbols))\n",
    "# print(pd.DataFrame(just_in_therest,columns=['Just-In-LUAD-LINCS-TAORF']).to_markdown())\n"
   ]
  },
  {
   "cell_type": "code",
   "execution_count": null,
   "metadata": {},
   "outputs": [],
   "source": [
    "# just_in_therest"
   ]
  },
  {
   "cell_type": "code",
   "execution_count": null,
   "metadata": {},
   "outputs": [],
   "source": [
    "set(cdrp_gene_symbols) & set(taorf_gene_symbols)"
   ]
  },
  {
   "cell_type": "code",
   "execution_count": null,
   "metadata": {},
   "outputs": [],
   "source": [
    "len(set(cdrp_gene_symbols+taorf_gene_symbols))"
   ]
  },
  {
   "cell_type": "code",
   "execution_count": null,
   "metadata": {},
   "outputs": [],
   "source": [
    "# cdrp_gene_symbols"
   ]
  },
  {
   "cell_type": "code",
   "execution_count": null,
   "metadata": {},
   "outputs": [],
   "source": [
    "union_of_lm_genes_across_DSs=list(set(cdrp_gene_symbols+taorf_gene_symbols))"
   ]
  },
  {
   "cell_type": "code",
   "execution_count": null,
   "metadata": {
    "scrolled": true
   },
   "outputs": [],
   "source": [
    "print('\\n'.join(union_of_lm_genes_across_DSs))"
   ]
  },
  {
   "cell_type": "code",
   "execution_count": null,
   "metadata": {},
   "outputs": [],
   "source": [
    "# meta[meta['gene']=='CALM1']"
   ]
  },
  {
   "cell_type": "code",
   "execution_count": null,
   "metadata": {},
   "outputs": [],
   "source": [
    "meta[meta['probe_id']=='1122_f_at']"
   ]
  },
  {
   "cell_type": "code",
   "execution_count": null,
   "metadata": {},
   "outputs": [],
   "source": [
    "df_m=meta[meta['probe_id'].isin(union_of_prob_ids_across_DSs)].reset_index(drop=True)"
   ]
  },
  {
   "cell_type": "code",
   "execution_count": null,
   "metadata": {},
   "outputs": [],
   "source": [
    "df_q=pd.read_excel('idmap.xlsx')  \n",
    "df_q"
   ]
  },
  {
   "cell_type": "code",
   "execution_count": null,
   "metadata": {},
   "outputs": [],
   "source": [
    "lst=['ABHD6///LOC643635','HSPA1A///HSPA1B','CALM1///CALM2///CALM3','KHDC1///SPA17','LOC100133724///VDAC1',\n",
    "'DALRD3///LOC100133719','LOC284889///MIF']\n",
    "df_m[df_m['gene'].isin(lst)]"
   ]
  },
  {
   "cell_type": "code",
   "execution_count": null,
   "metadata": {},
   "outputs": [],
   "source": [
    "# print('\\n'.join(df_q.merge(df_m, left_on='query', right_on='gene',how='left')['probe_id'].astype(str).tolist()))"
   ]
  },
  {
   "cell_type": "code",
   "execution_count": null,
   "metadata": {
    "scrolled": true
   },
   "outputs": [],
   "source": [
    "pd.set_option('display.max_rows', None)\n",
    "\n",
    "df_q.merge(df_m, left_on='query', right_on='gene',how='left')[['query','probe_id']]"
   ]
  },
  {
   "cell_type": "code",
   "execution_count": null,
   "metadata": {},
   "outputs": [],
   "source": [
    "df_q.merge(df_m, left_on='query', right_on='gene',how='left')"
   ]
  },
  {
   "cell_type": "code",
   "execution_count": null,
   "metadata": {},
   "outputs": [],
   "source": []
  }
 ],
 "metadata": {
  "kernelspec": {
   "display_name": "Python 3 (ipykernel)",
   "language": "python",
   "name": "python3"
  },
  "language_info": {
   "codemirror_mode": {
    "name": "ipython",
    "version": 3
   },
   "file_extension": ".py",
   "mimetype": "text/x-python",
   "name": "python",
   "nbconvert_exporter": "python",
   "pygments_lexer": "ipython3",
   "version": "3.8.12"
  },
  "latex_envs": {
   "LaTeX_envs_menu_present": true,
   "autoclose": false,
   "autocomplete": true,
   "bibliofile": "biblio.bib",
   "cite_by": "apalike",
   "current_citInitial": 1,
   "eqLabelWithNumbers": true,
   "eqNumInitial": 1,
   "hotkeys": {
    "equation": "Ctrl-E",
    "itemize": "Ctrl-I"
   },
   "labels_anchors": false,
   "latex_user_defs": false,
   "report_style_numbering": false,
   "user_envs_cfg": false
  },
  "toc": {
   "base_numbering": 1,
   "nav_menu": {},
   "number_sections": true,
   "sideBar": true,
   "skip_h1_title": false,
   "title_cell": "Table of Contents",
   "title_sidebar": "Contents",
   "toc_cell": false,
   "toc_position": {
    "height": "calc(100% - 180px)",
    "left": "10px",
    "top": "150px",
    "width": "342px"
   },
   "toc_section_display": true,
   "toc_window_display": false
  },
  "varInspector": {
   "cols": {
    "lenName": 16,
    "lenType": 16,
    "lenVar": 40
   },
   "kernels_config": {
    "python": {
     "delete_cmd_postfix": "",
     "delete_cmd_prefix": "del ",
     "library": "var_list.py",
     "varRefreshCmd": "print(var_dic_list())"
    },
    "r": {
     "delete_cmd_postfix": ") ",
     "delete_cmd_prefix": "rm(",
     "library": "var_list.r",
     "varRefreshCmd": "cat(var_dic_list()) "
    }
   },
   "types_to_exclude": [
    "module",
    "function",
    "builtin_function_or_method",
    "instance",
    "_Feature"
   ],
   "window_display": false
  }
 },
 "nbformat": 4,
 "nbformat_minor": 2
}
