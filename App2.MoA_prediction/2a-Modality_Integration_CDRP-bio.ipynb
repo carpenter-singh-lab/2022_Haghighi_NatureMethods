{
 "cells": [
  {
   "cell_type": "code",
   "execution_count": null,
   "metadata": {},
   "outputs": [],
   "source": [
    "%matplotlib inline\n",
    "%load_ext autoreload\n",
    "%autoreload 2\n",
    "import numpy as np\n",
    "import scipy.spatial\n",
    "import pandas as pd\n",
    "import sys\n",
    "import sklearn.decomposition\n",
    "import matplotlib.pyplot as plt\n",
    "# import keras\n",
    "from sklearn import preprocessing\n",
    "from sklearn.decomposition import PCA\n",
    "# %matplotlib inline\n",
    "# Dimension reduction and clustering libraries\n",
    "# import umap\n",
    "# import hdbscan\n",
    "import sklearn.cluster as cluster\n",
    "from sklearn.metrics import adjusted_rand_score, adjusted_mutual_info_score\n",
    "from sklearn.model_selection import LeaveOneOut,cross_val_score\n",
    "from sklearn.linear_model import LogisticRegression\n",
    "from sklearn.ensemble import RandomForestClassifier\n",
    "from sklearn.metrics import pairwise_distances,mean_absolute_error, mean_squared_error\n",
    "import matplotlib.pyplot as plt\n",
    "import seaborn as sns\n",
    "sys.path.insert(0, '../utils/') \n",
    "from readProfiles import *\n",
    "from pred_models import *\n",
    "from saveAsNewSheetToExistingFile import saveAsNewSheetToExistingFile\n",
    "\n",
    "# from utils import networksEvol, tsne, readProfiles\n",
    "# import umap"
   ]
  },
  {
   "cell_type": "code",
   "execution_count": null,
   "metadata": {},
   "outputs": [],
   "source": [
    "pd.__version__"
   ]
  },
  {
   "cell_type": "markdown",
   "metadata": {},
   "source": [
    "## MoA Prediction:\n",
    "- Data Fusion Methods:\n",
    "    - Early Fusion: simple concatenation\n",
    "    - Late Fusion: desision probabilty average\n",
    "    - RGCCA"
   ]
  },
  {
   "cell_type": "code",
   "execution_count": null,
   "metadata": {},
   "outputs": [],
   "source": []
  },
  {
   "cell_type": "markdown",
   "metadata": {},
   "source": [
    "### Paths"
   ]
  },
  {
   "cell_type": "code",
   "execution_count": null,
   "metadata": {},
   "outputs": [],
   "source": [
    "# procProf_dir='/home/ubuntu/datasetsbucket/Rosetta-GE-CP/'\n",
    "procProf_dir='/home/ubuntu/bucket/projects/2018_04_20_Rosetta/workspace/'\n",
    "metadata_dir='/home/ubuntu/bucket/projects/2018_04_20_Rosetta/workspace/metadata/'\n",
    "results_dir='../results/'"
   ]
  },
  {
   "cell_type": "markdown",
   "metadata": {},
   "source": [
    "### Read GE and CP profiles "
   ]
  },
  {
   "cell_type": "code",
   "execution_count": null,
   "metadata": {},
   "outputs": [],
   "source": [
    "################################################\n",
    "# dataset options: 'CDRP' , 'LUAD', 'TAORF', 'LINCS', 'CDRP-bio'\n",
    "dataset='CDRP-bio'\n",
    "\n",
    "\n",
    "################################################\n",
    "# CP Profile Type options: 'augmented' , 'normalized', 'normalized_variable_selected'\n",
    "profileType='normalized_variable_selected'\n",
    "profTypeAbbrev=''.join([s[0] for s in profileType.split('_')])\n",
    "\n",
    "################################################\n",
    "# filtering to compounds which have high replicates for both GE and CP datasets\n",
    "# highRepOverlapEnabled=0\n",
    "# 'highRepUnion','highRepOverlap',''\n",
    "filter_perts='highRepUnion'\n",
    "repCorrFilePath='../results/RepCor/RepCorrDF.xlsx'\n",
    "\n",
    "filter_repCorr_params=[filter_perts,repCorrFilePath]\n",
    "\n",
    "################################################\n",
    "pertColName='PERT'\n",
    "if filter_perts:\n",
    "    f='filt'\n",
    "else:\n",
    "    f=''\n",
    "\n",
    "mergProf_treatLevel,cp_features,l1k_features = \\\n",
    "read_paired_treatment_level_profiles(procProf_dir,dataset,profileType,filter_repCorr_params,1)\n",
    "\n",
    "moa_col='Metadata_MoA'\n",
    "\n",
    "##################################\n",
    "if dataset=='LINCS':\n",
    "    mergProf_treatLevel[moa_col]=mergProf_treatLevel['Metadata_moa']\n",
    "    mergProf_treatLevel.loc[mergProf_treatLevel['Metadata_moa'].isnull(),moa_col]=\\\n",
    "    mergProf_treatLevel.loc[mergProf_treatLevel['Metadata_moa'].isnull(),'moa'].str.lower()    \n",
    "    mergProf_treatLevel['Compounds']=mergProf_treatLevel['PERT'].str[0:13]\n",
    "    \n",
    "elif dataset=='CDRP-bio':\n",
    "    mergProf_treatLevel[moa_col]=mergProf_treatLevel['Metadata_moa'].str.lower()\n",
    "    mergProf_treatLevel['Compounds']=mergProf_treatLevel['PERT'].str[0:13]\n",
    "\n",
    "# mergProf_repLevel,mergProf_treatLevel,l1k_features,cp_features,pertColName=readMergedProfiles(dataset,profileType,nRep)\n",
    "# cp_features,l1k_features=cp_features.tolist(),l1k_features.tolist()\n",
    "# mergProf_repLevel['Compounds']=mergProf_repLevel['PERT'].str[0:13]\n",
    "\n",
    "# if profileLevel=='replicate':\n",
    "#     l1k=mergProf_repLevel[[pertColName]+l1k_features]\n",
    "#     cp=mergProf_repLevel[[pertColName]+cp_features]\n",
    "# elif profileLevel=='treatment':\n",
    "l1k=mergProf_treatLevel[[pertColName,'Compounds',moa_col]+l1k_features]\n",
    "cp=mergProf_treatLevel[[pertColName,'Compounds',moa_col]+cp_features]\n",
    "\n",
    "\n",
    "scaler_ge = preprocessing.StandardScaler()\n",
    "scaler_cp = preprocessing.StandardScaler()\n",
    "l1k_scaled=l1k.copy()\n",
    "l1k_scaled[l1k_features] = scaler_ge.fit_transform(l1k[l1k_features].values)\n",
    "cp_scaled=cp.copy()\n",
    "cp_scaled[cp_features] = scaler_cp.fit_transform(cp[cp_features].values.astype('float64'))\n",
    "\n",
    "\n",
    "if 1:\n",
    "    cp_scaled[cp_features] =preprocessing.MinMaxScaler(feature_range=(0, 1)).fit_transform(cp_scaled[cp_features].values)   \n",
    "    l1k_scaled[l1k_features] =preprocessing.MinMaxScaler(feature_range=(0, 1)).fit_transform(l1k_scaled[l1k_features].values)           \n",
    "\n",
    "\n",
    "# if dataset=='LINCS':\n",
    "merged_scaled=pd.concat([cp_scaled, l1k_scaled], axis=1)\n",
    "merged_scaled = merged_scaled.loc[:,~merged_scaled.columns.duplicated()]    \n",
    "merged_scaled['Compounds']=merged_scaled['PERT'].str[0:13]\n",
    "# elif dataset=='CDRP-bio':\n",
    "#     l1k_scaled[moa_col]=cp_scaled[moa_col] # for CDRP\n",
    "#     merged_scaled=pd.merge(cp_scaled, l1k_scaled, how='inner',on=['PERT',moa_col]); # for CDRP\n",
    "\n",
    "\n",
    "#################### keep MOAs with more than \"nSamplesMOA\" compounds in their class\n",
    "\n",
    "nSamplesMOA=4\n",
    "\n",
    "nSamplesforEachMOAclass=mergProf_treatLevel.groupby(['Compounds']).sample(1).groupby([moa_col]).size().\\\n",
    "reset_index().rename(columns={0:'size'}).sort_values(by=['size'],ascending=False).reset_index(drop=True)\n",
    "\n",
    "\n",
    "nSamplesforEachMOAclass2=mergProf_treatLevel.groupby([moa_col]).size().reset_index().rename(columns={0:'size'}).sort_values(by=['size'],ascending=False).reset_index(drop=True)\n",
    "\n",
    "listOfSelectedMoAs=nSamplesforEachMOAclass[nSamplesforEachMOAclass['size']>nSamplesMOA][moa_col].tolist()\n",
    "print('If we filter to MoAs which have more than',nSamplesMOA+1,' compounds in their category, ',\\\n",
    "      len(listOfSelectedMoAs),' out of ',nSamplesforEachMOAclass.shape[0] ,' MoAs remain.')\n",
    "\n",
    "\n",
    "\n",
    "multi_label_MoAs=[l for l in listOfSelectedMoAs if '|' in l]\n",
    "print('There are ',len(listOfSelectedMoAs),'MoA categories, which out of them ',len(multi_label_MoAs),\\\n",
    "      ' have multi labels and is removed')\n",
    "\n",
    "listOfSelectedMoAs=[ele for ele in listOfSelectedMoAs if ele not in multi_label_MoAs]\n",
    "\n",
    "le = preprocessing.LabelEncoder()\n",
    "le.fit(listOfSelectedMoAs)\n",
    "\n",
    "# IDs4filteredMOAs=mergProf_treatLevel[mergProf_treatLevel[moa_col].isin(listOfSelectedMoAs)][pertColName].unique().tolist()\n",
    "\n",
    "rgcca_factors_cp=pd.read_csv(\"../JDR/results_CP_GE_cdrpbio/factors_rgcca_cp.txt\",sep=\"\\t\").reset_index(drop=True)\n",
    "rgcca_factors_ge=pd.read_csv(\"../JDR/results_CP_GE_cdrpbio/factors_rgcca_ge.txt\",sep=\"\\t\").reset_index(drop=True).add_suffix('_ge')\n",
    "rgcca_concat=pd.concat([rgcca_factors_cp,rgcca_factors_ge],axis=1)\n",
    "\n",
    "filteredMOAs=merged_scaled[merged_scaled[moa_col].isin(listOfSelectedMoAs)].reset_index(drop=True)\n",
    "data4eval=[[cp_scaled[cp_scaled[moa_col].isin(listOfSelectedMoAs)].reset_index(drop=True),cp_features],\\\n",
    "           [l1k_scaled[l1k_scaled[moa_col].isin(listOfSelectedMoAs)].reset_index(drop=True),l1k_features],\\\n",
    "           [filteredMOAs,cp_features+l1k_features],\\\n",
    "           [rgcca_factors_cp,rgcca_factors_cp.columns.tolist()],\\\n",
    "           [rgcca_factors_ge,rgcca_factors_ge.columns.tolist()],\\\n",
    "           [rgcca_concat,rgcca_concat.columns.tolist()]]\n",
    "\n",
    "\n",
    "filteredMOAs['Metadata_moa_num']=le.transform(filteredMOAs[moa_col].tolist())\n",
    "\n",
    "# nSamplesMOA=0 and union\n",
    "print(\"There are \", filteredMOAs.shape[0],\"samples across different doses of \",filteredMOAs['Compounds'].unique().shape[0] ,\\\n",
    "      \"compounds\", \", for \",filteredMOAs[\"Metadata_MoA\"].unique().shape[0], \"MoAs\")"
   ]
  },
  {
   "cell_type": "code",
   "execution_count": null,
   "metadata": {},
   "outputs": [],
   "source": [
    "filteredMOAs.groupby(['Metadata_MoA']).size()"
   ]
  },
  {
   "cell_type": "code",
   "execution_count": null,
   "metadata": {},
   "outputs": [],
   "source": [
    "filteredMOAs.groupby(['Metadata_MoA','Compounds']).size().max()"
   ]
  },
  {
   "cell_type": "code",
   "execution_count": null,
   "metadata": {},
   "outputs": [],
   "source": [
    "nSamplesforEachMOAclass"
   ]
  },
  {
   "cell_type": "markdown",
   "metadata": {
    "heading_collapsed": true
   },
   "source": [
    "### Number of Classes with more than one label"
   ]
  },
  {
   "cell_type": "code",
   "execution_count": null,
   "metadata": {
    "hidden": true
   },
   "outputs": [],
   "source": [
    "unq=mergProf_treatLevel['Metadata_MoA'].unique().tolist()\n",
    "unq.remove(np.nan)\n",
    "# n_multi_l=[len(u.split('|')) for u in unq if '|' in u]\n",
    "\n",
    "fig, axes = plt.subplots(1,2,figsize=(10,5))\n",
    "\n",
    "axes[0].hist([len(u.split('|')) for u in unq]);\n",
    "axes[0].set_title('n>0');\n",
    "axes[0].set_ylabel('number of multilabel classes - CDRP -filtSetUnion');\n",
    "\n",
    "axes[1].hist([len(u.split('|')) for u in unq if '|' in u]);\n",
    "axes[1].set_title('n>1');#axes[1].set_ylabel('number of multilabel classes');"
   ]
  },
  {
   "cell_type": "markdown",
   "metadata": {
    "hidden": true
   },
   "source": [
    "#### Number of Samples with more than one label"
   ]
  },
  {
   "cell_type": "code",
   "execution_count": null,
   "metadata": {
    "hidden": true
   },
   "outputs": [],
   "source": [
    "unq=mergProf_treatLevel['Metadata_MoA'].tolist()\n",
    "unq=[u for u in unq if str(u) != 'nan']\n",
    "# n_multi_l=[len(u.split('|')) for u in unq if '|' in u]\n",
    "\n",
    "fig, axes = plt.subplots(1,2,figsize=(10,5))\n",
    "\n",
    "axes[0].hist([len(u.split('|')) for u in unq]);\n",
    "axes[0].set_title('n>0');axes[0].set_ylabel('number of multilabel samples - CDRP -filtSetUnion');\n",
    "\n",
    "axes[1].hist([len(u.split('|')) for u in unq if '|' in u]);\n",
    "axes[1].set_title('n>1');#axes[1].set_ylabel('number of multilabel samples');"
   ]
  },
  {
   "cell_type": "code",
   "execution_count": null,
   "metadata": {
    "hidden": true
   },
   "outputs": [],
   "source": [
    "\n",
    "\n",
    "# mergProf_treatLevel.columns[mergProf_treatLevel.columns.str.contains('moa')]\n",
    "# # list(set(mergProf_treatLevel.columns.tolist())-set(cp_features))\n",
    "unq"
   ]
  },
  {
   "cell_type": "code",
   "execution_count": null,
   "metadata": {
    "hidden": true
   },
   "outputs": [],
   "source": [
    "mergProf_treatLevel[['Metadata_moa', 'Metadata_alternative_moa', 'moa',moa_col]]"
   ]
  },
  {
   "cell_type": "code",
   "execution_count": null,
   "metadata": {
    "hidden": true
   },
   "outputs": [],
   "source": [
    "mergProf_treatLevel[['Metadata_moa', 'Metadata_alternative_moa', 'moa',moa_col]]"
   ]
  },
  {
   "cell_type": "code",
   "execution_count": null,
   "metadata": {
    "hidden": true
   },
   "outputs": [],
   "source": [
    "mergProf_treatLevel[mergProf_treatLevel['Metadata_moa'].isnull()]['moa']"
   ]
  },
  {
   "cell_type": "code",
   "execution_count": null,
   "metadata": {
    "hidden": true
   },
   "outputs": [],
   "source": [
    "# mergProf_treatLevel[mergProf_treatLevel['Metadata_moa'].isnull()]['moa']"
   ]
  },
  {
   "cell_type": "code",
   "execution_count": null,
   "metadata": {
    "hidden": true
   },
   "outputs": [],
   "source": [
    "# mergProf_treatLevel[mergProf_treatLevel['Metadata_moa'].isnull()].shape"
   ]
  },
  {
   "cell_type": "code",
   "execution_count": null,
   "metadata": {
    "hidden": true
   },
   "outputs": [],
   "source": [
    "# mergProf_treatLevel[mergProf_treatLevel['Metadata_MoA'].isnull()].shape"
   ]
  },
  {
   "cell_type": "code",
   "execution_count": null,
   "metadata": {
    "hidden": true
   },
   "outputs": [],
   "source": []
  },
  {
   "cell_type": "code",
   "execution_count": null,
   "metadata": {
    "hidden": true
   },
   "outputs": [],
   "source": [
    "# cp['Compounds'],cp['PERT']\n",
    "pd.merge(nSamplesforEachMOAclass,nSamplesforEachMOAclass2,how='inner',on=[moa_col])"
   ]
  },
  {
   "cell_type": "code",
   "execution_count": null,
   "metadata": {
    "hidden": true
   },
   "outputs": [],
   "source": [
    "# pd.concat([nSamplesforEachMOAclass,nSamplesforEachMOAclass2])\n",
    "nSamplesforEachMOAclass"
   ]
  },
  {
   "cell_type": "code",
   "execution_count": null,
   "metadata": {
    "hidden": true,
    "scrolled": false
   },
   "outputs": [],
   "source": [
    "# plt.figure()\n",
    "# fig, axes = plt.subplots(figsize=(20,5))\n",
    "# nSamplesforEachMOAclass3=pd.merge(nSamplesforEachMOAclass,nSamplesforEachMOAclass2,how='inner',on=[moa_col])\n",
    "nSamplesforEachMOAclass_=nSamplesforEachMOAclass[nSamplesforEachMOAclass['size']>1]\n",
    "nSamplesforEachMOAclass2_=nSamplesforEachMOAclass2[nSamplesforEachMOAclass2[moa_col].isin(nSamplesforEachMOAclass_[moa_col].tolist())]\n",
    "nSamplesforEachMOAclass_['h']='n-compounds'\n",
    "nSamplesforEachMOAclass2_['h']='n-samples'\n",
    "\n",
    "nSamplesforEachMOAclass3=pd.concat([nSamplesforEachMOAclass_,nSamplesforEachMOAclass2_])\n",
    "\n",
    "sns.catplot(x=\"size\",y=moa_col, data=nSamplesforEachMOAclass3[nSamplesforEachMOAclass3['size']>1],\\\n",
    "            orient=\"h\", height=20, aspect=1,hue='h',\n",
    "                kind=\"point\", dodge=True, cut=0, bw=.2)\n",
    "# fig.tight_layout()"
   ]
  },
  {
   "cell_type": "code",
   "execution_count": null,
   "metadata": {
    "hidden": true
   },
   "outputs": [],
   "source": [
    "# repp_df\n",
    "nSamplesforEachMOAclass2[meta_col]"
   ]
  },
  {
   "cell_type": "code",
   "execution_count": null,
   "metadata": {
    "hidden": true
   },
   "outputs": [],
   "source": [
    "# mergProf_treatLevel.groupby(['moa']).size().reset_index().rename(columns={0:'nrep'}).sort_values(by='nrep')\n",
    "moa_col='moa'"
   ]
  },
  {
   "cell_type": "code",
   "execution_count": null,
   "metadata": {
    "hidden": true
   },
   "outputs": [],
   "source": [
    "nSamplesforEachMOAclass=mergProf_treatLevel.groupby(['Metadata_moa']).size().reset_index().rename(columns={0:'size'}).sort_values(by=['size'],ascending=False).reset_index(drop=True)\n",
    "listOfSelectedMoAs=nSamplesforEachMOAclass[nSamplesforEachMOAclass['size']>1]['Metadata_moa'].tolist()\n",
    "print(len(listOfSelectedMoAs))"
   ]
  },
  {
   "cell_type": "code",
   "execution_count": null,
   "metadata": {
    "hidden": true
   },
   "outputs": [],
   "source": [
    "# mergProf_treatLevel['Metadata_moa']=mergProf_treatLevel['Metadata_moa'].str.lower()\n",
    "nSamplesforEachMOAclass=mergProf_treatLevel.groupby(['Metadata_moa']).size().reset_index().rename(columns={0:'size'}).sort_values(by=['size'],ascending=False).reset_index(drop=True)\n",
    "listOfSelectedMoAs=nSamplesforEachMOAclass[nSamplesforEachMOAclass['size']>1]['Metadata_moa'].tolist()\n",
    "print(len(listOfSelectedMoAs))"
   ]
  },
  {
   "cell_type": "code",
   "execution_count": null,
   "metadata": {
    "hidden": true
   },
   "outputs": [],
   "source": [
    "# listOfSelectedMoAs\n",
    "# filteredMOAs['Metadata_moa_num']#=le.transform(filteredMOAs[moa_col].tolist())\n",
    "filteredMOAs[moa_col].tolist()"
   ]
  },
  {
   "cell_type": "code",
   "execution_count": null,
   "metadata": {
    "hidden": true
   },
   "outputs": [],
   "source": [
    "nSamplesforEachMOAclass"
   ]
  },
  {
   "cell_type": "code",
   "execution_count": null,
   "metadata": {
    "hidden": true
   },
   "outputs": [],
   "source": []
  },
  {
   "cell_type": "code",
   "execution_count": null,
   "metadata": {
    "hidden": true
   },
   "outputs": [],
   "source": [
    "# IDs4filteredMOAs"
   ]
  },
  {
   "cell_type": "code",
   "execution_count": null,
   "metadata": {
    "hidden": true
   },
   "outputs": [],
   "source": [
    "# nSamplesforEachMOAclass\n",
    "# IDs4filteredMOAs\n",
    "# pd.DataFrame(index=filteredMOAs['Compounds'].values,columns=['CP','GE','Early Fusion','Late Fusion'])\n",
    "filteredMOAs.loc[test_index,'Compounds'].unique()[0]"
   ]
  },
  {
   "cell_type": "markdown",
   "metadata": {
    "heading_collapsed": true
   },
   "source": [
    "### MoA prediction using each dataset and early and late fusion of datasets"
   ]
  },
  {
   "cell_type": "code",
   "execution_count": null,
   "metadata": {
    "hidden": true,
    "scrolled": true
   },
   "outputs": [],
   "source": [
    "from sklearn.metrics import f1_score\n",
    "from sklearn.utils import class_weight\n",
    "from sklearn.naive_bayes import GaussianNB,ComplementNB\n",
    "from sklearn.metrics import accuracy_score\n",
    "from sklearn.model_selection import KFold\n",
    "from sklearn.model_selection import cross_val_score, cross_val_predict, GroupKFold,LeaveOneGroupOut\n",
    "from sklearn.neural_network import MLPClassifier\n",
    "from imblearn.over_sampling import RandomOverSampler\n",
    "from sklearn.model_selection import GridSearchCV\n",
    "# domXdata=merged_scaled.copy();\n",
    "# domXfeats=data4eval[r][1]\n",
    "# outdim_size=40\n",
    "\n",
    "# filteredMOAs=domXdata[domXdata[pertColName].isin(IDs4filteredMOAs)].reset_index(drop=True)\n",
    "# filteredMOAs['Metadata_moa_num']=le.transform(filteredMOAs[moa_col].tolist())\n",
    "# cls_model='mlp'#'mlp';#'lr'\n",
    "for cls_model in ['mlp']:\n",
    "# for cls_model in ['mlp']:\n",
    "    moa_pred_res=pd.DataFrame(index=filteredMOAs['Compounds'].values,columns=['CP','GE','Early Fusion',\\\n",
    "                                        'RGCCA_CP','RGCCA_GE','RGCCA_EarlyFusion','Late Fusion','Metadata_moa_num'])\n",
    "\n",
    "    # n_of_random_sel=20\n",
    "    # n_of_random_sel=50\n",
    "    # n_folds=5\n",
    "    # acc_array_fullSet2_cdrp=np.zeros((n_of_random_sel,4));\n",
    "    # acc_array_filtSet2_cdrp=np.zeros((n_of_random_sel,4));\n",
    "    # for i in range(n_of_random_sel):\n",
    "\n",
    "    #     split_obj=GroupKFold(n_splits=k)\n",
    "    # #     split_obj = LeaveOneGroupOut()    \n",
    "    #     # Perform k-fold cross validation\n",
    "    #     scores = cross_val_score(clf, X, y, groups=group_labels,cv=split_obj,n_jobs=n_j)\n",
    "\n",
    "    # kf = KFold(n_splits=n_folds,random_state=1,shuffle=True)\n",
    "    # gkf=GroupKFold(n_splits=n_folds)\n",
    "\n",
    "\n",
    "    parameter_space_MLP = {\n",
    "        'hidden_layer_sizes': [(100,),(200),(400)],\n",
    "        'activation': ['tanh', 'relu'],\n",
    "        'alpha': [0.0001,0.05],\n",
    "    }\n",
    "\n",
    "    # parameter_space_MLP = {\n",
    "    #     'hidden_layer_sizes': [(10,30,10),(20,)],\n",
    "    #     'activation': ['tanh', 'relu'],\n",
    "    #     'solver': ['sgd', 'adam'],\n",
    "    #     'alpha': [0.0001, 0.05],\n",
    "    #     'learning_rate': ['constant','adaptive'],\n",
    "    # }\n",
    "\n",
    "\n",
    "    # parameter_space_logistic={\"C\":np.logspace(-3,3,7), \"penalty\":[\"l1\",\"l2\"]}\n",
    "    parameter_space_logistic={\"C\":[1,10,1000]}\n",
    "\n",
    "\n",
    "\n",
    "\n",
    "\n",
    "    logo = LeaveOneGroupOut()\n",
    "\n",
    "    leG = preprocessing.LabelEncoder()\n",
    "    group_labels=leG.fit_transform(filteredMOAs['Compounds'].values)\n",
    "\n",
    "    i=0\n",
    "    # for train_index0, test_index in gkf.split(filteredMOAs, groups=group_labels):\n",
    "    for train_index, test_index in logo.split(filteredMOAs, groups=group_labels):\n",
    "        print('rand ',i)\n",
    "        i+=1\n",
    "\n",
    "    #     data_train = filteredMOAs.loc[train_index,domXfeats].values;\n",
    "        labels_train=filteredMOAs.loc[train_index,'Metadata_moa_num'].tolist()\n",
    "    #     print(filteredMOAs.loc[train_index,'Metadata_moa_num'].unique().shape)\n",
    "\n",
    "    #     data_test = filteredMOAs.loc[test_index,domXfeats].values;\n",
    "        labels_test=filteredMOAs.loc[test_index,'Metadata_moa_num'].tolist()\n",
    "    #     print(filteredMOAs.loc[test_index,'Metadata_moa_num'].unique().shape)    \n",
    "\n",
    "        class_weightt = class_weight.compute_class_weight(class_weight='balanced',classes=np.unique(labels_train),y=labels_train)    \n",
    "    #         model_tr = RandomForestClassifier(n_estimators=10,max_features=100,class_weight=\"balanced\")\n",
    "#         sm1=RandomOverSampler(sampling_strategy='not majority',random_state=5)\n",
    "        sm1=RandomOverSampler(sampling_strategy='not majority',random_state=5)\n",
    "        probs=[]\n",
    "        for n,dt_modality,col in zip([0,1,2,3,4,5],data4eval,['CP','GE','Early Fusion','RGCCA_CP','RGCCA_GE','RGCCA_EarlyFusion']):\n",
    "\n",
    "            data_m=dt_modality[0]   \n",
    "\n",
    "            dt_train=data_m.loc[train_index,dt_modality[1]].values;\n",
    "            dt_test=data_m.loc[test_index,dt_modality[1]].values; \n",
    "        #         model_tr = RandomForestClassifier(n_estimators=10,max_features=100,class_weight=\"balanced\")\n",
    "    #         model_tr = GaussianNB()\n",
    "    #         model_tr = ComplementNB()\n",
    "\n",
    "    #         model_tr = RandomForestClassifier(n_estimators=10)\n",
    "\n",
    "    #         model_logistic = LogisticRegression(multi_class='multinomial',max_iter=1000,class_weight=\"balanced\")        \n",
    "    #         model_tr = GridSearchCV(model_logistic, parameter_space_logistic, n_jobs=4, cv=2)\n",
    "\n",
    "            if cls_model=='lr':\n",
    "                model_logistic = LogisticRegression(multi_class='multinomial',class_weight=\"balanced\")        \n",
    "                model_tr = GridSearchCV(model_logistic, parameter_space_logistic, n_jobs=4, cv=2)\n",
    "\n",
    "            elif cls_model=='mlp':\n",
    "                \n",
    "#                 model_tr = MLPClassifier(random_state=10,max_iter=600,alpha=0.0001,activation='tanh',hidden_layer_sizes=(200,))\n",
    "                model_MLP = MLPClassifier(random_state=20,max_iter=600)\n",
    "                model_tr = GridSearchCV(model_MLP, parameter_space_MLP, n_jobs=4, cv=2)\n",
    "\n",
    "            dt_train_balanced,labels_train_balanced = sm1.fit_resample(dt_train,labels_train)\n",
    "\n",
    "            model_tr.fit(dt_train_balanced,labels_train_balanced)        \n",
    "\n",
    "#             print(model_tr.best_params_)\n",
    "    #         accc=model_tr.score(dt_test,labels_test)\n",
    "    #         print(model_tr.predict(dt_test))\n",
    "    #         accc=f1_score(labels_test,model_tr.predict(dt_test), average='weighted')        \n",
    "            moa_pred_res.loc[filteredMOAs.loc[test_index,'Compounds'].unique()[0],col]=model_tr.predict(dt_test)\n",
    "    #         moa_pred_res.loc[filteredMOAs.loc[test_index,'Compounds'].unique()[0],col]=accc*100\n",
    "            probs.append(model_tr.predict_proba(dt_test))\n",
    "\n",
    "    #     labels_lateFusion=list(np.argmax((probs[0]+probs[1])/2,axis=1))\n",
    "        labels_lateFusion=model_tr.classes_[np.argmax((probs[0]+probs[1])/2,axis=1)]\n",
    "        moa_pred_res.loc[filteredMOAs.loc[test_index,'Compounds'].unique()[0],'Late Fusion']=\\\n",
    "        labels_lateFusion\n",
    "        moa_pred_res.loc[filteredMOAs.loc[test_index,'Compounds'].unique()[0],'Metadata_moa_num']=\\\n",
    "        labels_test\n",
    "    #     f1_score(labels_test,labels_lateFusion, average='weighted')*100\n",
    "    #     accuracy_score(labels_test,labels_lateFusion)*100\n",
    "\n",
    "    moa_pred_res['Metadata_moa_num']=moa_pred_res.Metadata_moa_num.apply(lambda x: int(x[0]) if type(x)==list else x)    \n",
    "    print(moa_pred_res.mean())\n",
    "\n",
    "\n",
    "    filename=results_dir+'/MoAprediction/pred_moa_CDRP.xlsx'\n",
    "    saveAsNewSheetToExistingFile(filename,moa_pred_res,'fC-'+dataset+'-'+profTypeAbbrev+'-'+f+'-preds-'+cls_model+'-ht-5')\n",
    "\n",
    "# print('Accuracy: ',r, np.mean(Acc_list)*100)  "
   ]
  },
  {
   "cell_type": "markdown",
   "metadata": {
    "hidden": true
   },
   "source": [
    "#### StratifiedGroupKFold"
   ]
  },
  {
   "cell_type": "code",
   "execution_count": null,
   "metadata": {
    "hidden": true
   },
   "outputs": [],
   "source": [
    "from sklearn.metrics import f1_score\n",
    "from sklearn.utils import class_weight\n",
    "from sklearn.naive_bayes import GaussianNB,ComplementNB\n",
    "from sklearn.metrics import accuracy_score\n",
    "from sklearn.model_selection import KFold\n",
    "from sklearn.model_selection import cross_val_score, cross_val_predict, GroupKFold,StratifiedGroupKFold\n",
    "from sklearn.neural_network import MLPClassifier\n",
    "from imblearn.over_sampling import RandomOverSampler\n",
    "# domXdata=merged_scaled.copy();\n",
    "# domXfeats=data4eval[r][1]\n",
    "# outdim_size=40\n",
    "\n",
    "# filteredMOAs=domXdata[domXdata[pertColName].isin(IDs4filteredMOAs)].reset_index(drop=True)\n",
    "# filteredMOAs['Metadata_moa_num']=le.transform(filteredMOAs[moa_col].tolist())\n",
    "\n",
    "# cls_model='lr'#'mlp';#'lr'\n",
    "for cls_model in ['mlp','lr']:\n",
    "    moa_pred_res=pd.DataFrame(index=filteredMOAs.index,columns=['CP','GE','Early Fusion',\\\n",
    "                                        'RGCCA_CP','RGCCA_GE','RGCCA_EarlyFusion','Late Fusion','Metadata_moa_num'])\n",
    "\n",
    "\n",
    "    moa_pred_res['PERT']=filteredMOAs['PERT']\n",
    "    moa_pred_res['Compounds']=filteredMOAs['Compounds']\n",
    "\n",
    "    # parameter_space_MLP = {\n",
    "    #     'hidden_layer_sizes': [(50,),(100,),(200)],\n",
    "    #     'activation': ['tanh'],\n",
    "    #     'alpha': [0.0001],\n",
    "    # }\n",
    "    parameter_space_MLP = {\n",
    "        'hidden_layer_sizes': [(100,),(200),(400)],\n",
    "        'activation': ['tanh', 'relu'],\n",
    "        'alpha': [0.0001,0.05],\n",
    "        'learning_rate': ['constant','adaptive'],\n",
    "    }\n",
    "\n",
    "    # parameter_space_MLP = {\n",
    "    #     'hidden_layer_sizes': [(10,30,10),(20,)],\n",
    "    #     'activation': ['tanh', 'relu'],\n",
    "    #     'solver': ['sgd', 'adam'],\n",
    "    #     'alpha': [0.0001, 0.05],\n",
    "    #     'learning_rate': ['constant','adaptive'],\n",
    "    # }\n",
    "\n",
    "\n",
    "    # parameter_space_logistic={\"C\":np.logspace(-3,3,7), \"penalty\":[\"l1\",\"l2\"]}\n",
    "    parameter_space_logistic={\"C\":[1,10,1000]}\n",
    "\n",
    "\n",
    "    from sklearn.model_selection import GridSearchCV\n",
    "\n",
    "\n",
    "\n",
    "    # logo = LeaveOneGroupOut()\n",
    "\n",
    "    sgkf = StratifiedGroupKFold(n_splits=10,shuffle=True,random_state=1)\n",
    "\n",
    "    leG = preprocessing.LabelEncoder()\n",
    "    group_labels=leG.fit_transform(filteredMOAs['Compounds'].values)\n",
    "\n",
    "    i=0\n",
    "    # for train_index0, test_index in gkf.split(filteredMOAs, groups=group_labels):\n",
    "    for train_index, test_index in sgkf.split(filteredMOAs,filteredMOAs['Metadata_moa_num'].values, groups=group_labels):\n",
    "        print('rand ',i)\n",
    "        i+=1\n",
    "\n",
    "    #     data_train = filteredMOAs.loc[train_index,domXfeats].values;\n",
    "        labels_train=filteredMOAs.loc[train_index,'Metadata_moa_num'].tolist()\n",
    "    #     print(filteredMOAs.loc[train_index,'Metadata_moa_num'].unique().shape)\n",
    "\n",
    "    #     data_test = filteredMOAs.loc[test_index,domXfeats].values;\n",
    "        labels_test=filteredMOAs.loc[test_index,'Metadata_moa_num'].tolist()\n",
    "    #     print(filteredMOAs.loc[test_index,'Metadata_moa_num'].unique().shape)    \n",
    "\n",
    "    #     class_weightt = class_weight.compute_class_weight(class_weight='balanced',classes=np.unique(labels_train),y=labels_train)    \n",
    "    #         model_tr = RandomForestClassifier(n_estimators=10,max_features=100,class_weight=\"balanced\")\n",
    "\n",
    "    #     overSampleMinorityFirstClassTo=np.max([labels_train.count(i) for i in set(labels_train)])\n",
    "\n",
    "    #     ratios = {l: overSampleMinorityFirstClassTo for l in set(labels_train) \\\n",
    "    #       if labels_train.count(l)<overSampleMinorityFirstClassTo}\n",
    "    #     sm1=RandomOverSampler(ratio=ratios)\n",
    "        moa_pred_res.loc[test_index,'Fold']=i\n",
    "\n",
    "        sm1=RandomOverSampler(sampling_strategy='not majority',random_state=5)\n",
    "\n",
    "        probs=[]\n",
    "\n",
    "        for n,dt_modality,col in zip([0,1,2,3,4,5],data4eval,['CP','GE','Early Fusion','RGCCA_CP',\\\n",
    "                    'RGCCA_GE','RGCCA_EarlyFusion','Fold']):\n",
    "\n",
    "\n",
    "            data_m=dt_modality[0]\n",
    "\n",
    "            dt_train=data_m.loc[train_index,dt_modality[1]].values;\n",
    "            dt_test=data_m.loc[test_index,dt_modality[1]].values; \n",
    "        #         model_tr = RandomForestClassifier(n_estimators=10,max_features=100,class_weight=\"balanced\")\n",
    "    #         model_tr = GaussianNB()\n",
    "    #         model_tr = ComplementNB()\n",
    "\n",
    "    #         model_tr = RandomForestClassifier(n_estimators=10)\n",
    "\n",
    "            if cls_model=='lr':\n",
    "    #             model_tr = LogisticRegression(multi_class='multinomial',class_weight=\"balanced\")        \n",
    "\n",
    "                model_logistic = LogisticRegression(multi_class='multinomial',class_weight=\"balanced\",n_jobs=4)        \n",
    "                model_tr = GridSearchCV(model_logistic, parameter_space_logistic, n_jobs=4, cv=3)\n",
    "\n",
    "            elif cls_model=='mlp':\n",
    "    #             model_MLP = MLPClassifier(random_state=5,max_iter=100,alpha=0.0001,activation='tanh')\n",
    "                model_MLP = MLPClassifier(random_state=5,max_iter=600)\n",
    "                model_tr = GridSearchCV(model_MLP, parameter_space_MLP, n_jobs=4, cv=3)\n",
    "\n",
    "            dt_train_balanced,labels_train_balanced = sm1.fit_resample(dt_train,labels_train)\n",
    "\n",
    "            model_tr.fit(dt_train_balanced,labels_train_balanced)\n",
    "    #         print(model_tr.best_params_)\n",
    "    #         accc=model_tr.score(dt_test,labels_test)\n",
    "    #         print(model_tr.predict(dt_test))\n",
    "    #         accc=f1_score(labels_test,model_tr.predict(dt_test), average='weighted')        \n",
    "            moa_pred_res.loc[test_index,col]=model_tr.predict(dt_test)\n",
    "    #         moa_pred_res.loc[filteredMOAs.loc[test_index,'Compounds'].unique()[0],col]=accc*100\n",
    "            probs.append(model_tr.predict_proba(dt_test))\n",
    "\n",
    "    #     labels_lateFusion=list(np.argmax((probs[0]+probs[1])/2,axis=1))\n",
    "        labels_lateFusion=model_tr.classes_[np.argmax((probs[0]+probs[1])/2,axis=1)]\n",
    "        moa_pred_res.loc[test_index,'Late Fusion']=\\\n",
    "        labels_lateFusion\n",
    "        moa_pred_res.loc[test_index,'Metadata_moa_num']=\\\n",
    "        labels_test\n",
    "    #     f1_score(labels_test,labels_lateFusion, average='weighted')*100\n",
    "    #     accuracy_score(labels_test,labels_lateFusion)*100\n",
    "\n",
    "    moa_pred_res['Metadata_moa_num']=moa_pred_res.Metadata_moa_num.apply(lambda x: int(x[0]) if type(x)==list else x)    \n",
    "    print(moa_pred_res.mean())\n",
    "\n",
    "\n",
    "    filename=results_dir+'/MoAprediction/pred_moa_CDRP.xlsx'\n",
    "    saveAsNewSheetToExistingFile(filename,moa_pred_res,'fC-'+dataset+'-'+profTypeAbbrev+'-'+f+'-preds-'+cls_model+'-ht-sgkf-10f')\n"
   ]
  },
  {
   "cell_type": "code",
   "execution_count": null,
   "metadata": {
    "hidden": true
   },
   "outputs": [],
   "source": []
  },
  {
   "cell_type": "code",
   "execution_count": null,
   "metadata": {
    "hidden": true
   },
   "outputs": [],
   "source": [
    "# len(indexes)\n",
    "indexes[1].shape"
   ]
  },
  {
   "cell_type": "code",
   "execution_count": null,
   "metadata": {
    "hidden": true
   },
   "outputs": [],
   "source": []
  },
  {
   "cell_type": "markdown",
   "metadata": {},
   "source": [
    "## Visualize the results"
   ]
  },
  {
   "cell_type": "code",
   "execution_count": null,
   "metadata": {},
   "outputs": [],
   "source": [
    "filename=results_dir+'/MoAprediction/pred_moa_CDRP.xlsx'\n",
    "saved_scores_cdrpbio=pd.read_excel(filename, sheet_name=None)\n",
    "saved_scores_cdrpbio.keys()\n"
   ]
  },
  {
   "cell_type": "code",
   "execution_count": null,
   "metadata": {},
   "outputs": [],
   "source": [
    "from sklearn.metrics import f1_score\n",
    "#########################################################\n",
    "res_df_cdrpbio=pd.DataFrame(columns=['Modality','Model'])\n",
    "DS='CDRP-bio'\n",
    "scores_mlp=saved_scores_cdrpbio['fC-'+DS+'-nvs-filt-preds-mlp-ht-sgkf-1']\n",
    "# scores_mlp=saved_scores_cdrpbio['fC-'+DS+'-nvs-filt-preds-mlp-ht']\n",
    "# mofa_scores_2add=saved_scores['mofa-100fac'+DS+'-nvs-filt-preds-mlp-ht-2']\n",
    "# scores_mlp['mofa']=mofa_scores_2add['mofa']\n",
    "\n",
    "folds=scores_mlp['Fold'].unique().tolist()\n",
    "for f in folds:\n",
    "    scores_mlp_f=scores_mlp[scores_mlp['Fold']==f];\n",
    "    for dd in ['CP', 'GE', 'Early Fusion', 'Late Fusion','RGCCA_EarlyFusion']:\n",
    "        scor_vals=scores_mlp_f[dd].apply(lambda x: int(eval(x)[0]) if type(x)==str else x)    \n",
    "\n",
    "        f1=f1_score(scor_vals,scores_mlp_f.Metadata_moa_num.values, average='macro')\n",
    "        temp_df = pd.DataFrame(data={'Modality': [dd], 'Model': ['MLP'],'F1-score':[f1*100]})\n",
    "        res_df_cdrpbio=res_df_cdrpbio.append(temp_df)\n",
    "    \n",
    "    \n",
    "scores_mlp=saved_scores_cdrpbio['fC-'+DS+'-nvs-filt-preds-lr-ht-sgkf-1']\n",
    "# mofa_scores_2add=saved_scores['mofa-100fac'+DS+'-nvs-filt-preds-lr-ht-2']\n",
    "# scores_mlp['mofa']=mofa_scores_2add['mofa']\n",
    "\n",
    "folds=scores_mlp['Fold'].unique().tolist()\n",
    "for f in folds:\n",
    "    scores_mlp_f=scores_mlp[scores_mlp['Fold']==f];\n",
    "    # for dd in ['CP', 'GE', 'Early Fusion', 'Late Fusion','RGCCA_CP','RGCCA_GE','RGCCA_EarlyFusion']:\n",
    "    for dd in ['CP', 'GE', 'Early Fusion', 'Late Fusion','RGCCA_EarlyFusion']:\n",
    "        scor_vals=scores_mlp_f[dd].apply(lambda x: int(eval(x)[0]) if type(x)==str else x)    \n",
    "        f1=f1_score(scores_mlp_f.Metadata_moa_num.values,scor_vals, average='macro')\n",
    "        temp_df = pd.DataFrame(data={'Modality': [dd], 'Model': ['Logistic R'],'F1-score':[f1*100]})\n",
    "        res_df_cdrpbio=res_df_cdrpbio.append(temp_df)\n"
   ]
  },
  {
   "cell_type": "code",
   "execution_count": null,
   "metadata": {},
   "outputs": [],
   "source": [
    "# res_df_cdrpbio\n",
    "import matplotlib.style as style\n",
    "style.use('seaborn-colorblind')\n",
    "sns.set_context(\"paper\",font_scale = 1.5, rc={\"font.size\":4,\"axes.titlesize\":14,\"axes.labelsize\":15})\n",
    "# sns.set_style(\"whitegrid\")\n",
    "fig,axes=plt.subplots(1,2,figsize=(10,5),sharey=True)\n",
    "# sns.barplot(x=\"Model\", y=\"F1-score\", hue=\"Modality\", data=res_df_cdrpbio,ax=axes[0])#,**kwargs)\n",
    "sns.boxplot(x=\"Model\", y=\"F1-score\", hue=\"Modality\", data=res_df_cdrpbio,ax=axes[0])#,**kwargs)\n",
    "# plt.legend(loc='top', borderaxespad=0)\n",
    "# plt.legend(bbox_to_anchor=(0.27, 1), loc='upper left', borderaxespad=0)\n",
    "axes[0].legend([],[], frameon=False)\n",
    "plt.tight_layout()\n",
    "axes[0].set_ylim(0,50)\n",
    "axes[0].set_title('CDRP-bio')\n",
    "n_classes=16;\n",
    "axes[0].axhline(y=(1/n_classes),linestyle='--',color='r',linewidth=2);"
   ]
  },
  {
   "cell_type": "code",
   "execution_count": null,
   "metadata": {},
   "outputs": [],
   "source": [
    "# scores_mlp[['Late Fusion','RGCCA_EarlyFusion']]"
   ]
  },
  {
   "cell_type": "code",
   "execution_count": null,
   "metadata": {},
   "outputs": [],
   "source": [
    "# report_clss"
   ]
  },
  {
   "cell_type": "code",
   "execution_count": null,
   "metadata": {},
   "outputs": [],
   "source": [
    "# report_clss\n",
    "from sklearn.metrics import classification_report\n",
    "scores_mlp=saved_scores_cdrpbio['fC-CDRP-bio-nvs-filt-preds-mlp-ht-sgkf-1']\n",
    "scor_vals=scores_mlp['Late Fusion'].apply(lambda x: int(eval(x)[0]) if type(x)==str else x)    \n",
    "scor_vals_cp=scores_mlp['CP'].apply(lambda x: int(eval(x)[0]) if type(x)==str else x)    \n",
    "scor_vals_ge=scores_mlp['GE'].apply(lambda x: int(eval(x)[0]) if type(x)==str else x)    \n",
    "\n",
    "report_clss=pd.DataFrame(classification_report(scores_mlp.Metadata_moa_num.values,scor_vals.values,output_dict=True)).transpose()\n",
    "report_clss_cp=pd.DataFrame(classification_report(scores_mlp.Metadata_moa_num.values,scor_vals_cp.values,output_dict=True)).transpose()\n",
    "report_clss_ge=pd.DataFrame(classification_report(scores_mlp.Metadata_moa_num.values,scor_vals_ge.values,output_dict=True)).transpose()\n",
    "\n",
    "# report_clss[list(range(13))]\n",
    "# n_classes=14\n",
    "n_classes=16\n",
    "report_clss['MoA']=''\n",
    "# report_clss\n",
    "report_clss.loc[0:n_classes,'MoA']=le.inverse_transform(list(range(n_classes)))\n",
    "report_clss2=report_clss[0:n_classes]"
   ]
  },
  {
   "cell_type": "code",
   "execution_count": null,
   "metadata": {},
   "outputs": [],
   "source": []
  },
  {
   "cell_type": "code",
   "execution_count": null,
   "metadata": {},
   "outputs": [],
   "source": [
    "# report_clss_cp.loc[report_clss3.index]['f1-score']\n",
    "%matplotlib inline\n",
    "import matplotlib.style as style\n",
    "style.use('seaborn-colorblind')\n",
    "sns.set_style(\"whitegrid\")\n",
    "sns.set_context(\"paper\",font_scale = 1.5, rc={\"font.size\":4,\"axes.titlesize\":14,\"axes.labelsize\":15})\n",
    "report_clss3=report_clss2.sort_values(by='f1-score',ascending=False)\n",
    "report_clss3['f1-score-cp']=report_clss_cp.loc[report_clss3.index]['f1-score'].values\n",
    "report_clss3['f1-score-ge']=report_clss_ge.loc[report_clss3.index]['f1-score'].values\n",
    "report_clss4=report_clss3[['f1-score-cp','f1-score-ge','f1-score']]\n",
    "report_clss4=report_clss4.rename(columns={'f1-score-cp':'CP','f1-score-ge':'GE','f1-score':'RGCCA_EarlyFusion'})\n",
    "report_clss4.index=report_clss3['MoA']\n",
    "ax = report_clss4[report_clss4[\"RGCCA_EarlyFusion\"]>0].plot.bar(rot=90,figsize=(5,6.5),fontsize=15)\n",
    "plt.title('MoA class specific F1-scores\\n CDRP-bio')\n",
    "ax.set_ylim([0,1])\n",
    "plt.tight_layout()\n",
    "# plt.savefig('moa_class_spacific_bar.eps')\n",
    "\n",
    "if 1:\n",
    "    source_data_add='../Figs_Source_Data.xlsx'\n",
    "    saveAsNewSheetToExistingFile(source_data_add,report_clss4,'fig4c_1')\n",
    "\n",
    "    # fig.tight_layout()\n",
    "    plt.savefig('fig4c_1.pdf',papertype='letter',dpi=500)"
   ]
  },
  {
   "cell_type": "code",
   "execution_count": null,
   "metadata": {},
   "outputs": [],
   "source": [
    "report_clss4[report_clss4[\"RGCCA_EarlyFusion\"]==0].shape"
   ]
  },
  {
   "cell_type": "code",
   "execution_count": null,
   "metadata": {},
   "outputs": [],
   "source": [
    "report_clss4[report_clss4[\"RGCCA_EarlyFusion\"]>0].index"
   ]
  },
  {
   "cell_type": "code",
   "execution_count": null,
   "metadata": {},
   "outputs": [],
   "source": [
    "lincs_moa_top=['mTOR inhibitor', 'glucocorticoid receptor agonist', 'HSP inhibitor',\n",
    "       'proteasome inhibitor', 'MEK inhibitor', 'HDAC inhibitor',\n",
    "       'tubulin polymerization inhibitor', 'PLK inhibitor', 'EGFR inhibitor',\n",
    "       'retinoid receptor agonist', 'CDK inhibitor', 'topoisomerase inhibitor',\n",
    "       'p38 MAPK inhibitor', 'AKT inhibitor', 'serotonin receptor antagonist',\n",
    "       'gamma secretase inhibitor', 'HMGCR inhibitor', 'PI3K inhibitor',\n",
    "       'rho associated kinase inhibitor', 'cyclooxygenase inhibitor',\n",
    "       'protein synthesis inhibitor', 'histamine receptor antagonist',\n",
    "       'sterol demethylase inhibitor', 'PKC inhibitor',\n",
    "       'dopamine receptor antagonist', 'adrenergic receptor antagonist',\n",
    "       'vitamin D receptor agonist', 'acetylcholine receptor antagonist',\n",
    "       'progesterone receptor agonist', 'dopamine receptor agonist',\n",
    "       'benzodiazepine receptor agonist', 'phosphodiesterase inhibitor',\n",
    "       'calcium channel blocker', 'adrenergic receptor agonist']\n",
    "\n",
    "cdrp_moa_top=['tubulin polymerization inhibitor', 'atpase inhibitor',\n",
    "       'glucocorticoid receptor agonist', 'cdk inhibitor',\n",
    "       'adrenergic receptor agonist', 'dopamine receptor antagonist',\n",
    "       'protein synthesis inhibitor', 'serotonin receptor antagonist',\n",
    "       'calcium channel blocker', 'dopamine receptor agonist',\n",
    "       'serotonin receptor agonist', 'adrenergic receptor antagonist']\n",
    "\n",
    "# top_cdrp_lincs_overlap=list(set(lincs_moa_top) & set(cdrp_moa_top))\n",
    "top_cdrp_lincs_overlap=['glucocorticoid receptor agonist',\n",
    " 'tubulin polymerization inhibitor',\n",
    " 'dopamine receptor antagonist',\n",
    " 'protein synthesis inhibitor',\n",
    " 'dopamine receptor agonist',\n",
    " 'serotonin receptor antagonist',\n",
    " 'adrenergic receptor antagonist',\n",
    " 'adrenergic receptor agonist',\n",
    " 'calcium channel blocker']\n",
    "\n",
    "# ax = report_clss4[:15].plot.bar(rot=90,figsize=(7,7))\n",
    "ax =report_clss4.loc[top_cdrp_lincs_overlap].plot.bar(rot=90,figsize=(6,6))\n",
    "ax.set_ylim([0,1])\n",
    "plt.title('MoA class specific F1-scores')\n",
    "plt.tight_layout()"
   ]
  },
  {
   "cell_type": "code",
   "execution_count": null,
   "metadata": {},
   "outputs": [],
   "source": [
    "# report_clss4.loc[top_cdrp_lincs_overlap]\n",
    "top_cdrp_lincs_overlap"
   ]
  },
  {
   "cell_type": "code",
   "execution_count": null,
   "metadata": {},
   "outputs": [],
   "source": []
  },
  {
   "cell_type": "code",
   "execution_count": null,
   "metadata": {},
   "outputs": [],
   "source": []
  },
  {
   "cell_type": "code",
   "execution_count": null,
   "metadata": {},
   "outputs": [],
   "source": []
  },
  {
   "cell_type": "code",
   "execution_count": null,
   "metadata": {},
   "outputs": [],
   "source": [
    "report_clss2['support']=report_clss2['support'].astype(int)\n",
    "report_clss2['n_samples']=report_clss2['support']"
   ]
  },
  {
   "cell_type": "code",
   "execution_count": null,
   "metadata": {},
   "outputs": [],
   "source": [
    "\n",
    "# plt.figure(figsize=(5,5))\n",
    "# import matplotlib.style as style\n",
    "# style.use('seaborn-colorblind')\n",
    "# sns.scatterplot(data=report_clss2, x=\"n_samples\", y=\"f1-score\", hue=\"MoA\",legend=True)\n",
    "# plt.tight_layout()# p\n",
    "# plt.savefig('moa_class_scatter.eps')"
   ]
  },
  {
   "cell_type": "code",
   "execution_count": null,
   "metadata": {},
   "outputs": [],
   "source": []
  },
  {
   "cell_type": "code",
   "execution_count": null,
   "metadata": {},
   "outputs": [],
   "source": [
    "from sklearn.metrics import classification_report\n",
    "# scores_mlp=saved_scores['fC-CDRP-bio-nvs-filt-preds-mlp-ht']\n",
    "# scores_mlp=saved_scores_cdrpbio['fC-CDRP-bio-nvs-filt-preds-mlp-ht']\n",
    "scores_mlp=saved_scores_cdrpbio['fC-CDRP-bio-nvs-filt-preds-mlp-ht-sgkf-1']\n",
    "scor_vals=scores_mlp['Late Fusion'].apply(lambda x: int(eval(x)[0]) if type(x)==str else x)    \n",
    "scor_vals_cp=scores_mlp['CP'].apply(lambda x: int(eval(x)[0]) if type(x)==str else x)    \n",
    "scor_vals_ge=scores_mlp['GE'].apply(lambda x: int(eval(x)[0]) if type(x)==str else x)    \n",
    "\n",
    "report_clss=pd.DataFrame(classification_report(scores_mlp.Metadata_moa_num.values,scor_vals.values,output_dict=True)).transpose()\n",
    "report_clss_cp=pd.DataFrame(classification_report(scores_mlp.Metadata_moa_num.values,scor_vals_cp.values,output_dict=True)).transpose()\n",
    "report_clss_ge=pd.DataFrame(classification_report(scores_mlp.Metadata_moa_num.values,scor_vals_ge.values,output_dict=True)).transpose()\n",
    "\n",
    "# report_clss[list(range(13))]\n",
    "# n_classes=14\n",
    "n_classes=16\n",
    "report_clss['MoA']=''\n",
    "# report_clss\n",
    "report_clss.loc[0:n_classes,'MoA']=le.inverse_transform(list(range(n_classes)))\n",
    "report_clss2=report_clss[0:n_classes]\n",
    "\n",
    "report_clss3=report_clss2.sort_values(by='f1-score',ascending=False)\n",
    "report_clss3['f1-score-cp']=report_clss_cp.loc[report_clss3.index]['f1-score'].values\n",
    "report_clss3['f1-score-ge']=report_clss_ge.loc[report_clss3.index]['f1-score'].values\n",
    "report_clss4=report_clss3[['f1-score-cp','f1-score-ge','f1-score']]\n",
    "report_clss4=report_clss4.rename(columns={'f1-score-cp':'CP','f1-score-ge':'GE','f1-score':'Late Fusion of CP and GE'})\n",
    "report_clss4.index=report_clss3['MoA']\n",
    "ax = report_clss4.plot.bar(rot=90,figsize=(8,6))\n",
    "plt.title('MoA class specific F1-scores')\n",
    "plt.tight_layout()\n",
    "# plt.savefig('moa_class_spacific_bar.eps')"
   ]
  },
  {
   "cell_type": "code",
   "execution_count": null,
   "metadata": {},
   "outputs": [],
   "source": [
    "described_data=DataFuseResults_filt2.groupby([moa_col]).describe()"
   ]
  },
  {
   "cell_type": "code",
   "execution_count": null,
   "metadata": {},
   "outputs": [],
   "source": []
  },
  {
   "cell_type": "code",
   "execution_count": null,
   "metadata": {},
   "outputs": [],
   "source": []
  }
 ],
 "metadata": {
  "kernelspec": {
   "display_name": "Python 3 (ipykernel)",
   "language": "python",
   "name": "python3"
  },
  "language_info": {
   "codemirror_mode": {
    "name": "ipython",
    "version": 3
   },
   "file_extension": ".py",
   "mimetype": "text/x-python",
   "name": "python",
   "nbconvert_exporter": "python",
   "pygments_lexer": "ipython3",
   "version": "3.8.12"
  },
  "latex_envs": {
   "LaTeX_envs_menu_present": true,
   "autoclose": false,
   "autocomplete": true,
   "bibliofile": "biblio.bib",
   "cite_by": "apalike",
   "current_citInitial": 1,
   "eqLabelWithNumbers": true,
   "eqNumInitial": 1,
   "hotkeys": {
    "equation": "Ctrl-E",
    "itemize": "Ctrl-I"
   },
   "labels_anchors": false,
   "latex_user_defs": false,
   "report_style_numbering": false,
   "user_envs_cfg": false
  }
 },
 "nbformat": 4,
 "nbformat_minor": 4
}
