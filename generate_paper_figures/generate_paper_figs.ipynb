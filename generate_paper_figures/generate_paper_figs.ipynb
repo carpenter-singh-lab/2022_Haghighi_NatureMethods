{
 "cells": [
  {
   "cell_type": "code",
   "execution_count": 1,
   "metadata": {},
   "outputs": [],
   "source": [
    "%matplotlib inline\n",
    "%load_ext autoreload\n",
    "%autoreload 2\n",
    "import numpy as np\n",
    "import scipy.spatial\n",
    "import pandas as pd\n",
    "import sklearn.decomposition\n",
    "import matplotlib.pyplot as plt\n",
    "# import keras\n",
    "from sklearn import preprocessing\n",
    "from sklearn.metrics import pairwise_distances,mean_absolute_error, mean_squared_error\n",
    "import matplotlib.pyplot as plt\n",
    "import seaborn as sns\n",
    "import sys\n",
    "sys.path.insert(0, '../utils/') \n",
    "from readProfiles import *\n",
    "from pred_models import *\n",
    "from saveAsNewSheetToExistingFile import saveAsNewSheetToExistingFile\n",
    "from multiprocessing import Pool\n",
    "\n",
    "sns.set_style(\"whitegrid\")\n",
    "# from utils import networksEvol, tsne, readProfiles\n",
    "# import umap"
   ]
  },
  {
   "cell_type": "code",
   "execution_count": null,
   "metadata": {},
   "outputs": [],
   "source": []
  },
  {
   "cell_type": "markdown",
   "metadata": {},
   "source": [
    "#### Paths"
   ]
  },
  {
   "cell_type": "code",
   "execution_count": 2,
   "metadata": {},
   "outputs": [],
   "source": [
    "# procProf_dir='/home/ubuntu/datasetsbucket/Rosetta-GE-CP/'\n",
    "# procProf_dir='/home/ubuntu/bucket/projects/2018_04_20_Rosetta/workspace/'\n",
    "# metadata_dir='/home/ubuntu/bucket/projects/2018_04_20_Rosetta/workspace/metadata/'\n",
    "results_dir='../results/'\n",
    "source_data_add='../results/Figs_Source_Data.xlsx'"
   ]
  },
  {
   "cell_type": "code",
   "execution_count": null,
   "metadata": {},
   "outputs": [],
   "source": [
    "pd.read_excel(source_data_add, sheet_name=None).keys()"
   ]
  },
  {
   "cell_type": "markdown",
   "metadata": {},
   "source": [
    "## Read single gene prediction results"
   ]
  },
  {
   "cell_type": "code",
   "execution_count": 8,
   "metadata": {},
   "outputs": [
    {
     "data": {
      "text/plain": [
       "dict_keys(['MLP-LUAD-nvs-filt-9-ht', 'Lasso-LUAD-nvs-filt-9-ht', 'MLP-TAORF-nvs--5-ht', 'Lasso-TAORF-nvs--5-ht', 'MLP-LINCS-nvs-filt-25-ht', 'Lasso-LINCS-nvs-filt-25-ht', 'MLP-CDRP-bio-nvs-filt-6-ht', 'Lasso-CDRP-bio-nvs-filt-6-ht'])"
      ]
     },
     "execution_count": 8,
     "metadata": {},
     "output_type": "execute_result"
    }
   ],
   "source": [
    "# filename=results_dir+'/SingleGenePred/scores_checkIfitisfixedRandomSeed.xlsx'\n",
    "filename=results_dir+'/SingleGenePred/scores_corrected.xlsx'\n",
    "saved_scores=pd.read_excel(filename, sheet_name=None)\n",
    "saved_scores.keys()"
   ]
  },
  {
   "cell_type": "code",
   "execution_count": null,
   "metadata": {},
   "outputs": [],
   "source": []
  },
  {
   "cell_type": "code",
   "execution_count": 4,
   "metadata": {
    "scrolled": true
   },
   "outputs": [
    {
     "name": "stderr",
     "output_type": "stream",
     "text": [
      "/home/ubuntu/anaconda3/lib/python3.8/site-packages/seaborn/distributions.py:2619: FutureWarning: `distplot` is a deprecated function and will be removed in a future version. Please adapt your code to use either `displot` (a figure-level function with similar flexibility) or `histplot` (an axes-level function for histograms).\n",
      "  warnings.warn(msg, FutureWarning)\n",
      "/home/ubuntu/anaconda3/lib/python3.8/site-packages/seaborn/distributions.py:2619: FutureWarning: `distplot` is a deprecated function and will be removed in a future version. Please adapt your code to use either `displot` (a figure-level function with similar flexibility) or `histplot` (an axes-level function for histograms).\n",
      "  warnings.warn(msg, FutureWarning)\n"
     ]
    },
    {
     "name": "stdout",
     "output_type": "stream",
     "text": [
      "0.0629384333318165\n"
     ]
    },
    {
     "name": "stderr",
     "output_type": "stream",
     "text": [
      "/home/ubuntu/anaconda3/lib/python3.8/site-packages/seaborn/distributions.py:2619: FutureWarning: `distplot` is a deprecated function and will be removed in a future version. Please adapt your code to use either `displot` (a figure-level function with similar flexibility) or `histplot` (an axes-level function for histograms).\n",
      "  warnings.warn(msg, FutureWarning)\n",
      "/home/ubuntu/anaconda3/lib/python3.8/site-packages/seaborn/distributions.py:2619: FutureWarning: `distplot` is a deprecated function and will be removed in a future version. Please adapt your code to use either `displot` (a figure-level function with similar flexibility) or `histplot` (an axes-level function for histograms).\n",
      "  warnings.warn(msg, FutureWarning)\n"
     ]
    },
    {
     "name": "stdout",
     "output_type": "stream",
     "text": [
      "0.020513005769741847\n"
     ]
    },
    {
     "name": "stderr",
     "output_type": "stream",
     "text": [
      "/home/ubuntu/anaconda3/lib/python3.8/site-packages/seaborn/distributions.py:2619: FutureWarning: `distplot` is a deprecated function and will be removed in a future version. Please adapt your code to use either `displot` (a figure-level function with similar flexibility) or `histplot` (an axes-level function for histograms).\n",
      "  warnings.warn(msg, FutureWarning)\n",
      "/home/ubuntu/anaconda3/lib/python3.8/site-packages/seaborn/distributions.py:2619: FutureWarning: `distplot` is a deprecated function and will be removed in a future version. Please adapt your code to use either `displot` (a figure-level function with similar flexibility) or `histplot` (an axes-level function for histograms).\n",
      "  warnings.warn(msg, FutureWarning)\n"
     ]
    },
    {
     "name": "stdout",
     "output_type": "stream",
     "text": [
      "0.07687342408470062\n"
     ]
    },
    {
     "name": "stderr",
     "output_type": "stream",
     "text": [
      "/home/ubuntu/anaconda3/lib/python3.8/site-packages/seaborn/distributions.py:2619: FutureWarning: `distplot` is a deprecated function and will be removed in a future version. Please adapt your code to use either `displot` (a figure-level function with similar flexibility) or `histplot` (an axes-level function for histograms).\n",
      "  warnings.warn(msg, FutureWarning)\n",
      "/home/ubuntu/anaconda3/lib/python3.8/site-packages/seaborn/distributions.py:2619: FutureWarning: `distplot` is a deprecated function and will be removed in a future version. Please adapt your code to use either `displot` (a figure-level function with similar flexibility) or `histplot` (an axes-level function for histograms).\n",
      "  warnings.warn(msg, FutureWarning)\n",
      "/home/ubuntu/anaconda3/lib/python3.8/site-packages/seaborn/distributions.py:2619: FutureWarning: `distplot` is a deprecated function and will be removed in a future version. Please adapt your code to use either `displot` (a figure-level function with similar flexibility) or `histplot` (an axes-level function for histograms).\n",
      "  warnings.warn(msg, FutureWarning)\n"
     ]
    },
    {
     "name": "stdout",
     "output_type": "stream",
     "text": [
      "0.039246900510855505\n"
     ]
    },
    {
     "name": "stderr",
     "output_type": "stream",
     "text": [
      "/home/ubuntu/anaconda3/lib/python3.8/site-packages/seaborn/distributions.py:2619: FutureWarning: `distplot` is a deprecated function and will be removed in a future version. Please adapt your code to use either `displot` (a figure-level function with similar flexibility) or `histplot` (an axes-level function for histograms).\n",
      "  warnings.warn(msg, FutureWarning)\n",
      "/home/ubuntu/anaconda3/lib/python3.8/site-packages/seaborn/distributions.py:2619: FutureWarning: `distplot` is a deprecated function and will be removed in a future version. Please adapt your code to use either `displot` (a figure-level function with similar flexibility) or `histplot` (an axes-level function for histograms).\n",
      "  warnings.warn(msg, FutureWarning)\n"
     ]
    },
    {
     "name": "stdout",
     "output_type": "stream",
     "text": [
      "0.0029106821817536247\n"
     ]
    },
    {
     "name": "stderr",
     "output_type": "stream",
     "text": [
      "/home/ubuntu/anaconda3/lib/python3.8/site-packages/seaborn/distributions.py:2619: FutureWarning: `distplot` is a deprecated function and will be removed in a future version. Please adapt your code to use either `displot` (a figure-level function with similar flexibility) or `histplot` (an axes-level function for histograms).\n",
      "  warnings.warn(msg, FutureWarning)\n",
      "/home/ubuntu/anaconda3/lib/python3.8/site-packages/seaborn/distributions.py:2619: FutureWarning: `distplot` is a deprecated function and will be removed in a future version. Please adapt your code to use either `displot` (a figure-level function with similar flexibility) or `histplot` (an axes-level function for histograms).\n",
      "  warnings.warn(msg, FutureWarning)\n"
     ]
    },
    {
     "name": "stdout",
     "output_type": "stream",
     "text": [
      "-0.0032153710580519143\n"
     ]
    },
    {
     "name": "stderr",
     "output_type": "stream",
     "text": [
      "/home/ubuntu/anaconda3/lib/python3.8/site-packages/seaborn/distributions.py:2619: FutureWarning: `distplot` is a deprecated function and will be removed in a future version. Please adapt your code to use either `displot` (a figure-level function with similar flexibility) or `histplot` (an axes-level function for histograms).\n",
      "  warnings.warn(msg, FutureWarning)\n",
      "/home/ubuntu/anaconda3/lib/python3.8/site-packages/seaborn/distributions.py:2619: FutureWarning: `distplot` is a deprecated function and will be removed in a future version. Please adapt your code to use either `displot` (a figure-level function with similar flexibility) or `histplot` (an axes-level function for histograms).\n",
      "  warnings.warn(msg, FutureWarning)\n"
     ]
    },
    {
     "name": "stdout",
     "output_type": "stream",
     "text": [
      "0.12358507342157073\n"
     ]
    },
    {
     "name": "stderr",
     "output_type": "stream",
     "text": [
      "/home/ubuntu/anaconda3/lib/python3.8/site-packages/seaborn/distributions.py:2619: FutureWarning: `distplot` is a deprecated function and will be removed in a future version. Please adapt your code to use either `displot` (a figure-level function with similar flexibility) or `histplot` (an axes-level function for histograms).\n",
      "  warnings.warn(msg, FutureWarning)\n"
     ]
    },
    {
     "name": "stdout",
     "output_type": "stream",
     "text": [
      "0.04594195454601296\n"
     ]
    },
    {
     "data": {
      "image/png": "[encoded data removed]",
      "text/plain": [
       "<Figure size 576x864 with 8 Axes>"
      ]
     },
     "metadata": {},
     "output_type": "display_data"
    }
   ],
   "source": [
    "# filename=results_dir+'/SingleGenePred/scores_hyperParam.xlsx'\n",
    "filename=results_dir+'/SingleGenePred/scores_corrected.xlsx'\n",
    "saved_scores=pd.read_excel(filename, sheet_name=None)\n",
    "saved_scores.keys()\n",
    "\n",
    "################################################\n",
    "# dataset options: 'CDRP' , 'LUAD', 'TAORF', 'LINCS', 'CDRP-bio'\n",
    "datasets=['LUAD', 'TAORF', 'LINCS', 'CDRP-bio'];\n",
    "# datasets=['LUAD', 'TAORF', 'LINCS', 'CDRP-bio','CDRP'];\n",
    "\n",
    "DT_kfold={'LUAD':9, 'TAORF':5, 'LINCS':25, 'CDRP-bio':6,'CDRP':40}\n",
    "# DT_kfold={'LUAD':10, 'TAORF':10, 'LINCS':25, 'CDRP-bio':10,'CDRP':40}\n",
    "\n",
    "################################################\n",
    "# CP Profile Type options: 'augmented' , 'normalized', 'normalized_variable_selected'\n",
    "profileType='normalized_variable_selected'\n",
    "profTypeAbbrev=''.join([s[0] for s in profileType.split('_')])\n",
    "\n",
    "################################################\n",
    "# filtering to compounds which have high replicates for both GE and CP datasets\n",
    "highRepOverlapEnabled=1\n",
    "\n",
    "\n",
    "################################################\n",
    "pertColName='PERT'\n",
    "profileLevel='treatment'; #'replicate'  or  'treatment'\n",
    "if highRepOverlapEnabled:\n",
    "    f='filt'\n",
    "else:\n",
    "    f=''\n",
    "    \n",
    "models=[\"MLP\",\"Lasso\"]\n",
    "\n",
    "# DataPredResults=pd.DataFrame(columns=[\"Dataset\",\"Model\"])\n",
    "DataPredResults_ls=[]\n",
    "\n",
    "fig, axes = plt.subplots(len(datasets),len(models),figsize=(4*len(models),3*len(datasets)))\n",
    "sns.set_context(\"paper\")\n",
    "sns.set_style(\"whitegrid\")\n",
    "# sns.rcParams['patch.force_edgecolor'] = True\n",
    "# for d in range(5):#(len(datasets)):\n",
    "df_q=pd.read_excel('../idmap.xlsx') \n",
    "for d in range(len(datasets)):\n",
    "    for m in range(len(models)):\n",
    "                              \n",
    "        if datasets[d]=='TAORF' or datasets[d]=='CDRP':     \n",
    "            f=''\n",
    "        else:\n",
    "            f='filt'            \n",
    "\n",
    "        k_fold=DT_kfold[datasets[d]] \n",
    "        sheetName=models[m]+'-'+datasets[d]+'-'+profTypeAbbrev+'-'+f+'-'+str(k_fold)+'-ht'\n",
    "\n",
    "        res_sheet=saved_scores[sheetName]\n",
    "#         res_sheet_2save=res_sheet.merge(df_q, left_on='lmGens', right_on='gene',how='left')\\\n",
    "#         [['lmGens', 'pred score', 'd', 'probe_id', 'query','symbol','gene']]\n",
    "#         saveAsNewSheetToExistingFile(filename2,res_sheet_2save,sheetName)\n",
    "#         d_to_pl=res_sheet.reset_index().copy()\n",
    "        d_to_pl=res_sheet.groupby(['symbol','d']).median().reset_index()   \n",
    "        d_to_pl_2=d_to_pl.copy()\n",
    "        \n",
    "#         d_to_pl_2=res_sheet.copy()\n",
    "#         print('d',len(set(d_to_pl['lmGens'].unique().tolist()) & set(df_q['gene'].unique().tolist())))\n",
    "        d_to_pl_2['Dataset']=datasets[d]\n",
    "        d_to_pl_2['Model']=models[m]\n",
    "        \n",
    "        \n",
    "        \n",
    "        # axes=sns.displot(data=d_to_pl, x=\"pred score\", hue=\"d\")\n",
    "        #     sns.distplot(saved_scores['Lasso-'+datasets[d]+filter_status[d]].pred_score.values,kde=True,hist=True,bins=100,label=datasets[d],ax=axes,norm_hist=True);\n",
    "        pred_scoress=d_to_pl[d_to_pl[\"d\"]==\"n-folds\"][\"pred score\"].values\n",
    "#         pred_scoress=res_sheet[res_sheet['d']=='n-folds'][\"pred score\"].values\n",
    "        rand_scoress=d_to_pl[d_to_pl[\"d\"]==\"random\"][\"pred score\"].values\n",
    "#         rand_scoress=res_sheet[res_sheet['d']=='random'][\"pred score\"].values\n",
    "        sns.distplot(pred_scoress,kde=True,hist=True,bins=100,label=datasets[d],ax=axes[d,m],norm_hist=True,color='r')\n",
    "        sns.distplot(rand_scoress,kde=True,hist=True,bins=100,label='random',ax=axes[d,m],norm_hist=True)\n",
    "        rand99th=np.percentile(rand_scoress,99)\n",
    "        print(rand99th)\n",
    "        \n",
    "        d_to_pl_2['rand99th']=rand99th\n",
    "        DataPredResults_ls.append(d_to_pl_2)\n",
    "        \n",
    "        \n",
    "        axes[d,0].set_xlim(-1,1)\n",
    "        axes[d,1].set_xlim(-1,1)\n",
    "#         axes[d,1].set_xlim(-.5,.5)\n",
    "#         axes[d,m].set_xlim(-0.5,0.6)\n",
    "#         axes[d,m].set_ylim(0,15)\n",
    "        axes[d,m].axvline(x=np.percentile(rand_scoress,90),linestyle=':',color='r');\n",
    "        axes[len(datasets)-1,m].set_xlabel(\"Accuracy ($R^2$)\");\n",
    "        axes[d,m].legend();\n",
    "        axes[0,m].set_title(models[m]);\n",
    "\n",
    "DataPredResults=pd.concat(DataPredResults_ls, ignore_index=True)        \n",
    "        \n",
    "DataPredResults.loc[DataPredResults['d']=='random','Model']=DataPredResults[DataPredResults['d']=='random']['Model']+'-'+DataPredResults[DataPredResults['d']=='random']['d']"
   ]
  },
  {
   "cell_type": "code",
   "execution_count": null,
   "metadata": {},
   "outputs": [],
   "source": [
    "res_sheet"
   ]
  },
  {
   "cell_type": "markdown",
   "metadata": {},
   "source": [
    "## Single gene prediction barplot for each dataset and each model\n",
    "- Figeure 2a"
   ]
  },
  {
   "cell_type": "code",
   "execution_count": 11,
   "metadata": {},
   "outputs": [
    {
     "data": {
      "application/javascript": [
       "/* Put everything inside the global mpl namespace */\n",
       "/* global mpl */\n",
       "window.mpl = {};\n",
       "\n",
       "mpl.get_websocket_type = function () {\n",
       "    if (typeof WebSocket !== 'undefined') {\n",
       "        return WebSocket;\n",
       "    } else if (typeof MozWebSocket !== 'undefined') {\n",
       "        return MozWebSocket;\n",
       "    } else {\n",
       "        alert(\n",
       "            'Your browser does not have WebSocket support. ' +\n",
       "                'Please try Chrome, Safari or Firefox ≥ 6. ' +\n",
       "                'Firefox 4 and 5 are also supported but you ' +\n",
       "                'have to enable WebSockets in about:config.'\n",
       "        );\n",
       "    }\n",
       "};\n",
       "\n",
       "mpl.figure = function (figure_id, websocket, ondownload, parent_element) {\n",
       "    this.id = figure_id;\n",
       "\n",
       "    this.ws = websocket;\n",
       "\n",
       "    this.supports_binary = this.ws.binaryType !== undefined;\n",
       "\n",
       "    if (!this.supports_binary) {\n",
       "        var warnings = document.getElementById('mpl-warnings');\n",
       "        if (warnings) {\n",
       "            warnings.style.display = 'block';\n",
       "            warnings.textContent =\n",
       "                'This browser does not support binary websocket messages. ' +\n",
       "                'Performance may be slow.';\n",
       "        }\n",
       "    }\n",
       "\n",
       "    this.imageObj = new Image();\n",
       "\n",
       "    this.context = undefined;\n",
       "    this.message = undefined;\n",
       "    this.canvas = undefined;\n",
       "    this.rubberband_canvas = undefined;\n",
       "    this.rubberband_context = undefined;\n",
       "    this.format_dropdown = undefined;\n",
       "\n",
       "    this.image_mode = 'full';\n",
       "\n",
       "    this.root = document.createElement('div');\n",
       "    this.root.setAttribute('style', 'display: inline-block');\n",
       "    this._root_extra_style(this.root);\n",
       "\n",
       "    parent_element.appendChild(this.root);\n",
       "\n",
       "    this._init_header(this);\n",
       "    this._init_canvas(this);\n",
       "    this._init_toolbar(this);\n",
       "\n",
       "    var fig = this;\n",
       "\n",
       "    this.waiting = false;\n",
       "\n",
       "    this.ws.onopen = function () {\n",
       "        fig.send_message('supports_binary', { value: fig.supports_binary });\n",
       "        fig.send_message('send_image_mode', {});\n",
       "        if (fig.ratio !== 1) {\n",
       "            fig.send_message('set_device_pixel_ratio', {\n",
       "                device_pixel_ratio: fig.ratio,\n",
       "            });\n",
       "        }\n",
       "        fig.send_message('refresh', {});\n",
       "    };\n",
       "\n",
       "    this.imageObj.onload = function () {\n",
       "        if (fig.image_mode === 'full') {\n",
       "            // Full images could contain transparency (where diff images\n",
       "            // almost always do), so we need to clear the canvas so that\n",
       "            // there is no ghosting.\n",
       "            fig.context.clearRect(0, 0, fig.canvas.width, fig.canvas.height);\n",
       "        }\n",
       "        fig.context.drawImage(fig.imageObj, 0, 0);\n",
       "    };\n",
       "\n",
       "    this.imageObj.onunload = function () {\n",
       "        fig.ws.close();\n",
       "    };\n",
       "\n",
       "    this.ws.onmessage = this._make_on_message_function(this);\n",
       "\n",
       "    this.ondownload = ondownload;\n",
       "};\n",
       "\n",
       "mpl.figure.prototype._init_header = function () {\n",
       "    var titlebar = document.createElement('div');\n",
       "    titlebar.classList =\n",
       "        'ui-dialog-titlebar ui-widget-header ui-corner-all ui-helper-clearfix';\n",
       "    var titletext = document.createElement('div');\n",
       "    titletext.classList = 'ui-dialog-title';\n",
       "    titletext.setAttribute(\n",
       "        'style',\n",
       "        'width: 100%; text-align: center; padding: 3px;'\n",
       "    );\n",
       "    titlebar.appendChild(titletext);\n",
       "    this.root.appendChild(titlebar);\n",
       "    this.header = titletext;\n",
       "};\n",
       "\n",
       "mpl.figure.prototype._canvas_extra_style = function (_canvas_div) {};\n",
       "\n",
       "mpl.figure.prototype._root_extra_style = function (_canvas_div) {};\n",
       "\n",
       "mpl.figure.prototype._init_canvas = function () {\n",
       "    var fig = this;\n",
       "\n",
       "    var canvas_div = (this.canvas_div = document.createElement('div'));\n",
       "    canvas_div.setAttribute(\n",
       "        'style',\n",
       "        'border: 1px solid #ddd;' +\n",
       "            'box-sizing: content-box;' +\n",
       "            'clear: both;' +\n",
       "            'min-height: 1px;' +\n",
       "            'min-width: 1px;' +\n",
       "            'outline: 0;' +\n",
       "            'overflow: hidden;' +\n",
       "            'position: relative;' +\n",
       "            'resize: both;'\n",
       "    );\n",
       "\n",
       "    function on_keyboard_event_closure(name) {\n",
       "        return function (event) {\n",
       "            return fig.key_event(event, name);\n",
       "        };\n",
       "    }\n",
       "\n",
       "    canvas_div.addEventListener(\n",
       "        'keydown',\n",
       "        on_keyboard_event_closure('key_press')\n",
       "    );\n",
       "    canvas_div.addEventListener(\n",
       "        'keyup',\n",
       "        on_keyboard_event_closure('key_release')\n",
       "    );\n",
       "\n",
       "    this._canvas_extra_style(canvas_div);\n",
       "    this.root.appendChild(canvas_div);\n",
       "\n",
       "    var canvas = (this.canvas = document.createElement('canvas'));\n",
       "    canvas.classList.add('mpl-canvas');\n",
       "    canvas.setAttribute('style', 'box-sizing: content-box;');\n",
       "\n",
       "    this.context = canvas.getContext('2d');\n",
       "\n",
       "    var backingStore =\n",
       "        this.context.backingStorePixelRatio ||\n",
       "        this.context.webkitBackingStorePixelRatio ||\n",
       "        this.context.mozBackingStorePixelRatio ||\n",
       "        this.context.msBackingStorePixelRatio ||\n",
       "        this.context.oBackingStorePixelRatio ||\n",
       "        this.context.backingStorePixelRatio ||\n",
       "        1;\n",
       "\n",
       "    this.ratio = (window.devicePixelRatio || 1) / backingStore;\n",
       "\n",
       "    var rubberband_canvas = (this.rubberband_canvas = document.createElement(\n",
       "        'canvas'\n",
       "    ));\n",
       "    rubberband_canvas.setAttribute(\n",
       "        'style',\n",
       "        'box-sizing: content-box; position: absolute; left: 0; top: 0; z-index: 1;'\n",
       "    );\n",
       "\n",
       "    // Apply a ponyfill if ResizeObserver is not implemented by browser.\n",
       "    if (this.ResizeObserver === undefined) {\n",
       "        if (window.ResizeObserver !== undefined) {\n",
       "            this.ResizeObserver = window.ResizeObserver;\n",
       "        } else {\n",
       "            var obs = _JSXTOOLS_RESIZE_OBSERVER({});\n",
       "            this.ResizeObserver = obs.ResizeObserver;\n",
       "        }\n",
       "    }\n",
       "\n",
       "    this.resizeObserverInstance = new this.ResizeObserver(function (entries) {\n",
       "        var nentries = entries.length;\n",
       "        for (var i = 0; i < nentries; i++) {\n",
       "            var entry = entries[i];\n",
       "            var width, height;\n",
       "            if (entry.contentBoxSize) {\n",
       "                if (entry.contentBoxSize instanceof Array) {\n",
       "                    // Chrome 84 implements new version of spec.\n",
       "                    width = entry.contentBoxSize[0].inlineSize;\n",
       "                    height = entry.contentBoxSize[0].blockSize;\n",
       "                } else {\n",
       "                    // Firefox implements old version of spec.\n",
       "                    width = entry.contentBoxSize.inlineSize;\n",
       "                    height = entry.contentBoxSize.blockSize;\n",
       "                }\n",
       "            } else {\n",
       "                // Chrome <84 implements even older version of spec.\n",
       "                width = entry.contentRect.width;\n",
       "                height = entry.contentRect.height;\n",
       "            }\n",
       "\n",
       "            // Keep the size of the canvas and rubber band canvas in sync with\n",
       "            // the canvas container.\n",
       "            if (entry.devicePixelContentBoxSize) {\n",
       "                // Chrome 84 implements new version of spec.\n",
       "                canvas.setAttribute(\n",
       "                    'width',\n",
       "                    entry.devicePixelContentBoxSize[0].inlineSize\n",
       "                );\n",
       "                canvas.setAttribute(\n",
       "                    'height',\n",
       "                    entry.devicePixelContentBoxSize[0].blockSize\n",
       "                );\n",
       "            } else {\n",
       "                canvas.setAttribute('width', width * fig.ratio);\n",
       "                canvas.setAttribute('height', height * fig.ratio);\n",
       "            }\n",
       "            canvas.setAttribute(\n",
       "                'style',\n",
       "                'width: ' + width + 'px; height: ' + height + 'px;'\n",
       "            );\n",
       "\n",
       "            rubberband_canvas.setAttribute('width', width);\n",
       "            rubberband_canvas.setAttribute('height', height);\n",
       "\n",
       "            // And update the size in Python. We ignore the initial 0/0 size\n",
       "            // that occurs as the element is placed into the DOM, which should\n",
       "            // otherwise not happen due to the minimum size styling.\n",
       "            if (fig.ws.readyState == 1 && width != 0 && height != 0) {\n",
       "                fig.request_resize(width, height);\n",
       "            }\n",
       "        }\n",
       "    });\n",
       "    this.resizeObserverInstance.observe(canvas_div);\n",
       "\n",
       "    function on_mouse_event_closure(name) {\n",
       "        return function (event) {\n",
       "            return fig.mouse_event(event, name);\n",
       "        };\n",
       "    }\n",
       "\n",
       "    rubberband_canvas.addEventListener(\n",
       "        'mousedown',\n",
       "        on_mouse_event_closure('button_press')\n",
       "    );\n",
       "    rubberband_canvas.addEventListener(\n",
       "        'mouseup',\n",
       "        on_mouse_event_closure('button_release')\n",
       "    );\n",
       "    rubberband_canvas.addEventListener(\n",
       "        'dblclick',\n",
       "        on_mouse_event_closure('dblclick')\n",
       "    );\n",
       "    // Throttle sequential mouse events to 1 every 20ms.\n",
       "    rubberband_canvas.addEventListener(\n",
       "        'mousemove',\n",
       "        on_mouse_event_closure('motion_notify')\n",
       "    );\n",
       "\n",
       "    rubberband_canvas.addEventListener(\n",
       "        'mouseenter',\n",
       "        on_mouse_event_closure('figure_enter')\n",
       "    );\n",
       "    rubberband_canvas.addEventListener(\n",
       "        'mouseleave',\n",
       "        on_mouse_event_closure('figure_leave')\n",
       "    );\n",
       "\n",
       "    canvas_div.addEventListener('wheel', function (event) {\n",
       "        if (event.deltaY < 0) {\n",
       "            event.step = 1;\n",
       "        } else {\n",
       "            event.step = -1;\n",
       "        }\n",
       "        on_mouse_event_closure('scroll')(event);\n",
       "    });\n",
       "\n",
       "    canvas_div.appendChild(canvas);\n",
       "    canvas_div.appendChild(rubberband_canvas);\n",
       "\n",
       "    this.rubberband_context = rubberband_canvas.getContext('2d');\n",
       "    this.rubberband_context.strokeStyle = '#000000';\n",
       "\n",
       "    this._resize_canvas = function (width, height, forward) {\n",
       "        if (forward) {\n",
       "            canvas_div.style.width = width + 'px';\n",
       "            canvas_div.style.height = height + 'px';\n",
       "        }\n",
       "    };\n",
       "\n",
       "    // Disable right mouse context menu.\n",
       "    this.rubberband_canvas.addEventListener('contextmenu', function (_e) {\n",
       "        event.preventDefault();\n",
       "        return false;\n",
       "    });\n",
       "\n",
       "    function set_focus() {\n",
       "        canvas.focus();\n",
       "        canvas_div.focus();\n",
       "    }\n",
       "\n",
       "    window.setTimeout(set_focus, 100);\n",
       "};\n",
       "\n",
       "mpl.figure.prototype._init_toolbar = function () {\n",
       "    var fig = this;\n",
       "\n",
       "    var toolbar = document.createElement('div');\n",
       "    toolbar.classList = 'mpl-toolbar';\n",
       "    this.root.appendChild(toolbar);\n",
       "\n",
       "    function on_click_closure(name) {\n",
       "        return function (_event) {\n",
       "            return fig.toolbar_button_onclick(name);\n",
       "        };\n",
       "    }\n",
       "\n",
       "    function on_mouseover_closure(tooltip) {\n",
       "        return function (event) {\n",
       "            if (!event.currentTarget.disabled) {\n",
       "                return fig.toolbar_button_onmouseover(tooltip);\n",
       "            }\n",
       "        };\n",
       "    }\n",
       "\n",
       "    fig.buttons = {};\n",
       "    var buttonGroup = document.createElement('div');\n",
       "    buttonGroup.classList = 'mpl-button-group';\n",
       "    for (var toolbar_ind in mpl.toolbar_items) {\n",
       "        var name = mpl.toolbar_items[toolbar_ind][0];\n",
       "        var tooltip = mpl.toolbar_items[toolbar_ind][1];\n",
       "        var image = mpl.toolbar_items[toolbar_ind][2];\n",
       "        var method_name = mpl.toolbar_items[toolbar_ind][3];\n",
       "\n",
       "        if (!name) {\n",
       "            /* Instead of a spacer, we start a new button group. */\n",
       "            if (buttonGroup.hasChildNodes()) {\n",
       "                toolbar.appendChild(buttonGroup);\n",
       "            }\n",
       "            buttonGroup = document.createElement('div');\n",
       "            buttonGroup.classList = 'mpl-button-group';\n",
       "            continue;\n",
       "        }\n",
       "\n",
       "        var button = (fig.buttons[name] = document.createElement('button'));\n",
       "        button.classList = 'mpl-widget';\n",
       "        button.setAttribute('role', 'button');\n",
       "        button.setAttribute('aria-disabled', 'false');\n",
       "        button.addEventListener('click', on_click_closure(method_name));\n",
       "        button.addEventListener('mouseover', on_mouseover_closure(tooltip));\n",
       "\n",
       "        var icon_img = document.createElement('img');\n",
       "        icon_img.src = '_images/' + image + '.png';\n",
       "        icon_img.srcset = '_images/' + image + '_large.png 2x';\n",
       "        icon_img.alt = tooltip;\n",
       "        button.appendChild(icon_img);\n",
       "\n",
       "        buttonGroup.appendChild(button);\n",
       "    }\n",
       "\n",
       "    if (buttonGroup.hasChildNodes()) {\n",
       "        toolbar.appendChild(buttonGroup);\n",
       "    }\n",
       "\n",
       "    var fmt_picker = document.createElement('select');\n",
       "    fmt_picker.classList = 'mpl-widget';\n",
       "    toolbar.appendChild(fmt_picker);\n",
       "    this.format_dropdown = fmt_picker;\n",
       "\n",
       "    for (var ind in mpl.extensions) {\n",
       "        var fmt = mpl.extensions[ind];\n",
       "        var option = document.createElement('option');\n",
       "        option.selected = fmt === mpl.default_extension;\n",
       "        option.innerHTML = fmt;\n",
       "        fmt_picker.appendChild(option);\n",
       "    }\n",
       "\n",
       "    var status_bar = document.createElement('span');\n",
       "    status_bar.classList = 'mpl-message';\n",
       "    toolbar.appendChild(status_bar);\n",
       "    this.message = status_bar;\n",
       "};\n",
       "\n",
       "mpl.figure.prototype.request_resize = function (x_pixels, y_pixels) {\n",
       "    // Request matplotlib to resize the figure. Matplotlib will then trigger a resize in the client,\n",
       "    // which will in turn request a refresh of the image.\n",
       "    this.send_message('resize', { width: x_pixels, height: y_pixels });\n",
       "};\n",
       "\n",
       "mpl.figure.prototype.send_message = function (type, properties) {\n",
       "    properties['type'] = type;\n",
       "    properties['figure_id'] = this.id;\n",
       "    this.ws.send(JSON.stringify(properties));\n",
       "};\n",
       "\n",
       "mpl.figure.prototype.send_draw_message = function () {\n",
       "    if (!this.waiting) {\n",
       "        this.waiting = true;\n",
       "        this.ws.send(JSON.stringify({ type: 'draw', figure_id: this.id }));\n",
       "    }\n",
       "};\n",
       "\n",
       "mpl.figure.prototype.handle_save = function (fig, _msg) {\n",
       "    var format_dropdown = fig.format_dropdown;\n",
       "    var format = format_dropdown.options[format_dropdown.selectedIndex].value;\n",
       "    fig.ondownload(fig, format);\n",
       "};\n",
       "\n",
       "mpl.figure.prototype.handle_resize = function (fig, msg) {\n",
       "    var size = msg['size'];\n",
       "    if (size[0] !== fig.canvas.width || size[1] !== fig.canvas.height) {\n",
       "        fig._resize_canvas(size[0], size[1], msg['forward']);\n",
       "        fig.send_message('refresh', {});\n",
       "    }\n",
       "};\n",
       "\n",
       "mpl.figure.prototype.handle_rubberband = function (fig, msg) {\n",
       "    var x0 = msg['x0'] / fig.ratio;\n",
       "    var y0 = (fig.canvas.height - msg['y0']) / fig.ratio;\n",
       "    var x1 = msg['x1'] / fig.ratio;\n",
       "    var y1 = (fig.canvas.height - msg['y1']) / fig.ratio;\n",
       "    x0 = Math.floor(x0) + 0.5;\n",
       "    y0 = Math.floor(y0) + 0.5;\n",
       "    x1 = Math.floor(x1) + 0.5;\n",
       "    y1 = Math.floor(y1) + 0.5;\n",
       "    var min_x = Math.min(x0, x1);\n",
       "    var min_y = Math.min(y0, y1);\n",
       "    var width = Math.abs(x1 - x0);\n",
       "    var height = Math.abs(y1 - y0);\n",
       "\n",
       "    fig.rubberband_context.clearRect(\n",
       "        0,\n",
       "        0,\n",
       "        fig.canvas.width / fig.ratio,\n",
       "        fig.canvas.height / fig.ratio\n",
       "    );\n",
       "\n",
       "    fig.rubberband_context.strokeRect(min_x, min_y, width, height);\n",
       "};\n",
       "\n",
       "mpl.figure.prototype.handle_figure_label = function (fig, msg) {\n",
       "    // Updates the figure title.\n",
       "    fig.header.textContent = msg['label'];\n",
       "};\n",
       "\n",
       "mpl.figure.prototype.handle_cursor = function (fig, msg) {\n",
       "    fig.rubberband_canvas.style.cursor = msg['cursor'];\n",
       "};\n",
       "\n",
       "mpl.figure.prototype.handle_message = function (fig, msg) {\n",
       "    fig.message.textContent = msg['message'];\n",
       "};\n",
       "\n",
       "mpl.figure.prototype.handle_draw = function (fig, _msg) {\n",
       "    // Request the server to send over a new figure.\n",
       "    fig.send_draw_message();\n",
       "};\n",
       "\n",
       "mpl.figure.prototype.handle_image_mode = function (fig, msg) {\n",
       "    fig.image_mode = msg['mode'];\n",
       "};\n",
       "\n",
       "mpl.figure.prototype.handle_history_buttons = function (fig, msg) {\n",
       "    for (var key in msg) {\n",
       "        if (!(key in fig.buttons)) {\n",
       "            continue;\n",
       "        }\n",
       "        fig.buttons[key].disabled = !msg[key];\n",
       "        fig.buttons[key].setAttribute('aria-disabled', !msg[key]);\n",
       "    }\n",
       "};\n",
       "\n",
       "mpl.figure.prototype.handle_navigate_mode = function (fig, msg) {\n",
       "    if (msg['mode'] === 'PAN') {\n",
       "        fig.buttons['Pan'].classList.add('active');\n",
       "        fig.buttons['Zoom'].classList.remove('active');\n",
       "    } else if (msg['mode'] === 'ZOOM') {\n",
       "        fig.buttons['Pan'].classList.remove('active');\n",
       "        fig.buttons['Zoom'].classList.add('active');\n",
       "    } else {\n",
       "        fig.buttons['Pan'].classList.remove('active');\n",
       "        fig.buttons['Zoom'].classList.remove('active');\n",
       "    }\n",
       "};\n",
       "\n",
       "mpl.figure.prototype.updated_canvas_event = function () {\n",
       "    // Called whenever the canvas gets updated.\n",
       "    this.send_message('ack', {});\n",
       "};\n",
       "\n",
       "// A function to construct a web socket function for onmessage handling.\n",
       "// Called in the figure constructor.\n",
       "mpl.figure.prototype._make_on_message_function = function (fig) {\n",
       "    return function socket_on_message(evt) {\n",
       "        if (evt.data instanceof Blob) {\n",
       "            var img = evt.data;\n",
       "            if (img.type !== 'image/png') {\n",
       "                /* FIXME: We get \"Resource interpreted as Image but\n",
       "                 * transferred with MIME type text/plain:\" errors on\n",
       "                 * Chrome.  But how to set the MIME type?  It doesn't seem\n",
       "                 * to be part of the websocket stream */\n",
       "                img.type = 'image/png';\n",
       "            }\n",
       "\n",
       "            /* Free the memory for the previous frames */\n",
       "            if (fig.imageObj.src) {\n",
       "                (window.URL || window.webkitURL).revokeObjectURL(\n",
       "                    fig.imageObj.src\n",
       "                );\n",
       "            }\n",
       "\n",
       "            fig.imageObj.src = (window.URL || window.webkitURL).createObjectURL(\n",
       "                img\n",
       "            );\n",
       "            fig.updated_canvas_event();\n",
       "            fig.waiting = false;\n",
       "            return;\n",
       "        } else if (\n",
       "            typeof evt.data === 'string' &&\n",
       "            evt.data.slice(0, 21) === 'data:image/png;base64'\n",
       "        ) {\n",
       "            fig.imageObj.src = evt.data;\n",
       "            fig.updated_canvas_event();\n",
       "            fig.waiting = false;\n",
       "            return;\n",
       "        }\n",
       "\n",
       "        var msg = JSON.parse(evt.data);\n",
       "        var msg_type = msg['type'];\n",
       "\n",
       "        // Call the  \"handle_{type}\" callback, which takes\n",
       "        // the figure and JSON message as its only arguments.\n",
       "        try {\n",
       "            var callback = fig['handle_' + msg_type];\n",
       "        } catch (e) {\n",
       "            console.log(\n",
       "                \"No handler for the '\" + msg_type + \"' message type: \",\n",
       "                msg\n",
       "            );\n",
       "            return;\n",
       "        }\n",
       "\n",
       "        if (callback) {\n",
       "            try {\n",
       "                // console.log(\"Handling '\" + msg_type + \"' message: \", msg);\n",
       "                callback(fig, msg);\n",
       "            } catch (e) {\n",
       "                console.log(\n",
       "                    \"Exception inside the 'handler_\" + msg_type + \"' callback:\",\n",
       "                    e,\n",
       "                    e.stack,\n",
       "                    msg\n",
       "                );\n",
       "            }\n",
       "        }\n",
       "    };\n",
       "};\n",
       "\n",
       "// from https://stackoverflow.com/questions/1114465/getting-mouse-location-in-canvas\n",
       "mpl.findpos = function (e) {\n",
       "    //this section is from http://www.quirksmode.org/js/events_properties.html\n",
       "    var targ;\n",
       "    if (!e) {\n",
       "        e = window.event;\n",
       "    }\n",
       "    if (e.target) {\n",
       "        targ = e.target;\n",
       "    } else if (e.srcElement) {\n",
       "        targ = e.srcElement;\n",
       "    }\n",
       "    if (targ.nodeType === 3) {\n",
       "        // defeat Safari bug\n",
       "        targ = targ.parentNode;\n",
       "    }\n",
       "\n",
       "    // pageX,Y are the mouse positions relative to the document\n",
       "    var boundingRect = targ.getBoundingClientRect();\n",
       "    var x = e.pageX - (boundingRect.left + document.body.scrollLeft);\n",
       "    var y = e.pageY - (boundingRect.top + document.body.scrollTop);\n",
       "\n",
       "    return { x: x, y: y };\n",
       "};\n",
       "\n",
       "/*\n",
       " * return a copy of an object with only non-object keys\n",
       " * we need this to avoid circular references\n",
       " * https://stackoverflow.com/a/24161582/3208463\n",
       " */\n",
       "function simpleKeys(original) {\n",
       "    return Object.keys(original).reduce(function (obj, key) {\n",
       "        if (typeof original[key] !== 'object') {\n",
       "            obj[key] = original[key];\n",
       "        }\n",
       "        return obj;\n",
       "    }, {});\n",
       "}\n",
       "\n",
       "mpl.figure.prototype.mouse_event = function (event, name) {\n",
       "    var canvas_pos = mpl.findpos(event);\n",
       "\n",
       "    if (name === 'button_press') {\n",
       "        this.canvas.focus();\n",
       "        this.canvas_div.focus();\n",
       "    }\n",
       "\n",
       "    var x = canvas_pos.x * this.ratio;\n",
       "    var y = canvas_pos.y * this.ratio;\n",
       "\n",
       "    this.send_message(name, {\n",
       "        x: x,\n",
       "        y: y,\n",
       "        button: event.button,\n",
       "        step: event.step,\n",
       "        guiEvent: simpleKeys(event),\n",
       "    });\n",
       "\n",
       "    /* This prevents the web browser from automatically changing to\n",
       "     * the text insertion cursor when the button is pressed.  We want\n",
       "     * to control all of the cursor setting manually through the\n",
       "     * 'cursor' event from matplotlib */\n",
       "    event.preventDefault();\n",
       "    return false;\n",
       "};\n",
       "\n",
       "mpl.figure.prototype._key_event_extra = function (_event, _name) {\n",
       "    // Handle any extra behaviour associated with a key event\n",
       "};\n",
       "\n",
       "mpl.figure.prototype.key_event = function (event, name) {\n",
       "    // Prevent repeat events\n",
       "    if (name === 'key_press') {\n",
       "        if (event.key === this._key) {\n",
       "            return;\n",
       "        } else {\n",
       "            this._key = event.key;\n",
       "        }\n",
       "    }\n",
       "    if (name === 'key_release') {\n",
       "        this._key = null;\n",
       "    }\n",
       "\n",
       "    var value = '';\n",
       "    if (event.ctrlKey && event.key !== 'Control') {\n",
       "        value += 'ctrl+';\n",
       "    }\n",
       "    else if (event.altKey && event.key !== 'Alt') {\n",
       "        value += 'alt+';\n",
       "    }\n",
       "    else if (event.shiftKey && event.key !== 'Shift') {\n",
       "        value += 'shift+';\n",
       "    }\n",
       "\n",
       "    value += 'k' + event.key;\n",
       "\n",
       "    this._key_event_extra(event, name);\n",
       "\n",
       "    this.send_message(name, { key: value, guiEvent: simpleKeys(event) });\n",
       "    return false;\n",
       "};\n",
       "\n",
       "mpl.figure.prototype.toolbar_button_onclick = function (name) {\n",
       "    if (name === 'download') {\n",
       "        this.handle_save(this, null);\n",
       "    } else {\n",
       "        this.send_message('toolbar_button', { name: name });\n",
       "    }\n",
       "};\n",
       "\n",
       "mpl.figure.prototype.toolbar_button_onmouseover = function (tooltip) {\n",
       "    this.message.textContent = tooltip;\n",
       "};\n",
       "\n",
       "///////////////// REMAINING CONTENT GENERATED BY embed_js.py /////////////////\n",
       "// prettier-ignore\n",
       "var _JSXTOOLS_RESIZE_OBSERVER=function(A){var t,i=new WeakMap,n=new WeakMap,a=new WeakMap,r=new WeakMap,o=new Set;function s(e){if(!(this instanceof s))throw new TypeError(\"Constructor requires 'new' operator\");i.set(this,e)}function h(){throw new TypeError(\"Function is not a constructor\")}function c(e,t,i,n){e=0 in arguments?Number(arguments[0]):0,t=1 in arguments?Number(arguments[1]):0,i=2 in arguments?Number(arguments[2]):0,n=3 in arguments?Number(arguments[3]):0,this.right=(this.x=this.left=e)+(this.width=i),this.bottom=(this.y=this.top=t)+(this.height=n),Object.freeze(this)}function d(){t=requestAnimationFrame(d);var s=new WeakMap,p=new Set;o.forEach((function(t){r.get(t).forEach((function(i){var r=t instanceof window.SVGElement,o=a.get(t),d=r?0:parseFloat(o.paddingTop),f=r?0:parseFloat(o.paddingRight),l=r?0:parseFloat(o.paddingBottom),u=r?0:parseFloat(o.paddingLeft),g=r?0:parseFloat(o.borderTopWidth),m=r?0:parseFloat(o.borderRightWidth),w=r?0:parseFloat(o.borderBottomWidth),b=u+f,F=d+l,v=(r?0:parseFloat(o.borderLeftWidth))+m,W=g+w,y=r?0:t.offsetHeight-W-t.clientHeight,E=r?0:t.offsetWidth-v-t.clientWidth,R=b+v,z=F+W,M=r?t.width:parseFloat(o.width)-R-E,O=r?t.height:parseFloat(o.height)-z-y;if(n.has(t)){var k=n.get(t);if(k[0]===M&&k[1]===O)return}n.set(t,[M,O]);var S=Object.create(h.prototype);S.target=t,S.contentRect=new c(u,d,M,O),s.has(i)||(s.set(i,[]),p.add(i)),s.get(i).push(S)}))})),p.forEach((function(e){i.get(e).call(e,s.get(e),e)}))}return s.prototype.observe=function(i){if(i instanceof window.Element){r.has(i)||(r.set(i,new Set),o.add(i),a.set(i,window.getComputedStyle(i)));var n=r.get(i);n.has(this)||n.add(this),cancelAnimationFrame(t),t=requestAnimationFrame(d)}},s.prototype.unobserve=function(i){if(i instanceof window.Element&&r.has(i)){var n=r.get(i);n.has(this)&&(n.delete(this),n.size||(r.delete(i),o.delete(i))),n.size||r.delete(i),o.size||cancelAnimationFrame(t)}},A.DOMRectReadOnly=c,A.ResizeObserver=s,A.ResizeObserverEntry=h,A}; // eslint-disable-line\n",
       "mpl.toolbar_items = [[\"Home\", \"Reset original view\", \"fa fa-home icon-home\", \"home\"], [\"Back\", \"Back to previous view\", \"fa fa-arrow-left icon-arrow-left\", \"back\"], [\"Forward\", \"Forward to next view\", \"fa fa-arrow-right icon-arrow-right\", \"forward\"], [\"\", \"\", \"\", \"\"], [\"Pan\", \"Left button pans, Right button zooms\\nx/y fixes axis, CTRL fixes aspect\", \"fa fa-arrows icon-move\", \"pan\"], [\"Zoom\", \"Zoom to rectangle\\nx/y fixes axis\", \"fa fa-square-o icon-check-empty\", \"zoom\"], [\"\", \"\", \"\", \"\"], [\"Download\", \"Download plot\", \"fa fa-floppy-o icon-save\", \"download\"]];\n",
       "\n",
       "mpl.extensions = [\"eps\", \"jpeg\", \"pgf\", \"pdf\", \"png\", \"ps\", \"raw\", \"svg\", \"tif\"];\n",
       "\n",
       "mpl.default_extension = \"png\";/* global mpl */\n",
       "\n",
       "var comm_websocket_adapter = function (comm) {\n",
       "    // Create a \"websocket\"-like object which calls the given IPython comm\n",
       "    // object with the appropriate methods. Currently this is a non binary\n",
       "    // socket, so there is still some room for performance tuning.\n",
       "    var ws = {};\n",
       "\n",
       "    ws.binaryType = comm.kernel.ws.binaryType;\n",
       "    ws.readyState = comm.kernel.ws.readyState;\n",
       "    function updateReadyState(_event) {\n",
       "        if (comm.kernel.ws) {\n",
       "            ws.readyState = comm.kernel.ws.readyState;\n",
       "        } else {\n",
       "            ws.readyState = 3; // Closed state.\n",
       "        }\n",
       "    }\n",
       "    comm.kernel.ws.addEventListener('open', updateReadyState);\n",
       "    comm.kernel.ws.addEventListener('close', updateReadyState);\n",
       "    comm.kernel.ws.addEventListener('error', updateReadyState);\n",
       "\n",
       "    ws.close = function () {\n",
       "        comm.close();\n",
       "    };\n",
       "    ws.send = function (m) {\n",
       "        //console.log('sending', m);\n",
       "        comm.send(m);\n",
       "    };\n",
       "    // Register the callback with on_msg.\n",
       "    comm.on_msg(function (msg) {\n",
       "        //console.log('receiving', msg['content']['data'], msg);\n",
       "        var data = msg['content']['data'];\n",
       "        if (data['blob'] !== undefined) {\n",
       "            data = {\n",
       "                data: new Blob(msg['buffers'], { type: data['blob'] }),\n",
       "            };\n",
       "        }\n",
       "        // Pass the mpl event to the overridden (by mpl) onmessage function.\n",
       "        ws.onmessage(data);\n",
       "    });\n",
       "    return ws;\n",
       "};\n",
       "\n",
       "mpl.mpl_figure_comm = function (comm, msg) {\n",
       "    // This is the function which gets called when the mpl process\n",
       "    // starts-up an IPython Comm through the \"matplotlib\" channel.\n",
       "\n",
       "    var id = msg.content.data.id;\n",
       "    // Get hold of the div created by the display call when the Comm\n",
       "    // socket was opened in Python.\n",
       "    var element = document.getElementById(id);\n",
       "    var ws_proxy = comm_websocket_adapter(comm);\n",
       "\n",
       "    function ondownload(figure, _format) {\n",
       "        window.open(figure.canvas.toDataURL());\n",
       "    }\n",
       "\n",
       "    var fig = new mpl.figure(id, ws_proxy, ondownload, element);\n",
       "\n",
       "    // Call onopen now - mpl needs it, as it is assuming we've passed it a real\n",
       "    // web socket which is closed, not our websocket->open comm proxy.\n",
       "    ws_proxy.onopen();\n",
       "\n",
       "    fig.parent_element = element;\n",
       "    fig.cell_info = mpl.find_output_cell(\"<div id='\" + id + \"'></div>\");\n",
       "    if (!fig.cell_info) {\n",
       "        console.error('Failed to find cell for figure', id, fig);\n",
       "        return;\n",
       "    }\n",
       "    fig.cell_info[0].output_area.element.on(\n",
       "        'cleared',\n",
       "        { fig: fig },\n",
       "        fig._remove_fig_handler\n",
       "    );\n",
       "};\n",
       "\n",
       "mpl.figure.prototype.handle_close = function (fig, msg) {\n",
       "    var width = fig.canvas.width / fig.ratio;\n",
       "    fig.cell_info[0].output_area.element.off(\n",
       "        'cleared',\n",
       "        fig._remove_fig_handler\n",
       "    );\n",
       "    fig.resizeObserverInstance.unobserve(fig.canvas_div);\n",
       "\n",
       "    // Update the output cell to use the data from the current canvas.\n",
       "    fig.push_to_output();\n",
       "    var dataURL = fig.canvas.toDataURL();\n",
       "    // Re-enable the keyboard manager in IPython - without this line, in FF,\n",
       "    // the notebook keyboard shortcuts fail.\n",
       "    IPython.keyboard_manager.enable();\n",
       "    fig.parent_element.innerHTML =\n",
       "        '<img src=\"' + dataURL + '\" width=\"' + width + '\">';\n",
       "    fig.close_ws(fig, msg);\n",
       "};\n",
       "\n",
       "mpl.figure.prototype.close_ws = function (fig, msg) {\n",
       "    fig.send_message('closing', msg);\n",
       "    // fig.ws.close()\n",
       "};\n",
       "\n",
       "mpl.figure.prototype.push_to_output = function (_remove_interactive) {\n",
       "    // Turn the data on the canvas into data in the output cell.\n",
       "    var width = this.canvas.width / this.ratio;\n",
       "    var dataURL = this.canvas.toDataURL();\n",
       "    this.cell_info[1]['text/html'] =\n",
       "        '<img src=\"' + dataURL + '\" width=\"' + width + '\">';\n",
       "};\n",
       "\n",
       "mpl.figure.prototype.updated_canvas_event = function () {\n",
       "    // Tell IPython that the notebook contents must change.\n",
       "    IPython.notebook.set_dirty(true);\n",
       "    this.send_message('ack', {});\n",
       "    var fig = this;\n",
       "    // Wait a second, then push the new image to the DOM so\n",
       "    // that it is saved nicely (might be nice to debounce this).\n",
       "    setTimeout(function () {\n",
       "        fig.push_to_output();\n",
       "    }, 1000);\n",
       "};\n",
       "\n",
       "mpl.figure.prototype._init_toolbar = function () {\n",
       "    var fig = this;\n",
       "\n",
       "    var toolbar = document.createElement('div');\n",
       "    toolbar.classList = 'btn-toolbar';\n",
       "    this.root.appendChild(toolbar);\n",
       "\n",
       "    function on_click_closure(name) {\n",
       "        return function (_event) {\n",
       "            return fig.toolbar_button_onclick(name);\n",
       "        };\n",
       "    }\n",
       "\n",
       "    function on_mouseover_closure(tooltip) {\n",
       "        return function (event) {\n",
       "            if (!event.currentTarget.disabled) {\n",
       "                return fig.toolbar_button_onmouseover(tooltip);\n",
       "            }\n",
       "        };\n",
       "    }\n",
       "\n",
       "    fig.buttons = {};\n",
       "    var buttonGroup = document.createElement('div');\n",
       "    buttonGroup.classList = 'btn-group';\n",
       "    var button;\n",
       "    for (var toolbar_ind in mpl.toolbar_items) {\n",
       "        var name = mpl.toolbar_items[toolbar_ind][0];\n",
       "        var tooltip = mpl.toolbar_items[toolbar_ind][1];\n",
       "        var image = mpl.toolbar_items[toolbar_ind][2];\n",
       "        var method_name = mpl.toolbar_items[toolbar_ind][3];\n",
       "\n",
       "        if (!name) {\n",
       "            /* Instead of a spacer, we start a new button group. */\n",
       "            if (buttonGroup.hasChildNodes()) {\n",
       "                toolbar.appendChild(buttonGroup);\n",
       "            }\n",
       "            buttonGroup = document.createElement('div');\n",
       "            buttonGroup.classList = 'btn-group';\n",
       "            continue;\n",
       "        }\n",
       "\n",
       "        button = fig.buttons[name] = document.createElement('button');\n",
       "        button.classList = 'btn btn-default';\n",
       "        button.href = '#';\n",
       "        button.title = name;\n",
       "        button.innerHTML = '<i class=\"fa ' + image + ' fa-lg\"></i>';\n",
       "        button.addEventListener('click', on_click_closure(method_name));\n",
       "        button.addEventListener('mouseover', on_mouseover_closure(tooltip));\n",
       "        buttonGroup.appendChild(button);\n",
       "    }\n",
       "\n",
       "    if (buttonGroup.hasChildNodes()) {\n",
       "        toolbar.appendChild(buttonGroup);\n",
       "    }\n",
       "\n",
       "    // Add the status bar.\n",
       "    var status_bar = document.createElement('span');\n",
       "    status_bar.classList = 'mpl-message pull-right';\n",
       "    toolbar.appendChild(status_bar);\n",
       "    this.message = status_bar;\n",
       "\n",
       "    // Add the close button to the window.\n",
       "    var buttongrp = document.createElement('div');\n",
       "    buttongrp.classList = 'btn-group inline pull-right';\n",
       "    button = document.createElement('button');\n",
       "    button.classList = 'btn btn-mini btn-primary';\n",
       "    button.href = '#';\n",
       "    button.title = 'Stop Interaction';\n",
       "    button.innerHTML = '<i class=\"fa fa-power-off icon-remove icon-large\"></i>';\n",
       "    button.addEventListener('click', function (_evt) {\n",
       "        fig.handle_close(fig, {});\n",
       "    });\n",
       "    button.addEventListener(\n",
       "        'mouseover',\n",
       "        on_mouseover_closure('Stop Interaction')\n",
       "    );\n",
       "    buttongrp.appendChild(button);\n",
       "    var titlebar = this.root.querySelector('.ui-dialog-titlebar');\n",
       "    titlebar.insertBefore(buttongrp, titlebar.firstChild);\n",
       "};\n",
       "\n",
       "mpl.figure.prototype._remove_fig_handler = function (event) {\n",
       "    var fig = event.data.fig;\n",
       "    if (event.target !== this) {\n",
       "        // Ignore bubbled events from children.\n",
       "        return;\n",
       "    }\n",
       "    fig.close_ws(fig, {});\n",
       "};\n",
       "\n",
       "mpl.figure.prototype._root_extra_style = function (el) {\n",
       "    el.style.boxSizing = 'content-box'; // override notebook setting of border-box.\n",
       "};\n",
       "\n",
       "mpl.figure.prototype._canvas_extra_style = function (el) {\n",
       "    // this is important to make the div 'focusable\n",
       "    el.setAttribute('tabindex', 0);\n",
       "    // reach out to IPython and tell the keyboard manager to turn it's self\n",
       "    // off when our div gets focus\n",
       "\n",
       "    // location in version 3\n",
       "    if (IPython.notebook.keyboard_manager) {\n",
       "        IPython.notebook.keyboard_manager.register_events(el);\n",
       "    } else {\n",
       "        // location in version 2\n",
       "        IPython.keyboard_manager.register_events(el);\n",
       "    }\n",
       "};\n",
       "\n",
       "mpl.figure.prototype._key_event_extra = function (event, _name) {\n",
       "    // Check for shift+enter\n",
       "    if (event.shiftKey && event.which === 13) {\n",
       "        this.canvas_div.blur();\n",
       "        // select the cell after this one\n",
       "        var index = IPython.notebook.find_cell_index(this.cell_info[0]);\n",
       "        IPython.notebook.select(index + 1);\n",
       "    }\n",
       "};\n",
       "\n",
       "mpl.figure.prototype.handle_save = function (fig, _msg) {\n",
       "    fig.ondownload(fig, null);\n",
       "};\n",
       "\n",
       "mpl.find_output_cell = function (html_output) {\n",
       "    // Return the cell and output element which can be found *uniquely* in the notebook.\n",
       "    // Note - this is a bit hacky, but it is done because the \"notebook_saving.Notebook\"\n",
       "    // IPython event is triggered only after the cells have been serialised, which for\n",
       "    // our purposes (turning an active figure into a static one), is too late.\n",
       "    var cells = IPython.notebook.get_cells();\n",
       "    var ncells = cells.length;\n",
       "    for (var i = 0; i < ncells; i++) {\n",
       "        var cell = cells[i];\n",
       "        if (cell.cell_type === 'code') {\n",
       "            for (var j = 0; j < cell.output_area.outputs.length; j++) {\n",
       "                var data = cell.output_area.outputs[j];\n",
       "                if (data.data) {\n",
       "                    // IPython >= 3 moved mimebundle to data attribute of output\n",
       "                    data = data.data;\n",
       "                }\n",
       "                if (data['text/html'] === html_output) {\n",
       "                    return [cell, data, j];\n",
       "                }\n",
       "            }\n",
       "        }\n",
       "    }\n",
       "};\n",
       "\n",
       "// Register the function which deals with the matplotlib target/channel.\n",
       "// The kernel may be null if the page has been refreshed.\n",
       "if (IPython.notebook.kernel !== null) {\n",
       "    IPython.notebook.kernel.comm_manager.register_target(\n",
       "        'matplotlib',\n",
       "        mpl.mpl_figure_comm\n",
       "    );\n",
       "}\n"
      ],
      "text/plain": [
       "<IPython.core.display.Javascript object>"
      ]
     },
     "metadata": {},
     "output_type": "display_data"
    },
    {
     "data": {
      "text/html": [
       "<img src=\"data:image/png;base64,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\" width=\"936\">"
      ],
      "text/plain": [
       "<IPython.core.display.HTML object>"
      ]
     },
     "metadata": {},
     "output_type": "display_data"
    }
   ],
   "source": [
    "# DataPredResults.groupby(['Dataset','Model','d']).size()\n",
    "# DataPredResults\n",
    "%matplotlib notebook\n",
    "import matplotlib.style as style\n",
    "style.use('seaborn-colorblind')\n",
    "sns.set_context(\"paper\",font_scale = 2, rc={\"font.size\":20,\"axes.titlesize\":8,\"axes.labelsize\":10})\n",
    "\n",
    "# DataPredResults.loc[DataPredResults['d']=='random','Model']=DataPredResults[DataPredResults['d']=='random']['Model']+'-'+DataPredResults[DataPredResults['d']=='random']['d']\n",
    "plt.figure(figsize=(13,4))\n",
    "\n",
    "# plt.rcParams[\"axes.labelsize\"] = 40\n",
    "sns.set_theme(style=\"whitegrid\")\n",
    "ax = sns.boxplot(x=\"Dataset\", y=\"pred score\", hue=\"Model\",data=DataPredResults,\\\n",
    "                order=['TAORF','CDRP-bio','LINCS','LUAD'], hue_order=['Lasso-random','Lasso','MLP-random','MLP'])\n",
    "ax.set_ylim(-0.5,1);\n",
    "ax.set_ylabel(\"prediction score ($R^2$)\")#, fontweight='bold'); #fontsize=14,\n",
    "ax.axhline(y=0,linestyle=':',color='k');\n",
    "plt.tight_layout()\n",
    "plt.legend(bbox_to_anchor=(1, .65), loc='upper left', borderaxespad=0)\n",
    "plt.tight_layout()\n",
    "\n",
    "if 1:\n",
    "    plt.savefig('fig2a.png',dpi=400)\n",
    "#     saveAsNewSheetToExistingFile(source_data_add,DataPredResults,'fig2a')"
   ]
  },
  {
   "cell_type": "markdown",
   "metadata": {},
   "source": [
    "#### Save derived list of genes for GO analysis"
   ]
  },
  {
   "cell_type": "code",
   "execution_count": null,
   "metadata": {},
   "outputs": [],
   "source": [
    "# meta=pd.read_csv(\"/home/ubuntu/bucket/projects/2018_04_20_Rosetta/workspace/metadata/affy_probe_gene_mapping.txt\",delimiter=\"\\t\",header=None, names=[\"probe_id\", \"gene\"])\n",
    "# meta\n",
    "#         meta_gene_probID=meta.set_index('probe_id')\n",
    "#         d = dict(zip(meta_gene_probID.index, meta_gene_probID['gene']))\n",
    "union_geneSymbols_1170=DataPredResults.symbol.unique()\n",
    "# len(union_geneSymbols_1170)\n",
    "\n",
    "textfile = open(\"../GO_terms_search/union_geneSymbols_1170.txt\", \"w\")\n",
    "for element in union_geneSymbols_1170:\n",
    "    textfile.write(element + \"\\n\")\n",
    "textfile.close()\n",
    "\n",
    "ov_c=DataPredResults[(DataPredResults['d']=='n-folds')].groupby(['symbol']).size()==8\n",
    "overlap_genes_across_DSs=ov_c[ov_c==True].index.tolist()\n",
    "textfile = open(\"../GO_terms_search/intersection_geneSymbols_785.txt\", \"w\")\n",
    "for element in overlap_genes_across_DSs:\n",
    "    textfile.write(element + \"\\n\")\n",
    "textfile.close()\n",
    "\n",
    "LUAD_978=DataPredResults[(DataPredResults['Dataset']=='LUAD')].symbol.unique().tolist()\n",
    "textfile = open(\"../GO_terms_search/LUAD_geneSymbols_978.txt\", \"w\")\n",
    "for element in LUAD_978:\n",
    "    textfile.write(element + \"\\n\")\n",
    "textfile.close()"
   ]
  },
  {
   "cell_type": "markdown",
   "metadata": {},
   "source": [
    "## Single gene prediction table\n",
    "- Figure 2b"
   ]
  },
  {
   "cell_type": "code",
   "execution_count": null,
   "metadata": {},
   "outputs": [],
   "source": [
    "DataPredResults2=DataPredResults.loc[DataPredResults['d']!='random'].reset_index(drop=True)\n",
    "DataPredResults2[DataPredResults2[\"pred score\"]>DataPredResults2['rand99th']+0.2].\\\n",
    "groupby(['Dataset','Model']).size()*100/978#*100/977"
   ]
  },
  {
   "cell_type": "code",
   "execution_count": 12,
   "metadata": {},
   "outputs": [
    {
     "data": {
      "text/plain": [
       "Dataset   Model\n",
       "CDRP-bio  Lasso     64\n",
       "          MLP       86\n",
       "LINCS     Lasso    227\n",
       "          MLP      343\n",
       "LUAD      Lasso    574\n",
       "          MLP      617\n",
       "TAORF     Lasso     46\n",
       "          MLP       54\n",
       "dtype: int64"
      ]
     },
     "execution_count": 12,
     "metadata": {},
     "output_type": "execute_result"
    }
   ],
   "source": [
    "DataPredResults2=DataPredResults.loc[DataPredResults['d']!='random'].reset_index(drop=True)\n",
    "DataPredResults2[DataPredResults2[\"pred score\"]>DataPredResults2['rand99th']+0.2].groupby(['Dataset','Model']).size()"
   ]
  },
  {
   "cell_type": "code",
   "execution_count": 21,
   "metadata": {},
   "outputs": [
    {
     "data": {
      "text/plain": [
       "Dataset   Model\n",
       "CDRP-bio  Lasso    0.045942\n",
       "          MLP      0.123585\n",
       "LINCS     Lasso   -0.003215\n",
       "          MLP      0.002911\n",
       "LUAD      Lasso    0.020513\n",
       "          MLP      0.062938\n",
       "TAORF     Lasso    0.039247\n",
       "          MLP      0.076873\n",
       "Name: rand99th, dtype: float64"
      ]
     },
     "execution_count": 21,
     "metadata": {},
     "output_type": "execute_result"
    }
   ],
   "source": [
    "DataPredResults2[['Dataset','Model','rand99th']].groupby(['Dataset','Model']).mean()['rand99th']"
   ]
  },
  {
   "cell_type": "code",
   "execution_count": null,
   "metadata": {},
   "outputs": [],
   "source": [
    "if 0:\n",
    "    saveAsNewSheetToExistingFile(source_data_add,(DataPredResults2[DataPredResults2[\"pred score\"]>DataPredResults2['rand99th']+0.2].groupby(['Dataset','Model']).size()),'fig2b')"
   ]
  },
  {
   "cell_type": "code",
   "execution_count": null,
   "metadata": {},
   "outputs": [],
   "source": []
  },
  {
   "cell_type": "markdown",
   "metadata": {},
   "source": [
    "## Venn diagram of the highly predictable genes across datasets - MLP model\n",
    "- Figure 2c"
   ]
  },
  {
   "cell_type": "code",
   "execution_count": null,
   "metadata": {},
   "outputs": [],
   "source": [
    "DataPredRes4venn=DataPredResults2[DataPredResults2[\"pred score\"]>DataPredResults2['rand99th']+0.2]\n",
    "DataPredRes4venn=DataPredRes4venn[DataPredRes4venn['Model']=='MLP'].reset_index(drop=True)\n",
    "DataPredRes4venn['hp-scores']=DataPredRes4venn[\"pred score\"]-(DataPredRes4venn['rand99th']+0.2)\n",
    "# DataPredRes4venn\n",
    "\n",
    "from venn import venn\n",
    "list_4_ven={}\n",
    "dsets=[\"CDRP-bio\",\"LINCS\",\"LUAD\", \"TAORF\"]\n",
    "set_lab=tuple(dsets) \n",
    "# plt.figure()\n",
    "for d in dsets:\n",
    "    list_4_ven[d]=set(DataPredRes4venn[DataPredRes4venn[\"Dataset\"]==d].symbol)\n",
    "\n",
    "# venn(list_4_ven,legend_loc='upper center')\n",
    "venn(list_4_ven,legend_loc='lower right');\n",
    "# plt.tight_layout()\n",
    "# plt.savefig('fig2c.pdf')\n",
    "if 0:\n",
    "    saveAsNewSheetToExistingFile(source_data_add,DataPredRes4venn[['symbol','Dataset','Model']],'fig2c')"
   ]
  },
  {
   "cell_type": "code",
   "execution_count": null,
   "metadata": {},
   "outputs": [],
   "source": []
  },
  {
   "cell_type": "code",
   "execution_count": null,
   "metadata": {},
   "outputs": [],
   "source": [
    "with pd.option_context('display.max_rows', None, 'display.max_columns', None):  # more options can be specified also\n",
    "    print(DataPredRes4venn.groupby('symbol').size().reset_index())"
   ]
  },
  {
   "cell_type": "code",
   "execution_count": null,
   "metadata": {},
   "outputs": [],
   "source": [
    "# DataPredRes4venn"
   ]
  },
  {
   "cell_type": "code",
   "execution_count": null,
   "metadata": {},
   "outputs": [],
   "source": [
    "\n",
    "# top_58_overlappingGenes=DataPredRes4venn.groupby('symbol').size()[list(DataPredRes4venn.groupby('symbol').size()>3)].index.to_list()\n",
    "\n",
    "# textfile = open(\"top_58_common.txt\", \"w\")\n",
    "# for element in top_58_overlappingGenes:\n",
    "#     textfile.write(element + \"\\n\")\n",
    "# textfile.close()"
   ]
  },
  {
   "cell_type": "code",
   "execution_count": null,
   "metadata": {},
   "outputs": [],
   "source": [
    "np.sum([list(DataPredRes4venn.groupby('symbol').size()>2)])"
   ]
  },
  {
   "cell_type": "code",
   "execution_count": null,
   "metadata": {},
   "outputs": [],
   "source": [
    "# DataPredRes4venn.groupby('symbol').size()"
   ]
  },
  {
   "cell_type": "code",
   "execution_count": null,
   "metadata": {},
   "outputs": [],
   "source": [
    "## Save for GO analysis\n",
    "top_59_atleast_topIn3=DataPredRes4venn.groupby('symbol').size()[list(DataPredRes4venn.groupby('symbol').size()>2)].index.to_list()\n",
    "len(top_59_atleast_topIn3)\n",
    "textfile = open(\"../GO_terms_search/top_59_atleast_topIn3.txt\", \"w\")\n",
    "for element in top_59_atleast_topIn3:\n",
    "    textfile.write(element + \"\\n\")\n",
    "textfile.close()"
   ]
  },
  {
   "cell_type": "code",
   "execution_count": null,
   "metadata": {},
   "outputs": [],
   "source": []
  },
  {
   "cell_type": "markdown",
   "metadata": {
    "heading_collapsed": true
   },
   "source": [
    "## Explore gene family of top 100 genes in LUAD\n",
    "- Using hgnc_gene_group_family_dictionary\n",
    "\n",
    "- Extended data 2"
   ]
  },
  {
   "cell_type": "code",
   "execution_count": null,
   "metadata": {
    "hidden": true
   },
   "outputs": [],
   "source": [
    "# top 58 overlap in all datasets\n",
    "\"\"\"\n",
    "topInAll=DataPredRes4venn.groupby(['lmGens','Dataset']).size().reset_index().groupby(['lmGens']).size().reset_index()\n",
    "top58=topInAll[topInAll[0]>3].lmGens.tolist()\n",
    "\"\"\"\n",
    "\n",
    "# top 20 in LUAD - First version\n",
    "# top58=DataPredResults2[DataPredResults2[\"Dataset\"]==\"LUAD\"].sort_values(by=\"pred score\")[-20:]['symbol'].tolist()\n",
    "\n",
    "# Revision version\n",
    "top_LUAD=DataPredResults[(DataPredResults['Dataset']=='LUAD') & (DataPredResults['Model']=='MLP')].reset_index(drop=True).\\\n",
    "sort_values(by='pred score',ascending=False).reset_index(drop=True)\n",
    "# top_luad_list=top_LUAD[top_LUAD['pred score']>0.9]['symbol'].tolist()\n",
    "\n",
    "top_100_luad_list=top_LUAD[0:100].symbol.tolist()\n",
    "textfile = open(\"../GO_terms_search/top_100_luad.txt\", \"w\")\n",
    "for element in top_100_luad_list:\n",
    "    textfile.write(element + \"\\n\")\n",
    "textfile.close()"
   ]
  },
  {
   "cell_type": "code",
   "execution_count": null,
   "metadata": {
    "hidden": true
   },
   "outputs": [],
   "source": [
    "# len(top_luad_list)\n",
    "# top_luad_list\n"
   ]
  },
  {
   "cell_type": "code",
   "execution_count": null,
   "metadata": {
    "hidden": true
   },
   "outputs": [],
   "source": [
    "# top58=DataPredResults2[DataPredResults2[\"Dataset\"]==\"LUAD\"].sort_values(by=\"pred score\")[-20:]['lmGens'].tolist()\n",
    "# top58\n",
    "# DataPredResults2[DataPredResults2[\"Dataset\"]==\"LUAD\"].sort_values(by=\"pred score\")[-20:]"
   ]
  },
  {
   "cell_type": "code",
   "execution_count": null,
   "metadata": {
    "hidden": true,
    "scrolled": true
   },
   "outputs": [],
   "source": [
    "print('\\n'.join(top_LUAD.lmGens))"
   ]
  },
  {
   "cell_type": "code",
   "execution_count": null,
   "metadata": {
    "hidden": true
   },
   "outputs": [],
   "source": [
    "print('\\n'.join(top_luad_list))"
   ]
  },
  {
   "cell_type": "code",
   "execution_count": null,
   "metadata": {
    "hidden": true
   },
   "outputs": [],
   "source": [
    "meta_geneFamily = pd.read_csv(\"/home/ubuntu/bucket/projects/2018_04_20_Rosetta/workspace/metadata/hgnc_gene_group_family_dictionary.csv\")\n",
    "# genesU = meta_geneFamily.approved_symbol.unique().tolist()\n",
    "# meta_geneFamilyU=pd.DataFrame(index=range(len(genesU)),columns=[\"lmGens\",\"gene_group_name\"])\n",
    "\n",
    "meta_geneFamily_top=meta_geneFamily[meta_geneFamily['approved_symbol'].isin(top_100_luad_list)].reset_index(drop=True)\n",
    "meta_top=meta_geneFamily_top.groupby(['gene_group_name']).size().sort_values(ascending=False).reset_index()"
   ]
  },
  {
   "cell_type": "code",
   "execution_count": null,
   "metadata": {
    "hidden": true
   },
   "outputs": [],
   "source": [
    "two_cols_toprint"
   ]
  },
  {
   "cell_type": "code",
   "execution_count": null,
   "metadata": {
    "hidden": true
   },
   "outputs": [],
   "source": [
    "# [meta_top.loc[0:43,['gene_group_name','Genes']].reset_index(drop=True),\\\n",
    "#            meta_top.loc[44:,['gene_group_name','Genes']].reset_index(drop=True)]\n",
    "meta_top"
   ]
  },
  {
   "cell_type": "code",
   "execution_count": null,
   "metadata": {
    "hidden": true
   },
   "outputs": [],
   "source": [
    "# meta_top\n",
    "two_cols_toprint=pd.concat([meta_top.loc[0:43,['gene_group_name','Genes']].reset_index(drop=True),\\\n",
    "           meta_top.loc[44:,['gene_group_name','Genes']].reset_index(drop=True)],\\\n",
    "          axis=1,ignore_index=True)"
   ]
  },
  {
   "cell_type": "code",
   "execution_count": null,
   "metadata": {
    "hidden": true
   },
   "outputs": [],
   "source": [
    "saveAsNewSheetToExistingFile(source_data_add,two_cols_toprint,'ExtendedDataTable2')"
   ]
  },
  {
   "cell_type": "code",
   "execution_count": null,
   "metadata": {
    "hidden": true
   },
   "outputs": [],
   "source": [
    "print(two_cols_toprint.to_latex(index=False))  "
   ]
  },
  {
   "cell_type": "code",
   "execution_count": null,
   "metadata": {
    "hidden": true
   },
   "outputs": [],
   "source": [
    "# meta_geneFamily_top[meta_geneFamily_top['gene_group_name'].isin(meta_top.gene_group_name.tolist())]\n",
    "# meta_geneFamily_top.groupby(['gene_group_name','approved_symbol']).size().sort_values(by=ascending=False)\n",
    "# meta_geneFamily_top.groupby(['gene_group_name']).size()\n",
    "top_groups=meta_top.gene_group_name.tolist()\n",
    "for t in top_groups:\n",
    "    meta_top.loc[meta_top['gene_group_name']==t,'Genes']=\\\n",
    "    ','.join(meta_geneFamily_top.loc[meta_geneFamily_top['gene_group_name']==t,'approved_symbol'].tolist())"
   ]
  },
  {
   "cell_type": "code",
   "execution_count": null,
   "metadata": {
    "hidden": true
   },
   "outputs": [],
   "source": [
    "# print(meta_top[['gene_group_name','Genes']].to_latex(index=False))  "
   ]
  },
  {
   "cell_type": "code",
   "execution_count": null,
   "metadata": {
    "hidden": true
   },
   "outputs": [],
   "source": [
    "# meta_geneFamily[meta_geneFamily['approved_symbol'].isin(top58)].shape\n",
    "# meta_top\n",
    "# meta_geneFamily_top\n",
    "meta_geneFamily_top.groupby(['gene_group_name','approved_symbol']).size()"
   ]
  },
  {
   "cell_type": "code",
   "execution_count": null,
   "metadata": {
    "hidden": true
   },
   "outputs": [],
   "source": [
    "# from matplotlib.cm import get_cmap\n",
    "\n",
    "# name = \"tab20\"\n",
    "# cmap = get_cmap(name,10)  # type: matplotlib.colors.ListedColormap\n",
    "# # colors = \n",
    "# cmap.colors\n",
    "# # len(labels)"
   ]
  },
  {
   "cell_type": "code",
   "execution_count": null,
   "metadata": {
    "hidden": true
   },
   "outputs": [],
   "source": [
    "# fig, ax = plt.subplots(figsize=(8, 7), subplot_kw=dict(aspect=\"equal\"))\n",
    "\n",
    "# labels = meta_geneFamily_top['approved_symbol'].to_list()\n",
    "# ingredients = meta_geneFamily_top['gene_group_name'].to_list()\n",
    "# data=np.ones(meta_geneFamily_top['gene_group_name'].shape[0],)\n",
    "\n",
    "\n",
    "# wedges, autotexts = ax.pie(data,labels=labels,colors=get_cmap('tab20',len(labels)).colors ,#autopct=lambda pct: func(pct,meta_geneFamily_top),\n",
    "#                                   textprops=dict(color=\"k\"))\n",
    "\n",
    "# ax.legend(wedges, ingredients,\n",
    "#           title=\"Gene Family\",\n",
    "#           loc=\"center left\",\n",
    "#           bbox_to_anchor=(1.05, 0, 0.5, 1))\n",
    "\n",
    "# plt.setp(autotexts, size=10, weight=\"bold\")\n",
    "\n",
    "# # ax.set_title(\"LUAD top genes\")\n",
    "# plt.tight_layout()\n",
    "# plt.show()"
   ]
  },
  {
   "cell_type": "code",
   "execution_count": null,
   "metadata": {
    "hidden": true
   },
   "outputs": [],
   "source": [
    "meta_geneFamily_top['approved_symbol'].shape"
   ]
  },
  {
   "cell_type": "code",
   "execution_count": null,
   "metadata": {
    "hidden": true
   },
   "outputs": [],
   "source": [
    "# wedges"
   ]
  },
  {
   "cell_type": "markdown",
   "metadata": {},
   "source": [
    "## Supp Table of prediction scores for each of the MLP and Lasso models \n",
    "- Supplementary D"
   ]
  },
  {
   "cell_type": "code",
   "execution_count": null,
   "metadata": {},
   "outputs": [],
   "source": [
    "unq_lmgenes=DataPredResults2['symbol'].unique()\n",
    "\n",
    "d_luad=DataPredResults2[DataPredResults2['Dataset']=='LUAD'].reset_index(drop=True)\n",
    "d_cdrpbio=DataPredResults2[DataPredResults2['Dataset']=='CDRP-bio'].reset_index(drop=True)\n",
    "d_lincs=DataPredResults2[DataPredResults2['Dataset']=='LINCS'].reset_index(drop=True)\n",
    "d_taorf=DataPredResults2[DataPredResults2['Dataset']=='TAORF'].reset_index(drop=True)\n",
    "\n",
    "# unq_lmgenes"
   ]
  },
  {
   "cell_type": "code",
   "execution_count": null,
   "metadata": {},
   "outputs": [],
   "source": [
    "# DataPredResults2"
   ]
  },
  {
   "cell_type": "code",
   "execution_count": null,
   "metadata": {},
   "outputs": [],
   "source": [
    "cols=[\"CDRP-bio-Lasso\",\"CDRP-bio-MLP\",\\\n",
    "        \"LUAD-Lasso\",\"LUAD-MLP\",\\\n",
    "        \"LINCS-Lasso\",\"LINCS-MLP\",\\\n",
    "        \"TAORF-Lasso\",\"TAORF-MLP\"]\n",
    "DataAppendix=pd.DataFrame(index=unq_lmgenes,columns=cols)\n",
    "\n",
    "for ds in ['LUAD', 'TAORF', 'LINCS', 'CDRP-bio']:\n",
    "    for m in ['Lasso','MLP']:\n",
    "        d_luad=DataPredResults2[DataPredResults2['Dataset']==ds].reset_index(drop=True)\n",
    "        d_luad2=d_luad[(d_luad[\"Model\"]==m)]\n",
    "        DataAppendix.loc[d_luad2[\"symbol\"].values,ds+\"-\"+m]=d_luad2[\"pred score\"].values\n",
    "DataAppendix[cols]=DataAppendix[cols]*100\n",
    "DataAppendix[cols]=DataAppendix[cols].astype(float).round(2)"
   ]
  },
  {
   "cell_type": "code",
   "execution_count": null,
   "metadata": {},
   "outputs": [],
   "source": [
    "DataAppendix.to_csv(results_dir+'/SingleGenePred/Appendix_D.csv')"
   ]
  },
  {
   "cell_type": "code",
   "execution_count": null,
   "metadata": {},
   "outputs": [],
   "source": [
    "# DataAppendix"
   ]
  },
  {
   "cell_type": "code",
   "execution_count": null,
   "metadata": {},
   "outputs": [],
   "source": [
    "# DataAppendix#.to_markdown()"
   ]
  },
  {
   "cell_type": "code",
   "execution_count": null,
   "metadata": {},
   "outputs": [],
   "source": [
    "# DataAppendix.loc[unq_lmgenes.tolist()]"
   ]
  },
  {
   "cell_type": "code",
   "execution_count": null,
   "metadata": {},
   "outputs": [],
   "source": [
    "DataAppendix.shape\n",
    "    \n",
    "# DataAppendix[unq_lmgenes,\"LUAD-MLP\"]=d_luad[(d_luad[\"lmGens\"].isin(unq_lmgenes))&(d_luad[\"Model\"]=='MLP')][\"pred score\"]"
   ]
  },
  {
   "cell_type": "code",
   "execution_count": null,
   "metadata": {},
   "outputs": [],
   "source": []
  },
  {
   "cell_type": "code",
   "execution_count": null,
   "metadata": {},
   "outputs": [],
   "source": [
    "# # d_luad[\"lmGens\"]\n",
    "# # DataAppendix.loc[d_luad[\"lmGens\"].values]\n",
    "# for i in range(0,55*20,55):\n",
    "#     print(\"\\\\begin{table}\")\n",
    "#     print(DataAppendix[i:i+55].to_latex(index=True))  \n",
    "#     print(\"\\end{table}\")"
   ]
  },
  {
   "cell_type": "code",
   "execution_count": null,
   "metadata": {},
   "outputs": [],
   "source": []
  },
  {
   "cell_type": "code",
   "execution_count": null,
   "metadata": {},
   "outputs": [],
   "source": [
    "# # DataPredResults\n",
    "# dataset_meth_dists[DataPredResults['Model']==models[m]]"
   ]
  },
  {
   "cell_type": "markdown",
   "metadata": {
    "heading_collapsed": true
   },
   "source": [
    "## Supplementary C - Top 50 GE using MLP\n",
    "- Supplementary C (Supplementary Figure 2.)"
   ]
  },
  {
   "cell_type": "code",
   "execution_count": null,
   "metadata": {
    "hidden": true
   },
   "outputs": [],
   "source": [
    "datasets=['TAORF', 'CDRP-bio' ,'LINCS', 'LUAD']\n",
    "models=[\"MLP\"]\n",
    "# f='-filt';#'-filt'\n",
    "DataPredResults=pd.concat(DataPredResults_ls, ignore_index=True)      \n",
    "fig, axes = plt.subplots(len(datasets),1,figsize=(12,20))\n",
    "sns.set_context(\"paper\")\n",
    "sns.set_style(\"whitegrid\")\n",
    "my_pal = {\"random\": \"g\", \"n-folds\": \"r\"}\n",
    "# sns.rcParams['patch.force_edgecolor'] = True\n",
    "# for d in range(5):#(len(datasets)):\n",
    "for d in range(len(datasets)):\n",
    "    for m in range(len(models)):\n",
    "        dataset_meth_dists=DataPredResults[(DataPredResults['Dataset']==datasets[d]) &\\\n",
    "                                                    (DataPredResults['Model']==models[m])]\n",
    "        sorted_gene_mean_scores=dataset_meth_dists[dataset_meth_dists['d']=='n-folds'].groupby(['symbol','d']).median().reset_index().sort_values(by=['pred score'],ascending=False)\n",
    "        top_lmGenes=sorted_gene_mean_scores['symbol'].tolist()[0:50]\n",
    "        dataset_meth_dists_top_50=dataset_meth_dists[dataset_meth_dists['symbol'].isin(top_lmGenes)]\n",
    "        \n",
    "#         f, axes = plt.subplots(figsize=(15,4))\n",
    "        axes[d].set_title(\"Dataset: \"+datasets[d])\n",
    "        sns.boxplot(x=\"symbol\", y=\"pred score\",hue=\"d\", data=dataset_meth_dists_top_50,ax=axes[d],order=top_lmGenes,\\\n",
    "                   palette=my_pal,hue_order=['random','n-folds'])\n",
    "#         sns.swarmplot(x=\"symbol\", y=\"pred score\",hue=\"d\", data=dataset_meth_dists_top_50,ax=axes[d],order=top_lmGenes,color='0.25')\n",
    "        # ax = sns.violinplot(x=\"symbol\", y=\"pred score\", hue=\"d\",data=tips2, palette=\"muted\", split=True)\n",
    "        axes[d].set_xticklabels(axes[d].get_xticklabels(),rotation=90,fontsize=10);\n",
    "        axes[d].set_ylabel(\"Accuracy ($R^2$)\", fontweight='bold');\n",
    "        axes[d].set_xlabel(\"L1000 landmark genes\");\n",
    "        axes[d].set_ylim(-1, 1)\n",
    "        \n",
    "fig.tight_layout()\n",
    "fig.savefig('supp_c.pdf',papertype='letter',dpi=500)"
   ]
  },
  {
   "cell_type": "code",
   "execution_count": null,
   "metadata": {
    "hidden": true
   },
   "outputs": [],
   "source": []
  },
  {
   "cell_type": "markdown",
   "metadata": {
    "heading_collapsed": true
   },
   "source": [
    "## single GE cross datasets prediction results (LUAD and LINCS)\n",
    "- Extended Data 1"
   ]
  },
  {
   "cell_type": "code",
   "execution_count": 10,
   "metadata": {
    "hidden": true
   },
   "outputs": [
    {
     "data": {
      "text/plain": [
       "dict_keys(['Lasso-n-filt-ht', 'Ridge-nvs-filt-ht', 'Lasso-nvsu-filt-ht', 'MLP-nvsu-filt-ht', 'MLP-n-filt-ht', 'Ridge-n-filt-ht', 'Ridge-nvsu-filt-ht'])"
      ]
     },
     "execution_count": 10,
     "metadata": {},
     "output_type": "execute_result"
    }
   ],
   "source": [
    "filename=results_dir+'/SingleGenePred/scores_cross_dts_LU_LI.xlsx'\n",
    "saved_scores=pd.read_excel(filename, sheet_name=None)\n",
    "saved_scores.keys()\n",
    "# saved_scores\n"
   ]
  },
  {
   "cell_type": "code",
   "execution_count": 11,
   "metadata": {
    "hidden": true
   },
   "outputs": [
    {
     "data": {
      "image/png": "[encoded data removed]",
      "text/plain": [
       "<Figure size 720x360 with 2 Axes>"
      ]
     },
     "metadata": {},
     "output_type": "display_data"
    }
   ],
   "source": [
    "filename=results_dir+'/SingleGenePred/scores_cross_dts_LU_LI.xlsx'\n",
    "saved_scores=pd.read_excel(filename, sheet_name=None)\n",
    "saved_scores.keys()\n",
    "\n",
    "# DataPredResults.loc[DataPredResults['d']=='random','Model']=DataPredResults[DataPredResults['d']=='random']['Model']+'-'+DataPredResults[DataPredResults['d']=='random']['d']\n",
    "\n",
    "scores_l=saved_scores['Lasso-nvsu-filt-ht']\n",
    "scores_l['Model']='Lasso'\n",
    "\n",
    "scores_r=saved_scores['Ridge-nvs-filt-ht']\n",
    "scores_r['Model']='Ridge'\n",
    "\n",
    "scores_m=saved_scores['MLP-nvsu-filt-ht']\n",
    "scores_m['Model']='MLP'\n",
    "\n",
    "# scores=pd.concat([scores_l,scores_r,scores_m])\n",
    "scores=pd.concat([scores_l,scores_m])\n",
    "scores=scores.replace('LUAD-LINCS','traind by LUAD\\n                predicting LINCS')\n",
    "scores=scores.replace('LINCS-LUAD','traind by LINCS\\n               predicting LUAD')\n",
    "scores.loc[scores['d']=='random','Model']=scores[scores['d']=='random']['Model']+'-shuffled'#+scores[scores['d']=='random']['d']\n",
    "# my_pal = {\"random\": \"g\", \"n-folds\": \"r\"}\n",
    "sns.set(font_scale = 1)\n",
    "sns.set_style(\"whitegrid\")\n",
    "scores=scores.rename(columns={'DT':'model'})\n",
    "ax = sns.catplot(x=\"Model\", y=\"pred score\",col=\"model\",kind=\"box\",order=['Lasso-shuffled','Lasso','MLP-shuffled','MLP'],\n",
    "                 data=scores, linewidth=1.5)\n",
    "# ax[0].set_title('hello')\n",
    "# hue_order=['random','n-folds'], palette=my_pal\n",
    "# ax.set_ylim(-1,1);\n",
    "ax.set(ylim=(-1, 1))\n",
    "\n",
    "if 0:\n",
    "    ax.savefig('exd_1.pdf',papertype='letter',dpi=500)\n",
    "    saveAsNewSheetToExistingFile(source_data_add,scores,'ExtendedData1')"
   ]
  },
  {
   "cell_type": "code",
   "execution_count": null,
   "metadata": {
    "hidden": true
   },
   "outputs": [],
   "source": []
  },
  {
   "cell_type": "code",
   "execution_count": null,
   "metadata": {
    "hidden": true
   },
   "outputs": [],
   "source": []
  },
  {
   "cell_type": "markdown",
   "metadata": {
    "heading_collapsed": true
   },
   "source": [
    "## Read single CP feature prediction results\n",
    "- Figure 3a"
   ]
  },
  {
   "cell_type": "code",
   "execution_count": null,
   "metadata": {
    "hidden": true,
    "scrolled": true
   },
   "outputs": [],
   "source": [
    "filename=results_dir+'/SingleCPfeatPred/scores_corrected.xlsx'\n",
    "saved_scores=pd.read_excel(filename, sheet_name=None)\n",
    "saved_scores.keys()\n",
    "\n",
    "################################################\n",
    "# dataset options: 'CDRP' , 'LUAD', 'TAORF', 'LINCS', 'CDRP-bio'\n",
    "datasets=['LUAD', 'TAORF', 'LINCS', 'CDRP-bio'];\n",
    "# datasets=['LUAD', 'TAORF', 'LINCS', 'CDRP-bio','CDRP'];\n",
    "\n",
    "DT_kfold={'LUAD':9, 'TAORF':5, 'LINCS':25, 'CDRP-bio':6,'CDRP':40}\n",
    "\n",
    "################################################\n",
    "# CP Profile Type options: 'augmented' , 'normalized', 'normalized_variable_selected'\n",
    "profileType='normalized'\n",
    "profTypeAbbrev=''.join([s[0] for s in profileType.split('_')])\n",
    "\n",
    "################################################\n",
    "# filtering to compounds which have high replicates for both GE and CP datasets\n",
    "highRepOverlapEnabled=1\n",
    "\n",
    "\n",
    "################################################\n",
    "pertColName='PERT'\n",
    "profileLevel='treatment'; #'replicate'  or  'treatment'\n",
    "if highRepOverlapEnabled:\n",
    "    f='filt'\n",
    "else:\n",
    "    f=''\n",
    "    \n",
    "models=[\"MLP\",\"Lasso\"]\n",
    "\n",
    "DataPredResults=pd.DataFrame(columns=[\"Dataset\",\"Model\"])\n",
    "\n",
    "fig, axes = plt.subplots(len(datasets),len(models),figsize=(4*len(models),3*len(datasets)))\n",
    "sns.set_context(\"paper\")\n",
    "sns.set_style(\"whitegrid\")\n",
    "# sns.rcParams['patch.force_edgecolor'] = True\n",
    "# for d in range(5):#(len(datasets)):\n",
    "for d in range(len(datasets)):\n",
    "    for m in range(len(models)):\n",
    "                 \n",
    "        k_fold=DT_kfold[datasets[d]] \n",
    "            \n",
    "        if datasets[d]=='TAORF' or datasets[d]=='CDRP':     \n",
    "            f=''\n",
    "#             if models[m]=='MLP':\n",
    "#                 sheetName=models[m]+'-'+datasets[d]+'-'+profTypeAbbrev+'-'+f+'-'+str(k_fold)+'-ht_2'\n",
    "#             else:\n",
    "#                 sheetName=models[m]+'-'+datasets[d]+'-'+profTypeAbbrev+'-'+f+'-'+str(k_fold)+'-ht'\n",
    "        else:\n",
    "            f='filt'            \n",
    "        \n",
    "        sheetName=models[m]+'-'+datasets[d]+'-'+profTypeAbbrev+'-'+f+'-'+str(k_fold)+'-ht'\n",
    "\n",
    "        res_sheet=saved_scores[sheetName]\n",
    "        \n",
    "#         res_sheet_2save=res_sheet[['CP-Features','pred score','d']].reset_index()\n",
    "#         saveAsNewSheetToExistingFile(filename2,res_sheet_2save,sheetName)        \n",
    "\n",
    "        if 1:\n",
    "            d_to_pl=res_sheet.groupby(['CP-Features','d']).median().reset_index()   \n",
    "            d_to_pl_2=d_to_pl.copy()\n",
    "        else:\n",
    "            d_to_pl=res_sheet.reset_index(drop=True).copy() \n",
    "            d_to_pl_2=d_to_pl.copy()\n",
    "        \n",
    "        d_to_pl_2['Dataset']=datasets[d]\n",
    "        d_to_pl_2['Model']=models[m]\n",
    "        \n",
    "        \n",
    "        \n",
    "        # axes=sns.displot(data=d_to_pl, x=\"pred score\", hue=\"d\")\n",
    "        #     sns.distplot(saved_scores['Lasso-'+datasets[d]+filter_status[d]].pred_score.values,kde=True,hist=True,bins=100,label=datasets[d],ax=axes,norm_hist=True);\n",
    "        pred_scoress=d_to_pl[d_to_pl[\"d\"]==\"n-folds\"][\"pred score\"].values\n",
    "#         pred_scoress=res_sheet[res_sheet['d']=='n-folds'][\"pred score\"].values\n",
    "        rand_scoress=d_to_pl[d_to_pl[\"d\"]==\"random\"][\"pred score\"].values\n",
    "#         rand_scoress=res_sheet[res_sheet['d']=='random'][\"pred score\"].values\n",
    "        sns.distplot(pred_scoress,kde=True,hist=True,bins=100,label=datasets[d],ax=axes[d,m],norm_hist=True,color='r')\n",
    "        sns.distplot(rand_scoress,kde=True,hist=True,bins=100,label='random',ax=axes[d,m],norm_hist=True)\n",
    "        rand99th=np.percentile(rand_scoress,99)\n",
    "        print(rand99th)\n",
    "        \n",
    "        d_to_pl_2['rand99th']=rand99th\n",
    "        DataPredResults=DataPredResults.append(d_to_pl_2)\n",
    "        \n",
    "        \n",
    "        axes[d,0].set_xlim(-1,1)\n",
    "        axes[d,1].set_xlim(-1,1)\n",
    "#         axes[d,1].set_xlim(-.5,.5)\n",
    "#         axes[d,m].set_xlim(-0.5,0.6)\n",
    "#         axes[d,m].set_ylim(0,15)\n",
    "        axes[d,m].axvline(x=np.percentile(rand_scoress,90),linestyle=':',color='r');\n",
    "        axes[len(datasets)-1,m].set_xlabel(\"Accuracy ($R^2$)\");\n",
    "        axes[d,m].legend();\n",
    "        axes[0,m].set_title(models[m]);\n",
    "\n",
    "DataPredResults.loc[DataPredResults['d']=='random','Model']=DataPredResults[DataPredResults['d']=='random']['Model']+'-'+DataPredResults[DataPredResults['d']=='random']['d']"
   ]
  },
  {
   "cell_type": "code",
   "execution_count": null,
   "metadata": {
    "hidden": true
   },
   "outputs": [],
   "source": [
    "# DataPredResults\n",
    "import matplotlib.style as style\n",
    "style.use('seaborn-colorblind')\n",
    "sns.set_context(\"paper\",font_scale = 2, rc={\"font.size\":20,\"axes.titlesize\":8,\"axes.labelsize\":10})\n",
    "\n",
    "# DataPredResults.loc[DataPredResults['d']=='random','Model']=DataPredResults[DataPredResults['d']=='random']['Model']+'-'+DataPredResults[DataPredResults['d']=='random']['d']\n",
    "plt.figure(figsize=(13,4))\n",
    "\n",
    "# plt.rcParams[\"axes.labelsize\"] = 40\n",
    "sns.set_theme(style=\"whitegrid\")\n",
    "ax = sns.boxplot(x=\"Dataset\", y=\"pred score\", hue=\"Model\",data=DataPredResults,\\\n",
    "                order=['TAORF','CDRP-bio','LINCS','LUAD'], hue_order=['Lasso-random','Lasso','MLP-random','MLP'])\n",
    "ax.set_ylim(-.5,1.1);\n",
    "ax.set_ylabel(\"Accuracy ($R^2$)\", fontweight='bold'); #fontsize=14,\n",
    "ax.axhline(y=0,linestyle=':',color='k');\n",
    "plt.tight_layout()\n",
    "plt.legend(bbox_to_anchor=(1, .65), loc='upper left', borderaxespad=0)\n",
    "plt.tight_layout()\n",
    "# plt.savefig('pred_gen_all_models2.eps')"
   ]
  },
  {
   "cell_type": "code",
   "execution_count": null,
   "metadata": {
    "hidden": true
   },
   "outputs": [],
   "source": [
    "DataPredResults_fPlot=DataPredResults[(DataPredResults['d']!='random')&(DataPredResults['Model']=='MLP')].reset_index(drop=True)\n",
    "# DataPredResults\n",
    "import matplotlib.style as style\n",
    "style.use('seaborn-colorblind')\n",
    "sns.set_context(\"paper\",font_scale = 2, rc={\"font.size\":20,\"axes.titlesize\":8,\"axes.labelsize\":10})\n",
    "\n",
    "# DataPredResults.loc[DataPredResults['d']=='random','Model']=DataPredResults[DataPredResults['d']=='random']['Model']+'-'+DataPredResults[DataPredResults['d']=='random']['d']\n",
    "plt.figure(figsize=(3,6))\n",
    "\n",
    "# plt.rcParams[\"axes.labelsize\"] = 40\n",
    "sns.set_theme(style=\"whitegrid\")\n",
    "ax = sns.boxplot(x=\"Dataset\", y=\"pred score\",data=DataPredResults_fPlot,\\\n",
    "                order=['TAORF','CDRP-bio','LINCS','LUAD'],palette=\"Set2\")\n",
    "ax.set_xticklabels(ax.get_xticklabels(),rotation=90)\n",
    "ax.set_ylim(-.5,1.01);\n",
    "ax.set_ylabel(\"Accuracy ($R^2$)\", fontweight='bold'); #fontsize=14,\n",
    "ax.axhline(y=0,linestyle=':',color='k');\n",
    "plt.tight_layout()\n",
    "# plt.legend(bbox_to_anchor=(1, .65), loc='upper left', borderaxespad=0)\n",
    "plt.tight_layout()"
   ]
  },
  {
   "cell_type": "code",
   "execution_count": null,
   "metadata": {
    "hidden": true
   },
   "outputs": [],
   "source": [
    "plt.figure(figsize=(3.5,6))\n",
    "style.use('seaborn-colorblind')\n",
    "sns.set_context(\"paper\",font_scale = 2, rc={\"font.size\":20,\"axes.titlesize\":8,\"axes.labelsize\":10})\n",
    "# plt.rcParams[\"axes.labelsize\"] = 40\n",
    "DataPredResults_fPlot_v=DataPredResults[DataPredResults['Model'].isin(['MLP','MLP-random'])].reset_index(drop=True)\n",
    "my_pal = {\"random\": \"g\", \"n-folds\": \"r\"}\n",
    "sns.set_theme(style=\"whitegrid\")\n",
    "ax = sns.boxplot(x=\"Dataset\", y=\"pred score\",data=DataPredResults_fPlot_v,hue_order=['random','n-folds'],hue='d',\\\n",
    "                order=['TAORF','CDRP-bio','LINCS','LUAD'],palette=my_pal)\n",
    "# ax = sns.violinplot(x=\"Dataset\", y=\"pred score\",hue='d',\n",
    "#                     data=DataPredResults_fPlot_v, palette=\"muted\",split=True)\n",
    "ax.set_xticklabels(ax.get_xticklabels(),rotation=90)\n",
    "ax.set_ylim(-0.5,1.01);\n",
    "ax.set_ylabel(\"Accuracy ($R^2$)\", fontweight='bold'); #fontsize=14,\n",
    "ax.axhline(y=0,linestyle=':',color='k');\n",
    "plt.legend(bbox_to_anchor=(.5, 1.15), loc='upper center', borderaxespad=0)\n",
    "plt.tight_layout()\n",
    "# plt.legend(bbox_to_anchor=(1, .65), loc='upper left', borderaxespad=0)\n",
    "# plt.tight_layout()\n",
    "if 0:\n",
    "    plt.savefig('fig3a.pdf')\n",
    "    saveAsNewSheetToExistingFile(source_data_add,DataPredResults_fPlot_v,'fig3a')"
   ]
  },
  {
   "cell_type": "code",
   "execution_count": null,
   "metadata": {
    "hidden": true
   },
   "outputs": [],
   "source": [
    "plt.figure(figsize=(3.5,6))\n",
    "style.use('seaborn-colorblind')\n",
    "sns.set_context(\"paper\",font_scale = 2, rc={\"font.size\":20,\"axes.titlesize\":8,\"axes.labelsize\":10})\n",
    "# plt.rcParams[\"axes.labelsize\"] = 40\n",
    "DataPredResults_fPlot_v=DataPredResults[DataPredResults['Model'].isin(['Lasso','Lasso-random'])].reset_index(drop=True)\n",
    "my_pal = {\"random\": \"g\", \"n-folds\": \"r\"}\n",
    "sns.set_theme(style=\"whitegrid\")\n",
    "ax = sns.boxplot(x=\"Dataset\", y=\"pred score\",data=DataPredResults_fPlot_v,hue_order=['random','n-folds'],hue='d',\\\n",
    "                order=['TAORF','CDRP-bio','LINCS','LUAD'],palette=my_pal)\n",
    "# ax = sns.violinplot(x=\"Dataset\", y=\"pred score\",hue='d',\n",
    "#                     data=DataPredResults_fPlot_v, palette=\"muted\",split=True)\n",
    "ax.set_xticklabels(ax.get_xticklabels(),rotation=90)\n",
    "ax.set_ylim(-0.5,1.01);\n",
    "ax.set_ylabel(\"Accuracy ($R^2$)\", fontweight='bold'); #fontsize=14,\n",
    "ax.axhline(y=0,linestyle=':',color='k');\n",
    "plt.legend(bbox_to_anchor=(.5, 1.15), loc='upper center', borderaxespad=0)\n",
    "plt.tight_layout()\n",
    "# plt.legend(bbox_to_anchor=(1, .65), loc='upper left', borderaxespad=0)\n",
    "# plt.tight_layout()\n",
    "if 0:\n",
    "    plt.savefig('fig3a.pdf')\n",
    "    saveAsNewSheetToExistingFile(source_data_add,DataPredResults_fPlot_v,'fig3a')"
   ]
  },
  {
   "cell_type": "code",
   "execution_count": null,
   "metadata": {
    "hidden": true
   },
   "outputs": [],
   "source": [
    "DataPredResults_fPlot_v.groupby(['Dataset','Model']).size()"
   ]
  },
  {
   "cell_type": "code",
   "execution_count": null,
   "metadata": {
    "hidden": true
   },
   "outputs": [],
   "source": [
    "# res_sheet\n"
   ]
  },
  {
   "cell_type": "code",
   "execution_count": null,
   "metadata": {
    "hidden": true
   },
   "outputs": [],
   "source": [
    "DataPredResults2=DataPredResults.loc[DataPredResults['d']!='random'].reset_index(drop=True)\n",
    "DataPredResults2[DataPredResults2[\"pred score\"]>DataPredResults2['rand99th']+0.2].groupby(['Dataset','Model']).size()"
   ]
  },
  {
   "cell_type": "markdown",
   "metadata": {},
   "source": [
    "## CP feature cats for fs with median pred score across all datasets >0.9 (changed to 0.6)\n",
    "- Figure 3b"
   ]
  },
  {
   "cell_type": "code",
   "execution_count": null,
   "metadata": {},
   "outputs": [],
   "source": [
    "dfRes1=DataPredResults2[DataPredResults2['Model']=='MLP'].reset_index(drop=True)\n",
    "dfRes2=dfRes1.groupby(['CP-Features']).median().sort_values(by='pred score',ascending=False)\n",
    "dfRes3=dfRes2[dfRes2['pred score']>0.6]\n",
    "\n",
    "# dfRes1[dfRes1[\"pred score\"]>dfRes1['rand99th']+0.2]\n",
    "\n",
    "# DataPredResults2[DataPredResults2[\"pred score\"]>DataPredResults2['rand99th']+0.2]\n",
    "# dfRes3=dfRes2[:100]\n",
    "topFeatures=dfRes3.index.tolist()\n",
    "cp_featuress=dfRes2.index.tolist()\n",
    "# dfRes1=DataPredResults2[DataPredResults2['Model']=='MLP'].reset_index(drop=True)"
   ]
  },
  {
   "cell_type": "code",
   "execution_count": null,
   "metadata": {},
   "outputs": [],
   "source": [
    "len(topFeatures)"
   ]
  },
  {
   "cell_type": "code",
   "execution_count": null,
   "metadata": {},
   "outputs": [],
   "source": [
    "# Channelss[ch]\n",
    "# DataPredResults2\n",
    "# len(topFeatures)\n",
    "# topFeatures\n",
    "DataPredRes4venn=DataPredResults2[DataPredResults2[\"pred score\"]>DataPredResults2['rand99th']+0.2]\n",
    "DataPredRes4venn=DataPredRes4venn[DataPredRes4venn['Model']=='MLP'].reset_index(drop=True)\n",
    "DataPredRes4venn['hp-scores']=DataPredRes4venn[\"pred score\"]-(DataPredRes4venn['rand99th']+0.2)\n",
    "# DataPredRes4venn\n",
    "\n",
    "topFeatures=DataPredRes4venn['CP-Features'].unique().tolist()\n",
    "# top_cpfeatures_atleast_topIn3=DataPredRes4venn.groupby('CP-Features').size()[list(DataPredRes4venn.groupby('CP-Features').size()>2)].index.to_list()\n",
    "# topFeatures=top_cpfeatures_atleast_topIn3\n",
    "len(topFeatures)"
   ]
  },
  {
   "cell_type": "code",
   "execution_count": null,
   "metadata": {},
   "outputs": [],
   "source": [
    "# topFeatures\n",
    "# dfRes2.index.tolist()\n",
    "# top_59_atleast_topIn3\n",
    "# DataPredResults2.groupby(['CP-Features']).size().sort_values()\n",
    "len(cp_featuress)"
   ]
  },
  {
   "cell_type": "code",
   "execution_count": null,
   "metadata": {},
   "outputs": [],
   "source": [
    "# [s for s in topFeatures if (Channelss[ch] in s) and (featureGroups[f] in s)]"
   ]
  },
  {
   "cell_type": "code",
   "execution_count": null,
   "metadata": {},
   "outputs": [],
   "source": [
    "label2=[]\n",
    "r2=[]\n",
    "r2_t=[]\n",
    "Channelss=['DNA','RNA','AGP','Mito','ER']\n",
    "featureGroups=['Texture','Intensity','RadialDistribution']\n",
    "\n",
    "Mat=np.zeros((len(featureGroups),len(Channelss)));\n",
    "scaler = preprocessing.StandardScaler()\n",
    "\n",
    "for ch in range(len(Channelss)):\n",
    "    for f in range(len(featureGroups)):\n",
    "        freq=len([s for s in topFeatures if (Channelss[ch] in s) and (featureGroups[f] in s)])\n",
    "        freq_t=len([s for s in cp_featuress if (Channelss[ch] in s) and (featureGroups[f] in s)])\n",
    "        print(Channelss[ch],featureGroups[f],freq_t)\n",
    "        Mat[f,ch]=freq\n",
    "#         if freq>0:\n",
    "        if 1:\n",
    "            label2.append(Channelss[ch]+'-'+featureGroups[f])\n",
    "            r2.append(freq)\n",
    "            r2_t.append(freq_t)\n",
    "            \n",
    "fig, axes = plt.subplots(2,1,gridspec_kw = {'height_ratios':[1, 3]});\n",
    "sns.heatmap(Mat,cmap=sns.cubehelix_palette(8),ax=axes[1])\n",
    "axes[1].xaxis.set_ticklabels(Channelss); \n",
    "axes[1].yaxis.set_ticklabels(featureGroups,rotation=360+45);\n",
    "plt.tight_layout()\n",
    "\n",
    "cellAreas=[\"Cells\",\"Nuclei\",\"Cytoplasm\"];\n",
    "MatArea=np.zeros((1,len(cellAreas)));\n",
    "for ca in range(len(cellAreas)):\n",
    "    freq=len([s for s in topFeatures if (cellAreas[ca] in s) and ('AreaShape' in s)])\n",
    "    freq_t=len([s for s in cp_featuress if (cellAreas[ca] in s) and ('AreaShape' in s)])\n",
    "    print(cellAreas[ca],freq_t)\n",
    "    MatArea[0,ca]=freq\n",
    "#     if freq>0:\n",
    "    if 1:\n",
    "        label2.append(cellAreas[ca]+'-AreaShape')\n",
    "        r2.append(freq)\n",
    "        r2_t.append(freq_t)\n",
    "#     print(MatArea)\n",
    "sns.heatmap(MatArea,cmap=sns.cubehelix_palette(8),ax=axes[0])\n",
    "axes[0].xaxis.tick_top()\n",
    "axes[0].xaxis.set_ticklabels(cellAreas,rotation=360+45); \n",
    "axes[0].yaxis.set_ticklabels(['AreaShape'],rotation=360+45);   \n",
    "plt.tight_layout()\n",
    "\n",
    "# colors2=sns.color_palette(\"husl\", len(label2))\n",
    "\n",
    "# colors2=sns.color_palette(\"colorblind\", len(label2))\n",
    "# ratio_list2=[(r2[i]/r2_t[i]) for i in range(len(r2))]\n",
    "\n",
    "ratio_list2=[(r2[i]/r2_t[i]) for i in range(len(r2)) if r2[i]>0]\n",
    "label2=[label2[i]+'\\n'+str(r2[i])+'/'+str(r2_t[i]) for i in range(len(r2)) if r2[i]>0]\n",
    "colors2=sns.color_palette(\"colorblind\", len(label2))\n"
   ]
  },
  {
   "cell_type": "code",
   "execution_count": null,
   "metadata": {},
   "outputs": [],
   "source": [
    "# [s for s in cp_featuress if (\"text\" in s)]\n",
    "ratio_list2"
   ]
  },
  {
   "cell_type": "code",
   "execution_count": null,
   "metadata": {},
   "outputs": [],
   "source": [
    "r2"
   ]
  },
  {
   "cell_type": "code",
   "execution_count": null,
   "metadata": {},
   "outputs": [],
   "source": [
    "# np.sum(r2_t)\n",
    "r2_t"
   ]
  },
  {
   "cell_type": "code",
   "execution_count": null,
   "metadata": {},
   "outputs": [],
   "source": [
    "# DataPredResults2[(DataPredResults2['Dataset']=='LUAD')&(DataPredResults2['CP-Features']=='Cells_AreaShape_Area')]\n",
    "ratio_list2=[(r2[i]/r2_t[i])*20 for i in range(len(r2))]"
   ]
  },
  {
   "cell_type": "code",
   "execution_count": null,
   "metadata": {},
   "outputs": [],
   "source": [
    "# print(DataPredResults2.groupby(['Dataset','CP-Features']).size().reset_index().to_markdown())"
   ]
  },
  {
   "cell_type": "code",
   "execution_count": null,
   "metadata": {},
   "outputs": [],
   "source": [
    "# DataPredResults2"
   ]
  },
  {
   "cell_type": "code",
   "execution_count": null,
   "metadata": {},
   "outputs": [],
   "source": []
  },
  {
   "cell_type": "code",
   "execution_count": null,
   "metadata": {},
   "outputs": [],
   "source": [
    "colorblind"
   ]
  },
  {
   "cell_type": "code",
   "execution_count": null,
   "metadata": {},
   "outputs": [],
   "source": [
    "# sns.color_palette(\"colorblind\", len(label2))\n"
   ]
  },
  {
   "cell_type": "code",
   "execution_count": null,
   "metadata": {},
   "outputs": [],
   "source": []
  },
  {
   "cell_type": "code",
   "execution_count": null,
   "metadata": {},
   "outputs": [],
   "source": [
    "label2"
   ]
  },
  {
   "cell_type": "code",
   "execution_count": null,
   "metadata": {},
   "outputs": [],
   "source": [
    "class C():\n",
    "    def __init__(self,r,label,colors):\n",
    "        self.N = len(r)\n",
    "        self.x = np.ones((self.N,3))\n",
    "        self.x[:,2] = r\n",
    "        self.labels = label\n",
    "        self.colors = colors\n",
    "        maxstep = 2*self.x[:,2].max()\n",
    "        length = np.ceil(np.sqrt(self.N))\n",
    "        grid = np.arange(0,length*maxstep,maxstep)\n",
    "        gx,gy = np.meshgrid(grid,grid)\n",
    "        self.x[:,0] = gx.flatten()[:self.N]\n",
    "        self.x[:,1] = gy.flatten()[:self.N]\n",
    "        self.x[:,:2] = self.x[:,:2] - np.mean(self.x[:,:2], axis=0)\n",
    "\n",
    "        self.step = self.x[:,2].min()\n",
    "        self.p = lambda x,y: np.sum((x**2+y**2)**2)\n",
    "        self.E = self.energy()\n",
    "        self.iter = 1.\n",
    "\n",
    "    def minimize(self):\n",
    "        while self.iter < 1000*self.N:\n",
    "            for i in range(self.N):\n",
    "                rand = np.random.randn(2)*self.step/self.iter\n",
    "                self.x[i,:2] += rand\n",
    "                e = self.energy()\n",
    "                if (e < self.E and self.isvalid(i)):\n",
    "                    self.E = e\n",
    "                    self.iter = 1.\n",
    "                else:\n",
    "                    self.x[i,:2] -= rand\n",
    "                    self.iter += 1.\n",
    "\n",
    "    def energy(self):\n",
    "        return self.p(self.x[:,0], self.x[:,1])\n",
    "\n",
    "    def distance(self,x1,x2):\n",
    "        return np.sqrt((x1[0]-x2[0])**2+(x1[1]-x2[1])**2)-x1[2]-x2[2]\n",
    "\n",
    "    def isvalid(self, i):\n",
    "        for j in range(self.N):\n",
    "            if i!=j: \n",
    "                if self.distance(self.x[i,:], self.x[j,:]) < 0:\n",
    "                    return False\n",
    "        return True\n",
    "\n",
    "    def plot(self, ax):\n",
    "        for i in range(self.N):\n",
    "            circ = plt.Circle(self.x[i,:2],self.x[i,2],color=self.colors[i])\n",
    "            \n",
    "#             ax.text(self.x[i,:2],self.x[i,2], 'sgfd', size=24, ha='center', va='center',color='k')\n",
    "            ax.add_patch(circ)\n",
    "#             label = ax.annotate(self.labels[i], xy=(self.x[i,:2]), fontsize=10, ha=\"center\",color='k')\n",
    "\n",
    "\n",
    "c = C(ratio_list2,[],colors2)\n",
    "\n",
    "fig, ax = plt.subplots(subplot_kw=dict(aspect=\"equal\"))\n",
    "ax.axis(\"off\")\n",
    "\n",
    "c.minimize()\n",
    "\n",
    "c.plot(ax)\n",
    "ax.relim()\n",
    "ax.autoscale_view()\n",
    "plt.show()"
   ]
  },
  {
   "cell_type": "code",
   "execution_count": null,
   "metadata": {},
   "outputs": [],
   "source": [
    "import numpy as np\n",
    "from matplotlib import rcParams\n",
    "rcParams['font.family'] = 'serif'\n",
    "import matplotlib.pyplot as plt\n",
    "%matplotlib notebook\n",
    "\n",
    "\n",
    "# create 10 circles with different radii\n",
    "# r = np.random.randint(5,15, size=10)\n",
    "# r =np.array([1,  5,  6, 1])\n",
    "# label=['A','B','C','D']\n",
    "# colors=['r','b','g','c']\n",
    "\n",
    "\n",
    "# ratio_list2=[(r2[i]/r2_t[i]) for i in range(len(r2))]\n",
    "\n",
    "# label=['DNA','RNA','AGP','Mito','ER','Texture','Intensity','RadialDistribution',\"AreaShape\"]\n",
    "# r=[]\n",
    "# for l in label:\n",
    "#     r.append(len([s for s in topFeatures if (l in s)]))\n",
    "    \n",
    "    \n",
    "\n",
    "# r_t=[]\n",
    "# for l in label:\n",
    "#     r_t.append(len([s for s in cp_featuress if (l in s)]))    \n",
    "    \n",
    "# ratio_list=[(r[i]/r_t[i])*100 for i in range(len(r))]    \n",
    "\n",
    "# colors=sns.color_palette(\"hls\", len(label))\n",
    "\n",
    "class C():\n",
    "    def __init__(self,r,label,colors):\n",
    "        self.N = len(r)\n",
    "        self.x = np.ones((self.N,3))\n",
    "        self.x[:,2] = r\n",
    "        self.labels = label\n",
    "        self.colors = colors\n",
    "        maxstep = 2*self.x[:,2].max()\n",
    "        length = np.ceil(np.sqrt(self.N))\n",
    "        grid = np.arange(0,length*maxstep,maxstep)\n",
    "        gx,gy = np.meshgrid(grid,grid)\n",
    "        self.x[:,0] = gx.flatten()[:self.N]\n",
    "        self.x[:,1] = gy.flatten()[:self.N]\n",
    "        self.x[:,:2] = self.x[:,:2] - np.mean(self.x[:,:2], axis=0)\n",
    "\n",
    "        self.step = self.x[:,2].min()\n",
    "        self.p = lambda x,y: np.sum((x**2+y**2)**2)\n",
    "        self.E = self.energy()\n",
    "        self.iter = 1.\n",
    "\n",
    "    def minimize(self):\n",
    "        while self.iter < 1000*self.N:\n",
    "            for i in range(self.N):\n",
    "                rand = np.random.randn(2)*self.step/self.iter\n",
    "                self.x[i,:2] += rand\n",
    "                e = self.energy()\n",
    "                if (e < self.E and self.isvalid(i)):\n",
    "                    self.E = e\n",
    "                    self.iter = 1.\n",
    "                else:\n",
    "                    self.x[i,:2] -= rand\n",
    "                    self.iter += 1.\n",
    "\n",
    "    def energy(self):\n",
    "        return self.p(self.x[:,0], self.x[:,1])\n",
    "\n",
    "    def distance(self,x1,x2):\n",
    "        return np.sqrt((x1[0]-x2[0])**2+(x1[1]-x2[1])**2)-x1[2]-x2[2]\n",
    "\n",
    "    def isvalid(self, i):\n",
    "        for j in range(self.N):\n",
    "            if i!=j: \n",
    "                if self.distance(self.x[i,:], self.x[j,:]) < 0:\n",
    "                    return False\n",
    "        return True\n",
    "\n",
    "    def plot(self, ax):\n",
    "        for i in range(self.N):\n",
    "            circ = plt.Circle(self.x[i,:2],self.x[i,2],color=self.colors[i])\n",
    "            \n",
    "#             ax.text(self.x[i,:2],self.x[i,2], 'sgfd', size=24, ha='center', va='center',color='k')\n",
    "            ax.add_patch(circ)\n",
    "            label = ax.annotate(self.labels[i], xy=(self.x[i,:2]), fontsize=15, ha=\"center\",color='k')\n",
    "            \n",
    "\n",
    "# c = C(r,label,colors)\n",
    "\n",
    "# c = C(r2,label2,colors2)\n",
    "c = C(ratio_list2,label2,colors2)\n",
    "\n",
    "fig, ax = plt.subplots(subplot_kw=dict(aspect=\"equal\"))\n",
    "ax.axis(\"off\")\n",
    "\n",
    "c.minimize()\n",
    "\n",
    "c.plot(ax)\n",
    "ax.relim()\n",
    "ax.autoscale_view()\n",
    "plt.show()"
   ]
  },
  {
   "cell_type": "code",
   "execution_count": null,
   "metadata": {},
   "outputs": [],
   "source": []
  },
  {
   "cell_type": "code",
   "execution_count": null,
   "metadata": {},
   "outputs": [],
   "source": [
    "dict_ratios={}\n",
    "for i in range(len(label2)):\n",
    "    dict_ratios[label2[i]]=np.round(ratio_list2[i],2)\n",
    "    \n",
    "dict_ratios"
   ]
  },
  {
   "cell_type": "code",
   "execution_count": null,
   "metadata": {},
   "outputs": [],
   "source": [
    "if 1:\n",
    "    saveAsNewSheetToExistingFile(source_data_add,\\\n",
    "        pd.DataFrame({'categories': label2, 'ratios': ratio_list2}),'fig3b')\n",
    "\n",
    "    # fig.tight_layout()\n",
    "    fig.savefig('fig3b.pdf',papertype='letter',dpi=500)"
   ]
  },
  {
   "cell_type": "markdown",
   "metadata": {},
   "source": [
    "## Feature categorical median prediction score \n",
    "- Figure 2d"
   ]
  },
  {
   "cell_type": "code",
   "execution_count": 16,
   "metadata": {},
   "outputs": [
    {
     "data": {
      "text/plain": [
       "dict_keys(['LUAD-9-lasso-ht', 'LINCS-25-lasso-ht', 'LINCS-25-MLP-ht', 'LUAD-9-MLP-ht', 'LUAD-9-MLP-keras-ht'])"
      ]
     },
     "execution_count": 16,
     "metadata": {},
     "output_type": "execute_result"
    }
   ],
   "source": [
    "filename=results_dir+'/SingleGenePred_cpCategoryMap/cat_scores_maps.xlsx'\n",
    "saved_scores=pd.read_excel(filename, sheet_name=None)\n",
    "saved_scores.keys()"
   ]
  },
  {
   "cell_type": "code",
   "execution_count": 17,
   "metadata": {},
   "outputs": [
    {
     "data": {
      "image/png": "[encoded data removed]",
      "text/plain": [
       "<Figure size 1728x432 with 4 Axes>"
      ]
     },
     "metadata": {},
     "output_type": "display_data"
    }
   ],
   "source": [
    "# %matplotlib notebook\n",
    "which_ds_model='LUAD-9-MLP-keras-ht'\n",
    "# which_ds_model='LUAD-9-lasso-ht'\n",
    "\n",
    "dfcats=saved_scores[which_ds_model].rename(columns={'Unnamed: 0':'ID'})\n",
    "dfcats=dfcats[dfcats.columns[~dfcats.isna().any()].tolist()]\n",
    "dfcats2,_=rename_affyprobe_to_genename(dfcats.set_index('ID').T,dfcats.ID.tolist(),'../idmap.xlsx')\n",
    "dfcats=dfcats2.T#.reset_index()\n",
    "dfcats.index.names = ['L1000 Genes']\n",
    "topGenes_df2=dfcats[dfcats.max(axis=1)>0.6]\n",
    "# cmap=\"coolwarm\"\n",
    "clustergrid=sns.clustermap(topGenes_df2.T,xticklabels=1,yticklabels=1,figsize=(24, 6),cmap=\"vlag\",\\\n",
    "vmin=0, vmax=1,cbar_kws={'label': '$R^2$'},cbar_pos=(1, .2, .01, .6),dendrogram_ratio=(0.04,0.2))\n",
    "\n",
    "if 0:\n",
    "    # clustergrid.savefig(results_dir+'/SingleGenePred_cpCategoryMap/CatMap-'+which_ds_model+'.png', format='png',dpi=200)\n",
    "    saveAsNewSheetToExistingFile(source_data_add,clustergrid.data2d,'fig2d')"
   ]
  },
  {
   "cell_type": "code",
   "execution_count": null,
   "metadata": {},
   "outputs": [],
   "source": []
  },
  {
   "cell_type": "markdown",
   "metadata": {
    "heading_collapsed": true
   },
   "source": [
    "## Modality Integration"
   ]
  },
  {
   "cell_type": "code",
   "execution_count": null,
   "metadata": {
    "hidden": true
   },
   "outputs": [],
   "source": [
    "# filename=results_dir+'/MoAprediction/pred_moa.xlsx'\n",
    "filename=results_dir+'/MoAprediction/pred_moa_CDRP.xlsx'\n",
    "saved_scores_cdrpbio=pd.read_excel(filename, sheet_name=None)\n",
    "saved_scores_cdrpbio.keys()"
   ]
  },
  {
   "cell_type": "code",
   "execution_count": null,
   "metadata": {
    "hidden": true
   },
   "outputs": [],
   "source": []
  },
  {
   "cell_type": "code",
   "execution_count": null,
   "metadata": {
    "hidden": true
   },
   "outputs": [],
   "source": [
    "filename=results_dir+'/MoAprediction/pred_moa_LINCS.xlsx'\n",
    "saved_scores_lincs=pd.read_excel(filename, sheet_name=None)\n",
    "saved_scores_lincs.keys()"
   ]
  },
  {
   "cell_type": "code",
   "execution_count": null,
   "metadata": {
    "hidden": true
   },
   "outputs": [],
   "source": [
    "# from sklearn.metrics import f1_score\n",
    "# res_df=pd.DataFrame(columns=['Modality','Model'])\n",
    "# DS='LINCS'\n",
    "# scores_mlp=saved_scores['fC-'+DS+'-nvs-filt-preds-lr-ht']\n",
    "# mofa_scores_2add=saved_scores['mofa-100fac'+DS+'-nvs-filt-preds-lr-ht']"
   ]
  },
  {
   "cell_type": "code",
   "execution_count": null,
   "metadata": {
    "hidden": true
   },
   "outputs": [],
   "source": [
    "# mofa_scores_2add"
   ]
  },
  {
   "cell_type": "code",
   "execution_count": null,
   "metadata": {
    "hidden": true
   },
   "outputs": [],
   "source": []
  },
  {
   "cell_type": "code",
   "execution_count": null,
   "metadata": {
    "hidden": true
   },
   "outputs": [],
   "source": [
    "from sklearn.metrics import f1_score\n",
    "res_df_lincs=pd.DataFrame(columns=['Modality','Model'])\n",
    "DS='LINCS'\n",
    "scores_mlp=saved_scores_lincs['fC-'+DS+'-nvs-filt-preds-mlp-ht-3']\n",
    "# mofa_scores_2add=saved_scores['mofa-100fac'+DS+'-nvs-filt-preds-mlp-ht-2']\n",
    "# scores_mlp['mofa']=mofa_scores_2add['mofa']\n",
    "\n",
    "\n",
    "for dd in ['CP', 'GE', 'Early Fusion', 'Late Fusion','RGCCA_EarlyFusion']:\n",
    "    scor_vals=scores_mlp[dd].apply(lambda x: int(eval(x)[0]) if type(x)==str else x)    \n",
    "    f1=f1_score(scor_vals,scores_mlp.Metadata_moa_num.values, average='macro')\n",
    "    temp_df = pd.DataFrame(data={'Modality': [dd], 'Model': ['MLP'],'F1-score':[f1*100]})\n",
    "    res_df_lincs=res_df_lincs.append(temp_df)\n",
    "    \n",
    "    \n",
    "scores_mlp=saved_scores_lincs['fC-'+DS+'-nvs-filt-preds-lr-ht-3']\n",
    "# mofa_scores_2add=saved_scores['mofa-100fac'+DS+'-nvs-filt-preds-lr-ht-2']\n",
    "# scores_mlp['mofa']=mofa_scores_2add['mofa']\n",
    "\n",
    "# for dd in ['CP', 'GE', 'Early Fusion', 'Late Fusion','RGCCA_CP','RGCCA_GE','RGCCA_EarlyFusion']:\n",
    "for dd in ['CP', 'GE', 'Early Fusion', 'Late Fusion','RGCCA_EarlyFusion']:\n",
    "    scor_vals=scores_mlp[dd].apply(lambda x: int(eval(x)[0]) if type(x)==str else x)    \n",
    "    f1=f1_score(scores_mlp.Metadata_moa_num.values,scor_vals, average='macro')\n",
    "    temp_df = pd.DataFrame(data={'Modality': [dd], 'Model': ['Logistic R'],'F1-score':[f1*100]})\n",
    "    res_df_lincs=res_df_lincs.append(temp_df)\n",
    "    \n",
    "    \n",
    "#########################################################\n",
    "res_df_cdrpbio=pd.DataFrame(columns=['Modality','Model'])\n",
    "DS='CDRP-bio'\n",
    "scores_mlp=saved_scores_cdrpbio['fC-'+DS+'-nvs-filt-preds-mlp-ht-5']\n",
    "# mofa_scores_2add=saved_scores['mofa-100fac'+DS+'-nvs-filt-preds-mlp-ht-2']\n",
    "# scores_mlp['mofa']=mofa_scores_2add['mofa']\n",
    "\n",
    "\n",
    "for dd in ['CP', 'GE', 'Early Fusion', 'Late Fusion','RGCCA_EarlyFusion']:\n",
    "    scor_vals=scores_mlp[dd].apply(lambda x: int(eval(x)[0]) if type(x)==str else x)    \n",
    "    f1=f1_score(scor_vals,scores_mlp.Metadata_moa_num.values, average='macro')\n",
    "    temp_df = pd.DataFrame(data={'Modality': [dd], 'Model': ['MLP'],'F1-score':[f1*100]})\n",
    "    res_df_cdrpbio=res_df_cdrpbio.append(temp_df)\n",
    "    \n",
    "    \n",
    "scores_mlp=saved_scores_cdrpbio['fC-'+DS+'-nvs-filt-preds-lr-ht-5']\n",
    "# mofa_scores_2add=saved_scores['mofa-100fac'+DS+'-nvs-filt-preds-lr-ht-2']\n",
    "# scores_mlp['mofa']=mofa_scores_2add['mofa']\n",
    "\n",
    "# for dd in ['CP', 'GE', 'Early Fusion', 'Late Fusion','RGCCA_CP','RGCCA_GE','RGCCA_EarlyFusion']:\n",
    "for dd in ['CP', 'GE', 'Early Fusion', 'Late Fusion','RGCCA_EarlyFusion']:\n",
    "    scor_vals=scores_mlp[dd].apply(lambda x: int(eval(x)[0]) if type(x)==str else x)    \n",
    "    f1=f1_score(scores_mlp.Metadata_moa_num.values,scor_vals, average='macro')\n",
    "    temp_df = pd.DataFrame(data={'Modality': [dd], 'Model': ['Logistic R'],'F1-score':[f1*100]})\n",
    "    res_df_cdrpbio=res_df_cdrpbio.append(temp_df)\n"
   ]
  },
  {
   "cell_type": "code",
   "execution_count": null,
   "metadata": {
    "hidden": true
   },
   "outputs": [],
   "source": [
    "import matplotlib.style as style\n",
    "style.use('seaborn-colorblind')\n",
    "sns.set_context(\"paper\",font_scale = 1.5, rc={\"font.size\":4,\"axes.titlesize\":14,\"axes.labelsize\":15})\n",
    "res_df1=res_df_lincs[res_df_lincs['Modality']!='Early Fusion']\n",
    "res_df2=res_df_lincs[res_df_lincs['Modality']!='Late Fusion']\n",
    "\n",
    "sns.set_style(\"whitegrid\")\n",
    "fig,axes=plt.subplots(1,2,figsize=(9,5),sharey=True)\n",
    "sns.barplot(x=\"Model\", y=\"F1-score\", hue=\"Modality\", data=res_df_cdrpbio,ax=axes[0])#,**kwargs)\n",
    "# plt.legend(loc='top', borderaxespad=0)\n",
    "# plt.legend(bbox_to_anchor=(0.27, 1), loc='upper left', borderaxespad=0)\n",
    "axes[0].legend([],[], frameon=False)\n",
    "plt.tight_layout()\n",
    "# axes[0].set_ylim(0,60)\n",
    "axes[0].set_title('CDRP-bio')\n",
    "n_classes=16;\n",
    "axes[0].axhline(y=(100/n_classes),linestyle='--',color='r',linewidth=2);\n",
    "\n",
    "###################\n",
    "sns.barplot(x=\"Model\", y=\"F1-score\", hue=\"Modality\", data=res_df_lincs,ax=axes[1])#,**kwargs)\n",
    "# plt.legend(loc='top', borderaxespad=0)\n",
    "plt.legend(bbox_to_anchor=(1, 1), loc='upper left', borderaxespad=0)\n",
    "plt.tight_layout()\n",
    "axes[1].set_ylim(0,70)\n",
    "axes[1].set_title('LINCS')\n",
    "axes[1].set(ylabel=None)\n",
    "n_classes=57;\n",
    "axes[1].axhline(y=(100/n_classes),linestyle='--',color='r',linewidth=2);\n",
    "\n",
    "plt.tight_layout()\n",
    "# for a in ax.patches:\n",
    "#     a.set_width(0.15)\n",
    "# plt.savefig('moa_class_bar.png')"
   ]
  },
  {
   "cell_type": "code",
   "execution_count": null,
   "metadata": {
    "hidden": true
   },
   "outputs": [],
   "source": [
    "import matplotlib.style as style\n",
    "style.use('seaborn-colorblind')\n",
    "sns.set_context(\"paper\",font_scale = 1.5, rc={\"font.size\":4,\"axes.titlesize\":14,\"axes.labelsize\":15})\n",
    "res_df1=res_df_lincs[res_df_lincs['Modality']!='Early Fusion']\n",
    "res_df2=res_df_lincs[res_df_lincs['Modality']!='Late Fusion']\n",
    "\n",
    "sns.set_style(\"whitegrid\")\n",
    "fig,axes=plt.subplots(1,2,figsize=(9,5),sharey=True)\n",
    "sns.barplot(x=\"Model\", y=\"F1-score\", hue=\"Modality\", data=res_df_cdrpbio,ax=axes[0])#,**kwargs)\n",
    "# plt.legend(loc='top', borderaxespad=0)\n",
    "# plt.legend(bbox_to_anchor=(0.27, 1), loc='upper left', borderaxespad=0)\n",
    "axes[0].legend([],[], frameon=False)\n",
    "plt.tight_layout()\n",
    "# axes[0].set_ylim(0,60)\n",
    "axes[0].set_title('CDRP-bio')\n",
    "n_classes=16;\n",
    "axes[0].axhline(y=(100/n_classes),linestyle='--',color='r',linewidth=2);\n",
    "\n",
    "###################\n",
    "sns.barplot(x=\"Model\", y=\"F1-score\", hue=\"Modality\", data=res_df_lincs,ax=axes[1])#,**kwargs)\n",
    "# plt.legend(loc='top', borderaxespad=0)\n",
    "plt.legend(bbox_to_anchor=(1, 1), loc='upper left', borderaxespad=0)\n",
    "plt.tight_layout()\n",
    "axes[1].set_ylim(0,70)\n",
    "axes[1].set_title('LINCS')\n",
    "axes[1].set(ylabel=None)\n",
    "n_classes=57;\n",
    "axes[1].axhline(y=(100/n_classes),linestyle='--',color='r',linewidth=2);\n",
    "\n",
    "plt.tight_layout()\n",
    "# for a in ax.patches:\n",
    "#     a.set_width(0.15)\n",
    "# plt.savefig('moa_class_bar.png')"
   ]
  },
  {
   "cell_type": "code",
   "execution_count": null,
   "metadata": {
    "hidden": true
   },
   "outputs": [],
   "source": [
    "import matplotlib.style as style\n",
    "style.use('seaborn-colorblind')\n",
    "sns.set_context(\"paper\",font_scale = 1.5, rc={\"font.size\":4,\"axes.titlesize\":14,\"axes.labelsize\":15})\n",
    "res_df1=res_df_lincs[res_df_lincs['Modality']!='Early Fusion']\n",
    "res_df2=res_df_lincs[res_df_lincs['Modality']!='Late Fusion']\n",
    "\n",
    "sns.set_style(\"whitegrid\")\n",
    "fig,axes=plt.subplots(1,2,figsize=(9,5),sharey=True)\n",
    "sns.barplot(x=\"Model\", y=\"F1-score\", hue=\"Modality\", data=res_df_cdrpbio,ax=axes[0])#,**kwargs)\n",
    "# plt.legend(loc='top', borderaxespad=0)\n",
    "# plt.legend(bbox_to_anchor=(0.27, 1), loc='upper left', borderaxespad=0)\n",
    "axes[0].legend([],[], frameon=False)\n",
    "plt.tight_layout()\n",
    "# axes[0].set_ylim(0,60)\n",
    "axes[0].set_title('CDRP-bio')\n",
    "n_classes=16;\n",
    "axes[0].axhline(y=(100/n_classes),linestyle='--',color='r',linewidth=2);\n",
    "\n",
    "###################\n",
    "sns.barplot(x=\"Model\", y=\"F1-score\", hue=\"Modality\", data=res_df_lincs,ax=axes[1])#,**kwargs)\n",
    "# plt.legend(loc='top', borderaxespad=0)\n",
    "plt.legend(bbox_to_anchor=(1, 1), loc='upper left', borderaxespad=0)\n",
    "plt.tight_layout()\n",
    "axes[1].set_ylim(0,70)\n",
    "axes[1].set_title('LINCS')\n",
    "axes[1].set(ylabel=None)\n",
    "n_classes=57;\n",
    "axes[1].axhline(y=(100/n_classes),linestyle='--',color='r',linewidth=2);\n",
    "\n",
    "plt.tight_layout()\n",
    "# for a in ax.patches:\n",
    "#     a.set_width(0.15)\n",
    "# plt.savefig('moa_class_bar.png')"
   ]
  },
  {
   "cell_type": "code",
   "execution_count": null,
   "metadata": {
    "hidden": true
   },
   "outputs": [],
   "source": [
    "import matplotlib.style as style\n",
    "style.use('seaborn-colorblind')\n",
    "sns.set_context(\"paper\",font_scale = 1.5, rc={\"font.size\":4,\"axes.titlesize\":14,\"axes.labelsize\":15})\n",
    "res_df1=res_df[res_df['Modality']!='Early Fusion']\n",
    "res_df2=res_df[res_df['Modality']!='Late Fusion']\n",
    "\n",
    "sns.set_style(\"whitegrid\")\n",
    "plt.figure(figsize=(4,5))\n",
    "ax = sns.barplot(x=\"Model\", y=\"F1-score\", hue=\"Modality\", data=res_df)#,**kwargs)\n",
    "# ax = sns.barplot(x=\"Model\", y=\"F1-score\", hue=\"Modality\", data=res_df2)\n",
    "# ax.legend(ncol = 1, loc = 'upper center')\n",
    "# plt.legend(loc='top', borderaxespad=0)\n",
    "plt.legend(bbox_to_anchor=(0.27, 1), loc='upper left', borderaxespad=0)\n",
    "plt.tight_layout()\n",
    "ax.set_ylim(0,100)\n",
    "ax.set_title(DS)\n",
    "n_classes=57;\n",
    "ax.axhline(y=(100/n_classes),linestyle=':',color='r');\n",
    "\n",
    "for a in ax.patches:\n",
    "    a.set_width(0.15)\n",
    "# plt.savefig('moa_class_bar.eps')"
   ]
  },
  {
   "cell_type": "code",
   "execution_count": null,
   "metadata": {
    "hidden": true
   },
   "outputs": [],
   "source": [
    "import matplotlib.style as style\n",
    "style.use('seaborn-colorblind')\n",
    "sns.set_context(\"paper\",font_scale = 1.5, rc={\"font.size\":4,\"axes.titlesize\":14,\"axes.labelsize\":15})\n",
    "res_df1=res_df[res_df['Modality']!='Early Fusion']\n",
    "res_df2=res_df[res_df['Modality']!='Late Fusion']\n",
    "\n",
    "sns.set_style(\"whitegrid\")\n",
    "plt.figure(figsize=(4,5))\n",
    "ax = sns.barplot(x=\"Model\", y=\"F1-score\", hue=\"Modality\", data=res_df)#,**kwargs)\n",
    "# ax = sns.barplot(x=\"Model\", y=\"F1-score\", hue=\"Modality\", data=res_df2)\n",
    "# ax.legend(ncol = 1, loc = 'upper center')\n",
    "# plt.legend(loc='top', borderaxespad=0)\n",
    "plt.legend(bbox_to_anchor=(0.27, 1), loc='upper left', borderaxespad=0)\n",
    "plt.tight_layout()\n",
    "ax.set_ylim(0,100)\n",
    "ax.set_title(DS)\n",
    "n_classes=57;\n",
    "ax.axhline(y=(100/n_classes),linestyle=':',color='r');\n",
    "\n",
    "for a in ax.patches:\n",
    "    a.set_width(0.15)\n",
    "# plt.savefig('moa_class_bar.eps')"
   ]
  },
  {
   "cell_type": "code",
   "execution_count": null,
   "metadata": {
    "hidden": true
   },
   "outputs": [],
   "source": []
  },
  {
   "cell_type": "code",
   "execution_count": null,
   "metadata": {
    "hidden": true
   },
   "outputs": [],
   "source": []
  },
  {
   "cell_type": "code",
   "execution_count": null,
   "metadata": {
    "hidden": true
   },
   "outputs": [],
   "source": []
  },
  {
   "cell_type": "code",
   "execution_count": null,
   "metadata": {
    "hidden": true
   },
   "outputs": [],
   "source": []
  },
  {
   "cell_type": "markdown",
   "metadata": {},
   "source": [
    "## Modality Integration - k-fold\n",
    "- Figure 4b"
   ]
  },
  {
   "cell_type": "code",
   "execution_count": 3,
   "metadata": {},
   "outputs": [
    {
     "data": {
      "text/plain": [
       "dict_keys(['fC-LINCS-nvs-filt-preds-lr-ht-2', 'fC-LINCS-nvs-filt-preds-mlp-ht-2', 'fC-LINCS-nvs-filt-preds-lr-ht-3', 'fC-LINCS-nvs-filt-preds-mlp-ht-3', 'fC-LINCS-nvs-filt-preds-mlp-ht-sgkf', 'fC-LINCS-nvs-filt-preds-lr-ht-sgkf', 'fC-LINCS-nvs-filt-preds-mlp-ht-sgkf-1', 'fC-LINCS-nvs-filt-preds-lr-ht-sgkf-1', 'fC-LINCS-nvs-filt-preds-mlp-ht-sgkf-10f', 'fC-LINCS-nvs-filt-preds-lr-ht-sgkf-10f'])"
      ]
     },
     "execution_count": 3,
     "metadata": {},
     "output_type": "execute_result"
    }
   ],
   "source": [
    "# filename=results_dir+'/MoAprediction/pred_moa.xlsx'\n",
    "filename=results_dir+'/MoAprediction/pred_moa_CDRP.xlsx'\n",
    "saved_scores_cdrpbio=pd.read_excel(filename, sheet_name=None)\n",
    "saved_scores_cdrpbio.keys()\n",
    "\n",
    "filename=results_dir+'/MoAprediction/pred_moa_LINCS.xlsx'\n",
    "saved_scores_lincs=pd.read_excel(filename, sheet_name=None)\n",
    "saved_scores_lincs.keys()"
   ]
  },
  {
   "cell_type": "code",
   "execution_count": 9,
   "metadata": {},
   "outputs": [
    {
     "data": {
      "text/plain": [
       "[1, 2, 3, 4, 5]"
      ]
     },
     "execution_count": 9,
     "metadata": {},
     "output_type": "execute_result"
    }
   ],
   "source": [
    "folds"
   ]
  },
  {
   "cell_type": "code",
   "execution_count": 15,
   "metadata": {},
   "outputs": [],
   "source": [
    "from sklearn.metrics import f1_score\n",
    "res_df_lincs=pd.DataFrame(columns=['Modality','Model'])\n",
    "DS='LINCS'\n",
    "scores_mlp=saved_scores_lincs['fC-'+DS+'-nvs-filt-preds-mlp-ht-sgkf-1']\n",
    "# mofa_scores_2add=saved_scores['mofa-100fac'+DS+'-nvs-filt-preds-mlp-ht-2']\n",
    "# scores_mlp['mofa']=mofa_scores_2add['mofa']\n",
    "\n",
    "folds=scores_mlp['Fold'].unique().tolist()\n",
    "for f in folds:\n",
    "    scores_mlp_f=scores_mlp[scores_mlp['Fold']==f];\n",
    "    for dd in ['CP', 'GE', 'Early Fusion', 'Late Fusion','RGCCA_EarlyFusion']:\n",
    "        scor_vals=scores_mlp_f[dd].apply(lambda x: int(eval(x)[0]) if type(x)==str else x)    \n",
    "        f1=f1_score(scor_vals,scores_mlp_f.Metadata_moa_num.values, average='macro')\n",
    "        temp_df = pd.DataFrame(data={'Modality': [dd], 'Model': ['MLP'],'F1-score':[f1],'fold':[f]})\n",
    "        res_df_lincs=res_df_lincs.append(temp_df)\n",
    "    \n",
    "    \n",
    "scores_mlp=saved_scores_lincs['fC-'+DS+'-nvs-filt-preds-lr-ht-sgkf-1']\n",
    "# mofa_scores_2add=saved_scores['mofa-100fac'+DS+'-nvs-filt-preds-lr-ht-2']\n",
    "# scores_mlp['mofa']=mofa_scores_2add['mofa']\n",
    "folds=scores_mlp['Fold'].unique().tolist()\n",
    "for f in folds:\n",
    "    scores_mlp_f=scores_mlp[scores_mlp['Fold']==f];\n",
    "    # for dd in ['CP', 'GE', 'Early Fusion', 'Late Fusion','RGCCA_CP','RGCCA_GE','RGCCA_EarlyFusion']:\n",
    "    for dd in ['CP', 'GE', 'Early Fusion', 'Late Fusion','RGCCA_EarlyFusion']:\n",
    "        scor_vals=scores_mlp_f[dd].apply(lambda x: int(eval(x)[0]) if type(x)==str else x)    \n",
    "        f1=f1_score(scores_mlp_f.Metadata_moa_num.values,scor_vals, average='macro')\n",
    "        temp_df = pd.DataFrame(data={'Modality': [dd], 'Model': ['Logistic R'],'F1-score':[f1],'fold':[f]})\n",
    "        res_df_lincs=res_df_lincs.append(temp_df)\n",
    "    \n",
    "    \n",
    "#########################################################\n",
    "res_df_cdrpbio=pd.DataFrame(columns=['Modality','Model'])\n",
    "DS='CDRP-bio'\n",
    "scores_mlp=saved_scores_cdrpbio['fC-'+DS+'-nvs-filt-preds-mlp-ht-sgkf-1']\n",
    "# mofa_scores_2add=saved_scores['mofa-100fac'+DS+'-nvs-filt-preds-mlp-ht-2']\n",
    "# scores_mlp['mofa']=mofa_scores_2add['mofa']\n",
    "\n",
    "folds=scores_mlp['Fold'].unique().tolist()\n",
    "for f in folds:\n",
    "    scores_mlp_f=scores_mlp[scores_mlp['Fold']==f];\n",
    "    for dd in ['CP', 'GE', 'Early Fusion', 'Late Fusion','RGCCA_EarlyFusion']:\n",
    "        scor_vals=scores_mlp_f[dd].apply(lambda x: int(eval(x)[0]) if type(x)==str else x)    \n",
    "\n",
    "        f1=f1_score(scor_vals,scores_mlp_f.Metadata_moa_num.values, average='macro')\n",
    "        temp_df = pd.DataFrame(data={'Modality': [dd], 'Model': ['MLP'],'F1-score':[f1],'fold':[f]})\n",
    "        res_df_cdrpbio=res_df_cdrpbio.append(temp_df)\n",
    "    \n",
    "    \n",
    "scores_mlp=saved_scores_cdrpbio['fC-'+DS+'-nvs-filt-preds-lr-ht-sgkf-1']\n",
    "# mofa_scores_2add=saved_scores['mofa-100fac'+DS+'-nvs-filt-preds-lr-ht-2']\n",
    "# scores_mlp['mofa']=mofa_scores_2add['mofa']\n",
    "\n",
    "folds=scores_mlp['Fold'].unique().tolist()\n",
    "for f in folds:\n",
    "    scores_mlp_f=scores_mlp[scores_mlp['Fold']==f];\n",
    "    # for dd in ['CP', 'GE', 'Early Fusion', 'Late Fusion','RGCCA_CP','RGCCA_GE','RGCCA_EarlyFusion']:\n",
    "    for dd in ['CP', 'GE', 'Early Fusion', 'Late Fusion','RGCCA_EarlyFusion']:\n",
    "        scor_vals=scores_mlp_f[dd].apply(lambda x: int(eval(x)[0]) if type(x)==str else x)    \n",
    "        f1=f1_score(scores_mlp_f.Metadata_moa_num.values,scor_vals, average='macro')\n",
    "        temp_df = pd.DataFrame(data={'Modality': [dd], 'Model': ['Logistic R'],'F1-score':[f1],'fold':[f]})\n",
    "        res_df_cdrpbio=res_df_cdrpbio.append(temp_df)\n"
   ]
  },
  {
   "cell_type": "code",
   "execution_count": null,
   "metadata": {},
   "outputs": [],
   "source": [
    "res_df_lincs"
   ]
  },
  {
   "cell_type": "code",
   "execution_count": null,
   "metadata": {},
   "outputs": [],
   "source": [
    "# res_df_cdrpbio"
   ]
  },
  {
   "cell_type": "code",
   "execution_count": null,
   "metadata": {},
   "outputs": [],
   "source": [
    "#* Statistical tests for differences in the features across groups\n",
    "from scipy import stats\n",
    "all_t = list()\n",
    "all_p = list()\n",
    "for m in ['Logistic R','MLP']:\n",
    "    sub_df = res_df_cdrpbio[res_df_cdrpbio['Model'] == m]\n",
    "    g1 = sub_df[sub_df['Modality']=='CP']['F1-score'].values\n",
    "    for di in ['GE','Early Fusion', 'Late Fusion','RGCCA_EarlyFusion']:\n",
    "        g2 = sub_df[sub_df['Modality']==di]['F1-score'].values\n",
    "        t, p = stats.ttest_ind(g1, g2)\n",
    "        all_t.append(t)\n",
    "        all_p.append(p)\n",
    "all_p"
   ]
  },
  {
   "cell_type": "code",
   "execution_count": null,
   "metadata": {},
   "outputs": [],
   "source": [
    "#* Statistical tests for differences in the features across groups\n",
    "from scipy import stats\n",
    "all_t = list()\n",
    "all_p = list()\n",
    "for m in ['Logistic R','MLP']:\n",
    "    sub_df = res_df_lincs[res_df_lincs['Model'] == m]\n",
    "    g1 = sub_df[sub_df['Modality']=='CP']['F1-score'].values\n",
    "    for di in ['GE','Early Fusion', 'Late Fusion','RGCCA_EarlyFusion']:\n",
    "        g2 = sub_df[sub_df['Modality']==di]['F1-score'].values\n",
    "        t, p = stats.ttest_ind(g1, g2)\n",
    "        all_t.append(t)\n",
    "        all_p.append(p)\n",
    "all_p"
   ]
  },
  {
   "cell_type": "code",
   "execution_count": 16,
   "metadata": {},
   "outputs": [
    {
     "data": {
      "image/png": "[encoded data removed]",
      "text/plain": [
       "<Figure size 720x360 with 2 Axes>"
      ]
     },
     "metadata": {},
     "output_type": "display_data"
    }
   ],
   "source": [
    "# res_df_cdrpbio\n",
    "import matplotlib.style as style\n",
    "style.use('seaborn-colorblind')\n",
    "sns.set_context(\"paper\",font_scale = 1.5, rc={\"font.size\":4,\"axes.titlesize\":14,\"axes.labelsize\":15})\n",
    "res_df1=res_df_lincs[res_df_lincs['Modality']!='Early Fusion']\n",
    "res_df2=res_df_lincs[res_df_lincs['Modality']!='Late Fusion']\n",
    "\n",
    "# sns.set_style(\"whitegrid\")\n",
    "fig,axes=plt.subplots(1,2,figsize=(10,5),sharey=True)\n",
    "# sns.barplot(x=\"Model\", y=\"F1-score\", hue=\"Modality\", data=res_df_cdrpbio,ax=axes[0])#,**kwargs)\n",
    "sns.boxplot(x=\"Model\", y=\"F1-score\", hue=\"Modality\", data=res_df_cdrpbio,ax=axes[0])#,**kwargs)\n",
    "# plt.legend(loc='top', borderaxespad=0)\n",
    "# plt.legend(bbox_to_anchor=(0.27, 1), loc='upper left', borderaxespad=0)\n",
    "axes[0].legend([],[], frameon=False)\n",
    "plt.tight_layout()\n",
    "axes[0].set_ylim(0,50)\n",
    "axes[0].set_title('CDRP-bio')\n",
    "n_classes=16;\n",
    "axes[0].axhline(y=(1/n_classes),linestyle='--',color='r',linewidth=2);\n",
    "\n",
    "###################\n",
    "# sns.barplot(x=\"Model\", y=\"F1-score\", hue=\"Modality\", data=res_df_lincs,ax=axes[1])#,**kwargs)\n",
    "sns.boxplot(x=\"Model\", y=\"F1-score\", hue=\"Modality\", data=res_df_lincs,ax=axes[1])#,**kwargs)\n",
    "# plt.legend(loc='top', borderaxespad=0)\n",
    "plt.legend(bbox_to_anchor=(1.1, 1), loc='upper left', borderaxespad=0)\n",
    "plt.tight_layout()\n",
    "axes[1].set_ylim(0,0.5)\n",
    "axes[1].set_title('LINCS')\n",
    "axes[1].set(ylabel=None)\n",
    "n_classes=57;\n",
    "axes[1].axhline(y=(1/n_classes),linestyle='--',color='r',linewidth=2);\n",
    "\n",
    "plt.tight_layout()\n",
    "# for a in ax.patches:\n",
    "#     a.set_width(0.15)\n",
    "# plt.savefig('moa_class_bar.png')"
   ]
  },
  {
   "cell_type": "code",
   "execution_count": null,
   "metadata": {},
   "outputs": [],
   "source": [
    "res_df_lincs.groupby(['Modality','Model']).size()"
   ]
  },
  {
   "cell_type": "code",
   "execution_count": 21,
   "metadata": {},
   "outputs": [
    {
     "name": "stdout",
     "output_type": "stream",
     "text": [
      "fig4b  saved!\n"
     ]
    }
   ],
   "source": [
    "if 1:\n",
    "    res_df_lincs['Dataset']='LINCS'\n",
    "    res_df_cdrpbio['Dataset']='CDRP-bio'\n",
    "\n",
    "    res_df_4b=pd.concat([res_df_lincs,res_df_cdrpbio]).reset_index(drop=True)\n",
    "    saveAsNewSheetToExistingFile(source_data_add,res_df_4b,'fig4b')\n",
    "\n",
    "    # fig.tight_layout()\n",
    "#     fig.savefig('fig4b.pdf',papertype='letter',dpi=500)"
   ]
  },
  {
   "cell_type": "code",
   "execution_count": 18,
   "metadata": {},
   "outputs": [
    {
     "data": {
      "text/html": [
       "<div>\n",
       "<style scoped>\n",
       "    .dataframe tbody tr th:only-of-type {\n",
       "        vertical-align: middle;\n",
       "    }\n",
       "\n",
       "    .dataframe tbody tr th {\n",
       "        vertical-align: top;\n",
       "    }\n",
       "\n",
       "    .dataframe thead th {\n",
       "        text-align: right;\n",
       "    }\n",
       "</style>\n",
       "<table border=\"1\" class=\"dataframe\">\n",
       "  <thead>\n",
       "    <tr style=\"text-align: right;\">\n",
       "      <th></th>\n",
       "      <th>Modality</th>\n",
       "      <th>Model</th>\n",
       "      <th>F1-score</th>\n",
       "      <th>fold</th>\n",
       "      <th>Dataset</th>\n",
       "    </tr>\n",
       "  </thead>\n",
       "  <tbody>\n",
       "    <tr>\n",
       "      <th>0</th>\n",
       "      <td>CP</td>\n",
       "      <td>MLP</td>\n",
       "      <td>0.163483</td>\n",
       "      <td>3.0</td>\n",
       "      <td>LINCS</td>\n",
       "    </tr>\n",
       "    <tr>\n",
       "      <th>1</th>\n",
       "      <td>GE</td>\n",
       "      <td>MLP</td>\n",
       "      <td>0.134773</td>\n",
       "      <td>3.0</td>\n",
       "      <td>LINCS</td>\n",
       "    </tr>\n",
       "    <tr>\n",
       "      <th>2</th>\n",
       "      <td>Early Fusion</td>\n",
       "      <td>MLP</td>\n",
       "      <td>0.164652</td>\n",
       "      <td>3.0</td>\n",
       "      <td>LINCS</td>\n",
       "    </tr>\n",
       "    <tr>\n",
       "      <th>3</th>\n",
       "      <td>Late Fusion</td>\n",
       "      <td>MLP</td>\n",
       "      <td>0.164448</td>\n",
       "      <td>3.0</td>\n",
       "      <td>LINCS</td>\n",
       "    </tr>\n",
       "    <tr>\n",
       "      <th>4</th>\n",
       "      <td>RGCCA_EarlyFusion</td>\n",
       "      <td>MLP</td>\n",
       "      <td>0.164036</td>\n",
       "      <td>3.0</td>\n",
       "      <td>LINCS</td>\n",
       "    </tr>\n",
       "    <tr>\n",
       "      <th>...</th>\n",
       "      <td>...</td>\n",
       "      <td>...</td>\n",
       "      <td>...</td>\n",
       "      <td>...</td>\n",
       "      <td>...</td>\n",
       "    </tr>\n",
       "    <tr>\n",
       "      <th>95</th>\n",
       "      <td>CP</td>\n",
       "      <td>Logistic R</td>\n",
       "      <td>0.217143</td>\n",
       "      <td>5.0</td>\n",
       "      <td>CDRP-bio</td>\n",
       "    </tr>\n",
       "    <tr>\n",
       "      <th>96</th>\n",
       "      <td>GE</td>\n",
       "      <td>Logistic R</td>\n",
       "      <td>0.194139</td>\n",
       "      <td>5.0</td>\n",
       "      <td>CDRP-bio</td>\n",
       "    </tr>\n",
       "    <tr>\n",
       "      <th>97</th>\n",
       "      <td>Early Fusion</td>\n",
       "      <td>Logistic R</td>\n",
       "      <td>0.329932</td>\n",
       "      <td>5.0</td>\n",
       "      <td>CDRP-bio</td>\n",
       "    </tr>\n",
       "    <tr>\n",
       "      <th>98</th>\n",
       "      <td>Late Fusion</td>\n",
       "      <td>Logistic R</td>\n",
       "      <td>0.299320</td>\n",
       "      <td>5.0</td>\n",
       "      <td>CDRP-bio</td>\n",
       "    </tr>\n",
       "    <tr>\n",
       "      <th>99</th>\n",
       "      <td>RGCCA_EarlyFusion</td>\n",
       "      <td>Logistic R</td>\n",
       "      <td>0.300170</td>\n",
       "      <td>5.0</td>\n",
       "      <td>CDRP-bio</td>\n",
       "    </tr>\n",
       "  </tbody>\n",
       "</table>\n",
       "<p>100 rows × 5 columns</p>\n",
       "</div>"
      ],
      "text/plain": [
       "             Modality       Model  F1-score  fold   Dataset\n",
       "0                  CP         MLP  0.163483   3.0     LINCS\n",
       "1                  GE         MLP  0.134773   3.0     LINCS\n",
       "2        Early Fusion         MLP  0.164652   3.0     LINCS\n",
       "3         Late Fusion         MLP  0.164448   3.0     LINCS\n",
       "4   RGCCA_EarlyFusion         MLP  0.164036   3.0     LINCS\n",
       "..                ...         ...       ...   ...       ...\n",
       "95                 CP  Logistic R  0.217143   5.0  CDRP-bio\n",
       "96                 GE  Logistic R  0.194139   5.0  CDRP-bio\n",
       "97       Early Fusion  Logistic R  0.329932   5.0  CDRP-bio\n",
       "98        Late Fusion  Logistic R  0.299320   5.0  CDRP-bio\n",
       "99  RGCCA_EarlyFusion  Logistic R  0.300170   5.0  CDRP-bio\n",
       "\n",
       "[100 rows x 5 columns]"
      ]
     },
     "execution_count": 18,
     "metadata": {},
     "output_type": "execute_result"
    }
   ],
   "source": [
    "res_df_4b\n",
    "\n",
    "# pd.concat([res_df_lincs,res_df_cdrpbio]).to_clipboard()"
   ]
  },
  {
   "cell_type": "code",
   "execution_count": 20,
   "metadata": {},
   "outputs": [
    {
     "data": {
      "text/plain": [
       "array([3., 1., 4., 2., 5.])"
      ]
     },
     "execution_count": 20,
     "metadata": {},
     "output_type": "execute_result"
    }
   ],
   "source": [
    "res_df_4b['fold'].unique()"
   ]
  },
  {
   "cell_type": "code",
   "execution_count": null,
   "metadata": {},
   "outputs": [],
   "source": []
  },
  {
   "cell_type": "markdown",
   "metadata": {
    "heading_collapsed": true
   },
   "source": [
    "## Supplementary E - Top 50 CP using MLP\n",
    "- Supplementary Figure 3"
   ]
  },
  {
   "cell_type": "code",
   "execution_count": null,
   "metadata": {
    "hidden": true
   },
   "outputs": [],
   "source": [
    "DataPredResults.Model.unique()"
   ]
  },
  {
   "cell_type": "code",
   "execution_count": null,
   "metadata": {
    "hidden": true
   },
   "outputs": [],
   "source": [
    "datasets=['TAORF', 'CDRP-bio']\n",
    "\n",
    "\n",
    "models=[\"MLP\"]\n",
    "f='-filt';#'-filt'\n",
    "DataPredResults_appC=DataPredResults.copy()\n",
    "fig, axes = plt.subplots(len(datasets),1,figsize=(10,15))\n",
    "sns.set_context(\"paper\")\n",
    "sns.set_style(\"whitegrid\")\n",
    "# sns.rcParams['patch.force_edgecolor'] = True\n",
    "# for d in range(5):#(len(datasets)):\n",
    "for d in range(len(datasets)):\n",
    "    for m in range(len(models)):\n",
    "        dataset_meth_dists=DataPredResults_appC[(DataPredResults_appC['Dataset']==datasets[d]) &\\\n",
    "                                                    (DataPredResults_appC['Model']==models[m])]\n",
    "#         kjhlhjl\n",
    "#         CP-Features\n",
    "        sorted_gene_mean_scores=dataset_meth_dists[dataset_meth_dists['d']=='n-folds'].groupby(['CP-Features','d']).median().reset_index().sort_values(by=['pred score'],ascending=False)\n",
    "        top_lmGenes=sorted_gene_mean_scores['CP-Features'].tolist()[0:50]\n",
    "        dataset_meth_dists_top_50=dataset_meth_dists[dataset_meth_dists['CP-Features'].isin(top_lmGenes)]\n",
    "        \n",
    "#         f, axes = plt.subplots(figsize=(15,4))\n",
    "        axes[d].set_title(\"Dataset: \"+datasets[d])\n",
    "        sns.boxplot(x=\"CP-Features\", y=\"pred score\",hue=\"d\", data=dataset_meth_dists_top_50,ax=axes[d],\\\n",
    "                    order=top_lmGenes,palette=my_pal,hue_order=['random','n-folds'])\n",
    "        # ax = sns.violinplot(x=\"lmGens\", y=\"pred score\", hue=\"d\",data=tips2, palette=\"muted\", split=True)\n",
    "        axes[d].set_xticklabels(axes[d].get_xticklabels(),rotation=90,fontsize=10);\n",
    "        axes[d].set_ylim(-1, 1)\n",
    "        \n",
    "fig.tight_layout()\n",
    "fig.savefig('supp_e1.pdf',papertype='letter',dpi=500)\n",
    "# fig.savefig('appendix_C1.eps')\n",
    "\n",
    "datasets=['LINCS', 'LUAD']\n",
    "fig, axes = plt.subplots(len(datasets),1,figsize=(10,15))\n",
    "sns.set_context(\"paper\")\n",
    "sns.set_style(\"whitegrid\")\n",
    "# sns.rcParams['patch.force_edgecolor'] = True\n",
    "# for d in range(5):#(len(datasets)):\n",
    "for d in range(len(datasets)):\n",
    "    for m in range(len(models)):\n",
    "        dataset_meth_dists=DataPredResults_appC[(DataPredResults_appC['Dataset']==datasets[d]) &\\\n",
    "                                                    (DataPredResults_appC['Model']==models[m])]\n",
    "#         kjhlhjl\n",
    "#         CP-Features\n",
    "        sorted_gene_mean_scores=dataset_meth_dists[dataset_meth_dists['d']=='n-folds'].groupby(['CP-Features','d']).median().reset_index().sort_values(by=['pred score'],ascending=False)\n",
    "        top_lmGenes=sorted_gene_mean_scores['CP-Features'].tolist()[0:50]\n",
    "        dataset_meth_dists_top_50=dataset_meth_dists[dataset_meth_dists['CP-Features'].isin(top_lmGenes)]\n",
    "        \n",
    "#         f, axes = plt.subplots(figsize=(15,4))\n",
    "        axes[d].set_title(\"Dataset: \"+datasets[d])\n",
    "        sns.boxplot(x=\"CP-Features\", y=\"pred score\",hue=\"d\", data=dataset_meth_dists_top_50,ax=axes[d],\\\n",
    "                    order=top_lmGenes,palette=my_pal,hue_order=['random','n-folds'])\n",
    "        # ax = sns.violinplot(x=\"lmGens\", y=\"pred score\", hue=\"d\",data=tips2, palette=\"muted\", split=True)\n",
    "        axes[d].set_xticklabels(axes[d].get_xticklabels(),rotation=90,fontsize=10);\n",
    "        axes[d].set_ylim(-1, 1)\n",
    "        \n",
    "fig.tight_layout()\n",
    "# fig.savefig('appendix_C2.eps')\n",
    "\n",
    "fig.savefig('supp_e2.pdf',papertype='letter',dpi=500)"
   ]
  },
  {
   "cell_type": "code",
   "execution_count": null,
   "metadata": {
    "hidden": true
   },
   "outputs": [],
   "source": []
  },
  {
   "cell_type": "markdown",
   "metadata": {
    "heading_collapsed": true
   },
   "source": [
    "## MoA Cluster retrieval \n",
    "- Figure 4a"
   ]
  },
  {
   "cell_type": "code",
   "execution_count": null,
   "metadata": {
    "hidden": true
   },
   "outputs": [],
   "source": [
    "%matplotlib notebook\n",
    "# res_fig9=\"~/workspace_rosetta/workspace/software/2021_Haghighi_NeurIPS_Dataset_submitted/results_CP_GE/57/JI.txt\"\n",
    "res_fig9=\"~/workspace_rosetta/workspace/software/2021_Haghighi_NeurIPS_Dataset_submitted/JDR/results_CP_GE_cdrpbio/16/JI.txt\"\n",
    "res_fig9_df=pd.read_csv(res_fig9, sep=\"\\t\")\n",
    "res_fig9_df=res_fig9_df.rename(columns={\"concat\":'Early Fusion'})\n",
    "# res_fig9_df.boxplot()\n",
    "\n",
    "f, axes = plt.subplots(1, 2, sharey=True,figsize=(7,5))\n",
    "sns.boxplot(x=\"variable\", y=\"value\", data=pd.melt(res_fig9_df),order=['CP', 'GE', 'Early Fusion', 'RGCCA', 'MCIA', 'MOFA', 'iCluster', 'intNMF',\n",
    "       'JIVE', 'scikit-fusion'],ax=axes[0]);\n",
    "axes[0].set_xticklabels(axes[0].get_xticklabels(),rotation=90,size=13)\n",
    "axes[0].set_ylabel(\"Jaccard Index (JI)\", fontsize=13)\n",
    "axes[0].set_ylim([0,.4]);axes[0].set_title('CDRP-bio');\n",
    "res_fig9_df['Dataset']='CDRP-bio'\n",
    "\n",
    "\n",
    "res_fig9=\"~/workspace_rosetta/workspace/software/2021_Haghighi_NeurIPS_Dataset_submitted/JDR/results_CP_GE_lincs/57/JI.txt\"\n",
    "res_fig9_df_2=pd.read_csv(res_fig9, sep=\"\\t\")\n",
    "res_fig9_df_2=res_fig9_df_2.rename(columns={\"concat\":'Early Fusion'})\n",
    "# res_fig9_df_2.boxplot()\n",
    "\n",
    "sns.boxplot(x=\"variable\", y=\"value\", data=pd.melt(res_fig9_df_2),order=['CP', 'GE', 'Early Fusion', 'RGCCA', 'MCIA', 'MOFA', 'iCluster', 'intNMF',\n",
    "       'JIVE', 'scikit-fusion'],ax=axes[1]);\n",
    "axes[1].set_xticklabels(axes[1].get_xticklabels(),rotation=90,size=13)\n",
    "axes[1].set(ylabel=None)\n",
    "# axes[1].set_ylabel(\"Jaccard Index (JI)\", fontsize=11)\n",
    "axes[1].set_ylim([0,.5]);axes[1].set_title('LINCS');\n",
    "res_fig9_df_2['Dataset']='LINCS'\n",
    "\n",
    "plt.tight_layout()\n",
    "\n",
    "if 0:\n",
    "    saveAsNewSheetToExistingFile(source_data_add,pd.concat([res_fig9_df,res_fig9_df_2]),'fig4a')\n",
    "\n",
    "    # fig.tight_layout()\n",
    "    f.savefig('fig4a.pdf',papertype='letter',dpi=500)"
   ]
  },
  {
   "cell_type": "code",
   "execution_count": null,
   "metadata": {
    "hidden": true
   },
   "outputs": [],
   "source": [
    "# res_fig9_df"
   ]
  },
  {
   "cell_type": "code",
   "execution_count": null,
   "metadata": {
    "hidden": true
   },
   "outputs": [],
   "source": []
  },
  {
   "cell_type": "code",
   "execution_count": null,
   "metadata": {
    "hidden": true
   },
   "outputs": [],
   "source": [
    "#* Statistical tests for differences in the features across groups\n",
    "from scipy import stats\n",
    "all_t = list()\n",
    "all_p = list()\n",
    "\n",
    "g1 = res_fig9_df['CP'].values\n",
    "for di in res_fig9_df.columns:\n",
    "    g2 = res_fig9_df[di].values\n",
    "    t, p = stats.ttest_ind(g1, g2)\n",
    "    all_t.append(t)\n",
    "    all_p.append(p)\n",
    "all_p"
   ]
  },
  {
   "cell_type": "code",
   "execution_count": null,
   "metadata": {
    "hidden": true
   },
   "outputs": [],
   "source": []
  },
  {
   "cell_type": "code",
   "execution_count": null,
   "metadata": {
    "hidden": true
   },
   "outputs": [],
   "source": [
    "# report_clss4=res_fig9_df[['CP','GE','RGCCA']]\n",
    "# # report_clss4.index=report_clss3['MoA']\n",
    "# ax = report_clss4.plot.bar(rot=90,figsize=(10,6))\n",
    "# plt.title('MoA class specific F1-scores')\n",
    "# ax.set_ylim([0,1])"
   ]
  },
  {
   "cell_type": "code",
   "execution_count": null,
   "metadata": {
    "hidden": true
   },
   "outputs": [],
   "source": []
  },
  {
   "cell_type": "markdown",
   "metadata": {
    "hidden": true
   },
   "source": []
  },
  {
   "cell_type": "code",
   "execution_count": null,
   "metadata": {
    "hidden": true
   },
   "outputs": [],
   "source": []
  }
 ],
 "metadata": {
  "kernelspec": {
   "display_name": "Python [conda env:root] *",
   "language": "python",
   "name": "conda-root-py"
  },
  "language_info": {
   "codemirror_mode": {
    "name": "ipython",
    "version": 3
   },
   "file_extension": ".py",
   "mimetype": "text/x-python",
   "name": "python",
   "nbconvert_exporter": "python",
   "pygments_lexer": "ipython3",
   "version": "3.8.12"
  },
  "latex_envs": {
   "LaTeX_envs_menu_present": true,
   "autoclose": false,
   "autocomplete": true,
   "bibliofile": "biblio.bib",
   "cite_by": "apalike",
   "current_citInitial": 1,
   "eqLabelWithNumbers": true,
   "eqNumInitial": 1,
   "hotkeys": {
    "equation": "Ctrl-E",
    "itemize": "Ctrl-I"
   },
   "labels_anchors": false,
   "latex_user_defs": false,
   "report_style_numbering": false,
   "user_envs_cfg": false
  },
  "varInspector": {
   "cols": {
    "lenName": 16,
    "lenType": 16,
    "lenVar": 40
   },
   "kernels_config": {
    "python": {
     "delete_cmd_postfix": "",
     "delete_cmd_prefix": "del ",
     "library": "var_list.py",
     "varRefreshCmd": "print(var_dic_list())"
    },
    "r": {
     "delete_cmd_postfix": ") ",
     "delete_cmd_prefix": "rm(",
     "library": "var_list.r",
     "varRefreshCmd": "cat(var_dic_list()) "
    }
   },
   "types_to_exclude": [
    "module",
    "function",
    "builtin_function_or_method",
    "instance",
    "_Feature"
   ],
   "window_display": false
  }
 },
 "nbformat": 4,
 "nbformat_minor": 4
}
