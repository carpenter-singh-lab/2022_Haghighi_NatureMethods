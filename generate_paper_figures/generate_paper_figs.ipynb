{
 "cells": [
  {
   "cell_type": "code",
   "execution_count": 12,
   "metadata": {},
   "outputs": [
    {
     "name": "stdout",
     "output_type": "stream",
     "text": [
      "The autoreload extension is already loaded. To reload it, use:\n",
      "  %reload_ext autoreload\n"
     ]
    }
   ],
   "source": [
    "%matplotlib inline\n",
    "%load_ext autoreload\n",
    "%autoreload 2\n",
    "import numpy as np\n",
    "import scipy.spatial\n",
    "import pandas as pd\n",
    "import sklearn.decomposition\n",
    "import matplotlib.pyplot as plt\n",
    "# import keras\n",
    "from sklearn import preprocessing\n",
    "from sklearn.metrics import pairwise_distances,mean_absolute_error, mean_squared_error\n",
    "import matplotlib.pyplot as plt\n",
    "import seaborn as sns\n",
    "import sys\n",
    "sys.path.insert(0, '../utils/') \n",
    "from readProfiles import *\n",
    "from pred_models import *\n",
    "from saveAsNewSheetToExistingFile import saveAsNewSheetToExistingFile\n",
    "from multiprocessing import Pool\n",
    "\n",
    "sns.set_style(\"whitegrid\")\n",
    "# from utils import networksEvol, tsne, readProfiles\n",
    "# import umap"
   ]
  },
  {
   "cell_type": "code",
   "execution_count": null,
   "metadata": {},
   "outputs": [],
   "source": []
  },
  {
   "cell_type": "markdown",
   "metadata": {
    "heading_collapsed": true
   },
   "source": [
    "#### Paths"
   ]
  },
  {
   "cell_type": "code",
   "execution_count": null,
   "metadata": {
    "hidden": true
   },
   "outputs": [],
   "source": [
    "# procProf_dir='/home/ubuntu/datasetsbucket/Rosetta-GE-CP/'\n",
    "# procProf_dir='/home/ubuntu/bucket/projects/2018_04_20_Rosetta/workspace/'\n",
    "# metadata_dir='/home/ubuntu/bucket/projects/2018_04_20_Rosetta/workspace/metadata/'\n",
    "results_dir='../results/'\n",
    "source_data_add='../results/Figs_Source_Data.xlsx'"
   ]
  },
  {
   "cell_type": "code",
   "execution_count": null,
   "metadata": {
    "hidden": true
   },
   "outputs": [],
   "source": [
    "pd.read_excel(source_data_add, sheet_name=None).keys()"
   ]
  },
  {
   "cell_type": "markdown",
   "metadata": {},
   "source": [
    "## Read single gene prediction results"
   ]
  },
  {
   "cell_type": "code",
   "execution_count": 8,
   "metadata": {},
   "outputs": [
    {
     "data": {
      "text/plain": [
       "dict_keys(['MLP-LUAD-nvs-filt-9-ht', 'Lasso-LUAD-nvs-filt-9-ht', 'MLP-TAORF-nvs--5-ht', 'Lasso-TAORF-nvs--5-ht', 'MLP-LINCS-nvs-filt-25-ht', 'Lasso-LINCS-nvs-filt-25-ht', 'MLP-CDRP-bio-nvs-filt-6-ht', 'Lasso-CDRP-bio-nvs-filt-6-ht'])"
      ]
     },
     "execution_count": 8,
     "metadata": {},
     "output_type": "execute_result"
    }
   ],
   "source": [
    "# filename=results_dir+'/SingleGenePred/scores_checkIfitisfixedRandomSeed.xlsx'\n",
    "filename=results_dir+'/SingleGenePred/scores_corrected.xlsx'\n",
    "saved_scores=pd.read_excel(filename, sheet_name=None)\n",
    "saved_scores.keys()"
   ]
  },
  {
   "cell_type": "code",
   "execution_count": null,
   "metadata": {},
   "outputs": [],
   "source": []
  },
  {
   "cell_type": "code",
   "execution_count": null,
   "metadata": {
    "scrolled": true
   },
   "outputs": [],
   "source": [
    "# filename=results_dir+'/SingleGenePred/scores_hyperParam.xlsx'\n",
    "filename=results_dir+'/SingleGenePred/scores_corrected.xlsx'\n",
    "saved_scores=pd.read_excel(filename, sheet_name=None)\n",
    "saved_scores.keys()\n",
    "\n",
    "################################################\n",
    "# dataset options: 'CDRP' , 'LUAD', 'TAORF', 'LINCS', 'CDRP-bio'\n",
    "datasets=['LUAD', 'TAORF', 'LINCS', 'CDRP-bio'];\n",
    "# datasets=['LUAD', 'TAORF', 'LINCS', 'CDRP-bio','CDRP'];\n",
    "\n",
    "DT_kfold={'LUAD':9, 'TAORF':5, 'LINCS':25, 'CDRP-bio':6,'CDRP':40}\n",
    "# DT_kfold={'LUAD':10, 'TAORF':10, 'LINCS':25, 'CDRP-bio':10,'CDRP':40}\n",
    "\n",
    "################################################\n",
    "# CP Profile Type options: 'augmented' , 'normalized', 'normalized_variable_selected'\n",
    "profileType='normalized_variable_selected'\n",
    "profTypeAbbrev=''.join([s[0] for s in profileType.split('_')])\n",
    "\n",
    "################################################\n",
    "# filtering to compounds which have high replicates for both GE and CP datasets\n",
    "highRepOverlapEnabled=1\n",
    "\n",
    "\n",
    "################################################\n",
    "pertColName='PERT'\n",
    "profileLevel='treatment'; #'replicate'  or  'treatment'\n",
    "if highRepOverlapEnabled:\n",
    "    f='filt'\n",
    "else:\n",
    "    f=''\n",
    "    \n",
    "models=[\"MLP\",\"Lasso\"]\n",
    "\n",
    "# DataPredResults=pd.DataFrame(columns=[\"Dataset\",\"Model\"])\n",
    "DataPredResults_ls=[]\n",
    "\n",
    "fig, axes = plt.subplots(len(datasets),len(models),figsize=(4*len(models),3*len(datasets)))\n",
    "sns.set_context(\"paper\")\n",
    "sns.set_style(\"whitegrid\")\n",
    "# sns.rcParams['patch.force_edgecolor'] = True\n",
    "# for d in range(5):#(len(datasets)):\n",
    "df_q=pd.read_excel('../idmap.xlsx') \n",
    "for d in range(len(datasets)):\n",
    "    for m in range(len(models)):\n",
    "                              \n",
    "        if datasets[d]=='TAORF' or datasets[d]=='CDRP':     \n",
    "            f=''\n",
    "        else:\n",
    "            f='filt'            \n",
    "\n",
    "        k_fold=DT_kfold[datasets[d]] \n",
    "        sheetName=models[m]+'-'+datasets[d]+'-'+profTypeAbbrev+'-'+f+'-'+str(k_fold)+'-ht'\n",
    "\n",
    "        res_sheet=saved_scores[sheetName]\n",
    "#         res_sheet_2save=res_sheet.merge(df_q, left_on='lmGens', right_on='gene',how='left')\\\n",
    "#         [['lmGens', 'pred score', 'd', 'probe_id', 'query','symbol','gene']]\n",
    "#         saveAsNewSheetToExistingFile(filename2,res_sheet_2save,sheetName)\n",
    "#         d_to_pl=res_sheet.reset_index().copy()\n",
    "        d_to_pl=res_sheet.groupby(['symbol','d']).median().reset_index()   \n",
    "        d_to_pl_2=d_to_pl.copy()\n",
    "        \n",
    "#         d_to_pl_2=res_sheet.copy()\n",
    "#         print('d',len(set(d_to_pl['lmGens'].unique().tolist()) & set(df_q['gene'].unique().tolist())))\n",
    "        d_to_pl_2['Dataset']=datasets[d]\n",
    "        d_to_pl_2['Model']=models[m]\n",
    "        \n",
    "        \n",
    "        \n",
    "        # axes=sns.displot(data=d_to_pl, x=\"pred score\", hue=\"d\")\n",
    "        #     sns.distplot(saved_scores['Lasso-'+datasets[d]+filter_status[d]].pred_score.values,kde=True,hist=True,bins=100,label=datasets[d],ax=axes,norm_hist=True);\n",
    "        pred_scoress=d_to_pl[d_to_pl[\"d\"]==\"n-folds\"][\"pred score\"].values\n",
    "#         pred_scoress=res_sheet[res_sheet['d']=='n-folds'][\"pred score\"].values\n",
    "        rand_scoress=d_to_pl[d_to_pl[\"d\"]==\"random\"][\"pred score\"].values\n",
    "#         rand_scoress=res_sheet[res_sheet['d']=='random'][\"pred score\"].values\n",
    "        sns.distplot(pred_scoress,kde=True,hist=True,bins=100,label=datasets[d],ax=axes[d,m],norm_hist=True,color='r')\n",
    "        sns.distplot(rand_scoress,kde=True,hist=True,bins=100,label='random',ax=axes[d,m],norm_hist=True)\n",
    "        rand99th=np.percentile(rand_scoress,99)\n",
    "        print(rand99th)\n",
    "        \n",
    "        d_to_pl_2['rand99th']=rand99th\n",
    "        DataPredResults_ls.append(d_to_pl_2)\n",
    "        \n",
    "        \n",
    "        axes[d,0].set_xlim(-1,1)\n",
    "        axes[d,1].set_xlim(-1,1)\n",
    "#         axes[d,1].set_xlim(-.5,.5)\n",
    "#         axes[d,m].set_xlim(-0.5,0.6)\n",
    "#         axes[d,m].set_ylim(0,15)\n",
    "        axes[d,m].axvline(x=np.percentile(rand_scoress,90),linestyle=':',color='r');\n",
    "        axes[len(datasets)-1,m].set_xlabel(\"Accuracy ($R^2$)\");\n",
    "        axes[d,m].legend();\n",
    "        axes[0,m].set_title(models[m]);\n",
    "\n",
    "DataPredResults=pd.concat(DataPredResults_ls, ignore_index=True)        \n",
    "        \n",
    "DataPredResults.loc[DataPredResults['d']=='random','Model']=DataPredResults[DataPredResults['d']=='random']['Model']+'-'+DataPredResults[DataPredResults['d']=='random']['d']"
   ]
  },
  {
   "cell_type": "code",
   "execution_count": null,
   "metadata": {},
   "outputs": [],
   "source": [
    "res_sheet"
   ]
  },
  {
   "cell_type": "markdown",
   "metadata": {},
   "source": [
    "## Single gene prediction barplot for each dataset and each model\n",
    "- Figeure 2a"
   ]
  },
  {
   "cell_type": "code",
   "execution_count": null,
   "metadata": {},
   "outputs": [],
   "source": [
    "# DataPredResults.groupby(['Dataset','Model','d']).size()\n",
    "# DataPredResults\n",
    "%matplotlib notebook\n",
    "import matplotlib.style as style\n",
    "style.use('seaborn-colorblind')\n",
    "sns.set_context(\"paper\",font_scale = 2, rc={\"font.size\":20,\"axes.titlesize\":8,\"axes.labelsize\":10})\n",
    "\n",
    "# DataPredResults.loc[DataPredResults['d']=='random','Model']=DataPredResults[DataPredResults['d']=='random']['Model']+'-'+DataPredResults[DataPredResults['d']=='random']['d']\n",
    "plt.figure(figsize=(13,4))\n",
    "\n",
    "# plt.rcParams[\"axes.labelsize\"] = 40\n",
    "sns.set_theme(style=\"whitegrid\")\n",
    "ax = sns.boxplot(x=\"Dataset\", y=\"pred score\", hue=\"Model\",data=DataPredResults,\\\n",
    "                order=['TAORF','CDRP-bio','LINCS','LUAD'], hue_order=['Lasso-random','Lasso','MLP-random','MLP'])\n",
    "ax.set_ylim(-0.5,1);\n",
    "ax.set_ylabel(\"Accuracy ($R^2$)\", fontweight='bold'); #fontsize=14,\n",
    "ax.axhline(y=0,linestyle=':',color='k');\n",
    "plt.tight_layout()\n",
    "plt.legend(bbox_to_anchor=(1, .65), loc='upper left', borderaxespad=0)\n",
    "plt.tight_layout()\n",
    "\n",
    "if 0:\n",
    "    plt.savefig('fig2a.pdf')\n",
    "    saveAsNewSheetToExistingFile(source_data_add,DataPredResults,'fig2a')"
   ]
  },
  {
   "cell_type": "markdown",
   "metadata": {},
   "source": [
    "#### Save derived list of genes for GO analysis"
   ]
  },
  {
   "cell_type": "code",
   "execution_count": null,
   "metadata": {},
   "outputs": [],
   "source": [
    "# meta=pd.read_csv(\"/home/ubuntu/bucket/projects/2018_04_20_Rosetta/workspace/metadata/affy_probe_gene_mapping.txt\",delimiter=\"\\t\",header=None, names=[\"probe_id\", \"gene\"])\n",
    "# meta\n",
    "#         meta_gene_probID=meta.set_index('probe_id')\n",
    "#         d = dict(zip(meta_gene_probID.index, meta_gene_probID['gene']))\n",
    "union_geneSymbols_1170=DataPredResults.symbol.unique()\n",
    "# len(union_geneSymbols_1170)\n",
    "\n",
    "textfile = open(\"../GO_terms_search/union_geneSymbols_1170.txt\", \"w\")\n",
    "for element in union_geneSymbols_1170:\n",
    "    textfile.write(element + \"\\n\")\n",
    "textfile.close()\n",
    "\n",
    "ov_c=DataPredResults[(DataPredResults['d']=='n-folds')].groupby(['symbol']).size()==8\n",
    "overlap_genes_across_DSs=ov_c[ov_c==True].index.tolist()\n",
    "textfile = open(\"../GO_terms_search/intersection_geneSymbols_785.txt\", \"w\")\n",
    "for element in overlap_genes_across_DSs:\n",
    "    textfile.write(element + \"\\n\")\n",
    "textfile.close()\n",
    "\n",
    "LUAD_978=DataPredResults[(DataPredResults['Dataset']=='LUAD')].symbol.unique().tolist()\n",
    "textfile = open(\"../GO_terms_search/LUAD_geneSymbols_978.txt\", \"w\")\n",
    "for element in LUAD_978:\n",
    "    textfile.write(element + \"\\n\")\n",
    "textfile.close()"
   ]
  },
  {
   "cell_type": "markdown",
   "metadata": {},
   "source": [
    "## Single gene prediction table\n",
    "- Figure 2b"
   ]
  },
  {
   "cell_type": "code",
   "execution_count": null,
   "metadata": {},
   "outputs": [],
   "source": [
    "DataPredResults2=DataPredResults.loc[DataPredResults['d']!='random'].reset_index(drop=True)\n",
    "DataPredResults2[DataPredResults2[\"pred score\"]>DataPredResults2['rand99th']+0.2].\\\n",
    "groupby(['Dataset','Model']).size()*100/978#*100/977"
   ]
  },
  {
   "cell_type": "code",
   "execution_count": null,
   "metadata": {},
   "outputs": [],
   "source": [
    "DataPredResults2=DataPredResults.loc[DataPredResults['d']!='random'].reset_index(drop=True)\n",
    "DataPredResults2[DataPredResults2[\"pred score\"]>DataPredResults2['rand99th']+0.2].groupby(['Dataset','Model']).size()"
   ]
  },
  {
   "cell_type": "code",
   "execution_count": null,
   "metadata": {},
   "outputs": [],
   "source": [
    "if 0:\n",
    "    saveAsNewSheetToExistingFile(source_data_add,(DataPredResults2[DataPredResults2[\"pred score\"]>DataPredResults2['rand99th']+0.2].groupby(['Dataset','Model']).size()),'fig2b')"
   ]
  },
  {
   "cell_type": "code",
   "execution_count": null,
   "metadata": {},
   "outputs": [],
   "source": []
  },
  {
   "cell_type": "markdown",
   "metadata": {},
   "source": [
    "## Venn diagram of the highly predictable genes across datasets - MLP model\n",
    "- Figure 2c"
   ]
  },
  {
   "cell_type": "code",
   "execution_count": null,
   "metadata": {},
   "outputs": [],
   "source": [
    "DataPredRes4venn=DataPredResults2[DataPredResults2[\"pred score\"]>DataPredResults2['rand99th']+0.2]\n",
    "DataPredRes4venn=DataPredRes4venn[DataPredRes4venn['Model']=='MLP'].reset_index(drop=True)\n",
    "DataPredRes4venn['hp-scores']=DataPredRes4venn[\"pred score\"]-(DataPredRes4venn['rand99th']+0.2)\n",
    "# DataPredRes4venn\n",
    "\n",
    "from venn import venn\n",
    "list_4_ven={}\n",
    "dsets=[\"CDRP-bio\",\"LINCS\",\"LUAD\", \"TAORF\"]\n",
    "set_lab=tuple(dsets) \n",
    "# plt.figure()\n",
    "for d in dsets:\n",
    "    list_4_ven[d]=set(DataPredRes4venn[DataPredRes4venn[\"Dataset\"]==d].symbol)\n",
    "\n",
    "# venn(list_4_ven,legend_loc='upper center')\n",
    "venn(list_4_ven,legend_loc='lower right');\n",
    "# plt.tight_layout()\n",
    "# plt.savefig('fig2c.pdf')\n",
    "if 0:\n",
    "    saveAsNewSheetToExistingFile(source_data_add,DataPredRes4venn[['symbol','Dataset','Model']],'fig2c')"
   ]
  },
  {
   "cell_type": "code",
   "execution_count": null,
   "metadata": {},
   "outputs": [],
   "source": []
  },
  {
   "cell_type": "code",
   "execution_count": null,
   "metadata": {},
   "outputs": [],
   "source": [
    "with pd.option_context('display.max_rows', None, 'display.max_columns', None):  # more options can be specified also\n",
    "    print(DataPredRes4venn.groupby('symbol').size().reset_index())"
   ]
  },
  {
   "cell_type": "code",
   "execution_count": null,
   "metadata": {},
   "outputs": [],
   "source": [
    "# DataPredRes4venn"
   ]
  },
  {
   "cell_type": "code",
   "execution_count": null,
   "metadata": {},
   "outputs": [],
   "source": [
    "\n",
    "# top_58_overlappingGenes=DataPredRes4venn.groupby('symbol').size()[list(DataPredRes4venn.groupby('symbol').size()>3)].index.to_list()\n",
    "\n",
    "# textfile = open(\"top_58_common.txt\", \"w\")\n",
    "# for element in top_58_overlappingGenes:\n",
    "#     textfile.write(element + \"\\n\")\n",
    "# textfile.close()"
   ]
  },
  {
   "cell_type": "code",
   "execution_count": null,
   "metadata": {},
   "outputs": [],
   "source": [
    "np.sum([list(DataPredRes4venn.groupby('symbol').size()>2)])"
   ]
  },
  {
   "cell_type": "code",
   "execution_count": null,
   "metadata": {},
   "outputs": [],
   "source": [
    "# DataPredRes4venn.groupby('symbol').size()"
   ]
  },
  {
   "cell_type": "code",
   "execution_count": null,
   "metadata": {},
   "outputs": [],
   "source": [
    "## Save for GO analysis\n",
    "top_59_atleast_topIn3=DataPredRes4venn.groupby('symbol').size()[list(DataPredRes4venn.groupby('symbol').size()>2)].index.to_list()\n",
    "len(top_59_atleast_topIn3)\n",
    "textfile = open(\"../GO_terms_search/top_59_atleast_topIn3.txt\", \"w\")\n",
    "for element in top_59_atleast_topIn3:\n",
    "    textfile.write(element + \"\\n\")\n",
    "textfile.close()"
   ]
  },
  {
   "cell_type": "code",
   "execution_count": null,
   "metadata": {},
   "outputs": [],
   "source": []
  },
  {
   "cell_type": "markdown",
   "metadata": {},
   "source": [
    "## Explore gene family of top 100 genes in LUAD\n",
    "- Using hgnc_gene_group_family_dictionary\n",
    "\n",
    "- Extended data 2"
   ]
  },
  {
   "cell_type": "code",
   "execution_count": null,
   "metadata": {},
   "outputs": [],
   "source": [
    "# top 58 overlap in all datasets\n",
    "\"\"\"\n",
    "topInAll=DataPredRes4venn.groupby(['lmGens','Dataset']).size().reset_index().groupby(['lmGens']).size().reset_index()\n",
    "top58=topInAll[topInAll[0]>3].lmGens.tolist()\n",
    "\"\"\"\n",
    "\n",
    "# top 20 in LUAD - First version\n",
    "# top58=DataPredResults2[DataPredResults2[\"Dataset\"]==\"LUAD\"].sort_values(by=\"pred score\")[-20:]['symbol'].tolist()\n",
    "\n",
    "# Revision version\n",
    "top_LUAD=DataPredResults[(DataPredResults['Dataset']=='LUAD') & (DataPredResults['Model']=='MLP')].reset_index(drop=True).\\\n",
    "sort_values(by='pred score',ascending=False).reset_index(drop=True)\n",
    "# top_luad_list=top_LUAD[top_LUAD['pred score']>0.9]['symbol'].tolist()\n",
    "\n",
    "top_100_luad_list=top_LUAD[0:100].symbol.tolist()\n",
    "textfile = open(\"../GO_terms_search/top_100_luad.txt\", \"w\")\n",
    "for element in top_100_luad_list:\n",
    "    textfile.write(element + \"\\n\")\n",
    "textfile.close()"
   ]
  },
  {
   "cell_type": "code",
   "execution_count": null,
   "metadata": {},
   "outputs": [],
   "source": [
    "# len(top_luad_list)\n",
    "# top_luad_list\n"
   ]
  },
  {
   "cell_type": "code",
   "execution_count": null,
   "metadata": {},
   "outputs": [],
   "source": [
    "# top58=DataPredResults2[DataPredResults2[\"Dataset\"]==\"LUAD\"].sort_values(by=\"pred score\")[-20:]['lmGens'].tolist()\n",
    "# top58\n",
    "# DataPredResults2[DataPredResults2[\"Dataset\"]==\"LUAD\"].sort_values(by=\"pred score\")[-20:]"
   ]
  },
  {
   "cell_type": "code",
   "execution_count": null,
   "metadata": {
    "scrolled": true
   },
   "outputs": [],
   "source": [
    "print('\\n'.join(top_LUAD.lmGens))"
   ]
  },
  {
   "cell_type": "code",
   "execution_count": null,
   "metadata": {},
   "outputs": [],
   "source": [
    "print('\\n'.join(top_luad_list))"
   ]
  },
  {
   "cell_type": "code",
   "execution_count": null,
   "metadata": {},
   "outputs": [],
   "source": [
    "meta_geneFamily = pd.read_csv(\"/home/ubuntu/bucket/projects/2018_04_20_Rosetta/workspace/metadata/hgnc_gene_group_family_dictionary.csv\")\n",
    "# genesU = meta_geneFamily.approved_symbol.unique().tolist()\n",
    "# meta_geneFamilyU=pd.DataFrame(index=range(len(genesU)),columns=[\"lmGens\",\"gene_group_name\"])\n",
    "\n",
    "meta_geneFamily_top=meta_geneFamily[meta_geneFamily['approved_symbol'].isin(top_100_luad_list)].reset_index(drop=True)\n",
    "meta_top=meta_geneFamily_top.groupby(['gene_group_name']).size().sort_values(ascending=False).reset_index()"
   ]
  },
  {
   "cell_type": "code",
   "execution_count": null,
   "metadata": {},
   "outputs": [],
   "source": [
    "two_cols_toprint"
   ]
  },
  {
   "cell_type": "code",
   "execution_count": null,
   "metadata": {},
   "outputs": [],
   "source": [
    "# [meta_top.loc[0:43,['gene_group_name','Genes']].reset_index(drop=True),\\\n",
    "#            meta_top.loc[44:,['gene_group_name','Genes']].reset_index(drop=True)]\n",
    "meta_top"
   ]
  },
  {
   "cell_type": "code",
   "execution_count": null,
   "metadata": {},
   "outputs": [],
   "source": [
    "# meta_top\n",
    "two_cols_toprint=pd.concat([meta_top.loc[0:43,['gene_group_name','Genes']].reset_index(drop=True),\\\n",
    "           meta_top.loc[44:,['gene_group_name','Genes']].reset_index(drop=True)],\\\n",
    "          axis=1,ignore_index=True)"
   ]
  },
  {
   "cell_type": "code",
   "execution_count": null,
   "metadata": {},
   "outputs": [],
   "source": [
    "saveAsNewSheetToExistingFile(source_data_add,two_cols_toprint,'ExtendedDataTable2')"
   ]
  },
  {
   "cell_type": "code",
   "execution_count": null,
   "metadata": {},
   "outputs": [],
   "source": [
    "print(two_cols_toprint.to_latex(index=False))  "
   ]
  },
  {
   "cell_type": "code",
   "execution_count": null,
   "metadata": {},
   "outputs": [],
   "source": [
    "# meta_geneFamily_top[meta_geneFamily_top['gene_group_name'].isin(meta_top.gene_group_name.tolist())]\n",
    "# meta_geneFamily_top.groupby(['gene_group_name','approved_symbol']).size().sort_values(by=ascending=False)\n",
    "# meta_geneFamily_top.groupby(['gene_group_name']).size()\n",
    "top_groups=meta_top.gene_group_name.tolist()\n",
    "for t in top_groups:\n",
    "    meta_top.loc[meta_top['gene_group_name']==t,'Genes']=\\\n",
    "    ','.join(meta_geneFamily_top.loc[meta_geneFamily_top['gene_group_name']==t,'approved_symbol'].tolist())"
   ]
  },
  {
   "cell_type": "code",
   "execution_count": null,
   "metadata": {},
   "outputs": [],
   "source": [
    "# print(meta_top[['gene_group_name','Genes']].to_latex(index=False))  "
   ]
  },
  {
   "cell_type": "code",
   "execution_count": null,
   "metadata": {},
   "outputs": [],
   "source": [
    "# meta_geneFamily[meta_geneFamily['approved_symbol'].isin(top58)].shape\n",
    "# meta_top\n",
    "# meta_geneFamily_top\n",
    "meta_geneFamily_top.groupby(['gene_group_name','approved_symbol']).size()"
   ]
  },
  {
   "cell_type": "code",
   "execution_count": null,
   "metadata": {},
   "outputs": [],
   "source": [
    "# from matplotlib.cm import get_cmap\n",
    "\n",
    "# name = \"tab20\"\n",
    "# cmap = get_cmap(name,10)  # type: matplotlib.colors.ListedColormap\n",
    "# # colors = \n",
    "# cmap.colors\n",
    "# # len(labels)"
   ]
  },
  {
   "cell_type": "code",
   "execution_count": null,
   "metadata": {},
   "outputs": [],
   "source": [
    "# fig, ax = plt.subplots(figsize=(8, 7), subplot_kw=dict(aspect=\"equal\"))\n",
    "\n",
    "# labels = meta_geneFamily_top['approved_symbol'].to_list()\n",
    "# ingredients = meta_geneFamily_top['gene_group_name'].to_list()\n",
    "# data=np.ones(meta_geneFamily_top['gene_group_name'].shape[0],)\n",
    "\n",
    "\n",
    "# wedges, autotexts = ax.pie(data,labels=labels,colors=get_cmap('tab20',len(labels)).colors ,#autopct=lambda pct: func(pct,meta_geneFamily_top),\n",
    "#                                   textprops=dict(color=\"k\"))\n",
    "\n",
    "# ax.legend(wedges, ingredients,\n",
    "#           title=\"Gene Family\",\n",
    "#           loc=\"center left\",\n",
    "#           bbox_to_anchor=(1.05, 0, 0.5, 1))\n",
    "\n",
    "# plt.setp(autotexts, size=10, weight=\"bold\")\n",
    "\n",
    "# # ax.set_title(\"LUAD top genes\")\n",
    "# plt.tight_layout()\n",
    "# plt.show()"
   ]
  },
  {
   "cell_type": "code",
   "execution_count": null,
   "metadata": {},
   "outputs": [],
   "source": [
    "meta_geneFamily_top['approved_symbol'].shape"
   ]
  },
  {
   "cell_type": "code",
   "execution_count": null,
   "metadata": {},
   "outputs": [],
   "source": [
    "# wedges"
   ]
  },
  {
   "cell_type": "markdown",
   "metadata": {},
   "source": [
    "## Supp Table of prediction scores for each of the MLP and Lasso models \n",
    "- Supplementary D"
   ]
  },
  {
   "cell_type": "code",
   "execution_count": null,
   "metadata": {},
   "outputs": [],
   "source": [
    "unq_lmgenes=DataPredResults2['symbol'].unique()\n",
    "\n",
    "d_luad=DataPredResults2[DataPredResults2['Dataset']=='LUAD'].reset_index(drop=True)\n",
    "d_cdrpbio=DataPredResults2[DataPredResults2['Dataset']=='CDRP-bio'].reset_index(drop=True)\n",
    "d_lincs=DataPredResults2[DataPredResults2['Dataset']=='LINCS'].reset_index(drop=True)\n",
    "d_taorf=DataPredResults2[DataPredResults2['Dataset']=='TAORF'].reset_index(drop=True)\n",
    "\n",
    "# unq_lmgenes"
   ]
  },
  {
   "cell_type": "code",
   "execution_count": null,
   "metadata": {},
   "outputs": [],
   "source": [
    "# DataPredResults2"
   ]
  },
  {
   "cell_type": "code",
   "execution_count": null,
   "metadata": {},
   "outputs": [],
   "source": [
    "cols=[\"CDRP-bio-Lasso\",\"CDRP-bio-MLP\",\\\n",
    "        \"LUAD-Lasso\",\"LUAD-MLP\",\\\n",
    "        \"LINCS-Lasso\",\"LINCS-MLP\",\\\n",
    "        \"TAORF-Lasso\",\"TAORF-MLP\"]\n",
    "DataAppendix=pd.DataFrame(index=unq_lmgenes,columns=cols)\n",
    "\n",
    "for ds in ['LUAD', 'TAORF', 'LINCS', 'CDRP-bio']:\n",
    "    for m in ['Lasso','MLP']:\n",
    "        d_luad=DataPredResults2[DataPredResults2['Dataset']==ds].reset_index(drop=True)\n",
    "        d_luad2=d_luad[(d_luad[\"Model\"]==m)]\n",
    "        DataAppendix.loc[d_luad2[\"symbol\"].values,ds+\"-\"+m]=d_luad2[\"pred score\"].values\n",
    "DataAppendix[cols]=DataAppendix[cols]*100\n",
    "DataAppendix[cols]=DataAppendix[cols].astype(float).round(2)"
   ]
  },
  {
   "cell_type": "code",
   "execution_count": null,
   "metadata": {},
   "outputs": [],
   "source": [
    "DataAppendix.to_csv(results_dir+'/SingleGenePred/Appendix_D.csv')"
   ]
  },
  {
   "cell_type": "code",
   "execution_count": null,
   "metadata": {},
   "outputs": [],
   "source": [
    "# DataAppendix"
   ]
  },
  {
   "cell_type": "code",
   "execution_count": null,
   "metadata": {},
   "outputs": [],
   "source": [
    "# DataAppendix#.to_markdown()"
   ]
  },
  {
   "cell_type": "code",
   "execution_count": null,
   "metadata": {},
   "outputs": [],
   "source": [
    "# DataAppendix.loc[unq_lmgenes.tolist()]"
   ]
  },
  {
   "cell_type": "code",
   "execution_count": null,
   "metadata": {},
   "outputs": [],
   "source": [
    "DataAppendix.shape\n",
    "    \n",
    "# DataAppendix[unq_lmgenes,\"LUAD-MLP\"]=d_luad[(d_luad[\"lmGens\"].isin(unq_lmgenes))&(d_luad[\"Model\"]=='MLP')][\"pred score\"]"
   ]
  },
  {
   "cell_type": "code",
   "execution_count": null,
   "metadata": {},
   "outputs": [],
   "source": []
  },
  {
   "cell_type": "code",
   "execution_count": null,
   "metadata": {},
   "outputs": [],
   "source": [
    "# # d_luad[\"lmGens\"]\n",
    "# # DataAppendix.loc[d_luad[\"lmGens\"].values]\n",
    "# for i in range(0,55*20,55):\n",
    "#     print(\"\\\\begin{table}\")\n",
    "#     print(DataAppendix[i:i+55].to_latex(index=True))  \n",
    "#     print(\"\\end{table}\")"
   ]
  },
  {
   "cell_type": "code",
   "execution_count": null,
   "metadata": {},
   "outputs": [],
   "source": []
  },
  {
   "cell_type": "code",
   "execution_count": null,
   "metadata": {},
   "outputs": [],
   "source": [
    "# # DataPredResults\n",
    "# dataset_meth_dists[DataPredResults['Model']==models[m]]"
   ]
  },
  {
   "cell_type": "markdown",
   "metadata": {
    "heading_collapsed": true
   },
   "source": [
    "## Supplementary C - Top 50 GE using MLP\n",
    "- Supplementary C (Supplementary Figure 2.)"
   ]
  },
  {
   "cell_type": "code",
   "execution_count": null,
   "metadata": {
    "hidden": true
   },
   "outputs": [],
   "source": [
    "datasets=['TAORF', 'CDRP-bio' ,'LINCS', 'LUAD']\n",
    "models=[\"MLP\"]\n",
    "# f='-filt';#'-filt'\n",
    "DataPredResults=pd.concat(DataPredResults_ls, ignore_index=True)      \n",
    "fig, axes = plt.subplots(len(datasets),1,figsize=(12,20))\n",
    "sns.set_context(\"paper\")\n",
    "sns.set_style(\"whitegrid\")\n",
    "my_pal = {\"random\": \"g\", \"n-folds\": \"r\"}\n",
    "# sns.rcParams['patch.force_edgecolor'] = True\n",
    "# for d in range(5):#(len(datasets)):\n",
    "for d in range(len(datasets)):\n",
    "    for m in range(len(models)):\n",
    "        dataset_meth_dists=DataPredResults[(DataPredResults['Dataset']==datasets[d]) &\\\n",
    "                                                    (DataPredResults['Model']==models[m])]\n",
    "        sorted_gene_mean_scores=dataset_meth_dists[dataset_meth_dists['d']=='n-folds'].groupby(['symbol','d']).median().reset_index().sort_values(by=['pred score'],ascending=False)\n",
    "        top_lmGenes=sorted_gene_mean_scores['symbol'].tolist()[0:50]\n",
    "        dataset_meth_dists_top_50=dataset_meth_dists[dataset_meth_dists['symbol'].isin(top_lmGenes)]\n",
    "        \n",
    "#         f, axes = plt.subplots(figsize=(15,4))\n",
    "        axes[d].set_title(\"Dataset: \"+datasets[d])\n",
    "        sns.boxplot(x=\"symbol\", y=\"pred score\",hue=\"d\", data=dataset_meth_dists_top_50,ax=axes[d],order=top_lmGenes,\\\n",
    "                   palette=my_pal,hue_order=['random','n-folds'])\n",
    "#         sns.swarmplot(x=\"symbol\", y=\"pred score\",hue=\"d\", data=dataset_meth_dists_top_50,ax=axes[d],order=top_lmGenes,color='0.25')\n",
    "        # ax = sns.violinplot(x=\"symbol\", y=\"pred score\", hue=\"d\",data=tips2, palette=\"muted\", split=True)\n",
    "        axes[d].set_xticklabels(axes[d].get_xticklabels(),rotation=90,fontsize=10);\n",
    "        axes[d].set_ylabel(\"Accuracy ($R^2$)\", fontweight='bold');\n",
    "        axes[d].set_xlabel(\"L1000 landmark genes\");\n",
    "        axes[d].set_ylim(-1, 1)\n",
    "        \n",
    "fig.tight_layout()\n",
    "fig.savefig('supp_c.pdf',papertype='letter',dpi=500)"
   ]
  },
  {
   "cell_type": "code",
   "execution_count": null,
   "metadata": {
    "hidden": true
   },
   "outputs": [],
   "source": []
  },
  {
   "cell_type": "markdown",
   "metadata": {},
   "source": [
    "## single GE cross datasets prediction results (LUAD and LINCS)\n",
    "- Extended Data 1"
   ]
  },
  {
   "cell_type": "code",
   "execution_count": 10,
   "metadata": {},
   "outputs": [
    {
     "data": {
      "text/plain": [
       "dict_keys(['Lasso-n-filt-ht', 'Ridge-nvs-filt-ht', 'Lasso-nvsu-filt-ht', 'MLP-nvsu-filt-ht', 'MLP-n-filt-ht', 'Ridge-n-filt-ht', 'Ridge-nvsu-filt-ht'])"
      ]
     },
     "execution_count": 10,
     "metadata": {},
     "output_type": "execute_result"
    }
   ],
   "source": [
    "filename=results_dir+'/SingleGenePred/scores_cross_dts_LU_LI.xlsx'\n",
    "saved_scores=pd.read_excel(filename, sheet_name=None)\n",
    "saved_scores.keys()\n",
    "# saved_scores\n"
   ]
  },
  {
   "cell_type": "code",
   "execution_count": 11,
   "metadata": {},
   "outputs": [
    {
     "data": {
      "image/png": "[encoded data removed]",
      "text/plain": [
       "<Figure size 720x360 with 2 Axes>"
      ]
     },
     "metadata": {},
     "output_type": "display_data"
    }
   ],
   "source": [
    "filename=results_dir+'/SingleGenePred/scores_cross_dts_LU_LI.xlsx'\n",
    "saved_scores=pd.read_excel(filename, sheet_name=None)\n",
    "saved_scores.keys()\n",
    "\n",
    "# DataPredResults.loc[DataPredResults['d']=='random','Model']=DataPredResults[DataPredResults['d']=='random']['Model']+'-'+DataPredResults[DataPredResults['d']=='random']['d']\n",
    "\n",
    "scores_l=saved_scores['Lasso-nvsu-filt-ht']\n",
    "scores_l['Model']='Lasso'\n",
    "\n",
    "scores_r=saved_scores['Ridge-nvs-filt-ht']\n",
    "scores_r['Model']='Ridge'\n",
    "\n",
    "scores_m=saved_scores['MLP-nvsu-filt-ht']\n",
    "scores_m['Model']='MLP'\n",
    "\n",
    "# scores=pd.concat([scores_l,scores_r,scores_m])\n",
    "scores=pd.concat([scores_l,scores_m])\n",
    "scores=scores.replace('LUAD-LINCS','traind by LUAD\\n                predicting LINCS')\n",
    "scores=scores.replace('LINCS-LUAD','traind by LINCS\\n               predicting LUAD')\n",
    "scores.loc[scores['d']=='random','Model']=scores[scores['d']=='random']['Model']+'-shuffled'#+scores[scores['d']=='random']['d']\n",
    "# my_pal = {\"random\": \"g\", \"n-folds\": \"r\"}\n",
    "sns.set(font_scale = 1)\n",
    "sns.set_style(\"whitegrid\")\n",
    "scores=scores.rename(columns={'DT':'model'})\n",
    "ax = sns.catplot(x=\"Model\", y=\"pred score\",col=\"model\",kind=\"box\",order=['Lasso-shuffled','Lasso','MLP-shuffled','MLP'],\n",
    "                 data=scores, linewidth=1.5)\n",
    "# ax[0].set_title('hello')\n",
    "# hue_order=['random','n-folds'], palette=my_pal\n",
    "# ax.set_ylim(-1,1);\n",
    "ax.set(ylim=(-1, 1))\n",
    "\n",
    "if 0:\n",
    "    ax.savefig('exd_1.pdf',papertype='letter',dpi=500)\n",
    "    saveAsNewSheetToExistingFile(source_data_add,scores,'ExtendedData1')"
   ]
  },
  {
   "cell_type": "code",
   "execution_count": null,
   "metadata": {},
   "outputs": [],
   "source": []
  },
  {
   "cell_type": "code",
   "execution_count": null,
   "metadata": {},
   "outputs": [],
   "source": []
  },
  {
   "cell_type": "markdown",
   "metadata": {},
   "source": [
    "## Read single CP feature prediction results\n",
    "- Figure 3a"
   ]
  },
  {
   "cell_type": "code",
   "execution_count": null,
   "metadata": {
    "scrolled": true
   },
   "outputs": [],
   "source": [
    "filename=results_dir+'/SingleCPfeatPred/scores_corrected.xlsx'\n",
    "saved_scores=pd.read_excel(filename, sheet_name=None)\n",
    "saved_scores.keys()\n",
    "\n",
    "################################################\n",
    "# dataset options: 'CDRP' , 'LUAD', 'TAORF', 'LINCS', 'CDRP-bio'\n",
    "datasets=['LUAD', 'TAORF', 'LINCS', 'CDRP-bio'];\n",
    "# datasets=['LUAD', 'TAORF', 'LINCS', 'CDRP-bio','CDRP'];\n",
    "\n",
    "DT_kfold={'LUAD':9, 'TAORF':5, 'LINCS':25, 'CDRP-bio':6,'CDRP':40}\n",
    "\n",
    "################################################\n",
    "# CP Profile Type options: 'augmented' , 'normalized', 'normalized_variable_selected'\n",
    "profileType='normalized'\n",
    "profTypeAbbrev=''.join([s[0] for s in profileType.split('_')])\n",
    "\n",
    "################################################\n",
    "# filtering to compounds which have high replicates for both GE and CP datasets\n",
    "highRepOverlapEnabled=1\n",
    "\n",
    "\n",
    "################################################\n",
    "pertColName='PERT'\n",
    "profileLevel='treatment'; #'replicate'  or  'treatment'\n",
    "if highRepOverlapEnabled:\n",
    "    f='filt'\n",
    "else:\n",
    "    f=''\n",
    "    \n",
    "models=[\"MLP\",\"Lasso\"]\n",
    "\n",
    "DataPredResults=pd.DataFrame(columns=[\"Dataset\",\"Model\"])\n",
    "\n",
    "fig, axes = plt.subplots(len(datasets),len(models),figsize=(4*len(models),3*len(datasets)))\n",
    "sns.set_context(\"paper\")\n",
    "sns.set_style(\"whitegrid\")\n",
    "# sns.rcParams['patch.force_edgecolor'] = True\n",
    "# for d in range(5):#(len(datasets)):\n",
    "for d in range(len(datasets)):\n",
    "    for m in range(len(models)):\n",
    "                 \n",
    "        k_fold=DT_kfold[datasets[d]] \n",
    "            \n",
    "        if datasets[d]=='TAORF' or datasets[d]=='CDRP':     \n",
    "            f=''\n",
    "#             if models[m]=='MLP':\n",
    "#                 sheetName=models[m]+'-'+datasets[d]+'-'+profTypeAbbrev+'-'+f+'-'+str(k_fold)+'-ht_2'\n",
    "#             else:\n",
    "#                 sheetName=models[m]+'-'+datasets[d]+'-'+profTypeAbbrev+'-'+f+'-'+str(k_fold)+'-ht'\n",
    "        else:\n",
    "            f='filt'            \n",
    "        \n",
    "        sheetName=models[m]+'-'+datasets[d]+'-'+profTypeAbbrev+'-'+f+'-'+str(k_fold)+'-ht'\n",
    "\n",
    "        res_sheet=saved_scores[sheetName]\n",
    "        \n",
    "#         res_sheet_2save=res_sheet[['CP-Features','pred score','d']].reset_index()\n",
    "#         saveAsNewSheetToExistingFile(filename2,res_sheet_2save,sheetName)        \n",
    "\n",
    "        if 1:\n",
    "            d_to_pl=res_sheet.groupby(['CP-Features','d']).median().reset_index()   \n",
    "            d_to_pl_2=d_to_pl.copy()\n",
    "        else:\n",
    "            d_to_pl=res_sheet.reset_index(drop=True).copy() \n",
    "            d_to_pl_2=d_to_pl.copy()\n",
    "        \n",
    "        d_to_pl_2['Dataset']=datasets[d]\n",
    "        d_to_pl_2['Model']=models[m]\n",
    "        \n",
    "        \n",
    "        \n",
    "        # axes=sns.displot(data=d_to_pl, x=\"pred score\", hue=\"d\")\n",
    "        #     sns.distplot(saved_scores['Lasso-'+datasets[d]+filter_status[d]].pred_score.values,kde=True,hist=True,bins=100,label=datasets[d],ax=axes,norm_hist=True);\n",
    "        pred_scoress=d_to_pl[d_to_pl[\"d\"]==\"n-folds\"][\"pred score\"].values\n",
    "#         pred_scoress=res_sheet[res_sheet['d']=='n-folds'][\"pred score\"].values\n",
    "        rand_scoress=d_to_pl[d_to_pl[\"d\"]==\"random\"][\"pred score\"].values\n",
    "#         rand_scoress=res_sheet[res_sheet['d']=='random'][\"pred score\"].values\n",
    "        sns.distplot(pred_scoress,kde=True,hist=True,bins=100,label=datasets[d],ax=axes[d,m],norm_hist=True,color='r')\n",
    "        sns.distplot(rand_scoress,kde=True,hist=True,bins=100,label='random',ax=axes[d,m],norm_hist=True)\n",
    "        rand99th=np.percentile(rand_scoress,99)\n",
    "        print(rand99th)\n",
    "        \n",
    "        d_to_pl_2['rand99th']=rand99th\n",
    "        DataPredResults=DataPredResults.append(d_to_pl_2)\n",
    "        \n",
    "        \n",
    "        axes[d,0].set_xlim(-1,1)\n",
    "        axes[d,1].set_xlim(-1,1)\n",
    "#         axes[d,1].set_xlim(-.5,.5)\n",
    "#         axes[d,m].set_xlim(-0.5,0.6)\n",
    "#         axes[d,m].set_ylim(0,15)\n",
    "        axes[d,m].axvline(x=np.percentile(rand_scoress,90),linestyle=':',color='r');\n",
    "        axes[len(datasets)-1,m].set_xlabel(\"Accuracy ($R^2$)\");\n",
    "        axes[d,m].legend();\n",
    "        axes[0,m].set_title(models[m]);\n",
    "\n",
    "DataPredResults.loc[DataPredResults['d']=='random','Model']=DataPredResults[DataPredResults['d']=='random']['Model']+'-'+DataPredResults[DataPredResults['d']=='random']['d']"
   ]
  },
  {
   "cell_type": "code",
   "execution_count": null,
   "metadata": {},
   "outputs": [],
   "source": [
    "# DataPredResults\n",
    "import matplotlib.style as style\n",
    "style.use('seaborn-colorblind')\n",
    "sns.set_context(\"paper\",font_scale = 2, rc={\"font.size\":20,\"axes.titlesize\":8,\"axes.labelsize\":10})\n",
    "\n",
    "# DataPredResults.loc[DataPredResults['d']=='random','Model']=DataPredResults[DataPredResults['d']=='random']['Model']+'-'+DataPredResults[DataPredResults['d']=='random']['d']\n",
    "plt.figure(figsize=(13,4))\n",
    "\n",
    "# plt.rcParams[\"axes.labelsize\"] = 40\n",
    "sns.set_theme(style=\"whitegrid\")\n",
    "ax = sns.boxplot(x=\"Dataset\", y=\"pred score\", hue=\"Model\",data=DataPredResults,\\\n",
    "                order=['TAORF','CDRP-bio','LINCS','LUAD'], hue_order=['Lasso-random','Lasso','MLP-random','MLP'])\n",
    "ax.set_ylim(-.5,1.1);\n",
    "ax.set_ylabel(\"Accuracy ($R^2$)\", fontweight='bold'); #fontsize=14,\n",
    "ax.axhline(y=0,linestyle=':',color='k');\n",
    "plt.tight_layout()\n",
    "plt.legend(bbox_to_anchor=(1, .65), loc='upper left', borderaxespad=0)\n",
    "plt.tight_layout()\n",
    "# plt.savefig('pred_gen_all_models2.eps')"
   ]
  },
  {
   "cell_type": "code",
   "execution_count": null,
   "metadata": {},
   "outputs": [],
   "source": [
    "DataPredResults_fPlot=DataPredResults[(DataPredResults['d']!='random')&(DataPredResults['Model']=='MLP')].reset_index(drop=True)\n",
    "# DataPredResults\n",
    "import matplotlib.style as style\n",
    "style.use('seaborn-colorblind')\n",
    "sns.set_context(\"paper\",font_scale = 2, rc={\"font.size\":20,\"axes.titlesize\":8,\"axes.labelsize\":10})\n",
    "\n",
    "# DataPredResults.loc[DataPredResults['d']=='random','Model']=DataPredResults[DataPredResults['d']=='random']['Model']+'-'+DataPredResults[DataPredResults['d']=='random']['d']\n",
    "plt.figure(figsize=(3,6))\n",
    "\n",
    "# plt.rcParams[\"axes.labelsize\"] = 40\n",
    "sns.set_theme(style=\"whitegrid\")\n",
    "ax = sns.boxplot(x=\"Dataset\", y=\"pred score\",data=DataPredResults_fPlot,\\\n",
    "                order=['TAORF','CDRP-bio','LINCS','LUAD'],palette=\"Set2\")\n",
    "ax.set_xticklabels(ax.get_xticklabels(),rotation=90)\n",
    "ax.set_ylim(-.5,1.01);\n",
    "ax.set_ylabel(\"Accuracy ($R^2$)\", fontweight='bold'); #fontsize=14,\n",
    "ax.axhline(y=0,linestyle=':',color='k');\n",
    "plt.tight_layout()\n",
    "# plt.legend(bbox_to_anchor=(1, .65), loc='upper left', borderaxespad=0)\n",
    "plt.tight_layout()"
   ]
  },
  {
   "cell_type": "code",
   "execution_count": null,
   "metadata": {},
   "outputs": [],
   "source": [
    "plt.figure(figsize=(3.5,6))\n",
    "style.use('seaborn-colorblind')\n",
    "sns.set_context(\"paper\",font_scale = 2, rc={\"font.size\":20,\"axes.titlesize\":8,\"axes.labelsize\":10})\n",
    "# plt.rcParams[\"axes.labelsize\"] = 40\n",
    "DataPredResults_fPlot_v=DataPredResults[DataPredResults['Model'].isin(['MLP','MLP-random'])].reset_index(drop=True)\n",
    "my_pal = {\"random\": \"g\", \"n-folds\": \"r\"}\n",
    "sns.set_theme(style=\"whitegrid\")\n",
    "ax = sns.boxplot(x=\"Dataset\", y=\"pred score\",data=DataPredResults_fPlot_v,hue_order=['random','n-folds'],hue='d',\\\n",
    "                order=['TAORF','CDRP-bio','LINCS','LUAD'],palette=my_pal)\n",
    "# ax = sns.violinplot(x=\"Dataset\", y=\"pred score\",hue='d',\n",
    "#                     data=DataPredResults_fPlot_v, palette=\"muted\",split=True)\n",
    "ax.set_xticklabels(ax.get_xticklabels(),rotation=90)\n",
    "ax.set_ylim(-0.5,1.01);\n",
    "ax.set_ylabel(\"Accuracy ($R^2$)\", fontweight='bold'); #fontsize=14,\n",
    "ax.axhline(y=0,linestyle=':',color='k');\n",
    "plt.legend(bbox_to_anchor=(.5, 1.15), loc='upper center', borderaxespad=0)\n",
    "plt.tight_layout()\n",
    "# plt.legend(bbox_to_anchor=(1, .65), loc='upper left', borderaxespad=0)\n",
    "# plt.tight_layout()\n",
    "if 0:\n",
    "    plt.savefig('fig3a.pdf')\n",
    "    saveAsNewSheetToExistingFile(source_data_add,DataPredResults_fPlot_v,'fig3a')"
   ]
  },
  {
   "cell_type": "code",
   "execution_count": null,
   "metadata": {},
   "outputs": [],
   "source": [
    "plt.figure(figsize=(3.5,6))\n",
    "style.use('seaborn-colorblind')\n",
    "sns.set_context(\"paper\",font_scale = 2, rc={\"font.size\":20,\"axes.titlesize\":8,\"axes.labelsize\":10})\n",
    "# plt.rcParams[\"axes.labelsize\"] = 40\n",
    "DataPredResults_fPlot_v=DataPredResults[DataPredResults['Model'].isin(['Lasso','Lasso-random'])].reset_index(drop=True)\n",
    "my_pal = {\"random\": \"g\", \"n-folds\": \"r\"}\n",
    "sns.set_theme(style=\"whitegrid\")\n",
    "ax = sns.boxplot(x=\"Dataset\", y=\"pred score\",data=DataPredResults_fPlot_v,hue_order=['random','n-folds'],hue='d',\\\n",
    "                order=['TAORF','CDRP-bio','LINCS','LUAD'],palette=my_pal)\n",
    "# ax = sns.violinplot(x=\"Dataset\", y=\"pred score\",hue='d',\n",
    "#                     data=DataPredResults_fPlot_v, palette=\"muted\",split=True)\n",
    "ax.set_xticklabels(ax.get_xticklabels(),rotation=90)\n",
    "ax.set_ylim(-0.5,1.01);\n",
    "ax.set_ylabel(\"Accuracy ($R^2$)\", fontweight='bold'); #fontsize=14,\n",
    "ax.axhline(y=0,linestyle=':',color='k');\n",
    "plt.legend(bbox_to_anchor=(.5, 1.15), loc='upper center', borderaxespad=0)\n",
    "plt.tight_layout()\n",
    "# plt.legend(bbox_to_anchor=(1, .65), loc='upper left', borderaxespad=0)\n",
    "# plt.tight_layout()\n",
    "if 0:\n",
    "    plt.savefig('fig3a.pdf')\n",
    "    saveAsNewSheetToExistingFile(source_data_add,DataPredResults_fPlot_v,'fig3a')"
   ]
  },
  {
   "cell_type": "code",
   "execution_count": null,
   "metadata": {},
   "outputs": [],
   "source": [
    "DataPredResults_fPlot_v.groupby(['Dataset','Model']).size()"
   ]
  },
  {
   "cell_type": "code",
   "execution_count": null,
   "metadata": {},
   "outputs": [],
   "source": [
    "# res_sheet\n"
   ]
  },
  {
   "cell_type": "code",
   "execution_count": null,
   "metadata": {},
   "outputs": [],
   "source": [
    "DataPredResults2=DataPredResults.loc[DataPredResults['d']!='random'].reset_index(drop=True)\n",
    "DataPredResults2[DataPredResults2[\"pred score\"]>DataPredResults2['rand99th']+0.2].groupby(['Dataset','Model']).size()"
   ]
  },
  {
   "cell_type": "markdown",
   "metadata": {},
   "source": [
    "## CP feature cats for fs with median pred score across all datasets >0.9 (changed to 0.6)\n",
    "- Figure 3b"
   ]
  },
  {
   "cell_type": "code",
   "execution_count": null,
   "metadata": {},
   "outputs": [],
   "source": [
    "dfRes1=DataPredResults2[DataPredResults2['Model']=='MLP'].reset_index(drop=True)\n",
    "dfRes2=dfRes1.groupby(['CP-Features']).median().sort_values(by='pred score',ascending=False)\n",
    "dfRes3=dfRes2[dfRes2['pred score']>0.6]\n",
    "\n",
    "# dfRes1[dfRes1[\"pred score\"]>dfRes1['rand99th']+0.2]\n",
    "\n",
    "# DataPredResults2[DataPredResults2[\"pred score\"]>DataPredResults2['rand99th']+0.2]\n",
    "# dfRes3=dfRes2[:100]\n",
    "topFeatures=dfRes3.index.tolist()\n",
    "cp_featuress=dfRes2.index.tolist()\n",
    "# dfRes1=DataPredResults2[DataPredResults2['Model']=='MLP'].reset_index(drop=True)"
   ]
  },
  {
   "cell_type": "code",
   "execution_count": null,
   "metadata": {},
   "outputs": [],
   "source": [
    "len(topFeatures)"
   ]
  },
  {
   "cell_type": "code",
   "execution_count": null,
   "metadata": {},
   "outputs": [],
   "source": [
    "# Channelss[ch]\n",
    "# DataPredResults2\n",
    "# len(topFeatures)\n",
    "# topFeatures\n",
    "DataPredRes4venn=DataPredResults2[DataPredResults2[\"pred score\"]>DataPredResults2['rand99th']+0.2]\n",
    "DataPredRes4venn=DataPredRes4venn[DataPredRes4venn['Model']=='MLP'].reset_index(drop=True)\n",
    "DataPredRes4venn['hp-scores']=DataPredRes4venn[\"pred score\"]-(DataPredRes4venn['rand99th']+0.2)\n",
    "# DataPredRes4venn\n",
    "\n",
    "topFeatures=DataPredRes4venn['CP-Features'].unique().tolist()\n",
    "# top_cpfeatures_atleast_topIn3=DataPredRes4venn.groupby('CP-Features').size()[list(DataPredRes4venn.groupby('CP-Features').size()>2)].index.to_list()\n",
    "# topFeatures=top_cpfeatures_atleast_topIn3\n",
    "len(topFeatures)"
   ]
  },
  {
   "cell_type": "code",
   "execution_count": null,
   "metadata": {},
   "outputs": [],
   "source": [
    "# topFeatures\n",
    "# dfRes2.index.tolist()\n",
    "# top_59_atleast_topIn3\n",
    "# DataPredResults2.groupby(['CP-Features']).size().sort_values()\n",
    "len(cp_featuress)"
   ]
  },
  {
   "cell_type": "code",
   "execution_count": null,
   "metadata": {},
   "outputs": [],
   "source": [
    "# [s for s in topFeatures if (Channelss[ch] in s) and (featureGroups[f] in s)]"
   ]
  },
  {
   "cell_type": "code",
   "execution_count": null,
   "metadata": {},
   "outputs": [],
   "source": [
    "label2=[]\n",
    "r2=[]\n",
    "r2_t=[]\n",
    "Channelss=['DNA','RNA','AGP','Mito','ER']\n",
    "featureGroups=['Texture','Intensity','RadialDistribution']\n",
    "\n",
    "Mat=np.zeros((len(featureGroups),len(Channelss)));\n",
    "scaler = preprocessing.StandardScaler()\n",
    "\n",
    "for ch in range(len(Channelss)):\n",
    "    for f in range(len(featureGroups)):\n",
    "        freq=len([s for s in topFeatures if (Channelss[ch] in s) and (featureGroups[f] in s)])\n",
    "        freq_t=len([s for s in cp_featuress if (Channelss[ch] in s) and (featureGroups[f] in s)])\n",
    "        print(Channelss[ch],featureGroups[f],freq_t)\n",
    "        Mat[f,ch]=freq\n",
    "#         if freq>0:\n",
    "        if 1:\n",
    "            label2.append(Channelss[ch]+'-'+featureGroups[f])\n",
    "            r2.append(freq)\n",
    "            r2_t.append(freq_t)\n",
    "            \n",
    "fig, axes = plt.subplots(2,1,gridspec_kw = {'height_ratios':[1, 3]});\n",
    "sns.heatmap(Mat,cmap=sns.cubehelix_palette(8),ax=axes[1])\n",
    "axes[1].xaxis.set_ticklabels(Channelss); \n",
    "axes[1].yaxis.set_ticklabels(featureGroups,rotation=360+45);\n",
    "plt.tight_layout()\n",
    "\n",
    "cellAreas=[\"Cells\",\"Nuclei\",\"Cytoplasm\"];\n",
    "MatArea=np.zeros((1,len(cellAreas)));\n",
    "for ca in range(len(cellAreas)):\n",
    "    freq=len([s for s in topFeatures if (cellAreas[ca] in s) and ('AreaShape' in s)])\n",
    "    freq_t=len([s for s in cp_featuress if (cellAreas[ca] in s) and ('AreaShape' in s)])\n",
    "    print(cellAreas[ca],freq_t)\n",
    "    MatArea[0,ca]=freq\n",
    "#     if freq>0:\n",
    "    if 1:\n",
    "        label2.append(cellAreas[ca]+'-AreaShape')\n",
    "        r2.append(freq)\n",
    "        r2_t.append(freq_t)\n",
    "#     print(MatArea)\n",
    "sns.heatmap(MatArea,cmap=sns.cubehelix_palette(8),ax=axes[0])\n",
    "axes[0].xaxis.tick_top()\n",
    "axes[0].xaxis.set_ticklabels(cellAreas,rotation=360+45); \n",
    "axes[0].yaxis.set_ticklabels(['AreaShape'],rotation=360+45);   \n",
    "plt.tight_layout()\n",
    "\n",
    "# colors2=sns.color_palette(\"husl\", len(label2))\n",
    "\n",
    "# colors2=sns.color_palette(\"colorblind\", len(label2))\n",
    "# ratio_list2=[(r2[i]/r2_t[i]) for i in range(len(r2))]\n",
    "\n",
    "ratio_list2=[(r2[i]/r2_t[i]) for i in range(len(r2)) if r2[i]>0]\n",
    "label2=[label2[i]+'\\n'+str(r2[i])+'/'+str(r2_t[i]) for i in range(len(r2)) if r2[i]>0]\n",
    "colors2=sns.color_palette(\"colorblind\", len(label2))\n"
   ]
  },
  {
   "cell_type": "code",
   "execution_count": null,
   "metadata": {},
   "outputs": [],
   "source": [
    "# [s for s in cp_featuress if (\"text\" in s)]\n",
    "ratio_list2"
   ]
  },
  {
   "cell_type": "code",
   "execution_count": null,
   "metadata": {},
   "outputs": [],
   "source": [
    "r2"
   ]
  },
  {
   "cell_type": "code",
   "execution_count": null,
   "metadata": {},
   "outputs": [],
   "source": [
    "# np.sum(r2_t)\n",
    "r2_t"
   ]
  },
  {
   "cell_type": "code",
   "execution_count": null,
   "metadata": {},
   "outputs": [],
   "source": [
    "# DataPredResults2[(DataPredResults2['Dataset']=='LUAD')&(DataPredResults2['CP-Features']=='Cells_AreaShape_Area')]\n",
    "ratio_list2=[(r2[i]/r2_t[i])*20 for i in range(len(r2))]"
   ]
  },
  {
   "cell_type": "code",
   "execution_count": null,
   "metadata": {},
   "outputs": [],
   "source": [
    "# print(DataPredResults2.groupby(['Dataset','CP-Features']).size().reset_index().to_markdown())"
   ]
  },
  {
   "cell_type": "code",
   "execution_count": null,
   "metadata": {},
   "outputs": [],
   "source": [
    "# DataPredResults2"
   ]
  },
  {
   "cell_type": "code",
   "execution_count": null,
   "metadata": {},
   "outputs": [],
   "source": []
  },
  {
   "cell_type": "code",
   "execution_count": null,
   "metadata": {},
   "outputs": [],
   "source": [
    "colorblind"
   ]
  },
  {
   "cell_type": "code",
   "execution_count": null,
   "metadata": {},
   "outputs": [],
   "source": [
    "# sns.color_palette(\"colorblind\", len(label2))\n"
   ]
  },
  {
   "cell_type": "code",
   "execution_count": null,
   "metadata": {},
   "outputs": [],
   "source": []
  },
  {
   "cell_type": "code",
   "execution_count": null,
   "metadata": {},
   "outputs": [],
   "source": [
    "label2"
   ]
  },
  {
   "cell_type": "code",
   "execution_count": null,
   "metadata": {},
   "outputs": [],
   "source": [
    "class C():\n",
    "    def __init__(self,r,label,colors):\n",
    "        self.N = len(r)\n",
    "        self.x = np.ones((self.N,3))\n",
    "        self.x[:,2] = r\n",
    "        self.labels = label\n",
    "        self.colors = colors\n",
    "        maxstep = 2*self.x[:,2].max()\n",
    "        length = np.ceil(np.sqrt(self.N))\n",
    "        grid = np.arange(0,length*maxstep,maxstep)\n",
    "        gx,gy = np.meshgrid(grid,grid)\n",
    "        self.x[:,0] = gx.flatten()[:self.N]\n",
    "        self.x[:,1] = gy.flatten()[:self.N]\n",
    "        self.x[:,:2] = self.x[:,:2] - np.mean(self.x[:,:2], axis=0)\n",
    "\n",
    "        self.step = self.x[:,2].min()\n",
    "        self.p = lambda x,y: np.sum((x**2+y**2)**2)\n",
    "        self.E = self.energy()\n",
    "        self.iter = 1.\n",
    "\n",
    "    def minimize(self):\n",
    "        while self.iter < 1000*self.N:\n",
    "            for i in range(self.N):\n",
    "                rand = np.random.randn(2)*self.step/self.iter\n",
    "                self.x[i,:2] += rand\n",
    "                e = self.energy()\n",
    "                if (e < self.E and self.isvalid(i)):\n",
    "                    self.E = e\n",
    "                    self.iter = 1.\n",
    "                else:\n",
    "                    self.x[i,:2] -= rand\n",
    "                    self.iter += 1.\n",
    "\n",
    "    def energy(self):\n",
    "        return self.p(self.x[:,0], self.x[:,1])\n",
    "\n",
    "    def distance(self,x1,x2):\n",
    "        return np.sqrt((x1[0]-x2[0])**2+(x1[1]-x2[1])**2)-x1[2]-x2[2]\n",
    "\n",
    "    def isvalid(self, i):\n",
    "        for j in range(self.N):\n",
    "            if i!=j: \n",
    "                if self.distance(self.x[i,:], self.x[j,:]) < 0:\n",
    "                    return False\n",
    "        return True\n",
    "\n",
    "    def plot(self, ax):\n",
    "        for i in range(self.N):\n",
    "            circ = plt.Circle(self.x[i,:2],self.x[i,2],color=self.colors[i])\n",
    "            \n",
    "#             ax.text(self.x[i,:2],self.x[i,2], 'sgfd', size=24, ha='center', va='center',color='k')\n",
    "            ax.add_patch(circ)\n",
    "#             label = ax.annotate(self.labels[i], xy=(self.x[i,:2]), fontsize=10, ha=\"center\",color='k')\n",
    "\n",
    "\n",
    "c = C(ratio_list2,[],colors2)\n",
    "\n",
    "fig, ax = plt.subplots(subplot_kw=dict(aspect=\"equal\"))\n",
    "ax.axis(\"off\")\n",
    "\n",
    "c.minimize()\n",
    "\n",
    "c.plot(ax)\n",
    "ax.relim()\n",
    "ax.autoscale_view()\n",
    "plt.show()"
   ]
  },
  {
   "cell_type": "code",
   "execution_count": null,
   "metadata": {},
   "outputs": [],
   "source": [
    "import numpy as np\n",
    "from matplotlib import rcParams\n",
    "rcParams['font.family'] = 'serif'\n",
    "import matplotlib.pyplot as plt\n",
    "%matplotlib notebook\n",
    "\n",
    "\n",
    "# create 10 circles with different radii\n",
    "# r = np.random.randint(5,15, size=10)\n",
    "# r =np.array([1,  5,  6, 1])\n",
    "# label=['A','B','C','D']\n",
    "# colors=['r','b','g','c']\n",
    "\n",
    "\n",
    "# ratio_list2=[(r2[i]/r2_t[i]) for i in range(len(r2))]\n",
    "\n",
    "# label=['DNA','RNA','AGP','Mito','ER','Texture','Intensity','RadialDistribution',\"AreaShape\"]\n",
    "# r=[]\n",
    "# for l in label:\n",
    "#     r.append(len([s for s in topFeatures if (l in s)]))\n",
    "    \n",
    "    \n",
    "\n",
    "# r_t=[]\n",
    "# for l in label:\n",
    "#     r_t.append(len([s for s in cp_featuress if (l in s)]))    \n",
    "    \n",
    "# ratio_list=[(r[i]/r_t[i])*100 for i in range(len(r))]    \n",
    "\n",
    "# colors=sns.color_palette(\"hls\", len(label))\n",
    "\n",
    "class C():\n",
    "    def __init__(self,r,label,colors):\n",
    "        self.N = len(r)\n",
    "        self.x = np.ones((self.N,3))\n",
    "        self.x[:,2] = r\n",
    "        self.labels = label\n",
    "        self.colors = colors\n",
    "        maxstep = 2*self.x[:,2].max()\n",
    "        length = np.ceil(np.sqrt(self.N))\n",
    "        grid = np.arange(0,length*maxstep,maxstep)\n",
    "        gx,gy = np.meshgrid(grid,grid)\n",
    "        self.x[:,0] = gx.flatten()[:self.N]\n",
    "        self.x[:,1] = gy.flatten()[:self.N]\n",
    "        self.x[:,:2] = self.x[:,:2] - np.mean(self.x[:,:2], axis=0)\n",
    "\n",
    "        self.step = self.x[:,2].min()\n",
    "        self.p = lambda x,y: np.sum((x**2+y**2)**2)\n",
    "        self.E = self.energy()\n",
    "        self.iter = 1.\n",
    "\n",
    "    def minimize(self):\n",
    "        while self.iter < 1000*self.N:\n",
    "            for i in range(self.N):\n",
    "                rand = np.random.randn(2)*self.step/self.iter\n",
    "                self.x[i,:2] += rand\n",
    "                e = self.energy()\n",
    "                if (e < self.E and self.isvalid(i)):\n",
    "                    self.E = e\n",
    "                    self.iter = 1.\n",
    "                else:\n",
    "                    self.x[i,:2] -= rand\n",
    "                    self.iter += 1.\n",
    "\n",
    "    def energy(self):\n",
    "        return self.p(self.x[:,0], self.x[:,1])\n",
    "\n",
    "    def distance(self,x1,x2):\n",
    "        return np.sqrt((x1[0]-x2[0])**2+(x1[1]-x2[1])**2)-x1[2]-x2[2]\n",
    "\n",
    "    def isvalid(self, i):\n",
    "        for j in range(self.N):\n",
    "            if i!=j: \n",
    "                if self.distance(self.x[i,:], self.x[j,:]) < 0:\n",
    "                    return False\n",
    "        return True\n",
    "\n",
    "    def plot(self, ax):\n",
    "        for i in range(self.N):\n",
    "            circ = plt.Circle(self.x[i,:2],self.x[i,2],color=self.colors[i])\n",
    "            \n",
    "#             ax.text(self.x[i,:2],self.x[i,2], 'sgfd', size=24, ha='center', va='center',color='k')\n",
    "            ax.add_patch(circ)\n",
    "            label = ax.annotate(self.labels[i], xy=(self.x[i,:2]), fontsize=15, ha=\"center\",color='k')\n",
    "            \n",
    "\n",
    "# c = C(r,label,colors)\n",
    "\n",
    "# c = C(r2,label2,colors2)\n",
    "c = C(ratio_list2,label2,colors2)\n",
    "\n",
    "fig, ax = plt.subplots(subplot_kw=dict(aspect=\"equal\"))\n",
    "ax.axis(\"off\")\n",
    "\n",
    "c.minimize()\n",
    "\n",
    "c.plot(ax)\n",
    "ax.relim()\n",
    "ax.autoscale_view()\n",
    "plt.show()"
   ]
  },
  {
   "cell_type": "code",
   "execution_count": null,
   "metadata": {},
   "outputs": [],
   "source": []
  },
  {
   "cell_type": "code",
   "execution_count": null,
   "metadata": {},
   "outputs": [],
   "source": [
    "dict_ratios={}\n",
    "for i in range(len(label2)):\n",
    "    dict_ratios[label2[i]]=np.round(ratio_list2[i],2)\n",
    "    \n",
    "dict_ratios"
   ]
  },
  {
   "cell_type": "code",
   "execution_count": null,
   "metadata": {},
   "outputs": [],
   "source": [
    "if 1:\n",
    "    saveAsNewSheetToExistingFile(source_data_add,\\\n",
    "        pd.DataFrame({'categories': label2, 'ratios': ratio_list2}),'fig3b')\n",
    "\n",
    "    # fig.tight_layout()\n",
    "    fig.savefig('fig3b.pdf',papertype='letter',dpi=500)"
   ]
  },
  {
   "cell_type": "markdown",
   "metadata": {},
   "source": [
    "## Feature categorical median prediction score \n",
    "- Figure 2d"
   ]
  },
  {
   "cell_type": "code",
   "execution_count": 16,
   "metadata": {},
   "outputs": [
    {
     "data": {
      "text/plain": [
       "dict_keys(['LUAD-9-lasso-ht', 'LINCS-25-lasso-ht', 'LINCS-25-MLP-ht', 'LUAD-9-MLP-ht', 'LUAD-9-MLP-keras-ht'])"
      ]
     },
     "execution_count": 16,
     "metadata": {},
     "output_type": "execute_result"
    }
   ],
   "source": [
    "filename=results_dir+'/SingleGenePred_cpCategoryMap/cat_scores_maps.xlsx'\n",
    "saved_scores=pd.read_excel(filename, sheet_name=None)\n",
    "saved_scores.keys()"
   ]
  },
  {
   "cell_type": "code",
   "execution_count": 17,
   "metadata": {},
   "outputs": [
    {
     "data": {
      "image/png": "[encoded data removed]",
      "text/plain": [
       "<Figure size 1728x432 with 4 Axes>"
      ]
     },
     "metadata": {},
     "output_type": "display_data"
    }
   ],
   "source": [
    "# %matplotlib notebook\n",
    "which_ds_model='LUAD-9-MLP-keras-ht'\n",
    "# which_ds_model='LUAD-9-lasso-ht'\n",
    "\n",
    "dfcats=saved_scores[which_ds_model].rename(columns={'Unnamed: 0':'ID'})\n",
    "dfcats=dfcats[dfcats.columns[~dfcats.isna().any()].tolist()]\n",
    "dfcats2,_=rename_affyprobe_to_genename(dfcats.set_index('ID').T,dfcats.ID.tolist(),'../idmap.xlsx')\n",
    "dfcats=dfcats2.T#.reset_index()\n",
    "dfcats.index.names = ['L1000 Genes']\n",
    "topGenes_df2=dfcats[dfcats.max(axis=1)>0.6]\n",
    "# cmap=\"coolwarm\"\n",
    "clustergrid=sns.clustermap(topGenes_df2.T,xticklabels=1,yticklabels=1,figsize=(24, 6),cmap=\"vlag\",\\\n",
    "vmin=0, vmax=1,cbar_kws={'label': '$R^2$'},cbar_pos=(1, .2, .01, .6),dendrogram_ratio=(0.04,0.2))\n",
    "\n",
    "if 0:\n",
    "    # clustergrid.savefig(results_dir+'/SingleGenePred_cpCategoryMap/CatMap-'+which_ds_model+'.png', format='png',dpi=200)\n",
    "    saveAsNewSheetToExistingFile(source_data_add,clustergrid.data2d,'fig2d')"
   ]
  },
  {
   "cell_type": "code",
   "execution_count": null,
   "metadata": {},
   "outputs": [],
   "source": []
  },
  {
   "cell_type": "markdown",
   "metadata": {
    "heading_collapsed": true
   },
   "source": [
    "## Modality Integration"
   ]
  },
  {
   "cell_type": "code",
   "execution_count": null,
   "metadata": {
    "hidden": true
   },
   "outputs": [],
   "source": [
    "# filename=results_dir+'/MoAprediction/pred_moa.xlsx'\n",
    "filename=results_dir+'/MoAprediction/pred_moa_CDRP.xlsx'\n",
    "saved_scores_cdrpbio=pd.read_excel(filename, sheet_name=None)\n",
    "saved_scores_cdrpbio.keys()"
   ]
  },
  {
   "cell_type": "code",
   "execution_count": null,
   "metadata": {
    "hidden": true
   },
   "outputs": [],
   "source": []
  },
  {
   "cell_type": "code",
   "execution_count": null,
   "metadata": {
    "hidden": true
   },
   "outputs": [],
   "source": [
    "filename=results_dir+'/MoAprediction/pred_moa_LINCS.xlsx'\n",
    "saved_scores_lincs=pd.read_excel(filename, sheet_name=None)\n",
    "saved_scores_lincs.keys()"
   ]
  },
  {
   "cell_type": "code",
   "execution_count": null,
   "metadata": {
    "hidden": true
   },
   "outputs": [],
   "source": [
    "# from sklearn.metrics import f1_score\n",
    "# res_df=pd.DataFrame(columns=['Modality','Model'])\n",
    "# DS='LINCS'\n",
    "# scores_mlp=saved_scores['fC-'+DS+'-nvs-filt-preds-lr-ht']\n",
    "# mofa_scores_2add=saved_scores['mofa-100fac'+DS+'-nvs-filt-preds-lr-ht']"
   ]
  },
  {
   "cell_type": "code",
   "execution_count": null,
   "metadata": {
    "hidden": true
   },
   "outputs": [],
   "source": [
    "# mofa_scores_2add"
   ]
  },
  {
   "cell_type": "code",
   "execution_count": null,
   "metadata": {
    "hidden": true
   },
   "outputs": [],
   "source": []
  },
  {
   "cell_type": "code",
   "execution_count": null,
   "metadata": {
    "hidden": true
   },
   "outputs": [],
   "source": [
    "from sklearn.metrics import f1_score\n",
    "res_df_lincs=pd.DataFrame(columns=['Modality','Model'])\n",
    "DS='LINCS'\n",
    "scores_mlp=saved_scores_lincs['fC-'+DS+'-nvs-filt-preds-mlp-ht-3']\n",
    "# mofa_scores_2add=saved_scores['mofa-100fac'+DS+'-nvs-filt-preds-mlp-ht-2']\n",
    "# scores_mlp['mofa']=mofa_scores_2add['mofa']\n",
    "\n",
    "\n",
    "for dd in ['CP', 'GE', 'Early Fusion', 'Late Fusion','RGCCA_EarlyFusion']:\n",
    "    scor_vals=scores_mlp[dd].apply(lambda x: int(eval(x)[0]) if type(x)==str else x)    \n",
    "    f1=f1_score(scor_vals,scores_mlp.Metadata_moa_num.values, average='macro')\n",
    "    temp_df = pd.DataFrame(data={'Modality': [dd], 'Model': ['MLP'],'F1-score':[f1*100]})\n",
    "    res_df_lincs=res_df_lincs.append(temp_df)\n",
    "    \n",
    "    \n",
    "scores_mlp=saved_scores_lincs['fC-'+DS+'-nvs-filt-preds-lr-ht-3']\n",
    "# mofa_scores_2add=saved_scores['mofa-100fac'+DS+'-nvs-filt-preds-lr-ht-2']\n",
    "# scores_mlp['mofa']=mofa_scores_2add['mofa']\n",
    "\n",
    "# for dd in ['CP', 'GE', 'Early Fusion', 'Late Fusion','RGCCA_CP','RGCCA_GE','RGCCA_EarlyFusion']:\n",
    "for dd in ['CP', 'GE', 'Early Fusion', 'Late Fusion','RGCCA_EarlyFusion']:\n",
    "    scor_vals=scores_mlp[dd].apply(lambda x: int(eval(x)[0]) if type(x)==str else x)    \n",
    "    f1=f1_score(scores_mlp.Metadata_moa_num.values,scor_vals, average='macro')\n",
    "    temp_df = pd.DataFrame(data={'Modality': [dd], 'Model': ['Logistic R'],'F1-score':[f1*100]})\n",
    "    res_df_lincs=res_df_lincs.append(temp_df)\n",
    "    \n",
    "    \n",
    "#########################################################\n",
    "res_df_cdrpbio=pd.DataFrame(columns=['Modality','Model'])\n",
    "DS='CDRP-bio'\n",
    "scores_mlp=saved_scores_cdrpbio['fC-'+DS+'-nvs-filt-preds-mlp-ht-5']\n",
    "# mofa_scores_2add=saved_scores['mofa-100fac'+DS+'-nvs-filt-preds-mlp-ht-2']\n",
    "# scores_mlp['mofa']=mofa_scores_2add['mofa']\n",
    "\n",
    "\n",
    "for dd in ['CP', 'GE', 'Early Fusion', 'Late Fusion','RGCCA_EarlyFusion']:\n",
    "    scor_vals=scores_mlp[dd].apply(lambda x: int(eval(x)[0]) if type(x)==str else x)    \n",
    "    f1=f1_score(scor_vals,scores_mlp.Metadata_moa_num.values, average='macro')\n",
    "    temp_df = pd.DataFrame(data={'Modality': [dd], 'Model': ['MLP'],'F1-score':[f1*100]})\n",
    "    res_df_cdrpbio=res_df_cdrpbio.append(temp_df)\n",
    "    \n",
    "    \n",
    "scores_mlp=saved_scores_cdrpbio['fC-'+DS+'-nvs-filt-preds-lr-ht-5']\n",
    "# mofa_scores_2add=saved_scores['mofa-100fac'+DS+'-nvs-filt-preds-lr-ht-2']\n",
    "# scores_mlp['mofa']=mofa_scores_2add['mofa']\n",
    "\n",
    "# for dd in ['CP', 'GE', 'Early Fusion', 'Late Fusion','RGCCA_CP','RGCCA_GE','RGCCA_EarlyFusion']:\n",
    "for dd in ['CP', 'GE', 'Early Fusion', 'Late Fusion','RGCCA_EarlyFusion']:\n",
    "    scor_vals=scores_mlp[dd].apply(lambda x: int(eval(x)[0]) if type(x)==str else x)    \n",
    "    f1=f1_score(scores_mlp.Metadata_moa_num.values,scor_vals, average='macro')\n",
    "    temp_df = pd.DataFrame(data={'Modality': [dd], 'Model': ['Logistic R'],'F1-score':[f1*100]})\n",
    "    res_df_cdrpbio=res_df_cdrpbio.append(temp_df)\n"
   ]
  },
  {
   "cell_type": "code",
   "execution_count": null,
   "metadata": {
    "hidden": true
   },
   "outputs": [],
   "source": [
    "import matplotlib.style as style\n",
    "style.use('seaborn-colorblind')\n",
    "sns.set_context(\"paper\",font_scale = 1.5, rc={\"font.size\":4,\"axes.titlesize\":14,\"axes.labelsize\":15})\n",
    "res_df1=res_df_lincs[res_df_lincs['Modality']!='Early Fusion']\n",
    "res_df2=res_df_lincs[res_df_lincs['Modality']!='Late Fusion']\n",
    "\n",
    "sns.set_style(\"whitegrid\")\n",
    "fig,axes=plt.subplots(1,2,figsize=(9,5),sharey=True)\n",
    "sns.barplot(x=\"Model\", y=\"F1-score\", hue=\"Modality\", data=res_df_cdrpbio,ax=axes[0])#,**kwargs)\n",
    "# plt.legend(loc='top', borderaxespad=0)\n",
    "# plt.legend(bbox_to_anchor=(0.27, 1), loc='upper left', borderaxespad=0)\n",
    "axes[0].legend([],[], frameon=False)\n",
    "plt.tight_layout()\n",
    "# axes[0].set_ylim(0,60)\n",
    "axes[0].set_title('CDRP-bio')\n",
    "n_classes=16;\n",
    "axes[0].axhline(y=(100/n_classes),linestyle='--',color='r',linewidth=2);\n",
    "\n",
    "###################\n",
    "sns.barplot(x=\"Model\", y=\"F1-score\", hue=\"Modality\", data=res_df_lincs,ax=axes[1])#,**kwargs)\n",
    "# plt.legend(loc='top', borderaxespad=0)\n",
    "plt.legend(bbox_to_anchor=(1, 1), loc='upper left', borderaxespad=0)\n",
    "plt.tight_layout()\n",
    "axes[1].set_ylim(0,70)\n",
    "axes[1].set_title('LINCS')\n",
    "axes[1].set(ylabel=None)\n",
    "n_classes=57;\n",
    "axes[1].axhline(y=(100/n_classes),linestyle='--',color='r',linewidth=2);\n",
    "\n",
    "plt.tight_layout()\n",
    "# for a in ax.patches:\n",
    "#     a.set_width(0.15)\n",
    "# plt.savefig('moa_class_bar.png')"
   ]
  },
  {
   "cell_type": "code",
   "execution_count": null,
   "metadata": {
    "hidden": true
   },
   "outputs": [],
   "source": [
    "import matplotlib.style as style\n",
    "style.use('seaborn-colorblind')\n",
    "sns.set_context(\"paper\",font_scale = 1.5, rc={\"font.size\":4,\"axes.titlesize\":14,\"axes.labelsize\":15})\n",
    "res_df1=res_df_lincs[res_df_lincs['Modality']!='Early Fusion']\n",
    "res_df2=res_df_lincs[res_df_lincs['Modality']!='Late Fusion']\n",
    "\n",
    "sns.set_style(\"whitegrid\")\n",
    "fig,axes=plt.subplots(1,2,figsize=(9,5),sharey=True)\n",
    "sns.barplot(x=\"Model\", y=\"F1-score\", hue=\"Modality\", data=res_df_cdrpbio,ax=axes[0])#,**kwargs)\n",
    "# plt.legend(loc='top', borderaxespad=0)\n",
    "# plt.legend(bbox_to_anchor=(0.27, 1), loc='upper left', borderaxespad=0)\n",
    "axes[0].legend([],[], frameon=False)\n",
    "plt.tight_layout()\n",
    "# axes[0].set_ylim(0,60)\n",
    "axes[0].set_title('CDRP-bio')\n",
    "n_classes=16;\n",
    "axes[0].axhline(y=(100/n_classes),linestyle='--',color='r',linewidth=2);\n",
    "\n",
    "###################\n",
    "sns.barplot(x=\"Model\", y=\"F1-score\", hue=\"Modality\", data=res_df_lincs,ax=axes[1])#,**kwargs)\n",
    "# plt.legend(loc='top', borderaxespad=0)\n",
    "plt.legend(bbox_to_anchor=(1, 1), loc='upper left', borderaxespad=0)\n",
    "plt.tight_layout()\n",
    "axes[1].set_ylim(0,70)\n",
    "axes[1].set_title('LINCS')\n",
    "axes[1].set(ylabel=None)\n",
    "n_classes=57;\n",
    "axes[1].axhline(y=(100/n_classes),linestyle='--',color='r',linewidth=2);\n",
    "\n",
    "plt.tight_layout()\n",
    "# for a in ax.patches:\n",
    "#     a.set_width(0.15)\n",
    "# plt.savefig('moa_class_bar.png')"
   ]
  },
  {
   "cell_type": "code",
   "execution_count": null,
   "metadata": {
    "hidden": true
   },
   "outputs": [],
   "source": [
    "import matplotlib.style as style\n",
    "style.use('seaborn-colorblind')\n",
    "sns.set_context(\"paper\",font_scale = 1.5, rc={\"font.size\":4,\"axes.titlesize\":14,\"axes.labelsize\":15})\n",
    "res_df1=res_df_lincs[res_df_lincs['Modality']!='Early Fusion']\n",
    "res_df2=res_df_lincs[res_df_lincs['Modality']!='Late Fusion']\n",
    "\n",
    "sns.set_style(\"whitegrid\")\n",
    "fig,axes=plt.subplots(1,2,figsize=(9,5),sharey=True)\n",
    "sns.barplot(x=\"Model\", y=\"F1-score\", hue=\"Modality\", data=res_df_cdrpbio,ax=axes[0])#,**kwargs)\n",
    "# plt.legend(loc='top', borderaxespad=0)\n",
    "# plt.legend(bbox_to_anchor=(0.27, 1), loc='upper left', borderaxespad=0)\n",
    "axes[0].legend([],[], frameon=False)\n",
    "plt.tight_layout()\n",
    "# axes[0].set_ylim(0,60)\n",
    "axes[0].set_title('CDRP-bio')\n",
    "n_classes=16;\n",
    "axes[0].axhline(y=(100/n_classes),linestyle='--',color='r',linewidth=2);\n",
    "\n",
    "###################\n",
    "sns.barplot(x=\"Model\", y=\"F1-score\", hue=\"Modality\", data=res_df_lincs,ax=axes[1])#,**kwargs)\n",
    "# plt.legend(loc='top', borderaxespad=0)\n",
    "plt.legend(bbox_to_anchor=(1, 1), loc='upper left', borderaxespad=0)\n",
    "plt.tight_layout()\n",
    "axes[1].set_ylim(0,70)\n",
    "axes[1].set_title('LINCS')\n",
    "axes[1].set(ylabel=None)\n",
    "n_classes=57;\n",
    "axes[1].axhline(y=(100/n_classes),linestyle='--',color='r',linewidth=2);\n",
    "\n",
    "plt.tight_layout()\n",
    "# for a in ax.patches:\n",
    "#     a.set_width(0.15)\n",
    "# plt.savefig('moa_class_bar.png')"
   ]
  },
  {
   "cell_type": "code",
   "execution_count": null,
   "metadata": {
    "hidden": true
   },
   "outputs": [],
   "source": [
    "import matplotlib.style as style\n",
    "style.use('seaborn-colorblind')\n",
    "sns.set_context(\"paper\",font_scale = 1.5, rc={\"font.size\":4,\"axes.titlesize\":14,\"axes.labelsize\":15})\n",
    "res_df1=res_df[res_df['Modality']!='Early Fusion']\n",
    "res_df2=res_df[res_df['Modality']!='Late Fusion']\n",
    "\n",
    "sns.set_style(\"whitegrid\")\n",
    "plt.figure(figsize=(4,5))\n",
    "ax = sns.barplot(x=\"Model\", y=\"F1-score\", hue=\"Modality\", data=res_df)#,**kwargs)\n",
    "# ax = sns.barplot(x=\"Model\", y=\"F1-score\", hue=\"Modality\", data=res_df2)\n",
    "# ax.legend(ncol = 1, loc = 'upper center')\n",
    "# plt.legend(loc='top', borderaxespad=0)\n",
    "plt.legend(bbox_to_anchor=(0.27, 1), loc='upper left', borderaxespad=0)\n",
    "plt.tight_layout()\n",
    "ax.set_ylim(0,100)\n",
    "ax.set_title(DS)\n",
    "n_classes=57;\n",
    "ax.axhline(y=(100/n_classes),linestyle=':',color='r');\n",
    "\n",
    "for a in ax.patches:\n",
    "    a.set_width(0.15)\n",
    "# plt.savefig('moa_class_bar.eps')"
   ]
  },
  {
   "cell_type": "code",
   "execution_count": null,
   "metadata": {
    "hidden": true
   },
   "outputs": [],
   "source": [
    "import matplotlib.style as style\n",
    "style.use('seaborn-colorblind')\n",
    "sns.set_context(\"paper\",font_scale = 1.5, rc={\"font.size\":4,\"axes.titlesize\":14,\"axes.labelsize\":15})\n",
    "res_df1=res_df[res_df['Modality']!='Early Fusion']\n",
    "res_df2=res_df[res_df['Modality']!='Late Fusion']\n",
    "\n",
    "sns.set_style(\"whitegrid\")\n",
    "plt.figure(figsize=(4,5))\n",
    "ax = sns.barplot(x=\"Model\", y=\"F1-score\", hue=\"Modality\", data=res_df)#,**kwargs)\n",
    "# ax = sns.barplot(x=\"Model\", y=\"F1-score\", hue=\"Modality\", data=res_df2)\n",
    "# ax.legend(ncol = 1, loc = 'upper center')\n",
    "# plt.legend(loc='top', borderaxespad=0)\n",
    "plt.legend(bbox_to_anchor=(0.27, 1), loc='upper left', borderaxespad=0)\n",
    "plt.tight_layout()\n",
    "ax.set_ylim(0,100)\n",
    "ax.set_title(DS)\n",
    "n_classes=57;\n",
    "ax.axhline(y=(100/n_classes),linestyle=':',color='r');\n",
    "\n",
    "for a in ax.patches:\n",
    "    a.set_width(0.15)\n",
    "# plt.savefig('moa_class_bar.eps')"
   ]
  },
  {
   "cell_type": "code",
   "execution_count": null,
   "metadata": {
    "hidden": true
   },
   "outputs": [],
   "source": []
  },
  {
   "cell_type": "code",
   "execution_count": null,
   "metadata": {
    "hidden": true
   },
   "outputs": [],
   "source": []
  },
  {
   "cell_type": "code",
   "execution_count": null,
   "metadata": {
    "hidden": true
   },
   "outputs": [],
   "source": []
  },
  {
   "cell_type": "code",
   "execution_count": null,
   "metadata": {
    "hidden": true
   },
   "outputs": [],
   "source": []
  },
  {
   "cell_type": "markdown",
   "metadata": {
    "heading_collapsed": true
   },
   "source": [
    "## Modality Integration - k-fold\n",
    "- Figure 4b"
   ]
  },
  {
   "cell_type": "code",
   "execution_count": null,
   "metadata": {
    "hidden": true
   },
   "outputs": [],
   "source": [
    "# filename=results_dir+'/MoAprediction/pred_moa.xlsx'\n",
    "filename=results_dir+'/MoAprediction/pred_moa_CDRP.xlsx'\n",
    "saved_scores_cdrpbio=pd.read_excel(filename, sheet_name=None)\n",
    "saved_scores_cdrpbio.keys()\n",
    "\n",
    "filename=results_dir+'/MoAprediction/pred_moa_LINCS.xlsx'\n",
    "saved_scores_lincs=pd.read_excel(filename, sheet_name=None)\n",
    "saved_scores_lincs.keys()"
   ]
  },
  {
   "cell_type": "code",
   "execution_count": null,
   "metadata": {
    "hidden": true
   },
   "outputs": [],
   "source": [
    "from sklearn.metrics import f1_score\n",
    "res_df_lincs=pd.DataFrame(columns=['Modality','Model'])\n",
    "DS='LINCS'\n",
    "scores_mlp=saved_scores_lincs['fC-'+DS+'-nvs-filt-preds-mlp-ht-sgkf-1']\n",
    "# mofa_scores_2add=saved_scores['mofa-100fac'+DS+'-nvs-filt-preds-mlp-ht-2']\n",
    "# scores_mlp['mofa']=mofa_scores_2add['mofa']\n",
    "\n",
    "folds=scores_mlp['Fold'].unique().tolist()\n",
    "for f in folds:\n",
    "    scores_mlp_f=scores_mlp[scores_mlp['Fold']==f];\n",
    "    for dd in ['CP', 'GE', 'Early Fusion', 'Late Fusion','RGCCA_EarlyFusion']:\n",
    "        scor_vals=scores_mlp_f[dd].apply(lambda x: int(eval(x)[0]) if type(x)==str else x)    \n",
    "        f1=f1_score(scor_vals,scores_mlp_f.Metadata_moa_num.values, average='macro')\n",
    "        temp_df = pd.DataFrame(data={'Modality': [dd], 'Model': ['MLP'],'F1-score':[f1]})\n",
    "        res_df_lincs=res_df_lincs.append(temp_df)\n",
    "    \n",
    "    \n",
    "scores_mlp=saved_scores_lincs['fC-'+DS+'-nvs-filt-preds-lr-ht-sgkf-1']\n",
    "# mofa_scores_2add=saved_scores['mofa-100fac'+DS+'-nvs-filt-preds-lr-ht-2']\n",
    "# scores_mlp['mofa']=mofa_scores_2add['mofa']\n",
    "folds=scores_mlp['Fold'].unique().tolist()\n",
    "for f in folds:\n",
    "    scores_mlp_f=scores_mlp[scores_mlp['Fold']==f];\n",
    "    # for dd in ['CP', 'GE', 'Early Fusion', 'Late Fusion','RGCCA_CP','RGCCA_GE','RGCCA_EarlyFusion']:\n",
    "    for dd in ['CP', 'GE', 'Early Fusion', 'Late Fusion','RGCCA_EarlyFusion']:\n",
    "        scor_vals=scores_mlp_f[dd].apply(lambda x: int(eval(x)[0]) if type(x)==str else x)    \n",
    "        f1=f1_score(scores_mlp_f.Metadata_moa_num.values,scor_vals, average='macro')\n",
    "        temp_df = pd.DataFrame(data={'Modality': [dd], 'Model': ['Logistic R'],'F1-score':[f1]})\n",
    "        res_df_lincs=res_df_lincs.append(temp_df)\n",
    "    \n",
    "    \n",
    "#########################################################\n",
    "res_df_cdrpbio=pd.DataFrame(columns=['Modality','Model'])\n",
    "DS='CDRP-bio'\n",
    "scores_mlp=saved_scores_cdrpbio['fC-'+DS+'-nvs-filt-preds-mlp-ht-sgkf-1']\n",
    "# mofa_scores_2add=saved_scores['mofa-100fac'+DS+'-nvs-filt-preds-mlp-ht-2']\n",
    "# scores_mlp['mofa']=mofa_scores_2add['mofa']\n",
    "\n",
    "folds=scores_mlp['Fold'].unique().tolist()\n",
    "for f in folds:\n",
    "    scores_mlp_f=scores_mlp[scores_mlp['Fold']==f];\n",
    "    for dd in ['CP', 'GE', 'Early Fusion', 'Late Fusion','RGCCA_EarlyFusion']:\n",
    "        scor_vals=scores_mlp_f[dd].apply(lambda x: int(eval(x)[0]) if type(x)==str else x)    \n",
    "\n",
    "        f1=f1_score(scor_vals,scores_mlp_f.Metadata_moa_num.values, average='macro')\n",
    "        temp_df = pd.DataFrame(data={'Modality': [dd], 'Model': ['MLP'],'F1-score':[f1]})\n",
    "        res_df_cdrpbio=res_df_cdrpbio.append(temp_df)\n",
    "    \n",
    "    \n",
    "scores_mlp=saved_scores_cdrpbio['fC-'+DS+'-nvs-filt-preds-lr-ht-sgkf-1']\n",
    "# mofa_scores_2add=saved_scores['mofa-100fac'+DS+'-nvs-filt-preds-lr-ht-2']\n",
    "# scores_mlp['mofa']=mofa_scores_2add['mofa']\n",
    "\n",
    "folds=scores_mlp['Fold'].unique().tolist()\n",
    "for f in folds:\n",
    "    scores_mlp_f=scores_mlp[scores_mlp['Fold']==f];\n",
    "    # for dd in ['CP', 'GE', 'Early Fusion', 'Late Fusion','RGCCA_CP','RGCCA_GE','RGCCA_EarlyFusion']:\n",
    "    for dd in ['CP', 'GE', 'Early Fusion', 'Late Fusion','RGCCA_EarlyFusion']:\n",
    "        scor_vals=scores_mlp_f[dd].apply(lambda x: int(eval(x)[0]) if type(x)==str else x)    \n",
    "        f1=f1_score(scores_mlp_f.Metadata_moa_num.values,scor_vals, average='macro')\n",
    "        temp_df = pd.DataFrame(data={'Modality': [dd], 'Model': ['Logistic R'],'F1-score':[f1]})\n",
    "        res_df_cdrpbio=res_df_cdrpbio.append(temp_df)\n"
   ]
  },
  {
   "cell_type": "code",
   "execution_count": null,
   "metadata": {
    "hidden": true
   },
   "outputs": [],
   "source": [
    "# res_df_cdrpbio"
   ]
  },
  {
   "cell_type": "code",
   "execution_count": null,
   "metadata": {
    "hidden": true
   },
   "outputs": [],
   "source": [
    "#* Statistical tests for differences in the features across groups\n",
    "from scipy import stats\n",
    "all_t = list()\n",
    "all_p = list()\n",
    "for m in ['Logistic R','MLP']:\n",
    "    sub_df = res_df_cdrpbio[res_df_cdrpbio['Model'] == m]\n",
    "    g1 = sub_df[sub_df['Modality']=='CP']['F1-score'].values\n",
    "    for di in ['GE','Early Fusion', 'Late Fusion','RGCCA_EarlyFusion']:\n",
    "        g2 = sub_df[sub_df['Modality']==di]['F1-score'].values\n",
    "        t, p = stats.ttest_ind(g1, g2)\n",
    "        all_t.append(t)\n",
    "        all_p.append(p)\n",
    "all_p"
   ]
  },
  {
   "cell_type": "code",
   "execution_count": null,
   "metadata": {
    "hidden": true
   },
   "outputs": [],
   "source": [
    "#* Statistical tests for differences in the features across groups\n",
    "from scipy import stats\n",
    "all_t = list()\n",
    "all_p = list()\n",
    "for m in ['Logistic R','MLP']:\n",
    "    sub_df = res_df_lincs[res_df_lincs['Model'] == m]\n",
    "    g1 = sub_df[sub_df['Modality']=='CP']['F1-score'].values\n",
    "    for di in ['GE','Early Fusion', 'Late Fusion','RGCCA_EarlyFusion']:\n",
    "        g2 = sub_df[sub_df['Modality']==di]['F1-score'].values\n",
    "        t, p = stats.ttest_ind(g1, g2)\n",
    "        all_t.append(t)\n",
    "        all_p.append(p)\n",
    "all_p"
   ]
  },
  {
   "cell_type": "code",
   "execution_count": null,
   "metadata": {
    "hidden": true
   },
   "outputs": [],
   "source": [
    "# res_df_cdrpbio\n",
    "import matplotlib.style as style\n",
    "style.use('seaborn-colorblind')\n",
    "sns.set_context(\"paper\",font_scale = 1.5, rc={\"font.size\":4,\"axes.titlesize\":14,\"axes.labelsize\":15})\n",
    "res_df1=res_df_lincs[res_df_lincs['Modality']!='Early Fusion']\n",
    "res_df2=res_df_lincs[res_df_lincs['Modality']!='Late Fusion']\n",
    "\n",
    "# sns.set_style(\"whitegrid\")\n",
    "fig,axes=plt.subplots(1,2,figsize=(10,5),sharey=True)\n",
    "# sns.barplot(x=\"Model\", y=\"F1-score\", hue=\"Modality\", data=res_df_cdrpbio,ax=axes[0])#,**kwargs)\n",
    "sns.boxplot(x=\"Model\", y=\"F1-score\", hue=\"Modality\", data=res_df_cdrpbio,ax=axes[0])#,**kwargs)\n",
    "# plt.legend(loc='top', borderaxespad=0)\n",
    "# plt.legend(bbox_to_anchor=(0.27, 1), loc='upper left', borderaxespad=0)\n",
    "axes[0].legend([],[], frameon=False)\n",
    "plt.tight_layout()\n",
    "axes[0].set_ylim(0,50)\n",
    "axes[0].set_title('CDRP-bio')\n",
    "n_classes=16;\n",
    "axes[0].axhline(y=(1/n_classes),linestyle='--',color='r',linewidth=2);\n",
    "\n",
    "###################\n",
    "# sns.barplot(x=\"Model\", y=\"F1-score\", hue=\"Modality\", data=res_df_lincs,ax=axes[1])#,**kwargs)\n",
    "sns.boxplot(x=\"Model\", y=\"F1-score\", hue=\"Modality\", data=res_df_lincs,ax=axes[1])#,**kwargs)\n",
    "# plt.legend(loc='top', borderaxespad=0)\n",
    "plt.legend(bbox_to_anchor=(1.1, 1), loc='upper left', borderaxespad=0)\n",
    "plt.tight_layout()\n",
    "axes[1].set_ylim(0,0.5)\n",
    "axes[1].set_title('LINCS')\n",
    "axes[1].set(ylabel=None)\n",
    "n_classes=57;\n",
    "axes[1].axhline(y=(1/n_classes),linestyle='--',color='r',linewidth=2);\n",
    "\n",
    "plt.tight_layout()\n",
    "# for a in ax.patches:\n",
    "#     a.set_width(0.15)\n",
    "# plt.savefig('moa_class_bar.png')"
   ]
  },
  {
   "cell_type": "code",
   "execution_count": null,
   "metadata": {
    "hidden": true
   },
   "outputs": [],
   "source": [
    "res_df_lincs.groupby(['Modality','Model']).size()"
   ]
  },
  {
   "cell_type": "code",
   "execution_count": null,
   "metadata": {
    "hidden": true
   },
   "outputs": [],
   "source": [
    "if 1:\n",
    "    saveAsNewSheetToExistingFile(source_data_add,res_df_lincs,'fig4b')\n",
    "\n",
    "    # fig.tight_layout()\n",
    "    fig.savefig('fig4b.pdf',papertype='letter',dpi=500)"
   ]
  },
  {
   "cell_type": "code",
   "execution_count": null,
   "metadata": {
    "hidden": true
   },
   "outputs": [],
   "source": []
  },
  {
   "cell_type": "code",
   "execution_count": null,
   "metadata": {
    "hidden": true
   },
   "outputs": [],
   "source": []
  },
  {
   "cell_type": "code",
   "execution_count": null,
   "metadata": {
    "hidden": true
   },
   "outputs": [],
   "source": []
  },
  {
   "cell_type": "markdown",
   "metadata": {
    "heading_collapsed": true
   },
   "source": [
    "## Supplementary E - Top 50 CP using MLP\n",
    "- Supplementary Figure 3"
   ]
  },
  {
   "cell_type": "code",
   "execution_count": null,
   "metadata": {
    "hidden": true
   },
   "outputs": [],
   "source": [
    "DataPredResults.Model.unique()"
   ]
  },
  {
   "cell_type": "code",
   "execution_count": null,
   "metadata": {
    "hidden": true
   },
   "outputs": [],
   "source": [
    "datasets=['TAORF', 'CDRP-bio']\n",
    "\n",
    "\n",
    "models=[\"MLP\"]\n",
    "f='-filt';#'-filt'\n",
    "DataPredResults_appC=DataPredResults.copy()\n",
    "fig, axes = plt.subplots(len(datasets),1,figsize=(10,15))\n",
    "sns.set_context(\"paper\")\n",
    "sns.set_style(\"whitegrid\")\n",
    "# sns.rcParams['patch.force_edgecolor'] = True\n",
    "# for d in range(5):#(len(datasets)):\n",
    "for d in range(len(datasets)):\n",
    "    for m in range(len(models)):\n",
    "        dataset_meth_dists=DataPredResults_appC[(DataPredResults_appC['Dataset']==datasets[d]) &\\\n",
    "                                                    (DataPredResults_appC['Model']==models[m])]\n",
    "#         kjhlhjl\n",
    "#         CP-Features\n",
    "        sorted_gene_mean_scores=dataset_meth_dists[dataset_meth_dists['d']=='n-folds'].groupby(['CP-Features','d']).median().reset_index().sort_values(by=['pred score'],ascending=False)\n",
    "        top_lmGenes=sorted_gene_mean_scores['CP-Features'].tolist()[0:50]\n",
    "        dataset_meth_dists_top_50=dataset_meth_dists[dataset_meth_dists['CP-Features'].isin(top_lmGenes)]\n",
    "        \n",
    "#         f, axes = plt.subplots(figsize=(15,4))\n",
    "        axes[d].set_title(\"Dataset: \"+datasets[d])\n",
    "        sns.boxplot(x=\"CP-Features\", y=\"pred score\",hue=\"d\", data=dataset_meth_dists_top_50,ax=axes[d],\\\n",
    "                    order=top_lmGenes,palette=my_pal,hue_order=['random','n-folds'])\n",
    "        # ax = sns.violinplot(x=\"lmGens\", y=\"pred score\", hue=\"d\",data=tips2, palette=\"muted\", split=True)\n",
    "        axes[d].set_xticklabels(axes[d].get_xticklabels(),rotation=90,fontsize=10);\n",
    "        axes[d].set_ylim(-1, 1)\n",
    "        \n",
    "fig.tight_layout()\n",
    "fig.savefig('supp_e1.pdf',papertype='letter',dpi=500)\n",
    "# fig.savefig('appendix_C1.eps')\n",
    "\n",
    "datasets=['LINCS', 'LUAD']\n",
    "fig, axes = plt.subplots(len(datasets),1,figsize=(10,15))\n",
    "sns.set_context(\"paper\")\n",
    "sns.set_style(\"whitegrid\")\n",
    "# sns.rcParams['patch.force_edgecolor'] = True\n",
    "# for d in range(5):#(len(datasets)):\n",
    "for d in range(len(datasets)):\n",
    "    for m in range(len(models)):\n",
    "        dataset_meth_dists=DataPredResults_appC[(DataPredResults_appC['Dataset']==datasets[d]) &\\\n",
    "                                                    (DataPredResults_appC['Model']==models[m])]\n",
    "#         kjhlhjl\n",
    "#         CP-Features\n",
    "        sorted_gene_mean_scores=dataset_meth_dists[dataset_meth_dists['d']=='n-folds'].groupby(['CP-Features','d']).median().reset_index().sort_values(by=['pred score'],ascending=False)\n",
    "        top_lmGenes=sorted_gene_mean_scores['CP-Features'].tolist()[0:50]\n",
    "        dataset_meth_dists_top_50=dataset_meth_dists[dataset_meth_dists['CP-Features'].isin(top_lmGenes)]\n",
    "        \n",
    "#         f, axes = plt.subplots(figsize=(15,4))\n",
    "        axes[d].set_title(\"Dataset: \"+datasets[d])\n",
    "        sns.boxplot(x=\"CP-Features\", y=\"pred score\",hue=\"d\", data=dataset_meth_dists_top_50,ax=axes[d],\\\n",
    "                    order=top_lmGenes,palette=my_pal,hue_order=['random','n-folds'])\n",
    "        # ax = sns.violinplot(x=\"lmGens\", y=\"pred score\", hue=\"d\",data=tips2, palette=\"muted\", split=True)\n",
    "        axes[d].set_xticklabels(axes[d].get_xticklabels(),rotation=90,fontsize=10);\n",
    "        axes[d].set_ylim(-1, 1)\n",
    "        \n",
    "fig.tight_layout()\n",
    "# fig.savefig('appendix_C2.eps')\n",
    "\n",
    "fig.savefig('supp_e2.pdf',papertype='letter',dpi=500)"
   ]
  },
  {
   "cell_type": "code",
   "execution_count": null,
   "metadata": {
    "hidden": true
   },
   "outputs": [],
   "source": []
  },
  {
   "cell_type": "markdown",
   "metadata": {
    "heading_collapsed": true
   },
   "source": [
    "## MoA Cluster retrieval \n",
    "- Figure 4a"
   ]
  },
  {
   "cell_type": "code",
   "execution_count": null,
   "metadata": {
    "hidden": true
   },
   "outputs": [],
   "source": [
    "%matplotlib notebook\n",
    "# res_fig9=\"~/workspace_rosetta/workspace/software/2021_Haghighi_NeurIPS_Dataset_submitted/results_CP_GE/57/JI.txt\"\n",
    "res_fig9=\"~/workspace_rosetta/workspace/software/2021_Haghighi_NeurIPS_Dataset_submitted/JDR/results_CP_GE_cdrpbio/16/JI.txt\"\n",
    "res_fig9_df=pd.read_csv(res_fig9, sep=\"\\t\")\n",
    "res_fig9_df=res_fig9_df.rename(columns={\"concat\":'Early Fusion'})\n",
    "# res_fig9_df.boxplot()\n",
    "\n",
    "f, axes = plt.subplots(1, 2, sharey=True,figsize=(7,5))\n",
    "sns.boxplot(x=\"variable\", y=\"value\", data=pd.melt(res_fig9_df),order=['CP', 'GE', 'Early Fusion', 'RGCCA', 'MCIA', 'MOFA', 'iCluster', 'intNMF',\n",
    "       'JIVE', 'scikit-fusion'],ax=axes[0]);\n",
    "axes[0].set_xticklabels(axes[0].get_xticklabels(),rotation=90,size=13)\n",
    "axes[0].set_ylabel(\"Jaccard Index (JI)\", fontsize=13)\n",
    "axes[0].set_ylim([0,.4]);axes[0].set_title('CDRP-bio');\n",
    "res_fig9_df['Dataset']='CDRP-bio'\n",
    "\n",
    "\n",
    "res_fig9=\"~/workspace_rosetta/workspace/software/2021_Haghighi_NeurIPS_Dataset_submitted/JDR/results_CP_GE_lincs/57/JI.txt\"\n",
    "res_fig9_df_2=pd.read_csv(res_fig9, sep=\"\\t\")\n",
    "res_fig9_df_2=res_fig9_df_2.rename(columns={\"concat\":'Early Fusion'})\n",
    "# res_fig9_df_2.boxplot()\n",
    "\n",
    "sns.boxplot(x=\"variable\", y=\"value\", data=pd.melt(res_fig9_df_2),order=['CP', 'GE', 'Early Fusion', 'RGCCA', 'MCIA', 'MOFA', 'iCluster', 'intNMF',\n",
    "       'JIVE', 'scikit-fusion'],ax=axes[1]);\n",
    "axes[1].set_xticklabels(axes[1].get_xticklabels(),rotation=90,size=13)\n",
    "axes[1].set(ylabel=None)\n",
    "# axes[1].set_ylabel(\"Jaccard Index (JI)\", fontsize=11)\n",
    "axes[1].set_ylim([0,.5]);axes[1].set_title('LINCS');\n",
    "res_fig9_df_2['Dataset']='LINCS'\n",
    "\n",
    "plt.tight_layout()\n",
    "\n",
    "if 0:\n",
    "    saveAsNewSheetToExistingFile(source_data_add,pd.concat([res_fig9_df,res_fig9_df_2]),'fig4a')\n",
    "\n",
    "    # fig.tight_layout()\n",
    "    f.savefig('fig4a.pdf',papertype='letter',dpi=500)"
   ]
  },
  {
   "cell_type": "code",
   "execution_count": null,
   "metadata": {
    "hidden": true
   },
   "outputs": [],
   "source": [
    "# res_fig9_df"
   ]
  },
  {
   "cell_type": "code",
   "execution_count": null,
   "metadata": {
    "hidden": true
   },
   "outputs": [],
   "source": []
  },
  {
   "cell_type": "code",
   "execution_count": null,
   "metadata": {
    "hidden": true
   },
   "outputs": [],
   "source": [
    "#* Statistical tests for differences in the features across groups\n",
    "from scipy import stats\n",
    "all_t = list()\n",
    "all_p = list()\n",
    "\n",
    "g1 = res_fig9_df['CP'].values\n",
    "for di in res_fig9_df.columns:\n",
    "    g2 = res_fig9_df[di].values\n",
    "    t, p = stats.ttest_ind(g1, g2)\n",
    "    all_t.append(t)\n",
    "    all_p.append(p)\n",
    "all_p"
   ]
  },
  {
   "cell_type": "code",
   "execution_count": null,
   "metadata": {
    "hidden": true
   },
   "outputs": [],
   "source": []
  },
  {
   "cell_type": "code",
   "execution_count": null,
   "metadata": {
    "hidden": true
   },
   "outputs": [],
   "source": [
    "# report_clss4=res_fig9_df[['CP','GE','RGCCA']]\n",
    "# # report_clss4.index=report_clss3['MoA']\n",
    "# ax = report_clss4.plot.bar(rot=90,figsize=(10,6))\n",
    "# plt.title('MoA class specific F1-scores')\n",
    "# ax.set_ylim([0,1])"
   ]
  },
  {
   "cell_type": "code",
   "execution_count": null,
   "metadata": {
    "hidden": true
   },
   "outputs": [],
   "source": []
  },
  {
   "cell_type": "markdown",
   "metadata": {
    "hidden": true
   },
   "source": []
  },
  {
   "cell_type": "code",
   "execution_count": null,
   "metadata": {
    "hidden": true
   },
   "outputs": [],
   "source": []
  }
 ],
 "metadata": {
  "kernelspec": {
   "display_name": "Python 3 (ipykernel)",
   "language": "python",
   "name": "python3"
  },
  "language_info": {
   "codemirror_mode": {
    "name": "ipython",
    "version": 3
   },
   "file_extension": ".py",
   "mimetype": "text/x-python",
   "name": "python",
   "nbconvert_exporter": "python",
   "pygments_lexer": "ipython3",
   "version": "3.8.12"
  },
  "latex_envs": {
   "LaTeX_envs_menu_present": true,
   "autoclose": false,
   "autocomplete": true,
   "bibliofile": "biblio.bib",
   "cite_by": "apalike",
   "current_citInitial": 1,
   "eqLabelWithNumbers": true,
   "eqNumInitial": 1,
   "hotkeys": {
    "equation": "Ctrl-E",
    "itemize": "Ctrl-I"
   },
   "labels_anchors": false,
   "latex_user_defs": false,
   "report_style_numbering": false,
   "user_envs_cfg": false
  },
  "varInspector": {
   "cols": {
    "lenName": 16,
    "lenType": 16,
    "lenVar": 40
   },
   "kernels_config": {
    "python": {
     "delete_cmd_postfix": "",
     "delete_cmd_prefix": "del ",
     "library": "var_list.py",
     "varRefreshCmd": "print(var_dic_list())"
    },
    "r": {
     "delete_cmd_postfix": ") ",
     "delete_cmd_prefix": "rm(",
     "library": "var_list.r",
     "varRefreshCmd": "cat(var_dic_list()) "
    }
   },
   "types_to_exclude": [
    "module",
    "function",
    "builtin_function_or_method",
    "instance",
    "_Feature"
   ],
   "window_display": false
  }
 },
 "nbformat": 4,
 "nbformat_minor": 4
}
